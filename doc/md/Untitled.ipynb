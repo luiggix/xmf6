{
 "cells": [
  {
   "cell_type": "markdown",
   "id": "50499318-0007-4585-8315-a4866ce6b36e",
   "metadata": {},
   "source": [
    "# Modelo matemático\n",
    "\n",
    "\n",
    "**<font color='Green'>[1] Langevin, C.D., Hughes, J.D., Provost, A.M., Banta, E.R., Niswonger, R.G., and Panday, Sorab, 2017, Documentation for the MODFLOW 6 Groundwater Flow (GWF) Model: U.S. Geological Survey Techniques and Methods, book 6, chap. A55, 197 p., accessed August 4, 2017. </font>** https://doi.org/10.3133/tm6A55."
   ]
  },
  {
   "cell_type": "markdown",
   "id": "f8b300d7-84af-44a9-b572-2a0597c3a72f",
   "metadata": {},
   "source": [
    "## Ley de Darcy\n",
    "\n",
    "El movimiento tridimensional del agua subterránea de densidad constante a través de un medio poroso se describe mediante la Ley de Darcy:\n",
    "\n",
    "$$\n",
    "\\begin{eqnarray}\n",
    "\\mathbf{q} & = & - \\mathbf{K} \\nabla h \\\\\n",
    "\\mathbf{q} & = & \n",
    "-\\left(\n",
    "\\begin{array}{ccc}\n",
    "K_{xx} & 0 & 0 \\\\\n",
    "0 & K_{yy}& 0 \\\\\n",
    "0 & 0 & K_{zz}\n",
    "\\end{array}\n",
    "\\right)\n",
    "\\left(\n",
    "\\begin{array}{ccc}\n",
    "\\frac{\\partial h}{\\partial x} \\\\\n",
    "\\frac{\\partial h}{\\partial y} \\tag{1}\\\\\n",
    "\\frac{\\partial h}{\\partial z} \n",
    "\\end{array}\n",
    "\\right)\n",
    "\\end{eqnarray}\n",
    "$$\n",
    "\n",
    "### Nomenclatura\n",
    "\n",
    "|Símbolo| Descripción| Unidades\n",
    "|:-:|---|:-:|\n",
    "| $h$ | Carga hidráulica | L |\n",
    "| $\\mathbf{q}$ | Vector de descarga específica | L/T|\n",
    "| $\\mathbf{K}$ | Tensor de conductividad hidráulica | L/T |\n",
    "| $K_{xx}$ | Conductividad hidráulica a lo largo del eje $x$. Puede ser función del espacio ($K_{xx} = K_{xx}(x,y,z)$). | L/T |\n",
    "| $K_{yy}$ | Conductividad hidráulica a lo largo del eje $y$. Puede ser función del espacio ($K_{yy} = K_{yy}(x,y,z)$). | L/T |\n",
    "| $K_{zz}$ | Conductividad hidráulica a lo largo del eje $z$. Puede ser función del espacio ($K_{zz} = K_{zz}(x,y,z)$). | L/T |\n",
    "| $x, y, z$ | Coordenadas cartesianas | L |\n",
    "\n",
    "$K_{xx}$, $K_{yy}$ y $K_{zz}$ pueden ser funciones del espacio."
   ]
  },
  {
   "cell_type": "markdown",
   "id": "bccc5ab9-8f32-4bb3-bf7c-fab7df545eee",
   "metadata": {
    "jp-MarkdownHeadingCollapsed": true
   },
   "source": [
    "## Ecuación de flujo.\n",
    "\n",
    "\n",
    "$$\n",
    "\\frac{\\partial}{\\partial x}\\left(K_{xx} \\frac{\\partial h}{\\partial x} \\right) +\n",
    "\\frac{\\partial}{\\partial y}\\left(K_{yy} \\frac{\\partial h}{\\partial y} \\right) +\n",
    "\\frac{\\partial}{\\partial z}\\left(K_{zz} \\frac{\\partial h}{\\partial z} \\right) +\n",
    "Q^\\prime_s = SS \\frac{\\partial h}{\\partial t} \\tag{2}\n",
    "$$\n",
    "\n",
    "La ecuación $(2)$ describe el flujo transitorio de agua subterránea en un medio poroso heterogéneo y anisotrópico, siempre que los ejes principales de conductividad hidráulica estén\n",
    "alineados con las direcciones de las coordenadas. \n",
    "\n",
    "La ecuación $(2)$, junto con la especificación de las condiciones de caudal y altura en los límites de un sistema acuífero y la especificación de las condiciones iniciales de altura, constituye una representación matemática de un sistema de flujo de agua subterránea. \n",
    "\n",
    "Una solución de la ecuación $(2)$, en un sentido analítico, es una expresión algebraica que da $h(x, y, z, t)$ de manera que, cuando las derivadas de $h$ con respecto al espacio y al tiempo se sustituyen en la ecuación $(2)$, se satisfacen la ecuación y sus condiciones iniciales y de contorno. \n",
    "\n",
    "### Nomenclatura\n",
    "\n",
    "|Símbolo| Descripción| Unidades\n",
    "|:-:|---|:-:|\n",
    "| $Q^\\prime_s$ | Flujo volumétrico por unidad de volumen. Es **negativo** para el flujo que **sale** del sistema de agua subterránea; es **positivo** para el flujo que **entra** al sistema. Puede ser función del espacio y del tiempo ($Q^\\prime_s = Q^\\prime_s(x,y,z,t)$). | T$^{-1}$ |\n",
    "| $SS$ | Almacenamiento específico. Puede ser función del espacio ($SS = SS(x,y,z)$). | L$^{-1}$|\n",
    "| $t$ | Tiempo. | T |\n"
   ]
  },
  {
   "cell_type": "markdown",
   "id": "4a313a52-0d97-43c3-880e-d9a609af8523",
   "metadata": {},
   "source": [
    "## Ecuación de transporte.\n",
    "\n",
    "**<font color='Green'>[1] Langevin, C.D., Provost, A.M., Panday, Sorab, and Hughes, J.D., 2022, Documentation for the MODFLOW 6\n",
    "Groundwater Transport Model: U.S. Geological Survey Techniques and Methods, book 6, chap. A61, 56 p.</font>**\n",
    "https://doi.org/10.3133/tm6A61."
   ]
  },
  {
   "cell_type": "code",
   "execution_count": null,
   "id": "375c455f-2add-43ec-a2a8-51a4afd6c654",
   "metadata": {},
   "outputs": [],
   "source": []
  }
 ],
 "metadata": {
  "kernelspec": {
   "display_name": "Python 3 (ipykernel)",
   "language": "python",
   "name": "python3"
  },
  "language_info": {
   "codemirror_mode": {
    "name": "ipython",
    "version": 3
   },
   "file_extension": ".py",
   "mimetype": "text/x-python",
   "name": "python",
   "nbconvert_exporter": "python",
   "pygments_lexer": "ipython3",
   "version": "3.11.6"
  }
 },
 "nbformat": 4,
 "nbformat_minor": 5
}
