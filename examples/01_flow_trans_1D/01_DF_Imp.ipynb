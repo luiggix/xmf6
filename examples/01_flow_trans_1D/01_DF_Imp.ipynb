{
 "cells": [
  {
   "cell_type": "code",
   "execution_count": null,
   "id": "1efa2eec-1957-4882-930a-0dd51553e26e",
   "metadata": {},
   "outputs": [],
   "source": [
    "#!pip install flopy"
   ]
  },
  {
   "cell_type": "code",
   "execution_count": null,
   "id": "9e98eb47-63e0-484e-b300-18a0701e77c8",
   "metadata": {},
   "outputs": [],
   "source": [
    "import os, sys\n",
    "# Temporal, para agregar las rutas correctas\n",
    "%run ../../src/xmf6/ruta_temporal.py\n",
    "if not(src_path in sys.path[0]):\n",
    "    sys.path.insert(0, os.path.abspath(a_path + src_path)) "
   ]
  },
  {
   "cell_type": "code",
   "execution_count": null,
   "id": "9ea67759-c37c-4059-8746-5f23f9dcecda",
   "metadata": {},
   "outputs": [],
   "source": [
    "import numpy as np\n",
    "import matplotlib.pyplot as plt\n",
    "\n",
    "import flopy\n",
    "import xmf6\n",
    "from flow_1D import build_gwf_1D\n",
    "from tran_1D import build_gwt_1D"
   ]
  },
  {
   "cell_type": "code",
   "execution_count": null,
   "id": "6b0f363c-da3b-44a9-92f5-14fc3d10d2d9",
   "metadata": {},
   "outputs": [],
   "source": [
    "os_par = dict(\n",
    "    ws = os.getcwd() + '/output', # Ruta de donde estamos actualmente\n",
    "    mf6_exe = 'C:/Users/leo_teja/Documents/GitHub/WMA/mf6/binWin/mf6', # Ejecutable\n",
    "    flow_name = 'flow', # Nombre de la simulación para flujo\n",
    "    tran_name = 'transport' # Nombre de la simulación para transporte\n",
    ")\n",
    "xmf6.nice_print(os_par, 'MODFLOW 6 environment')\n",
    "                     \n",
    "oc_par = dict(\n",
    "    head_file = f\"{os_par['flow_name']}.hds\",\n",
    "    fbudget_file = f\"{os_par['flow_name']}.bud\",\n",
    "    concentration_file=f\"{os_par['tran_name']}.ucn\",\n",
    "    tbudget_file = f\"{os_par['tran_name']}.bud\",\n",
    ")\n",
    "xmf6.nice_print(oc_par, 'Output files')\n",
    "\n",
    "mesh = xmf6.MeshDis(\n",
    "    nrow = 1,    # Number of rows\n",
    "    ncol = 120,  # Number of columns\n",
    "    nlay = 1,    # Number of layers\n",
    "    row_length = 12.0,    # Length of system ($cm$)\n",
    "    column_length = 0.1,  # Length of system ($cm$)\n",
    "    top = 1.0,   # Top of the model ($cm$)\n",
    "    bottom = 0,  # Layer bottom elevation ($cm$)\n",
    ")\n",
    "xmf6.nice_print(mesh, 'Space discretization')\n",
    "\n",
    "tdis = xmf6.TDis(\n",
    "    perioddata = ((120, 240, 1.0),) # PERLEN, NSTP, TSMULT\n",
    ")\n",
    "xmf6.nice_print(tdis, 'Time discretization')\n",
    "\n",
    "ml_units = {\n",
    "    \"time\": \"seconds\",\n",
    "    \"length\": \"centimeters\"\n",
    "}\n",
    "xmf6.nice_print(ml_units, 'Units')\n",
    "\n",
    "ph_par = dict(\n",
    "    specific_discharge = 0.1,  # Specific discharge ($cm s^{-1}$)\n",
    "    hydraulic_conductivity = 0.01,  # Hydraulic conductivity ($cm s^{-1}$)\n",
    "    source_concentration = 1.0,  # Source concentration (unitless)\n",
    "    porosity = 0.1,  # Porosity of mobile domain (unitless)\n",
    "    initial_concentration = 0.0,  # Initial concentration (unitless)\n",
    ")\n",
    "xmf6.nice_print(ph_par, 'Physical parameters')"
   ]
  },
  {
   "cell_type": "markdown",
   "id": "40f5ef55-69df-4b3d-83c4-fe96d248b682",
   "metadata": {},
   "source": [
    "# Solución del flujo: GWF"
   ]
  },
  {
   "cell_type": "code",
   "execution_count": null,
   "id": "c6af707a-8f2d-4f85-a4d8-a83fd6036537",
   "metadata": {},
   "outputs": [],
   "source": [
    "# Construcción del Modelo GWF\n",
    "sim_f, gwf = build_gwf_1D(mesh, tdis, ph_par, ml_units, os_par, oc_par)\n",
    "sim_f.write_simulation(silent=True)"
   ]
  },
  {
   "cell_type": "code",
   "execution_count": null,
   "id": "d72e9a68-5479-438d-b41b-269126f4248b",
   "metadata": {},
   "outputs": [],
   "source": [
    "sim_f.run_simulation(silent=True)"
   ]
  },
  {
   "cell_type": "markdown",
   "id": "15873bcf-d7a4-4913-9747-aeca5c2f461b",
   "metadata": {},
   "source": [
    "## Obtención de los datos: "
   ]
  },
  {
   "cell_type": "code",
   "execution_count": null,
   "id": "9d57d401-ea86-4629-8692-45fc9b1ed476",
   "metadata": {},
   "outputs": [],
   "source": [
    "of = xmf6.OFiles(os_par, oc_par)\n",
    "qx, _, _ = of.get_q(gwf)\n",
    "head = of.get_head()\n",
    "xi = mesh.get_coords('X')\n",
    "print(qx)"
   ]
  },
  {
   "cell_type": "markdown",
   "id": "afb6aaef-a34a-4e00-9ad7-76060b4b88e4",
   "metadata": {},
   "source": [
    "# Solución de transporte: GWT"
   ]
  },
  {
   "cell_type": "markdown",
   "id": "ff5d3284-48d9-468c-a90c-ebeb263feea7",
   "metadata": {},
   "source": [
    "## Definición del caso de estudio"
   ]
  },
  {
   "cell_type": "code",
   "execution_count": null,
   "id": "db061fd4-8dc8-432b-a16e-0f55358bcec8",
   "metadata": {},
   "outputs": [],
   "source": [
    "long_disp = [0.1, 1.0, 1.0, 1.0]\n",
    "reta_fact = [1.0, 1.0, 2.0, 1.0]\n",
    "deca_rate = [0.0, 0.0, 0.0, 0.01]\n",
    "dir_names = ['p01a','p01b','p01c','p01d']\n",
    "\n",
    "case = 1 # 0, 1, 2, 3\n",
    "dirname = dir_names[case]\n",
    "ph_par[\"longitudinal_dispersivity\"] = long_disp[case] \n",
    "ph_par[\"retardation_factor\"] = reta_fact[case]\n",
    "ph_par[\"decay_rate\"] =  deca_rate[case]\n",
    "ph_par[\"dispersion_coefficient\"] = ph_par[\"longitudinal_dispersivity\"] * \\\n",
    "                                   ph_par[\"specific_discharge\"] / ph_par[\"retardation_factor\"]\n",
    "xmf6.nice_print(ph_par, 'Physical parameters')\n",
    "print(\"Caso: {}\".format(dirname))\n",
    "\n",
    "# Construcción del Modelo GWT\n",
    "sim_t, gwt = build_gwt_1D(mesh, tdis, ph_par, ml_units, os_par, oc_par)\n",
    "sim_t.write_simulation(silent=True)"
   ]
  },
  {
   "cell_type": "code",
   "execution_count": null,
   "id": "c5730ddc-0326-4e75-889f-8bc3a3b99a04",
   "metadata": {},
   "outputs": [],
   "source": [
    "# Solución usando MODFLOW 6 - GWT\n",
    "sim_t.run_simulation(silent=True)\n",
    "\n",
    "# Solución usando DF-Implicit (Leo)\n",
    "dfi_conc = xmf6.df_implicit.solve(ph_par, mesh, tdis, qx, verb=0)"
   ]
  },
  {
   "cell_type": "markdown",
   "id": "bf7b0de2-18e8-4af8-b36d-af5295b552dc",
   "metadata": {},
   "source": [
    "# Análisis de la solución"
   ]
  },
  {
   "cell_type": "code",
   "execution_count": null,
   "id": "2b8d9dde-6f86-495a-b067-d2b5aed6e417",
   "metadata": {},
   "outputs": [],
   "source": [
    "##### Leemos la solución analítica #####\n",
    "sol_path = 'analytic/' + dirname\n",
    "a1_0 = np.load(sol_path + '/a1_x_0.npy')\n",
    "a1_1 = np.load(sol_path + '/a1_x_1.npy')\n",
    "a1_2 = np.load(sol_path + '/a1_x_2.npy')\n",
    "\n",
    "f, (ax1, ax2) = plt.subplots(2, 1, figsize=(6,8), sharex=True)\n",
    "iskip = 3\n",
    "\n",
    "##### Carga hidraúlica #####\n",
    "xmf6.plot(ax1, xi[::iskip], head[0, 0][::iskip],\n",
    "            marker=\"o\", ls =\"-\", \n",
    "            mec=\"blue\", mfc=\"none\", \n",
    "            markersize=\"5\", label = 'Head')\n",
    "\n",
    "ax1.set_xlim(0, 12)\n",
    "ax1.set_xticks(ticks=np.linspace(0, mesh.row_length,13))\n",
    "ax1.set_ylabel(\"Head (unitless)\")\n",
    "ax1.grid(True)\n",
    "\n",
    "##### Concentración #####\n",
    "# Solución analítica\n",
    "xmf6.plot(ax2, xi, a1_0, c = 'k')\n",
    "xmf6.plot(ax2, xi, a1_1, c = 'k')\n",
    "xmf6.plot(ax2, xi, a1_2, c = 'k')\n",
    "\n",
    "# Solución numérica\n",
    "citer = [11, 119, 239]\n",
    "ctimes = [6.0, 60.0, 120.0]\n",
    "for c, (i, t) in enumerate(zip(citer, ctimes)):\n",
    "    color = 'C'+str(c)\n",
    "    # Solución Diferencias Finitas, Implícito\n",
    "    xmf6.scatter(ax2, xi[::iskip], dfi_conc[i][::iskip], label=f'{t}',\n",
    "                 marker=\"o\", ec=color, fc=\"w\", alpha=0.95, s=35, zorder=5)\n",
    "\n",
    "    # Solución MODFLOW 6\n",
    "    gwt_conc = of.get_concentration(sim_t, t)\n",
    "    xmf6.scatter(ax2, xi[::iskip], gwt_conc[::iskip], label=f'{t}',\n",
    "                 marker=\"x\", c='k', s=20, zorder=5)    \n",
    "\n",
    "ax2.legend(loc=\"upper right\", ncol=3)\n",
    "ax2.set_xlim(0, 12)\n",
    "ax2.set_ylim(-0.1, 1.5)\n",
    "ax2.set_xticks(ticks=np.linspace(0, mesh.row_length,13))\n",
    "ax2.set_xlabel(\"Distance (cm)\")\n",
    "ax2.set_ylabel(\"Concentration\")\n",
    "ax2.grid(True)\n",
    "\n",
    "plt.tight_layout()\n",
    "plt.savefig(dirname + '.pdf')\n",
    "plt.show()"
   ]
  },
  {
   "cell_type": "code",
   "execution_count": null,
   "id": "5cd9dcb9-eb3a-4f1e-a2f7-d08699ec0487",
   "metadata": {},
   "outputs": [],
   "source": []
  },
  {
   "cell_type": "code",
   "execution_count": null,
   "id": "ff3a0de4-caa1-483b-895b-00ca23e31a62",
   "metadata": {},
   "outputs": [],
   "source": []
  },
  {
   "cell_type": "code",
   "execution_count": null,
   "id": "acbd154c-5eba-498f-87ae-5157aa88cbab",
   "metadata": {},
   "outputs": [],
   "source": []
  }
 ],
 "metadata": {
  "kernelspec": {
   "display_name": "Python 3 (ipykernel)",
   "language": "python",
   "name": "python3"
  },
  "language_info": {
   "codemirror_mode": {
    "name": "ipython",
    "version": 3
   },
   "file_extension": ".py",
   "mimetype": "text/x-python",
   "name": "python",
   "nbconvert_exporter": "python",
   "pygments_lexer": "ipython3",
   "version": "3.11.7"
  }
 },
 "nbformat": 4,
 "nbformat_minor": 5
}
