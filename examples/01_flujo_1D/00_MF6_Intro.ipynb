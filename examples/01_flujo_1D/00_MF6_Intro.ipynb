{
 "cells": [
  {
   "cell_type": "markdown",
   "id": "6daae84d-55d2-4257-b8d8-22dc49557f30",
   "metadata": {},
   "source": [
    "# Arquitectura de MODFLOW 6.\n",
    "\n",
    "<p xmlns:cc=\"http://creativecommons.org/ns#\" xmlns:dct=\"http://purl.org/dc/terms/\"><a property=\"dct:title\" rel=\"cc:attributionURL\" href=\"https://github.com/luiggix/RTWMA/\">Arquitectura de MODFLOW 6</a> by <b>Luis M. de la Cruz Salas</b> is licensed under <a href=\"http://creativecommons.org/licenses/by-sa/4.0/?ref=chooser-v1\" target=\"_blank\" rel=\"license noopener noreferrer\" style=\"display:inline-block;\">Attribution-ShareAlike 4.0 International<img style=\"height:22px!important;margin-left:3px;vertical-align:text-bottom;\" src=\"https://mirrors.creativecommons.org/presskit/icons/cc.svg?ref=chooser-v1\"><img style=\"height:22px!important;margin-left:3px;vertical-align:text-bottom;\" src=\"https://mirrors.creativecommons.org/presskit/icons/by.svg?ref=chooser-v1\"><img style=\"height:22px!important;margin-left:3px;vertical-align:text-bottom;\" src=\"https://mirrors.creativecommons.org/presskit/icons/sa.svg?ref=chooser-v1\"></a></p> \n",
    "\n",
    "## Componentes.\n",
    "\n",
    "Una simulación en MODFLOW 6 típicamente se basa en cuatro componentes, véase **[[1](#ref1)]**:\n",
    "* **Models**. Un modelo resuelve un proceso hidrológico; por ejemplo, el GWF model, resuelve la ecuación de flujo subterráneo usando el método CVFD.\n",
    "* **Exchange**. Facilita la comunicación entre dos modelos; por ejemplo, un intercambio GWF-GWF, permite que algunas celdas de un modelo GWF estén hidráulicamente conectadas con celdas del otro modelo GWF.\n",
    "* **Solutions**. Resuelve uno o más modelos hidrológicos, utiliza métodos iterativos para resolver sistemas no-lineales.\n",
    "* **Timing**. Controla el paso de tiempo y determina el fin de una simulación.\n",
    "\n",
    "\n",
    "<img src=\"../figures/components_mf6.png\" width=800px>\n"
   ]
  },
  {
   "cell_type": "markdown",
   "id": "0e3b9799-700c-4eb7-aab0-b5d34c10f174",
   "metadata": {},
   "source": [
    "## Esquema para GWF.\n",
    "\n",
    "\n",
    "<div>\n",
    "<img src=\"../figures/modflow01.png\" width=300px hspace=\"5\" vspace=\"5\" style=\"float: left;\"/>\n",
    "\n",
    "Diagrama esquemático que muestra la configuración del modelo de flujo de agua subterránea (GWF). En la figura se muestra un único modelo GWF que se resuelve mediante una solución numérica, véase **[[2](#ref2)]**.\n",
    "\n",
    "* El modelo GWF descrito en **[[1](#ref1), [2](#ref2)]** se divide en *paquetes*, como se hacía en versiones anteriores de MODFLOW.\n",
    "* Un paquete es la parte del modelo que se ocupa de un único aspecto de la simulación.\n",
    "* Por ejemplo, el paquete *Well* simula el efecto de los pozos y el paquete *River* simula el efecto de los ríos.\n",
    "* El Modelo GWF contiene muchos paquetes y opciones que el usuario puede o no tener ocasión de utilizar.\n"
   ]
  },
  {
   "cell_type": "markdown",
   "id": "76725f77-5029-4cb4-bd2f-1c683242523d",
   "metadata": {
    "editable": true,
    "slideshow": {
     "slide_type": ""
    },
    "tags": []
   },
   "source": [
    "### Paquetes\n",
    "\n",
    "<img src=\"../figures/gwf_mf6.png\" width=500px hspace=\"5\" vspace=\"5\" style=\"float: left;\"/>\n",
    "<img src=\"../figures/gwf_mf6_pack.png\" width=500px hspace=\"5\" vspace=\"5\" style=\"float: ;\"/>"
   ]
  },
  {
   "cell_type": "markdown",
   "id": "df52f517-a0e5-4127-80f3-0cb235849082",
   "metadata": {},
   "source": [
    "## Discretización espacial.\n",
    "\n",
    "El dominio espacial de una simulación en MODFLOW 6 se divide en una rejilla de celdas y provee de  tres paquetes diferentes:\n",
    "\n",
    "* **DIS**. Paquete para discretización estructurada.\n",
    "* **DISV**. Paquete para discretización por vértices.\n",
    "* **DISU**. Paquete para discretización NO estructurada.\n",
    "\n",
    "Solo se puede usar un paquete de discretización en una simulación con GWF.\n",
    "\n",
    "La información almacenada en los paquetes de discretización es usada durante la simulación por GWF para:\n",
    "* calcular la conductividad hidráulica entre celdas conectadas, \n",
    "* calcular los volúmenes de celda para los cálculos de almacenamiento,\n",
    "* convertir los flujos de recarga y evapotranspiración de las dimensiones de L/T a L$^3$/T, por ejemplo\n",
    "\n",
    "Los paquetes de discretización:\n",
    "* contienen información acerca de las celdas, como las elevaciones superior (`TOP`) e inferior (`BOTTOM`) de la celda y las dimensiones o áreas de la celda (en vista de planta). \n",
    "* definen la conectividad de las celdas, que describe cómo las celdas modelo están conectadas entre sí y las propiedades geométricas de las conexiones.\n",
    "* En el paquete **DIS**, la conectividad de la celda se describe implícitamente por la estructura de la malla, las dimensiones de la celda en las direcciones de renglones y columnas, y las elevaciones de la parte superior e inferior de la celda.\n",
    "\n",
    "<img src=\"../figures/mesh_3D_mf6.png\" width=400px hspace=\"5\" vspace=\"5\" style=\"float: left;\"/>\n",
    "<img src=\"../figures/mesh_plainview_mf6.png\" width=400px hspace=\"5\" vspace=\"5\" style=\"float: ;\"/>\n"
   ]
  },
  {
   "cell_type": "markdown",
   "id": "f62857f6-0308-416c-8d9e-19116cd8d3cf",
   "metadata": {},
   "source": [
    "## Discretización temporal.\n",
    "\n",
    "* La longitud del primer paso de tiempo $\\Delta t_1$, está relacionada con `PERLEN`, `NSTP` y `TSMULT` por la siguiente relación:\n",
    "\n",
    "$$\n",
    "\\Delta t_1= \\frac{\\text{PERLEN}}{\\text{NSTP}} \\;\\; \\text{para} \\;\\; \\text{TSMULT} = 1\n",
    "$$\n",
    "\n",
    "\n",
    "y\n",
    "  \n",
    "$$\n",
    "\\Delta t_1= \\text{PERLEN} \\frac{\\text{TSMULT} - 1}{\\text{TSMULT}^\\text{nstp}-1} \\;\\; \\text{para} \\;\\; \\text{TSMULT} \\neq 1\n",
    "$$\n",
    "\n",
    "* La longitud de cada paso de tiempo sucesivo es calculada multiplicando la longitud del paso de tiempo previo por `TSMULT`.\n",
    "\n",
    "$$\n",
    "\\Delta t = \\Delta t_{old} \\text{TSMULT}\n",
    "$$\n",
    "  \n",
    "<img src=\"../figures/time_step.png\" width=500px>\n",
    "\n",
    "donde \n",
    "\n",
    "|Variable|Tipo|Significado|\n",
    "|--|--|:--|\n",
    "|`PERLEN` | double| es la longitud del periodo de estrés| \n",
    "|`NSTP` |integer| es el número de pasos de tiempo en un periodo de estrés|\n",
    "|`TSMULT` |double| es el multiplicador para calcular la longitud del paso de tiempo sucesivos|\n",
    "\n",
    "Véase **[[3](#ref3)]**."
   ]
  },
  {
   "cell_type": "markdown",
   "id": "06f24a0d-163e-4041-97e5-dd330d898a03",
   "metadata": {
    "editable": true,
    "slideshow": {
     "slide_type": ""
    },
    "tags": []
   },
   "source": [
    "## Referencias\n",
    "\n",
    "<a name=\"ref1\"></a>\n",
    "**<font color='Green'>[1] Langevin, C.D., Hughes, J.D., Provost, A.M., Banta, E.R., Niswonger, R.G., and Panday, Sorab, 2017, Documentation for the MODFLOW 6 Groundwater Flow (GWF) Model: U.S. Geological Survey Techniques and Methods, book 6, chap. A55, 197 p., accessed August 4, 2017. </font>** https://doi.org/10.3133/tm6A55.\n",
    "\n",
    "<a name=\"ref2\"></a>\n",
    "**<font color='Green'>[2] Langevin, C. D., Hughes, J. D., Provost, A. M., Russcher, M. J., & Panday, S. (2023). MODFLOW as a configurable Multi‐Model Hydrologic Simulator. Ground Water.</font>** https://doi.org/10.1111/gwat.13351\n",
    "\n",
    "<a name=\"ref3\"></a>\n",
    "**<font color='Green'>[3] Hughes, J.D., Langevin, C.D., and Banta, E.R., 2017, *Documentation for the MODFLOW 6 framework: U.S. Geological Survey Techniques and Methods*, book 6, chap. A57, 40 p.,</font>** https://doi.org/10.3133/tm6A57. **Timing Module, pp 10,12**.\n"
   ]
  },
  {
   "cell_type": "code",
   "execution_count": null,
   "id": "6e6bbad6",
   "metadata": {
    "editable": true,
    "slideshow": {
     "slide_type": ""
    },
    "tags": []
   },
   "outputs": [],
   "source": []
  }
 ],
 "metadata": {
  "kernelspec": {
   "display_name": "Python 3 (ipykernel)",
   "language": "python",
   "name": "python3"
  },
  "language_info": {
   "codemirror_mode": {
    "name": "ipython",
    "version": 3
   },
   "file_extension": ".py",
   "mimetype": "text/x-python",
   "name": "python",
   "nbconvert_exporter": "python",
   "pygments_lexer": "ipython3",
   "version": "3.12.3"
  }
 },
 "nbformat": 4,
 "nbformat_minor": 5
}
