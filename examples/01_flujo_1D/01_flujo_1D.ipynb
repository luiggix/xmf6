{
 "cells": [
  {
   "cell_type": "markdown",
   "id": "95e30ac9-f801-4612-96a1-63bc17803723",
   "metadata": {
    "editable": true,
    "slideshow": {
     "slide_type": ""
    },
    "tags": []
   },
   "source": [
    "# Flujo en 1D.\n",
    "\n",
    "**Objetivo**. Revisar paso a paso cómo se realiza una simulación de flujo de aguas subterráneas en un dimensión usando el modelo GWF de MODFLOW 6.\n",
    "\n",
    "<p xmlns:cc=\"http://creativecommons.org/ns#\" xmlns:dct=\"http://purl.org/dc/terms/\"><a property=\"dct:title\" rel=\"cc:attributionURL\" href=\"https://github.com/luiggix/RTWMA/blob/main/benchmarks/GWF/01_flujo_1D/01_flujo_1D.ipynb\">Flujo en 1D</a> by <b>Luis M. de la Cruz Salas</b>b is licensed under <a href=\"http://creativecommons.org/licenses/by-sa/4.0/?ref=chooser-v1\" target=\"_blank\" rel=\"license noopener noreferrer\" style=\"display:inline-block;\">Attribution-ShareAlike 4.0 International<img style=\"height:22px!important;margin-left:3px;vertical-align:text-bottom;\" src=\"https://mirrors.creativecommons.org/presskit/icons/cc.svg?ref=chooser-v1\"><img style=\"height:22px!important;margin-left:3px;vertical-align:text-bottom;\" src=\"https://mirrors.creativecommons.org/presskit/icons/by.svg?ref=chooser-v1\"><img style=\"height:22px!important;margin-left:3px;vertical-align:text-bottom;\" src=\"https://mirrors.creativecommons.org/presskit/icons/sa.svg?ref=chooser-v1\"></a></p> \n",
    "\n",
    "Este ejemplo se basa en: \n",
    "\n",
    "<a name=\"ref1\"></a>\n",
    "**<font color='Green'>[1] MODFLOW 6 – Example problems, MODFLOW 6 Development Team, with contributions from Chieh Ying Chen and Mike Toews 02/07/2024.**</font>  **32 MOC3D Problem 1**. (Archivo: `mf6examples.pdf` del directorio `doc` de la distribución de MODFLOW 6)."
   ]
  },
  {
   "cell_type": "code",
   "execution_count": null,
   "id": "48f786a9-a7c0-4ed9-a6ed-4566fd3d9659",
   "metadata": {},
   "outputs": [],
   "source": [
    "# ejecuta esta celda si no se tiene instalado flopy.\n",
    "#!pip install flopy"
   ]
  },
  {
   "cell_type": "code",
   "execution_count": 1,
   "id": "7b91b684-ee4c-4e39-8009-bc66163dbbc1",
   "metadata": {
    "editable": true,
    "slideshow": {
     "slide_type": ""
    },
    "tags": []
   },
   "outputs": [
    {
     "data": {
      "text/plain": [
       "'/Users/luiggi/GitSites/xmf6/src'"
      ]
     },
     "execution_count": 1,
     "metadata": {},
     "output_type": "execute_result"
    }
   ],
   "source": [
    "# Temporal, para agregar las rutas correctas\n",
    "%run ../../src/xmf6/ruta_temporal.py\n",
    "if not(src_path in sys.path[0]):\n",
    "    sys.path.insert(0, os.path.abspath(a_path + src_path)) \n",
    "sys.path[0]"
   ]
  },
  {
   "cell_type": "markdown",
   "id": "eaf3c753-882f-445d-a039-953c3b3435d5",
   "metadata": {
    "editable": true,
    "slideshow": {
     "slide_type": ""
    },
    "tags": []
   },
   "source": [
    "# Etapa 1. Ambiente para la simulación y datos de entrada.\n",
    "\n",
    "## Paso 1. Importación de bibliotecas"
   ]
  },
  {
   "cell_type": "code",
   "execution_count": 2,
   "id": "7c18f2f7-8fc6-4053-b51f-14134592e01b",
   "metadata": {},
   "outputs": [],
   "source": [
    "import os, sys     # Intefaces con el sistema operativo.\n",
    "import numpy as np # Manejo de arreglos numéricos multidimensionales\n",
    "import matplotlib.pyplot as plt # Graficación\n",
    "\n",
    "# Biblioteca y módulos de flopy\n",
    "import flopy\n",
    "from flopy.plot.styles import styles\n",
    "\n",
    "# Extras para mf6 y flopy (módulo creado en este proyecto)\n",
    "import xmf6"
   ]
  },
  {
   "cell_type": "markdown",
   "id": "a231c67f-faec-4e96-91fe-a43893cce053",
   "metadata": {
    "editable": true,
    "slideshow": {
     "slide_type": ""
    },
    "tags": []
   },
   "source": [
    "## Paso 2. Ambiente y salida para MODFLOW 6"
   ]
  },
  {
   "cell_type": "code",
   "execution_count": 24,
   "id": "a3711cb7-e586-46f0-a3eb-c947c99000c5",
   "metadata": {
    "editable": true,
    "slideshow": {
     "slide_type": ""
    },
    "tags": []
   },
   "outputs": [
    {
     "name": "stdout",
     "output_type": "stream",
     "text": [
      "\u001b[34m\n",
      "MODFLOW 6 env y archivos de salida\n",
      "------------------------------\u001b[0m\n",
      "         Workspace = /Users/luiggi/GitSites/xmf6/examples/01_flujo_1D/output\n",
      "     MODFLOW 6 exe = ../../bin/macosarm/mf6\n",
      "         Flow name = flow        \n",
      "         Head file = flow.hds    \n",
      "     h Budget file = flow.bud    \n"
     ]
    }
   ],
   "source": [
    "ospar = xmf6.OSPar(\n",
    "    ws  = os.getcwd() + '/output',     # Ruta del espacio de trabajo\n",
    "    exe = '../../bin/macosarm/mf6', # Ejecutable\n",
    "    fn  = 'flow',       # Nombre de la simulación\n",
    "    hf  = 'flow.hds',   # Nombre del archivo para almacenar la carga hidráulica\n",
    "    hbf = 'flow.bud'    # Nombre del archivo para almacenar el balance de la carga hidráulica\n",
    ")\n",
    "\n",
    "xmf6.nice_print(ospar, \"MODFLOW 6 env y archivos de salida\")"
   ]
  },
  {
   "cell_type": "markdown",
   "id": "f75e5a6c-d4d0-44a9-bed2-f46306dc51e4",
   "metadata": {},
   "source": [
    "## Paso 3. Parámetros de la simulación\n",
    "\n",
    "### Discretización temporal\n",
    "\n",
    "|Parameter | Value| Units | Variable |\n",
    "|---:|:---:|:---:|:---|\n",
    "|Number of stress periods |1| | `tm_par['nper']` |\n",
    "|Total time |120| s | `tm_par['total_time']` |\n",
    "|Number of time steps| 1 | | `tm_par['nstp']`|\n",
    "|Multiplier | 1 | | `tm_par['tsmult']`|"
   ]
  },
  {
   "cell_type": "code",
   "execution_count": 25,
   "id": "de641cb1-4708-4310-bf01-2bc5f03d5863",
   "metadata": {},
   "outputs": [
    {
     "name": "stdout",
     "output_type": "stream",
     "text": [
      "\u001b[34m\n",
      "Time discretization\n",
      "------------------------------\u001b[0m\n",
      "      NPER = 1       \n",
      "TOTAL TIME = 120.00\n",
      "\n",
      "PER     PERLEN     NSTP     TSMULT        Dt1\n",
      "  1     120.00       1.00       1.00   1.20e+02\n"
     ]
    }
   ],
   "source": [
    "tdis = xmf6.TDis(\n",
    "    perioddata = ((120, 1.0, 1.0),) # PERLEN, NSTP, TSMULT\n",
    ")\n",
    "xmf6.nice_print(tdis, 'Time discretization')"
   ]
  },
  {
   "cell_type": "markdown",
   "id": "5a420098-7a87-416f-a7f6-e93f2e360c5a",
   "metadata": {},
   "source": [
    "### Discretización espacial.\n",
    "\n",
    "<img src=\"../figures/flow_mf6.png\">\n",
    "\n",
    "* El modelo de malla consiste de $1$ capa, $120$ columnas y $1$ renglón.\n",
    "* La longitud del renglón es de $12$ [cm].\n",
    "* La longitud de la columna es $0.1$ [cm].\n",
    "* Con la información anterior se calcula el ancho del renglón, `DELC`, y de las columnas, `DELR`, que ambos casos debe ser $0.1$ [cm].\n",
    "* La parte superior (`TOP`) de la celda es $1.0$ [cm] y la parte inferior (`BOTTOM`) es cero.\n",
    "* La longitud de la capa es igual a $1.0$ [cm], valor que se calcula de `|TOP - BOTTOM|`.\n",
    "\n",
    "\n",
    "|Parameter | Value| Units | Variable |\n",
    "|---:|:---:|:---:|:---|\n",
    "|Length of system (rows) |12.0| cm | `mesh.row_length` |\n",
    "|Number of layers |1| | `mesh.nlay` |\n",
    "|Number of rows |1| | `mesh.nrow` |\n",
    "|Number of columns |120| | `mesh.ncol` |\n",
    "|Column width |0.1| cm | `mesh.delr` |\n",
    "|Row width |0.1| cm | `mesh.delc`|\n",
    "|Top of the model |1.0| cm | `mesh.top`|\n",
    "|Layer bottom elevation (cm) |0| cm | `mesh.bottom` |"
   ]
  },
  {
   "cell_type": "code",
   "execution_count": 26,
   "id": "4cffe0e3-87b8-4223-beb1-74cda546b5ee",
   "metadata": {},
   "outputs": [
    {
     "name": "stdout",
     "output_type": "stream",
     "text": [
      "\u001b[34m\n",
      "Space discretization\n",
      "------------------------------\u001b[0m\n",
      "          row_length = 12.0      \n",
      "          col_length = 0.1       \n",
      "          lay_length = 1.0       \n",
      "                ncol = 120       \n",
      "                nrow = 1         \n",
      "                nlay = 1         \n",
      "                delr = 0.1       \n",
      "                delc = 0.1       \n",
      "                dell = 1.0       \n",
      "                 top = 1.0       \n",
      "              bottom = 0.0       \n"
     ]
    }
   ],
   "source": [
    "mesh = xmf6.MeshDis(\n",
    "    nrow = 1,    # Number of rows\n",
    "    ncol = 120,  # Number of columns\n",
    "    nlay = 1,    # Number of layers\n",
    "    row_length = 12.0,    # Length of system (cm)\n",
    "    column_length = 0.1,  # Length of system (cm)\n",
    "    top = 1.0,   # Top of the model (cm)\n",
    "    bottom = 0,  # Layer bottom elevation (cm)\n",
    ")\n",
    "\n",
    "xmf6.nice_print(mesh.get_dict(), 'Space discretization')"
   ]
  },
  {
   "cell_type": "markdown",
   "id": "c68b4d68-ff9b-4584-be55-b6d71c42522c",
   "metadata": {},
   "source": [
    "### Unidades.\n",
    "\n",
    "* Unidades de tiempo = s\n",
    "* Unidades de longitud = cm"
   ]
  },
  {
   "cell_type": "code",
   "execution_count": 27,
   "id": "bc25c4bd-327f-4fb1-98a3-e4ed37ff50c7",
   "metadata": {
    "editable": true,
    "slideshow": {
     "slide_type": ""
    },
    "tags": []
   },
   "outputs": [
    {
     "name": "stdout",
     "output_type": "stream",
     "text": [
      "\u001b[34m\n",
      "Units\n",
      "------------------------------\u001b[0m\n",
      "                          time = seconds             \n",
      "                        length = centimeters         \n"
     ]
    }
   ],
   "source": [
    "## Model Units\n",
    "phpar = xmf6.PhysPar()\n",
    "\n",
    "xmf6.nice_print(phpar, 'Units')"
   ]
  },
  {
   "cell_type": "markdown",
   "id": "99514368-e163-4fe7-8dd3-4afe017c172a",
   "metadata": {},
   "source": [
    "### Parámetros físicos.\n",
    "\n",
    "|Parameter | Value| Units | Variable |\n",
    "|---:|:---:|:---:|:---|\n",
    "|Specific discharge |0.1| cm s$^{-1}$ | `ph_par['specific_discharge']` |\n",
    "|Hydraulic conductivity |0.01| cm s$^{-1}$ | `ph_par['hydraulic_conductivity']` |\n",
    "|Source concentration |1.0| unitless | `ph_par['source_concentration']` |"
   ]
  },
  {
   "cell_type": "code",
   "execution_count": 28,
   "id": "64add98b-3825-413d-b317-3c16b3383583",
   "metadata": {
    "editable": true,
    "slideshow": {
     "slide_type": ""
    },
    "tags": []
   },
   "outputs": [
    {
     "name": "stdout",
     "output_type": "stream",
     "text": [
      "\u001b[34m\n",
      "Physical parameters\n",
      "------------------------------\u001b[0m\n",
      "                          time = seconds             \n",
      "                        length = centimeters         \n",
      "            specific discharge = 0.10000   \n",
      "        hydraulic conductivity = 0.01000   \n",
      "          source concentration = 1.00000   \n"
     ]
    }
   ],
   "source": [
    "phpar.specific_discharge = 0.1 # Specific discharge ($cm s^{-1}$)\n",
    "phpar.hydraulic_conductivity = 0.01  # Hydraulic conductivity ($cm s^{-1}$)\n",
    "phpar.source_concentration = 1.0  # Source concentration (unitless)\n",
    "\n",
    "xmf6.nice_print(phpar, 'Physical parameters')"
   ]
  },
  {
   "cell_type": "markdown",
   "id": "64b4ecd3-37a8-411a-b564-fc6e2d089533",
   "metadata": {
    "editable": true,
    "slideshow": {
     "slide_type": ""
    },
    "tags": []
   },
   "source": [
    "# Etapa 2. Definición del modelo en MODFLOW 6.\n",
    "\n",
    "## Paso 4. Definición de la simulación (`MFSimulation` object)\n",
    "\n",
    "Recordemos que:\n",
    "\n",
    "<img src=\"../figures/gwf_mf6.png\" width=500px hspace=\"5\" vspace=\"5\" style=\"float: left;\"/>\n",
    "<img src=\"../figures/gwf_mf6_pack.png\" width=500px hspace=\"5\" vspace=\"5\" style=\"float: ;\"/>"
   ]
  },
  {
   "cell_type": "code",
   "execution_count": 29,
   "id": "a0ff8fe9-6943-4d39-8c31-267298506288",
   "metadata": {
    "editable": true,
    "slideshow": {
     "slide_type": ""
    },
    "tags": []
   },
   "outputs": [
    {
     "name": "stdout",
     "output_type": "stream",
     "text": [
      "sim_name = flow\n",
      "sim_path = /Users/luiggi/GitSites/xmf6/examples/01_flujo_1D/output\n",
      "exe_name = ../../bin/macosarm/mf6\n",
      "\n",
      "###################\n",
      "Package mfsim.nam\n",
      "###################\n",
      "\n",
      "package_name = mfsim.nam\n",
      "filename = mfsim.nam\n",
      "package_type = nam\n",
      "model_or_simulation_package = simulation\n",
      "simulation_name = flow\n",
      "\n",
      "\n",
      "\n"
     ]
    }
   ],
   "source": [
    "sim = flopy.mf6.MFSimulation(\n",
    "    sim_name = ospar.flow_name, \n",
    "    sim_ws   = ospar.workspace, \n",
    "    exe_name = ospar.mf6exe\n",
    ")\n",
    "print(sim)"
   ]
  },
  {
   "cell_type": "markdown",
   "id": "427c9dec-abd0-4fad-a874-3bb33dc49147",
   "metadata": {},
   "source": [
    "## Paso 5. Definición de la discretización temporal (`ModflowTDis` object)"
   ]
  },
  {
   "cell_type": "code",
   "execution_count": 30,
   "id": "2d41847b-f88c-4e12-acba-f96004600ac4",
   "metadata": {},
   "outputs": [
    {
     "data": {
      "text/plain": [
       "package_name = flow.tdis\n",
       "filename = flow.tdis\n",
       "package_type = tdis\n",
       "model_or_simulation_package = simulation\n",
       "simulation_name = flow\n",
       "\n",
       "Block options\n",
       "--------------------\n",
       "time_units\n",
       "{internal}\n",
       "('seconds')\n",
       "\n",
       "\n",
       "Block dimensions\n",
       "--------------------\n",
       "nper\n",
       "{internal}\n",
       "(1)\n",
       "\n",
       "\n",
       "Block perioddata\n",
       "--------------------\n",
       "perioddata\n",
       "{internal}\n",
       "(rec.array([(120., 1.0, 1.)],\n",
       "          dtype=[('perlen', '<f8'), ('nstp', 'O'), ('tsmult', '<f8')]))\n",
       "\n"
      ]
     },
     "execution_count": 30,
     "metadata": {},
     "output_type": "execute_result"
    }
   ],
   "source": [
    "flopy.mf6.ModflowTdis(sim, \n",
    "    nper = tdis.nper,\n",
    "    perioddata = tdis.perioddata(), \n",
    "    time_units = phpar.time\n",
    ")"
   ]
  },
  {
   "cell_type": "markdown",
   "id": "c489310f-0c8e-44cb-9e97-6ced157242ed",
   "metadata": {},
   "source": [
    "## Paso 6. Definición de la solución numérica (`ModflowIms` object)"
   ]
  },
  {
   "cell_type": "code",
   "execution_count": 31,
   "id": "f6db29f0-7e1a-49b3-b2b0-ec3311c056eb",
   "metadata": {},
   "outputs": [
    {
     "name": "stdout",
     "output_type": "stream",
     "text": [
      "package_name = ims_-1\n",
      "filename = flow.ims\n",
      "package_type = ims\n",
      "model_or_simulation_package = simulation\n",
      "simulation_name = flow\n",
      "\n",
      "\n"
     ]
    }
   ],
   "source": [
    "ims = flopy.mf6.ModflowIms(sim)\n",
    "print(ims)"
   ]
  },
  {
   "cell_type": "markdown",
   "id": "fa8df70c-2b25-4ff8-99cb-fd2d508636c4",
   "metadata": {},
   "source": [
    "## Paso 7. Modelo de Flujo (ModflowGwf object)"
   ]
  },
  {
   "cell_type": "code",
   "execution_count": 32,
   "id": "9c03995e-c200-41ef-916c-84377e9a5ac4",
   "metadata": {},
   "outputs": [
    {
     "name": "stdout",
     "output_type": "stream",
     "text": [
      "name = flow\n",
      "model_type = gwf6\n",
      "version = mf6\n",
      "model_relative_path = .\n",
      "\n",
      "\n"
     ]
    }
   ],
   "source": [
    "gwf = flopy.mf6.ModflowGwf(sim, \n",
    "    modelname  = ospar.flow_name, \n",
    "    save_flows = True\n",
    ")\n",
    "print(gwf)"
   ]
  },
  {
   "cell_type": "markdown",
   "id": "0f6db909-2782-4706-9fff-48c70fee9d80",
   "metadata": {},
   "source": [
    "## Paso 7. Paquete: discretización espacial (`ModflowGwfdis` object)"
   ]
  },
  {
   "cell_type": "code",
   "execution_count": 33,
   "id": "fa754bd8-8a2c-4d10-b849-4532a6afbe4c",
   "metadata": {},
   "outputs": [
    {
     "name": "stdout",
     "output_type": "stream",
     "text": [
      "package_name = dis\n",
      "filename = flow.dis\n",
      "package_type = dis\n",
      "model_or_simulation_package = model\n",
      "model_name = flow\n",
      "\n",
      "Block options\n",
      "--------------------\n",
      "length_units\n",
      "{internal}\n",
      "(centimeters)\n",
      "\n",
      "\n",
      "Block dimensions\n",
      "--------------------\n",
      "nlay\n",
      "{internal}\n",
      "(1)\n",
      "\n",
      "nrow\n",
      "{internal}\n",
      "(1)\n",
      "\n",
      "ncol\n",
      "{internal}\n",
      "(120)\n",
      "\n",
      "\n",
      "Block griddata\n",
      "--------------------\n",
      "delr\n",
      "{constant 0.1}\n",
      "\n",
      "delc\n",
      "{constant 0.1}\n",
      "\n",
      "top\n",
      "{constant 1.0}\n",
      "\n",
      "botm\n",
      "{constant 0.0}\n",
      "\n",
      "\n",
      "\n"
     ]
    }
   ],
   "source": [
    "dis = flopy.mf6.ModflowGwfdis(gwf,\n",
    "    length_units = phpar.length,\n",
    "    nlay = mesh.nlay,\n",
    "    nrow = mesh.nrow,\n",
    "    ncol = mesh.ncol,\n",
    "    delr = mesh.delr,\n",
    "    delc = mesh.delc,\n",
    "    top  = mesh.top,\n",
    "    botm = mesh.bottom,\n",
    ")\n",
    "print(dis)"
   ]
  },
  {
   "cell_type": "markdown",
   "id": "3c71cb8b-798a-4602-9b5e-7fe5ea8a020c",
   "metadata": {},
   "source": [
    "## Paso 8. Paquete: condiciones iniciales (`ModflowGwfic` object)\n",
    "\n"
   ]
  },
  {
   "cell_type": "code",
   "execution_count": 34,
   "id": "2236aa56-087e-45ec-af06-ee6b084e6a10",
   "metadata": {},
   "outputs": [
    {
     "name": "stdout",
     "output_type": "stream",
     "text": [
      "package_name = ic\n",
      "filename = flow.ic\n",
      "package_type = ic\n",
      "model_or_simulation_package = model\n",
      "model_name = flow\n",
      "\n",
      "Block griddata\n",
      "--------------------\n",
      "strt\n",
      "{constant 1.0}\n",
      "\n",
      "\n",
      "\n"
     ]
    }
   ],
   "source": [
    "ic = flopy.mf6.ModflowGwfic(gwf, \n",
    "    strt=1.0 # Initial head\n",
    ") \n",
    "print(ic)"
   ]
  },
  {
   "cell_type": "markdown",
   "id": "37e91119-47f2-44f5-aeb3-94591416befe",
   "metadata": {},
   "source": [
    "## Paso 9. Paquete: propiedades de flujo en los nodos (`ModflowGwfnpd` object)"
   ]
  },
  {
   "cell_type": "code",
   "execution_count": 35,
   "id": "9e344c83-df2d-4ae1-b876-88a5a181c6a3",
   "metadata": {},
   "outputs": [
    {
     "name": "stdout",
     "output_type": "stream",
     "text": [
      "package_name = npf\n",
      "filename = flow.npf\n",
      "package_type = npf\n",
      "model_or_simulation_package = model\n",
      "model_name = flow\n",
      "\n",
      "Block options\n",
      "--------------------\n",
      "save_specific_discharge\n",
      "{internal}\n",
      "(True)\n",
      "\n",
      "save_saturation\n",
      "{internal}\n",
      "(True)\n",
      "\n",
      "\n",
      "Block griddata\n",
      "--------------------\n",
      "icelltype\n",
      "{constant 0}\n",
      "\n",
      "k\n",
      "{constant 0.1}\n",
      "\n",
      "\n",
      "\n"
     ]
    }
   ],
   "source": [
    "npf = flopy.mf6.ModflowGwfnpf(gwf,\n",
    "    save_specific_discharge = True,\n",
    "    save_saturation = True,\n",
    "    icelltype = 0,\n",
    "    k = phpar.hydraulic_conductivity,\n",
    ")\n",
    "print(npf)"
   ]
  },
  {
   "cell_type": "markdown",
   "id": "2280c606-9839-4d59-933d-8f6e3dc5d96f",
   "metadata": {},
   "source": [
    "## Paso 10. Paquete: CHD (`ModflowGwfchd` object)"
   ]
  },
  {
   "cell_type": "code",
   "execution_count": 36,
   "id": "071bd734-fcac-4c9b-981b-2513449df8d5",
   "metadata": {},
   "outputs": [
    {
     "name": "stdout",
     "output_type": "stream",
     "text": [
      "package_name = chd_0\n",
      "filename = flow.chd\n",
      "package_type = chd\n",
      "model_or_simulation_package = model\n",
      "model_name = flow\n",
      "\n",
      "Block period\n",
      "--------------------\n",
      "stress_period_data\n",
      "{internal}\n",
      "(   cellid_layer  cellid_row  cellid_column  head\n",
      "0             0           0            119   1.0)\n",
      "\n",
      "\n",
      "\n"
     ]
    }
   ],
   "source": [
    "chd = flopy.mf6.ModflowGwfchd(gwf, \n",
    "    stress_period_data=[[(0, 0, mesh.ncol - 1), 1.0]]  # Node, Constant value\n",
    ") \n",
    "print(chd)"
   ]
  },
  {
   "cell_type": "markdown",
   "id": "08a39d2e-6949-4c4d-ac67-d8fef30bb93e",
   "metadata": {},
   "source": [
    "## Paso 11. Paquete: Pozos (`ModflowGwfwel` object)"
   ]
  },
  {
   "cell_type": "code",
   "execution_count": 37,
   "id": "1204503f-5f85-4902-95c1-e451bc295ee1",
   "metadata": {},
   "outputs": [
    {
     "name": "stdout",
     "output_type": "stream",
     "text": [
      "package_name = wel-1\n",
      "filename = flow.wel\n",
      "package_type = wel\n",
      "model_or_simulation_package = model\n",
      "model_name = flow\n",
      "\n",
      "Block options\n",
      "--------------------\n",
      "auxiliary\n",
      "{internal}\n",
      "([('auxiliary', 'CONCENTRATION')])\n",
      "\n",
      "\n",
      "Block period\n",
      "--------------------\n",
      "stress_period_data\n",
      "{internal}\n",
      "(   cellid_layer  cellid_row  cellid_column      q  CONCENTRATION\n",
      "0             0           0              0  0.001            0.1)\n",
      "\n",
      "\n",
      "\n"
     ]
    }
   ],
   "source": [
    "q   = phpar.specific_discharge * mesh.delc * mesh.delr * mesh.top\n",
    "aux = phpar.source_concentration\n",
    "\n",
    "wel = flopy.mf6.ModflowGwfwel(gwf,\n",
    "    stress_period_data = [[(0, 0, 0), q, aux,]],\n",
    "    pname = \"WEL-1\",\n",
    "    auxiliary = [\"CONCENTRATION\"],\n",
    ")\n",
    "\n",
    "print(wel)"
   ]
  },
  {
   "cell_type": "markdown",
   "id": "efcd5da6-94ce-415a-8ef1-db53ede0a63e",
   "metadata": {},
   "source": [
    "## Paso 12. Paquete: salida (`ModflowGwfoc` object)"
   ]
  },
  {
   "cell_type": "code",
   "execution_count": 38,
   "id": "0626b91b-4164-48b2-a326-ee9f36a1a9a0",
   "metadata": {
    "editable": true,
    "slideshow": {
     "slide_type": ""
    },
    "tags": []
   },
   "outputs": [
    {
     "name": "stdout",
     "output_type": "stream",
     "text": [
      "package_name = oc\n",
      "filename = flow.oc\n",
      "package_type = oc\n",
      "model_or_simulation_package = model\n",
      "model_name = flow\n",
      "\n",
      "Block options\n",
      "--------------------\n",
      "budget_filerecord\n",
      "{internal}\n",
      "([('flow.bud',)])\n",
      "\n",
      "head_filerecord\n",
      "{internal}\n",
      "([('flow.hds',)])\n",
      "\n",
      "\n",
      "Block period\n",
      "--------------------\n",
      "saverecord\n",
      "{internal}\n",
      "([('HEAD', 'ALL', None) ('BUDGET', 'ALL', None)])\n",
      "\n",
      "printrecord\n",
      "None\n",
      "\n",
      "\n"
     ]
    }
   ],
   "source": [
    "oc = flopy.mf6.ModflowGwfoc(gwf,\n",
    "    head_filerecord   = ospar.head_file,\n",
    "    budget_filerecord = ospar.hbudget_file,\n",
    "    saverecord = [(\"HEAD\", \"ALL\"), (\"BUDGET\", \"ALL\")],\n",
    ")\n",
    "print(oc)"
   ]
  },
  {
   "cell_type": "markdown",
   "id": "51c7c2b8-4856-45da-8619-3dd2c722af84",
   "metadata": {},
   "source": [
    "## Paso 13. Escritura de los archivos de entrada para MODFLOW 6"
   ]
  },
  {
   "cell_type": "code",
   "execution_count": 39,
   "id": "955c6923-dba0-4fec-b43a-936a1e7a2eff",
   "metadata": {},
   "outputs": [
    {
     "name": "stdout",
     "output_type": "stream",
     "text": [
      "writing simulation...\n",
      "  writing simulation name file...\n",
      "  writing simulation tdis package...\n",
      "  writing solution package ims_-1...\n",
      "  writing model flow...\n",
      "    writing model name file...\n",
      "    writing package dis...\n",
      "    writing package ic...\n",
      "    writing package npf...\n",
      "    writing package chd_0...\n",
      "INFORMATION: maxbound in ('gwf6', 'chd', 'dimensions') changed to 1 based on size of stress_period_data\n",
      "    writing package wel-1...\n",
      "INFORMATION: maxbound in ('gwf6', 'wel', 'dimensions') changed to 1 based on size of stress_period_data\n",
      "    writing package oc...\n"
     ]
    }
   ],
   "source": [
    "sim.write_simulation()"
   ]
  },
  {
   "cell_type": "markdown",
   "id": "06e59c4a-6dcb-4f6e-a7ca-2ca6597f88c6",
   "metadata": {},
   "source": [
    "## Paso 14. Ejecución de la simulación."
   ]
  },
  {
   "cell_type": "code",
   "execution_count": 41,
   "id": "44e64765-dd25-46ee-b705-763a3d8254ba",
   "metadata": {},
   "outputs": [
    {
     "name": "stdout",
     "output_type": "stream",
     "text": [
      "FloPy is using the following executable to run the model: ../../../bin/macosarm/mf6\n",
      "                                   MODFLOW 6\n",
      "                U.S. GEOLOGICAL SURVEY MODULAR HYDROLOGIC MODEL\n",
      "                            VERSION 6.4.4 02/13/2024\n",
      "\n",
      "   MODFLOW 6 compiled Feb 13 2024 17:58:17 with Intel(R) Fortran Intel(R) 64\n",
      "   Compiler Classic for applications running on Intel(R) 64, Version 2021.7.0\n",
      "                             Build 20220726_000000\n",
      "\n",
      "This software has been approved for release by the U.S. Geological \n",
      "Survey (USGS). Although the software has been subjected to rigorous \n",
      "review, the USGS reserves the right to update the software as needed \n",
      "pursuant to further analysis and review. No warranty, expressed or \n",
      "implied, is made by the USGS or the U.S. Government as to the \n",
      "functionality of the software and related material nor shall the \n",
      "fact of release constitute any such warranty. Furthermore, the \n",
      "software is released on condition that neither the USGS nor the U.S. \n",
      "Government shall be held liable for any damages resulting from its \n",
      "authorized or unauthorized use. Also refer to the USGS Water \n",
      "Resources Software User Rights Notice for complete use, copyright, \n",
      "and distribution information.\n",
      "\n",
      " \n",
      " Run start date and time (yyyy/mm/dd hh:mm:ss): 2025/03/26 18:03:34\n",
      " \n",
      " Writing simulation list file: mfsim.lst\n",
      " Using Simulation name file: mfsim.nam\n",
      " \n",
      "    Solving:  Stress period:     1    Time step:     1\n",
      " \n",
      " Run end date and time (yyyy/mm/dd hh:mm:ss): 2025/03/26 18:03:34\n",
      " Elapsed run time:  0.027 Seconds\n",
      " \n",
      " Normal termination of simulation.\n"
     ]
    },
    {
     "data": {
      "text/plain": [
       "(True, [])"
      ]
     },
     "execution_count": 41,
     "metadata": {},
     "output_type": "execute_result"
    }
   ],
   "source": [
    "sim.run_simulation()"
   ]
  },
  {
   "cell_type": "markdown",
   "id": "4942b96b-60cb-44f4-b374-1e6b171e25dd",
   "metadata": {},
   "source": [
    "# Etapa 3. Postprocesamiento de la solución.\n",
    "\n",
    "## Paso 15. Lectura y transformación de resultados"
   ]
  },
  {
   "cell_type": "code",
   "execution_count": 43,
   "id": "481bb5ac-150e-4571-b3f5-c197a58d5b83",
   "metadata": {},
   "outputs": [],
   "source": [
    "# Obtenemos los resultados de la carga hidráulica\n",
    "head = flopy.utils.HeadFile(\n",
    "    os.path.join(ospar.workspace, \n",
    "                 ospar.head_file)).get_data()\n",
    "\n",
    "# Obtenemos los resultados del BUDGET\n",
    "bud  = flopy.utils.CellBudgetFile(\n",
    "    os.path.join(ospar.workspace, \n",
    "                 ospar.hbudget_file),\n",
    "    precision='double'\n",
    ")\n",
    "# Obtenemos las velocidades\n",
    "spdis = bud.get_data(text='DATA-SPDIS')[0]\n",
    "qx, qy, qz = flopy.utils.postprocessing.get_specific_discharge(spdis, gwf)"
   ]
  },
  {
   "cell_type": "code",
   "execution_count": 44,
   "id": "34d2346a-c3fa-4420-8feb-fffa31a7e1b7",
   "metadata": {},
   "outputs": [
    {
     "name": "stdout",
     "output_type": "stream",
     "text": [
      "Head :  <class 'numpy.ndarray'> (1, 1, 120)\n",
      "Budget :  <class 'flopy.utils.binaryfile.CellBudgetFile'> (np.int32(1), np.int32(1), np.int32(120))\n",
      "spdis :  <class 'numpy.rec.recarray'> (120,)\n",
      "qx :  <class 'numpy.ndarray'> (1, 1, 120)\n",
      "qy :  <class 'numpy.ndarray'> (1, 1, 120)\n",
      "qz :  <class 'numpy.ndarray'> (1, 1, 120)\n"
     ]
    }
   ],
   "source": [
    "# Verificamos el tipo y dimensiones de los arreglos donde\n",
    "# están almacenados la carga hidráulica, el BUDGET, y la velocidad.\n",
    "print('Head : ', type(head), head.shape)\n",
    "print('Budget : ', type(bud), bud.shape)\n",
    "print('spdis : ', type(spdis), spdis.shape)\n",
    "print('qx : ', type(qx), qx.shape)\n",
    "print('qy : ', type(qy), qy.shape)\n",
    "print('qz : ', type(qz), qz.shape)"
   ]
  },
  {
   "cell_type": "code",
   "execution_count": 45,
   "id": "ce017cb0-8a6d-4602-a5c8-651665a54965",
   "metadata": {},
   "outputs": [
    {
     "name": "stdout",
     "output_type": "stream",
     "text": [
      "(1, 1, 120) \n",
      " [[[2.19 2.18 2.17 2.16 2.15 2.14 2.13 2.12 2.11 2.1  2.09 2.08 2.07 2.06\n",
      "   2.05 2.04 2.03 2.02 2.01 2.   1.99 1.98 1.97 1.96 1.95 1.94 1.93 1.92\n",
      "   1.91 1.9  1.89 1.88 1.87 1.86 1.85 1.84 1.83 1.82 1.81 1.8  1.79 1.78\n",
      "   1.77 1.76 1.75 1.74 1.73 1.72 1.71 1.7  1.69 1.68 1.67 1.66 1.65 1.64\n",
      "   1.63 1.62 1.61 1.6  1.59 1.58 1.57 1.56 1.55 1.54 1.53 1.52 1.51 1.5\n",
      "   1.49 1.48 1.47 1.46 1.45 1.44 1.43 1.42 1.41 1.4  1.39 1.38 1.37 1.36\n",
      "   1.35 1.34 1.33 1.32 1.31 1.3  1.29 1.28 1.27 1.26 1.25 1.24 1.23 1.22\n",
      "   1.21 1.2  1.19 1.18 1.17 1.16 1.15 1.14 1.13 1.12 1.11 1.1  1.09 1.08\n",
      "   1.07 1.06 1.05 1.04 1.03 1.02 1.01 1.  ]]]\n"
     ]
    }
   ],
   "source": [
    "print(head.shape, '\\n', head)"
   ]
  },
  {
   "cell_type": "code",
   "execution_count": 46,
   "id": "7edba925-008e-4fcd-ac22-e20bed4b3fbf",
   "metadata": {},
   "outputs": [
    {
     "name": "stdout",
     "output_type": "stream",
     "text": [
      "(1, 1, 120) \n",
      " [[[0.01 0.01 0.01 0.01 0.01 0.01 0.01 0.01 0.01 0.01 0.01 0.01 0.01 0.01\n",
      "   0.01 0.01 0.01 0.01 0.01 0.01 0.01 0.01 0.01 0.01 0.01 0.01 0.01 0.01\n",
      "   0.01 0.01 0.01 0.01 0.01 0.01 0.01 0.01 0.01 0.01 0.01 0.01 0.01 0.01\n",
      "   0.01 0.01 0.01 0.01 0.01 0.01 0.01 0.01 0.01 0.01 0.01 0.01 0.01 0.01\n",
      "   0.01 0.01 0.01 0.01 0.01 0.01 0.01 0.01 0.01 0.01 0.01 0.01 0.01 0.01\n",
      "   0.01 0.01 0.01 0.01 0.01 0.01 0.01 0.01 0.01 0.01 0.01 0.01 0.01 0.01\n",
      "   0.01 0.01 0.01 0.01 0.01 0.01 0.01 0.01 0.01 0.01 0.01 0.01 0.01 0.01\n",
      "   0.01 0.01 0.01 0.01 0.01 0.01 0.01 0.01 0.01 0.01 0.01 0.01 0.01 0.01\n",
      "   0.01 0.01 0.01 0.01 0.01 0.01 0.01 0.01]]]\n"
     ]
    }
   ],
   "source": [
    "print(qx.shape, '\\n', qx)"
   ]
  },
  {
   "cell_type": "markdown",
   "id": "e1320637-99df-457a-8808-44412438d4c1",
   "metadata": {},
   "source": [
    "## Paso 16. Visualización de resultados."
   ]
  },
  {
   "cell_type": "code",
   "execution_count": 47,
   "id": "61074e07-d0f3-4682-9ffe-348343728b4c",
   "metadata": {
    "editable": true,
    "slideshow": {
     "slide_type": ""
    },
    "tags": []
   },
   "outputs": [
    {
     "data": {
      "image/png": "[encoded data removed]",
      "text/plain": [
       "<Figure size 1000x300 with 1 Axes>"
      ]
     },
     "metadata": {},
     "output_type": "display_data"
    }
   ],
   "source": [
    "with styles.USGSPlot():\n",
    "    plt.rcParams['font.family'] = 'DeJavu Sans'\n",
    "    x, _, _ = mesh.get_coords()\n",
    "    plt.figure(figsize=(10,3))\n",
    "    plt.plot(x, head[0, 0], marker=\".\", ls =\"-\", mec=\"blue\", mfc=\"none\", markersize=\"1\", label = 'Head')\n",
    "    plt.xlim(0, 12)\n",
    "    plt.xticks(ticks=np.linspace(0, mesh.row_length,13))\n",
    "    plt.xlabel(\"Distance (cm)\")\n",
    "    plt.ylabel(\"Head\")\n",
    "    plt.legend()\n",
    "    plt.grid()\n",
    "    plt.show()"
   ]
  },
  {
   "cell_type": "code",
   "execution_count": 48,
   "id": "38be2755-372e-47dd-9275-7b53c42bde8c",
   "metadata": {},
   "outputs": [
    {
     "data": {
      "image/png": "[encoded data removed]",
      "text/plain": [
       "<Figure size 1000x15 with 1 Axes>"
      ]
     },
     "metadata": {},
     "output_type": "display_data"
    }
   ],
   "source": [
    "plt.figure(figsize=(10,0.15))\n",
    "ax = plt.gca()\n",
    "pmv0 = flopy.plot.PlotMapView(gwf, ax=ax)\n",
    "pmv0.plot_grid(colors='dimgray', lw=0.5)\n",
    "plt.yticks(ticks=[0, 0.1],fontsize=8)\n",
    "\n",
    "plt.show()\n"
   ]
  },
  {
   "cell_type": "code",
   "execution_count": null,
   "id": "6e6bbad6",
   "metadata": {},
   "outputs": [],
   "source": []
  }
 ],
 "metadata": {
  "kernelspec": {
   "display_name": "Python 3 (ipykernel)",
   "language": "python",
   "name": "python3"
  },
  "language_info": {
   "codemirror_mode": {
    "name": "ipython",
    "version": 3
   },
   "file_extension": ".py",
   "mimetype": "text/x-python",
   "name": "python",
   "nbconvert_exporter": "python",
   "pygments_lexer": "ipython3",
   "version": "3.12.3"
  }
 },
 "nbformat": 4,
 "nbformat_minor": 5
}
