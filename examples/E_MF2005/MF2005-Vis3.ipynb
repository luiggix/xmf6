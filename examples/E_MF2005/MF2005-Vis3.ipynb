{
 "cells": [
  {
   "cell_type": "markdown",
   "metadata": {},
   "source": [
    "# MFW 2005 + visualización con flopy\n",
    "## Luis M. de la Cruz\n",
    "<font color=#FF0000>**Última actualización: mar may 26 18:10:09 CDT 2020**</font>"
   ]
  },
  {
   "cell_type": "markdown",
   "metadata": {},
   "source": [
    "En este ejemplo se muestra como graficar los resultados de una simulación de MODFLOW 2005 con las herramientas de flopy.\n",
    "\n",
    "## Preparamos los datos para la visualización"
   ]
  },
  {
   "cell_type": "code",
   "execution_count": null,
   "metadata": {},
   "outputs": [],
   "source": [
    "import numpy as np\n",
    "import flopy"
   ]
  },
  {
   "cell_type": "code",
   "execution_count": null,
   "metadata": {},
   "outputs": [],
   "source": [
    "# Definimos el nombre de la simulación\n",
    "modelname = 'ejem_01_MF2005'\n",
    "\n",
    "# Detalles del ejemplo\n",
    "Lx = 1000.\n",
    "Ly = 1000.\n",
    "# Definimos el número de contornos a graficar\n",
    "levels = np.linspace(0.,10.,11) "
   ]
  },
  {
   "cell_type": "markdown",
   "metadata": {},
   "source": [
    "### Lectura de los datos binarios\n",
    "Flopy tiene herramientas para realizar gráficos más *ad hoc* para los resultados de MODFLOW. Estas herramientas están en el módulo PlotMapView (antes ModelMap). En el ejemplo siguiente se muestra cómo usar este módulo para graficar las condiciones de frontera (IBOUND), la malla, los contornos de la carga y los vectores de velocidad."
   ]
  },
  {
   "cell_type": "code",
   "execution_count": null,
   "metadata": {},
   "outputs": [],
   "source": [
    "# Se importa la herramienta para leer los archivos binarios.\n",
    "import flopy.utils.binaryfile as bf\n",
    "\n",
    "# Lectura de la salida de MODFLOW\n",
    "hds = bf.HeadFile(modelname+'.hds')\n",
    "head = hds.get_data(totim=1.0)\n",
    "\n",
    "# Alternativamente se puede usar lo siguiente para leer los datos\n",
    "#times = hds.get_times()\n",
    "#head = hds.get_data(totim=times[-1])\n",
    "\n",
    "print(type(hds))\n",
    "print(type(head))\n",
    "\n",
    "# Se obtiene la información del archivo con extensión .cbc\n",
    "cbb = bf.CellBudgetFile(modelname+'.cbc')\n",
    "\n",
    "print(type(cbb))\n",
    "\n",
    "# Se obtienen datos del flujo\n",
    "times = hds.get_times()\n",
    "frf = cbb.get_data(text='FLOW RIGHT FACE', totim=times[-1])[0]\n",
    "fff = cbb.get_data(text='FLOW FRONT FACE', totim=times[-1])[0]\n",
    "\n",
    "print(type(frf), type(fff))\n",
    "\n",
    "print('Tiempos de la simulación: ', times)\n",
    "print('Dimensiones : head {}, frf {}, fff {}'.format(head.shape,frf.shape, fff.shape))\n",
    "print('Carga hidráulica:\\n', head)\n",
    "print('frf :\\n', frf)\n",
    "print('fff :\\n', fff)"
   ]
  },
  {
   "cell_type": "markdown",
   "metadata": {},
   "source": [
    "### Cargamos el modelo de MODFLOW (ya ejecutado)"
   ]
  },
  {
   "cell_type": "code",
   "execution_count": null,
   "metadata": {},
   "outputs": [],
   "source": [
    "modelname = 'ejem_01_MF2005'\n",
    "mf = flopy.modflow.Modflow.load(modelname + '.nam', version='mf2005',)"
   ]
  },
  {
   "cell_type": "code",
   "execution_count": null,
   "metadata": {},
   "outputs": [],
   "source": [
    "# Se define una figura de 10 x 10\n",
    "#import matplotlib.pyplot as plt\n",
    "#fig = plt.figure(figsize=(8,6))\n",
    "\n",
    "# Se crea un mapa del modelo para visualización\n",
    "modelmap = flopy.plot.PlotMapView(model=mf, layer=0)\n",
    "print(type(modelmap))\n",
    "\n",
    "lc = modelmap.plot_grid()   # La malla\n",
    "qm = modelmap.plot_ibound() # Condiciones de frontera\n",
    "cs = modelmap.contour_array(head, levels=levels) # Contornos\n",
    "quiver = modelmap.plot_discharge(frf, fff, head=head) # Vectores\n"
   ]
  },
  {
   "cell_type": "code",
   "execution_count": null,
   "metadata": {},
   "outputs": [],
   "source": [
    "fig = plt.figure(figsize=(14,6))\n",
    "\n",
    "# Se agrega una subgráfica y se obtienen sus ejes\n",
    "ax1 = fig.add_subplot(131)\n",
    "ax2 = fig.add_subplot(132)\n",
    "\n",
    "modelmap1 = flopy.plot.PlotMapView(model=mf, ax = ax1, layer=0)\n",
    "qm = modelmap1.plot_ibound()\n",
    "lc = modelmap1.plot_grid()\n",
    "\n",
    "modelmap2 = flopy.plot.PlotMapView(model=mf, ax = ax2, layer=0)\n",
    "lc = modelmap2.plot_grid()\n",
    "cs = modelmap2.contour_array(head, levels=levels)\n",
    "quiver = modelmap2.plot_discharge(frf, fff, head=head)\n",
    "\n",
    "ax3 = fig.add_subplot(133)\n",
    "modelmap3 = flopy.plot.PlotMapView(model=mf, ax = ax3, layer=0)\n",
    "modelmap3.plot_array(head, cmap='GnBu')\n",
    "quiver = modelmap3.plot_discharge(frf, fff, head=head)\n"
   ]
  },
  {
   "cell_type": "markdown",
   "metadata": {},
   "source": [
    "### Otras herramientas de visualización"
   ]
  },
  {
   "cell_type": "markdown",
   "metadata": {},
   "source": [
    "A través del modelo, `mf`, se pueden realizar también varios tipos de gráficos:"
   ]
  },
  {
   "cell_type": "code",
   "execution_count": null,
   "metadata": {},
   "outputs": [],
   "source": [
    "mf.modelgrid.plot();"
   ]
  },
  {
   "cell_type": "code",
   "execution_count": null,
   "metadata": {},
   "outputs": [],
   "source": [
    "hdobj = flopy.utils.HeadFile(modelname+'.hds', model=mf)\n",
    "hdobj.plot()#contour=True,\n",
    "#           clabel=True,\n",
    "#           colorbar=True)\n",
    "#           filename_base='imagen')"
   ]
  },
  {
   "cell_type": "code",
   "execution_count": null,
   "metadata": {},
   "outputs": [],
   "source": [
    "fig = plt.figure(figsize=(14,4))\n",
    "\n",
    "# Se agrega una subgráfica y se obtienen sus ejes\n",
    "ax1 = fig.add_subplot(131)\n",
    "ax2 = fig.add_subplot(132)\n",
    "ax3 = fig.add_subplot(133)\n",
    "\n",
    "modelmap1 = flopy.plot.PlotMapView(model=mf, ax = ax1, layer=0)\n",
    "qm = modelmap1.plot_ibound()\n",
    "lc = modelmap1.plot_grid()\n",
    "\n",
    "modelmap2 = flopy.plot.PlotMapView(model=mf, ax = ax2, layer=0)\n",
    "cs = modelmap2.contour_array(head, levels=levels)\n",
    "\n",
    "#hdobj.plot(axes = ax3)#, colorbar=True)\n",
    "modelmap3 = flopy.plot.PlotMapView(model=mf, ax = ax3, layer=0)\n",
    "#modelmap3.plot_array(head, cmap='GnBu')\n",
    "quiver = modelmap3.plot_discharge(frf, fff, head=head)"
   ]
  },
  {
   "cell_type": "code",
   "execution_count": null,
   "metadata": {},
   "outputs": [],
   "source": [
    "mf.plot()"
   ]
  },
  {
   "cell_type": "code",
   "execution_count": null,
   "metadata": {},
   "outputs": [],
   "source": []
  }
 ],
 "metadata": {
  "kernelspec": {
   "display_name": "Python 3",
   "language": "python",
   "name": "python3"
  },
  "language_info": {
   "codemirror_mode": {
    "name": "ipython",
    "version": 3
   },
   "file_extension": ".py",
   "mimetype": "text/x-python",
   "name": "python",
   "nbconvert_exporter": "python",
   "pygments_lexer": "ipython3",
   "version": "3.7.6"
  }
 },
 "nbformat": 4,
 "nbformat_minor": 2
}
