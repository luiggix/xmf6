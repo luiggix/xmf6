{
 "cells": [
  {
   "cell_type": "markdown",
   "metadata": {},
   "source": [
    "# Creación y ejecución de un modelo de MODFLOW 2005 con flopy\n",
    "## Luis M. de la Cruz\n",
    "<font color=#FF0000>**Última actualización: mar may 26 17:27:14 CDT 2020**</font><br>"
   ]
  },
  {
   "cell_type": "markdown",
   "metadata": {},
   "source": [
    "En este ejemplo se muestra como usar las herramientas de flopy para crear un modelo de MODFLOW 2005 y ejecutarlo. Se verá cómo crear los datos de entrada y cómo definir los parámetros de salida de la simulación.\n"
   ]
  },
  {
   "cell_type": "markdown",
   "metadata": {},
   "source": [
    "## Paso 1. Importar bibliotecas\n",
    "\n",
    "Importamos las bibliotecas `numpy` y `flopy`."
   ]
  },
  {
   "cell_type": "code",
   "execution_count": 1,
   "metadata": {},
   "outputs": [
    {
     "name": "stdout",
     "output_type": "stream",
     "text": [
      "flopy is installed in /home/luiggi/anaconda3/lib/python3.7/site-packages/flopy\n"
     ]
    }
   ],
   "source": [
    "import numpy as np\n",
    "import flopy"
   ]
  },
  {
   "cell_type": "markdown",
   "metadata": {},
   "source": [
    "## Paso 2. Inicializaciones\n",
    "Definimos la ruta donde se encuentra el ejecutable de MODFLOW 2005 y el nombre de la simulación."
   ]
  },
  {
   "cell_type": "code",
   "execution_count": 2,
   "metadata": {},
   "outputs": [
    {
     "name": "stdout",
     "output_type": "stream",
     "text": [
      " Ruta hacia el ejecutable de MODFLOW 2005 : /home/luiggi/GitSites/MODFLOW/MF2005.1_12u/bin/mf2005 \n",
      " Nombre de esta simulación: ejem_01_MF2005\n"
     ]
    }
   ],
   "source": [
    "# WINDOWS (descomente la siguiente línea)\n",
    "#mf2005_exe = 'C:\\\\Users\\\\luiggi\\\\Desktop\\\\MODFLOW\\\\MF2005.1_12\\\\bin\\\\mf2005.exe'\n",
    "\n",
    "# LINUX (desocomente la siguiente línea)\n",
    "mf2005_exe = '/home/luiggi/GitSites/MODFLOW/MF2005.1_12u/bin/mf2005'\n",
    "# Definimos el nombre de la simulación\n",
    "modelname = 'ejem_01_MF2005'\n",
    "\n",
    "print(' Ruta hacia el ejecutable de MODFLOW 2005 : {} '.format(mf2005_exe))\n",
    "print(' Nombre de esta simulación: {}'.format(modelname))"
   ]
  },
  {
   "cell_type": "markdown",
   "metadata": {},
   "source": [
    "## Paso 3. Creación del modelo de modflow 2005"
   ]
  },
  {
   "cell_type": "code",
   "execution_count": 3,
   "metadata": {},
   "outputs": [],
   "source": [
    "mf = flopy.modflow.Modflow(modelname, exe_name = mf2005_exe) "
   ]
  },
  {
   "cell_type": "code",
   "execution_count": 4,
   "metadata": {},
   "outputs": [
    {
     "data": {
      "text/plain": [
       "flopy.modflow.mf.Modflow"
      ]
     },
     "execution_count": 4,
     "metadata": {},
     "output_type": "execute_result"
    }
   ],
   "source": [
    "type(mf)"
   ]
  },
  {
   "cell_type": "code",
   "execution_count": 5,
   "metadata": {},
   "outputs": [
    {
     "name": "stdout",
     "output_type": "stream",
     "text": [
      "MODFLOW 0 layer(s) 0 row(s) 0 column(s) 0 stress period(s)\n"
     ]
    }
   ],
   "source": [
    "print(mf)"
   ]
  },
  {
   "cell_type": "markdown",
   "metadata": {},
   "source": [
    "## Paso 4. Modelo discreto.\n",
    "\n",
    "Definición del dominio y de la malla del modelo, para crear un objeto para la discretización (<a href=\"https://modflowpy.github.io/flopydoc/mfdis.html\">ModflowDis</a>):"
   ]
  },
  {
   "cell_type": "code",
   "execution_count": 6,
   "metadata": {},
   "outputs": [],
   "source": [
    "Lx = 1000.\n",
    "Ly = 1000.\n",
    "ztop = 0.\n",
    "zbot = -50.\n",
    "nlay = 1\n",
    "nrow = 20\n",
    "ncol = 15\n",
    "delr = Lx/ncol\n",
    "delc = Ly/nrow\n",
    "delv = (ztop - zbot) / nlay\n",
    "botm = np.linspace(ztop, zbot, nlay + 1) "
   ]
  },
  {
   "cell_type": "code",
   "execution_count": 7,
   "metadata": {},
   "outputs": [
    {
     "name": "stdout",
     "output_type": "stream",
     "text": [
      "50.0\n",
      "66.66666666666667\n",
      "50.0\n",
      "[  0. -50.]\n"
     ]
    }
   ],
   "source": [
    "print(delc, delr, delv, botm, sep='\\n')"
   ]
  },
  {
   "cell_type": "code",
   "execution_count": 8,
   "metadata": {},
   "outputs": [],
   "source": [
    "# Modelo discreto\n",
    "dis = flopy.modflow.ModflowDis(mf, \n",
    "                               nlay, nrow, ncol, \n",
    "                               delr = delr, delc = delc, \n",
    "                               top = ztop, botm = botm[1:])"
   ]
  },
  {
   "cell_type": "code",
   "execution_count": null,
   "metadata": {},
   "outputs": [],
   "source": [
    "print(mf)"
   ]
  },
  {
   "cell_type": "code",
   "execution_count": null,
   "metadata": {},
   "outputs": [],
   "source": [
    "type(dis) "
   ]
  },
  {
   "cell_type": "code",
   "execution_count": null,
   "metadata": {},
   "outputs": [],
   "source": [
    "print(dis)"
   ]
  },
  {
   "cell_type": "markdown",
   "metadata": {},
   "source": [
    "## Paso 3. Basic Package\n",
    "Creación de un objeto de flopy para representar el *MODFLOW Basic Package* (Más detalles en <a href=\"https://modflowpy.github.io/flopydoc/mfbas.html\">BAS</a>). \n",
    "\n",
    "Para el modelo de este ejemplo se asignan valores constantes a la carga (head values) de 10.0 y 0.0 a la primera y última columna del modelo, en todas las capas. \n"
   ]
  },
  {
   "cell_type": "code",
   "execution_count": 9,
   "metadata": {},
   "outputs": [],
   "source": [
    "ibound = np.ones((nlay, nrow, ncol))#, dtype=np.int32)\n",
    "ibound[:, :, 0] = -1 \n",
    "ibound[:, :, -1] = -1\n",
    "\n",
    "ibound[:,4:8,4:8] = -1 # Definiendo un obstáculo\n",
    "\n",
    "strt = np.ones((nlay, nrow, ncol))#, dtype=np.float32)\n",
    "strt[:, :, 0] = 10.\n",
    "strt[:, :, -1] = 0.\n",
    "bas = flopy.modflow.ModflowBas(mf, ibound=ibound, strt=strt)"
   ]
  },
  {
   "cell_type": "code",
   "execution_count": null,
   "metadata": {},
   "outputs": [],
   "source": [
    "print(ibound)"
   ]
  },
  {
   "cell_type": "code",
   "execution_count": null,
   "metadata": {},
   "outputs": [],
   "source": [
    "print(strt)"
   ]
  },
  {
   "cell_type": "code",
   "execution_count": null,
   "metadata": {},
   "outputs": [],
   "source": [
    "type(bas)"
   ]
  },
  {
   "cell_type": "code",
   "execution_count": null,
   "metadata": {},
   "outputs": [],
   "source": [
    "print(bas)"
   ]
  },
  {
   "cell_type": "markdown",
   "metadata": {},
   "source": [
    "## Paso 4. Layer-Property Flow Package\n",
    "\n",
    "Asignamos propiedades a las capas del modelo usando el *Layer-Property Flow Package* (<a href=\"https://modflowpy.github.io/flopydoc/mflpf.html\">mflpf</a>). Se asignan valores de 10.0 a la conductividad hidráhulica, horizontal y verticalmente. \n",
    "\n",
    "**NOTA**: Como no se especifica un valor para `laytyp`, Flopy usa el valor por omisión de 0, lo cual significa que este modelo será confinado."
   ]
  },
  {
   "cell_type": "code",
   "execution_count": 10,
   "metadata": {},
   "outputs": [],
   "source": [
    "lpf = flopy.modflow.ModflowLpf(mf, hk=10., vka=10., ipakcb=53)"
   ]
  },
  {
   "cell_type": "code",
   "execution_count": null,
   "metadata": {},
   "outputs": [],
   "source": [
    "type(lpf)"
   ]
  },
  {
   "cell_type": "code",
   "execution_count": null,
   "metadata": {},
   "outputs": [],
   "source": [
    "print(lpf)"
   ]
  },
  {
   "cell_type": "markdown",
   "metadata": {},
   "source": [
    "## Paso 5. Parámetros para la salida\n",
    "\n",
    "Se definen los parámetros para la salida de la simulación (<a href=\"https://modflowpy.github.io/flopydoc/mfoc.html\">mfoc</a>)\n",
    "\n",
    "**NOTA**: se utiliza un diccionario para definir que salida será guardada para los correspondientes periodos de *stress* y pasos de tiempo. En este caso, la tupla `(0,0)` significa que el periodo 1 y el tiempo 1 serán guardados. "
   ]
  },
  {
   "cell_type": "code",
   "execution_count": 11,
   "metadata": {},
   "outputs": [],
   "source": [
    "spd = {(0, 0): ['print head', 'print budget', 'save head', 'save budget']}\n",
    "oc = flopy.modflow.ModflowOc(mf, stress_period_data=spd, compact=True)"
   ]
  },
  {
   "cell_type": "code",
   "execution_count": null,
   "metadata": {},
   "outputs": [],
   "source": [
    "print(type(spd), type(oc), sep='\\n')"
   ]
  },
  {
   "cell_type": "code",
   "execution_count": null,
   "metadata": {},
   "outputs": [],
   "source": [
    "print(spd)"
   ]
  },
  {
   "cell_type": "code",
   "execution_count": null,
   "metadata": {},
   "outputs": [],
   "source": [
    "print(oc)"
   ]
  },
  {
   "cell_type": "markdown",
   "metadata": {},
   "source": [
    "## Paso 6. Algoritmo de solución\n",
    "\n",
    "Definición del algoritmo de solución. En este caso se usa *Preconditioned Conjugate Gradient Package* \n",
    "(<a href=\"https://modflowpy.github.io/flopydoc/mfpcg.html\">mfpcg</a>). En este caso se usarán todos los valores por omisión."
   ]
  },
  {
   "cell_type": "code",
   "execution_count": 12,
   "metadata": {},
   "outputs": [],
   "source": [
    "pcg = flopy.modflow.ModflowPcg(mf)"
   ]
  },
  {
   "cell_type": "code",
   "execution_count": null,
   "metadata": {},
   "outputs": [],
   "source": [
    "type(pcg)"
   ]
  },
  {
   "cell_type": "code",
   "execution_count": null,
   "metadata": {},
   "outputs": [],
   "source": [
    "print(pcg)"
   ]
  },
  {
   "cell_type": "markdown",
   "metadata": {},
   "source": [
    "## Paso 7. Escritura de datos de entrada\n",
    "\n",
    "Escribir los datos de entrada del modelo en un archivo se logra de la manera siguiente:"
   ]
  },
  {
   "cell_type": "code",
   "execution_count": 13,
   "metadata": {},
   "outputs": [],
   "source": [
    "mf.write_input()"
   ]
  },
  {
   "cell_type": "markdown",
   "metadata": {},
   "source": [
    "## Paso 8. Ejecución del modelo\n",
    "\n",
    "El objeto del modelo, en este caso `mf`, tiene un método para ejecutar el modelo. Para que esto funcione, el ejecutable de MODFLOW debe estar localizado dentro de una ruta accesible. En este caso, la ruta completa al ejecutable está identificada con `mf2005_exe`."
   ]
  },
  {
   "cell_type": "code",
   "execution_count": 14,
   "metadata": {},
   "outputs": [
    {
     "name": "stdout",
     "output_type": "stream",
     "text": [
      "FloPy is using the following  executable to run the model: /home/luiggi/GitSites/MODFLOW/MF2005.1_12u/bin/mf2005\n",
      "\n",
      "                                  MODFLOW-2005     \n",
      "    U.S. GEOLOGICAL SURVEY MODULAR FINITE-DIFFERENCE GROUND-WATER FLOW MODEL\n",
      "                             Version 1.12.00 2/3/2017                        \n",
      "\n",
      " Using NAME file: ejem_01_MF2005.nam \n",
      " Run start date and time (yyyy/mm/dd hh:mm:ss): 2020/08/25 16:14:03\n",
      "\n",
      " Solving:  Stress period:     1    Time step:     1    Ground-Water Flow Eqn.\n",
      " Run end date and time (yyyy/mm/dd hh:mm:ss): 2020/08/25 16:14:03\n",
      " Elapsed run time:  0.018 Seconds\n",
      "\n",
      "  Normal termination of simulation\n"
     ]
    }
   ],
   "source": [
    "success, buff = mf.run_model()"
   ]
  },
  {
   "cell_type": "markdown",
   "metadata": {},
   "source": [
    "### Siguiente paso:\n",
    "\n",
    "Continuar con el ejercicio de visualización en: <a href=\"./MF2005-Vis1.ipynb\">MF2005-Vis1 </a>"
   ]
  },
  {
   "cell_type": "markdown",
   "metadata": {},
   "source": [
    "# Referencias útiles:\n",
    "\n",
    "<a href=https://modflowpy.github.io/flopydoc/tutorials.html>Flopy Tutorials</a>\n",
    "\n",
    "<a href=https://github.com/modflowpy/flopy>Github: Flopy</a>\n",
    "\n",
    "- <a href=https://github.com/modflowpy/flopy/tree/develop/examples/Notebooks>flopy/examples/Notebooks/</a>\n",
    "\n",
    "<a href=https://www2.hawaii.edu/~jonghyun/classes/S18/CEE696/>CEE 696: Optimization in Groundwater Engineering</a>\n"
   ]
  }
 ],
 "metadata": {
  "kernelspec": {
   "display_name": "Python 3",
   "language": "python",
   "name": "python3"
  },
  "language_info": {
   "codemirror_mode": {
    "name": "ipython",
    "version": 3
   },
   "file_extension": ".py",
   "mimetype": "text/x-python",
   "name": "python",
   "nbconvert_exporter": "python",
   "pygments_lexer": "ipython3",
   "version": "3.7.6"
  }
 },
 "nbformat": 4,
 "nbformat_minor": 2
}
