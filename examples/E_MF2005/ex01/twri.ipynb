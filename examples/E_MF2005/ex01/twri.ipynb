{
 "cells": [
  {
   "cell_type": "markdown",
   "metadata": {},
   "source": [
    "# Ejemplo 01: MODFLOW 2005 con flopy\n",
    "## Luis M. de la Cruz\n",
    "<font color=#FF0000>**Última actualización: lun ago 24 14:45:41 CDT 2020**</font>\n"
   ]
  },
  {
   "cell_type": "markdown",
   "metadata": {},
   "source": [
    "En este ejemplo se muestra como usar las herramientas de flopy para crear un modelo de MODFLOW 2005 y ejecutarlo. Se verá cómo crear los datos de entrada y cómo definir los parámetros de salida de la simulación.\n"
   ]
  },
  {
   "cell_type": "markdown",
   "metadata": {},
   "source": [
    "## Paso 1. Importar bibliotecas\n",
    "\n",
    "Importamos las bibliotecas `numpy` y `flopy`."
   ]
  },
  {
   "cell_type": "code",
   "execution_count": 1,
   "metadata": {},
   "outputs": [
    {
     "name": "stdout",
     "output_type": "stream",
     "text": [
      "flopy is installed in /home/luiggi/anaconda3/lib/python3.7/site-packages/flopy\n"
     ]
    }
   ],
   "source": [
    "import numpy as np\n",
    "import flopy"
   ]
  },
  {
   "cell_type": "markdown",
   "metadata": {},
   "source": [
    "## Paso 2. Inicializaciones\n",
    "Definimos la ruta donde se encuentra el ejecutable de MODFLOW 2005 y el nombre de la simulación."
   ]
  },
  {
   "cell_type": "code",
   "execution_count": 2,
   "metadata": {},
   "outputs": [
    {
     "name": "stdout",
     "output_type": "stream",
     "text": [
      " Ruta hacia el ejecutable de MODFLOW 2005 : /home/luiggi/GitSites/MODFLOW/MF2005.1_12u/bin/mf2005 \n",
      " Nombre de esta simulación: twri_comp\n"
     ]
    }
   ],
   "source": [
    "# WINDOWS (descomente la siguiente línea)\n",
    "#mf2005_exe = 'C:\\\\Users\\\\luiggi\\\\Desktop\\\\MODFLOW\\\\MF2005.1_12\\\\bin\\\\mf2005.exe'\n",
    "\n",
    "# LINUX (desocomente la siguiente línea)\n",
    "mf2005_exe = '/home/luiggi/GitSites/MODFLOW/MF2005.1_12u/bin/mf2005'\n",
    "# Definimos el nombre de la simulación\n",
    "modelname = 'twri_comp'\n",
    "\n",
    "print(' Ruta hacia el ejecutable de MODFLOW 2005 : {} '.format(mf2005_exe))\n",
    "print(' Nombre de esta simulación: {}'.format(modelname))"
   ]
  },
  {
   "cell_type": "markdown",
   "metadata": {},
   "source": [
    "## Paso 3. Creación del modelo de modflow 2005"
   ]
  },
  {
   "cell_type": "code",
   "execution_count": 3,
   "metadata": {},
   "outputs": [
    {
     "name": "stdout",
     "output_type": "stream",
     "text": [
      "MODFLOW 0 layer(s) 0 row(s) 0 column(s) 0 stress period(s)\n"
     ]
    }
   ],
   "source": [
    "mf = flopy.modflow.Modflow(modelname, exe_name = mf2005_exe) \n",
    "print(mf)"
   ]
  },
  {
   "cell_type": "markdown",
   "metadata": {},
   "source": [
    "## Paso 4. Modelo discreto.\n",
    "\n",
    "Definición del dominio y de la malla del modelo, para crear un objeto para la discretización (<a href=\"https://modflowpy.github.io/flopydoc/mfdis.html\">ModflowDis</a>):"
   ]
  },
  {
   "cell_type": "code",
   "execution_count": null,
   "metadata": {},
   "outputs": [],
   "source": [
    "Lx = 75000.\n",
    "Ly = 75000.\n",
    "ztop = 200.\n",
    "zbot = -450.\n",
    "nlay = 3\n",
    "nrow = 15\n",
    "ncol = 15\n",
    "delr = Lx/ncol\n",
    "delc = Ly/nrow\n",
    "#botm = np.array([200,-150,-200,-300,-350,-450])\n",
    "laycbd = np.array([1,1,0])"
   ]
  },
  {
   "cell_type": "code",
   "execution_count": null,
   "metadata": {},
   "outputs": [],
   "source": [
    "print(delc, delr, laycbd, sep='\\n')"
   ]
  },
  {
   "cell_type": "code",
   "execution_count": null,
   "metadata": {},
   "outputs": [],
   "source": [
    "# Modelo discreto\n",
    "dis = flopy.modflow.ModflowDis(mf, \n",
    "                               nlay, nrow, ncol, \n",
    "                               delr = delr, delc = delc, \n",
    "                               top = ztop, botm = zbot,\n",
    "                               laycbd=[1,1,0])"
   ]
  },
  {
   "cell_type": "code",
   "execution_count": null,
   "metadata": {},
   "outputs": [],
   "source": [
    "print(mf)"
   ]
  },
  {
   "cell_type": "code",
   "execution_count": null,
   "metadata": {},
   "outputs": [],
   "source": [
    "type(dis) "
   ]
  },
  {
   "cell_type": "code",
   "execution_count": null,
   "metadata": {},
   "outputs": [],
   "source": [
    "print(dis)"
   ]
  },
  {
   "cell_type": "code",
   "execution_count": null,
   "metadata": {},
   "outputs": [],
   "source": [
    "mf.write_input()"
   ]
  },
  {
   "cell_type": "markdown",
   "metadata": {},
   "source": [
    "## Paso 3. Basic Package\n",
    "Creación de un objeto de flopy para representar el *MODFLOW Basic Package* (Más detalles en <a href=\"https://modflowpy.github.io/flopydoc/mfbas.html\">BAS</a>). \n",
    "\n",
    "Para el modelo de este ejemplo se asignan valores constantes a la carga (head values) de 10.0 y 0.0 a la primera y última columna del modelo, en todas las capas. \n"
   ]
  },
  {
   "cell_type": "code",
   "execution_count": null,
   "metadata": {},
   "outputs": [],
   "source": [
    "ibound = np.ones((nlay, nrow, ncol))#, dtype=np.int32)\n",
    "ibound[:, :, 0] = -1 \n",
    "ibound[:, :, -1] = -1\n",
    "\n",
    "ibound[:,4:8,4:8] = -1 # Definiendo un obstáculo\n",
    "\n",
    "strt = np.ones((nlay, nrow, ncol))#, dtype=np.float32)\n",
    "strt[:, :, 0] = 10.\n",
    "strt[:, :, -1] = 0.\n",
    "bas = flopy.modflow.ModflowBas(mf, ibound=ibound, strt=strt)"
   ]
  },
  {
   "cell_type": "code",
   "execution_count": null,
   "metadata": {},
   "outputs": [],
   "source": [
    "print(ibound)"
   ]
  },
  {
   "cell_type": "code",
   "execution_count": null,
   "metadata": {},
   "outputs": [],
   "source": [
    "print(strt)"
   ]
  },
  {
   "cell_type": "code",
   "execution_count": null,
   "metadata": {},
   "outputs": [],
   "source": [
    "type(bas)"
   ]
  },
  {
   "cell_type": "code",
   "execution_count": null,
   "metadata": {},
   "outputs": [],
   "source": [
    "print(bas)"
   ]
  },
  {
   "cell_type": "markdown",
   "metadata": {},
   "source": [
    "## Paso 4. Layer-Property Flow Package\n",
    "\n",
    "Asignamos propiedades a las capas del modelo usando el *Layer-Property Flow Package* (<a href=\"https://modflowpy.github.io/flopydoc/mflpf.html\">mflpf</a>). Se asignan valores de 10.0 a la conductividad hidráhulica, horizontal y verticalmente. \n",
    "\n",
    "**NOTA**: Como no se especifica un valor para `laytyp`, Flopy usa el valor por omisión de 0, lo cual significa que este modelo será confinado."
   ]
  },
  {
   "cell_type": "code",
   "execution_count": null,
   "metadata": {},
   "outputs": [],
   "source": [
    "lpf = flopy.modflow.ModflowLpf(mf, hk=10., vka=10., ipakcb=53)"
   ]
  },
  {
   "cell_type": "code",
   "execution_count": null,
   "metadata": {},
   "outputs": [],
   "source": [
    "type(lpf)"
   ]
  },
  {
   "cell_type": "code",
   "execution_count": null,
   "metadata": {},
   "outputs": [],
   "source": [
    "print(lpf)"
   ]
  },
  {
   "cell_type": "markdown",
   "metadata": {},
   "source": [
    "## Paso 5. Parámetros para la salida\n",
    "\n",
    "Se definen los parámetros para la salida de la simulación (<a href=\"https://modflowpy.github.io/flopydoc/mfoc.html\">mfoc</a>)\n",
    "\n",
    "**NOTA**: se utiliza un diccionario para definir que salida será guardada para los correspondientes periodos de *stress* y pasos de tiempo. En este caso, la tupla `(0,0)` significa que el periodo 1 y el tiempo 1 serán guardados. "
   ]
  },
  {
   "cell_type": "code",
   "execution_count": null,
   "metadata": {},
   "outputs": [],
   "source": [
    "spd = {(0, 0): ['print head', 'print budget', 'save head', 'save budget']}\n",
    "oc = flopy.modflow.ModflowOc(mf, stress_period_data=spd, compact=True)"
   ]
  },
  {
   "cell_type": "code",
   "execution_count": null,
   "metadata": {},
   "outputs": [],
   "source": [
    "print(type(spd), type(oc), sep='\\n')"
   ]
  },
  {
   "cell_type": "code",
   "execution_count": null,
   "metadata": {},
   "outputs": [],
   "source": [
    "print(spd)"
   ]
  },
  {
   "cell_type": "code",
   "execution_count": null,
   "metadata": {},
   "outputs": [],
   "source": [
    "print(oc)"
   ]
  },
  {
   "cell_type": "markdown",
   "metadata": {},
   "source": [
    "## Paso 6. Algoritmo de solución\n",
    "\n",
    "Definición del algoritmo de solución. En este caso se usa *Preconditioned Conjugate Gradient Package* \n",
    "(<a href=\"https://modflowpy.github.io/flopydoc/mfpcg.html\">mfpcg</a>). En este caso se usarán todos los valores por omisión."
   ]
  },
  {
   "cell_type": "code",
   "execution_count": null,
   "metadata": {},
   "outputs": [],
   "source": [
    "pcg = flopy.modflow.ModflowPcg(mf)"
   ]
  },
  {
   "cell_type": "code",
   "execution_count": null,
   "metadata": {},
   "outputs": [],
   "source": [
    "type(pcg)"
   ]
  },
  {
   "cell_type": "code",
   "execution_count": null,
   "metadata": {},
   "outputs": [],
   "source": [
    "print(pcg)"
   ]
  },
  {
   "cell_type": "markdown",
   "metadata": {},
   "source": [
    "## Paso 7. Escritura de datos de entrada\n",
    "\n",
    "Escribir los datos de entrada del modelo en un archivo se logra de la manera siguiente:"
   ]
  },
  {
   "cell_type": "code",
   "execution_count": null,
   "metadata": {},
   "outputs": [],
   "source": [
    "mf.write_input()"
   ]
  },
  {
   "cell_type": "markdown",
   "metadata": {},
   "source": [
    "## Paso 8. Ejecución del modelo\n",
    "\n",
    "El objeto del modelo, en este caso `mf`, tiene un método para ejecutar el modelo. Para que esto funcione, el ejecutable de MODFLOW debe estar localizado dentro de una ruta accesible. En este caso, la ruta completa al ejecutable está identificada con `mf2005_exe`."
   ]
  },
  {
   "cell_type": "code",
   "execution_count": null,
   "metadata": {},
   "outputs": [],
   "source": [
    "success, buff = mf.run_model()"
   ]
  },
  {
   "cell_type": "code",
   "execution_count": 5,
   "metadata": {},
   "outputs": [
    {
     "name": "stdout",
     "output_type": "stream",
     "text": [
      "<class 'flopy.utils.binaryfile.HeadFile'>\n",
      "<class 'numpy.ndarray'>\n"
     ]
    }
   ],
   "source": [
    "# Se importa la herramienta para leer los archivos binarios.\n",
    "import flopy.utils.binaryfile as bf\n",
    "\n",
    "# Lectura de la salida de MODFLOW\n",
    "hds = bf.HeadFile(modelname+'.hds')\n",
    "head = hds.get_data()#totim=1.0)\n",
    "\n",
    "# Alternativamente se puede usar lo siguiente para leer los datos\n",
    "#times = hds.get_times()\n",
    "#head = hds.get_data(totim=times[-1])\n",
    "\n",
    "print(type(hds), type(head), sep='\\n')"
   ]
  },
  {
   "cell_type": "code",
   "execution_count": 6,
   "metadata": {},
   "outputs": [
    {
     "name": "stdout",
     "output_type": "stream",
     "text": [
      "[[[   0.           22.28474113   39.88772925   54.21897292   66.16171815\n",
      "     76.30942325   85.04555747   92.54708945   98.91380785  104.22900766\n",
      "    108.571322    112.00662493  114.57583707  116.29196868  117.15249252]\n",
      "  [   0.           21.89827766   39.1967694    53.29193958   65.06051892\n",
      "     75.1070954    83.84585473   91.37668838   97.76248783  103.08142556\n",
      "    107.42063446  110.8578657   113.43970131  115.17194278  116.04312901]\n",
      "  [   0.           21.09882573   37.77525411   51.4007966    62.82570348\n",
      "     72.66117682   81.44623088   89.05005036   95.47252046  100.79177011\n",
      "    105.1159766   108.55135073  111.16168182  112.93094855  113.82637874]\n",
      "  [   0.           19.81690866   35.5215277    48.46542152   59.43188776\n",
      "     68.95665935   77.8952742    85.60990076   92.07196705   97.37315413\n",
      "    101.65326089  105.0680019   107.73234313  109.56927669  110.50808313]\n",
      "  [   0.           17.89567483   32.19482057   44.29142913   54.90587663\n",
      "     64.48249298   73.36334832   81.1132434    87.59216313   92.84668362\n",
      "     97.03948942  100.38166873  103.1484804   105.09266292  106.1005549 ]\n",
      "  [   0.           15.00825453   27.2355076    38.24392844   48.49451559\n",
      "     58.21886437   67.4559817    75.44674954   82.02252823   87.23131993\n",
      "     91.33248849   94.50395322   97.4470402    99.51054646  100.62173992]\n",
      "  [   0.           10.55719445   19.57995753   29.33989089   39.28828511\n",
      "     49.40588387   59.97278556   68.56277191   75.37206957   80.48226222\n",
      "     84.66136332   87.8493868    90.75626898   92.77344479   94.08705367]\n",
      "  [   0.            3.48125483    6.93552621   16.12784314   26.01199934\n",
      "     36.48265201   51.28407956   60.58407808   67.77713939   72.18483423\n",
      "     76.72127448   79.43112499   82.75510984   84.43055072   86.5507426 ]\n",
      "  [   0.            9.51029724   17.46466648   26.02358784   34.46453308\n",
      "     42.46540818   49.65907977   51.5488596    60.12521883   60.92280688\n",
      "     68.01432394   67.77031086   73.88667553   72.99979233   78.64313577]\n",
      "  [   0.           13.03202593   23.30740847   32.15215012   39.75258213\n",
      "     45.95876147   50.38410276   52.56840978   57.31775213   59.53786307\n",
      "     63.85654193   65.56391766   69.31829979   70.5479993    73.74532771]\n",
      "  [   0.           15.13449076   26.77512654   35.98852657   43.14955112\n",
      "     48.17592676   50.45916649   48.10701587   54.20996785   53.21639298\n",
      "     59.56227363   58.55529718   64.59445561   63.4339332    69.4268634 ]\n",
      "  [   0.           16.42527326   28.92912499   38.48597999   45.54264189\n",
      "     50.18111818   52.28338821   52.24763146   55.27740717   56.26064872\n",
      "     59.75724227   60.87762935   64.27520961   65.25692524   68.38576888]\n",
      "  [   0.           17.22837501   30.29687701   40.15293045   47.28162198\n",
      "     51.80799611   53.39219635   50.40259331   55.55084243   53.92070659\n",
      "     59.54023104   58.11819623   63.64460732   62.19359835   67.81020959]\n",
      "  [   0.           17.7078248    31.13534651   41.24150115   48.58507907\n",
      "     53.49222934   56.20787729   57.29987276   59.68446733   60.96619436\n",
      "     63.48821015   64.79190881   67.17680409   68.2147706    70.11759493]\n",
      "  [   0.           17.93537942   31.54176956   41.79352413   49.29877576\n",
      "     54.49542056   57.83089629   60.00138253   62.10709374   63.89493606\n",
      "     65.88323318   67.56648525   69.34023532   70.62305431   71.67693927]]\n",
      "\n",
      " [[   0.           11.35052405   19.43268759   24.85149239   28.36820139\n",
      "     31.71793298   37.54679557   43.53573262   48.37406915   52.01693265\n",
      "     55.01565797   57.9366485    60.81765867   63.17403693   64.49440303]\n",
      "  [   0.           10.86141028   18.16412003   21.99951188   22.5121627\n",
      "     22.28942534   31.29078793   39.80897339   45.5738163    49.13812377\n",
      "     51.75026351   54.65927967   58.08726266   61.05385554   62.72903322]\n",
      "  [   0.           10.04844779   15.9543571    16.40812952    8.35885451\n",
      "     -8.40777417   16.43130062   32.63384188   40.4309608    43.41408309\n",
      "     44.58362455   47.10691711   52.1491187    56.769254     59.33303066]\n",
      "  [   0.            9.30215107   13.95331886   10.5391583   -13.99224049\n",
      "   -110.99457323   -6.68674186   24.91878414   34.58704133   35.25725539\n",
      "     31.98716159   31.92082765   41.77157299   50.32075377   54.68766718]\n",
      "  [   0.            9.05573634   14.18612063   14.14929886    5.79670434\n",
      "    -11.31677727   12.7430397    27.26092413   31.40233377   26.47794968\n",
      "     12.06987197   -2.543299     24.77932666   42.24756977   49.70927118]\n",
      "  [   0.            8.89721187   14.69999841   17.67610686   17.75413098\n",
      "     17.0636089    24.93614479   30.94087539   31.32183566   22.59364974\n",
      "     -6.64696162 -103.86029219    2.33466054   35.5957214    46.29263894]\n",
      "  [   0.            8.53751582   14.57088287   19.10542392   22.50925363\n",
      "     25.73767186   30.48074881   33.96815671   34.25432805   29.55670121\n",
      "     17.55077513   -0.7961525    23.87183052   39.9359735    46.84838822]\n",
      "  [   0.            8.21058994   14.21315487   19.47826585   24.1440485\n",
      "     28.51691521   32.92847808   36.03191489   37.2965745    36.16289989\n",
      "     33.03909278   30.46042737   37.9308914    44.89786655   48.64908016]\n",
      "  [   0.            9.31891253   16.15103913   21.86487374   26.83480178\n",
      "     31.19641084   34.92091479   37.54435316   39.51325893   40.15128278\n",
      "     40.50964298   41.20260861   44.66244497   47.94527609   50.17068356]\n",
      "  [   0.           10.52932075   18.19327321   24.30779085   29.36956904\n",
      "     33.53919481   36.83758556   39.28906525   41.40916113   42.87340276\n",
      "     44.31547242   45.79192032   48.03038245   50.00379506   51.40774049]\n",
      "  [   0.           11.52580052   19.86468299   26.32576415   31.46372074\n",
      "     35.48826766   38.48204606   40.62128269   42.84402925   44.47620017\n",
      "     46.34167831   47.85941815   49.7672975    51.13606026   52.31945752]\n",
      "  [   0.           12.27686057   21.12811517   27.88087515   33.1297984\n",
      "     37.14080884   40.08469174   42.27155439   44.41202114   46.18449624\n",
      "     48.03923413   49.60030622   51.23294469   52.41947541   53.34238121]\n",
      "  [   0.           12.81097235   22.03284826   29.02045299   34.39941381\n",
      "     38.4714017    41.42821958   43.54975724   45.77846087   47.50059775\n",
      "     49.41950421   50.85692377   52.43566938   53.41961122   54.32904937]\n",
      "  [   0.           13.15561237   22.62218524   29.78261422   35.29295671\n",
      "     39.49991721   42.65812299   45.0868212    47.2785226    49.14300348\n",
      "     50.92868014   52.42609133   53.79888068   54.77433499   55.43980043]\n",
      "  [   0.           13.32537959   22.91477323   30.16844486   35.76101767\n",
      "     40.06520885   43.36323901   45.95983675   48.17900859   50.1016265\n",
      "     51.84261668   53.3457846    54.63226391   55.57573205   56.1328529 ]]\n",
      "\n",
      " [[  10.69567641   12.26240894   14.21705562   16.00974745   17.62188519\n",
      "     19.46713722   21.94690364   24.51542653   26.69001046   28.53312174\n",
      "     30.60336812   33.42107143   36.53763274   39.16506632   40.65068203]\n",
      "  [  10.55503406   11.99607812   13.68359204   15.0114012    15.95592711\n",
      "     17.19918092   19.77815822   22.37332063   24.13027077   25.17480714\n",
      "     26.60093459   29.85346553   33.7894201    37.10568568   38.95713353]\n",
      "  [  10.38068699   11.63456494   12.91242928   13.46459079   13.11707806\n",
      "     12.91680434   16.05821361   18.74467711   19.42380984   18.23979723\n",
      "     17.41885803   22.29499731   28.42118582   33.318034     35.94544267]\n",
      "  [  10.33655596   11.46054634   12.46137839   12.4249826    10.76542014\n",
      "      8.13602276   12.7434712    15.27147771   13.77954363    7.58514633\n",
      "     -1.08226124   10.17822823   21.11857039   28.67299397   32.44281047]\n",
      "  [  10.5466444    11.69747113   12.84862925   13.25998376   12.68461825\n",
      "     12.002475     14.09886636   14.53191236   10.0634092    -4.28610618\n",
      "    -43.9205301    -4.51740239   14.44814373   24.92619533   29.74400818]\n",
      "  [  11.01212725   12.28629524   13.79735096   14.96312888   15.6289821\n",
      "     16.19962607   17.29838396   16.99669511   13.38309802    5.02567741\n",
      "     -6.5950681     0.96133828   14.88772461   24.53012192   29.20097766]\n",
      "  [  11.67172691   13.09010916   14.970997     16.80446764   18.38520135\n",
      "     19.75346508   20.8799801    20.91416227   19.05477921   15.25839056\n",
      "     11.56016281   14.04631864   21.28503953   27.63017982   31.04990842]\n",
      "  [  12.46917504   14.03842989   16.24540849   18.59174853   20.8040162\n",
      "     22.75115785   24.27380607   24.98466184   24.63685953   23.48650177\n",
      "     22.732263     24.35773158   28.23103187   32.01487979   34.21209772]\n",
      "  [  13.35992481   15.12607231   17.6514255    20.39489908   23.04261889\n",
      "     25.40457583   27.32546778   28.64085214   29.33353325   29.62830774\n",
      "     30.15041252   31.60762094   33.97316345   36.26848057   37.64656869]\n",
      "  [  14.26584971   16.22879713   19.03937352   22.09780643   25.06135958\n",
      "     27.72681358   29.96991036   31.73261189   33.07081673   34.13972023\n",
      "     35.25222799   36.66984501   38.36028373   39.88240594   40.78924163]\n",
      "  [  15.11093946   17.2438233    20.29227836   23.60092869   26.80377113\n",
      "     29.69642394   32.17905769   34.2413409    35.96562214   37.44303749\n",
      "     38.84050177   40.24297089   41.62637442   42.76210013   43.42294723]\n",
      "  [  15.83793614   18.10568139   21.34200067   24.84654733   28.23504542\n",
      "     31.30380717   33.9681567    36.23741262   38.19017225   39.88855071\n",
      "     41.42361385   42.81963607   44.05468668   45.00014519   45.53129618]\n",
      "  [  16.40891118   18.77614157   22.15201372   25.80363746   29.33342217\n",
      "     32.53733544   35.33681095   37.74542802   39.83952335   41.65791964\n",
      "     43.26368391   44.65318333   45.81548985   46.66325369   47.12931629]\n",
      "  [  16.80050952   19.23331586   22.70216395   26.4536579    30.08220476\n",
      "     33.38409247   36.28413551   38.79405416   40.97271469   42.86089635\n",
      "     44.49924224   45.88675756   47.00814462   47.80721534   48.23343333]\n",
      "  [  16.99936846   19.46480891   22.98033229   26.78276471   30.46287957\n",
      "     33.81725071   36.77171915   39.33490229   41.55560972   43.47609346\n",
      "     45.12837139   46.51454732   47.61768268   48.39507918   48.80291855]]]\n"
     ]
    }
   ],
   "source": [
    "print(head)"
   ]
  },
  {
   "cell_type": "code",
   "execution_count": 8,
   "metadata": {},
   "outputs": [],
   "source": [
    "# Importamos las herramientas de MATPLOTLIB\n",
    "import matplotlib.pyplot as plt\n",
    "%matplotlib inline"
   ]
  },
  {
   "cell_type": "code",
   "execution_count": 28,
   "metadata": {},
   "outputs": [
    {
     "data": {
      "text/plain": [
       "Text(0.5, 1.0, 'Capa 3')"
      ]
     },
     "execution_count": 28,
     "metadata": {},
     "output_type": "execute_result"
    },
    {
     "data": {
      "image/png": "[encoded data removed]",
      "text/plain": [
       "<Figure size 1080x432 with 6 Axes>"
      ]
     },
     "metadata": {
      "needs_background": "light"
     },
     "output_type": "display_data"
    }
   ],
   "source": [
    "levels = 50\n",
    "salto = 4\n",
    "plt.figure(figsize=(15,6))\n",
    "\n",
    "plt.subplot(131)\n",
    "plt.contourf(head[0, :, :], levels=levels)#, extent=extent, cmap=mapa_color)\n",
    "c1 = plt.contour(head[0, :, :], levels=int(levels/5), colors='black', linewidths=1.0)\n",
    "plt.clabel(c1, inline=1, fontsize=10)\n",
    "plt.gca().set_aspect('equal')\n",
    "plt.colorbar(cf, orientation='horizontal', label='$h$')\n",
    "plt.title('Capa 1')\n",
    "\n",
    "plt.subplot(132)\n",
    "plt.contourf(head[1, :, :], levels=levels)#, extent=extent, cmap=mapa_color)\n",
    "c2 = plt.contour(head[1, :, :], levels=int(levels/5), colors='black', linewidths=1.0)\n",
    "plt.clabel(c2, inline=1, fontsize=10)\n",
    "plt.gca().set_aspect('equal')\n",
    "plt.colorbar(cf, orientation='horizontal', label='$h$')\n",
    "plt.title('Capa 2')\n",
    "\n",
    "plt.subplot(133)\n",
    "plt.contourf(head[2, :, :], levels=levels)#, extent=extent, cmap=mapa_color)\n",
    "c3 = plt.contour(head[2, :, :], levels=int(levels/5), colors='black', linewidths=1.0)\n",
    "plt.clabel(c3, inline=1, fontsize=10)\n",
    "plt.gca().set_aspect('equal')\n",
    "plt.colorbar(cf, orientation='horizontal', label='$h$')\n",
    "plt.title('Capa 3')"
   ]
  },
  {
   "cell_type": "markdown",
   "metadata": {},
   "source": [
    "### Siguiente paso:\n",
    "\n",
    "Continuar con el ejercicio de visualización en: <a href=\"./MF2005-Vis1.ipynb\">MF2005-Vis1 </a>"
   ]
  },
  {
   "cell_type": "markdown",
   "metadata": {},
   "source": [
    "# Referencias útiles:\n",
    "\n",
    "<a href=https://modflowpy.github.io/flopydoc/tutorials.html>Flopy Tutorials</a>\n",
    "\n",
    "<a href=https://github.com/modflowpy/flopy>Github: Flopy</a>\n",
    "\n",
    "- <a href=https://github.com/modflowpy/flopy/tree/develop/examples/Notebooks>flopy/examples/Notebooks/</a>\n",
    "\n",
    "<a href=https://www2.hawaii.edu/~jonghyun/classes/S18/CEE696/>CEE 696: Optimization in Groundwater Engineering</a>\n"
   ]
  }
 ],
 "metadata": {
  "kernelspec": {
   "display_name": "Python 3",
   "language": "python",
   "name": "python3"
  },
  "language_info": {
   "codemirror_mode": {
    "name": "ipython",
    "version": 3
   },
   "file_extension": ".py",
   "mimetype": "text/x-python",
   "name": "python",
   "nbconvert_exporter": "python",
   "pygments_lexer": "ipython3",
   "version": "3.7.6"
  }
 },
 "nbformat": 4,
 "nbformat_minor": 2
}
