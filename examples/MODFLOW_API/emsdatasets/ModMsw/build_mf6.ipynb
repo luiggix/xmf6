{
 "cells": [
  {
   "cell_type": "markdown",
   "metadata": {},
   "source": [
    "# Creating the MODFLOW 6 model\n",
    "This notebook generates the input data for the groundwater model in the coupling with MetaSWAP."
   ]
  },
  {
   "cell_type": "code",
   "execution_count": null,
   "metadata": {},
   "outputs": [],
   "source": [
    "import flopy\n",
    "import os\n",
    "import numpy as np\n",
    "\n",
    "model_dir = os.path.join(os.getcwd(),\"mf6_data\")\n",
    "model_name = 'hooghoudt'"
   ]
  },
  {
   "cell_type": "markdown",
   "metadata": {},
   "source": [
    "Set the model parameters:"
   ]
  },
  {
   "cell_type": "code",
   "execution_count": null,
   "metadata": {},
   "outputs": [],
   "source": [
    "# tdis\n",
    "nper = 365\n",
    "tdis_rc = []\n",
    "for i in range(nper):\n",
    "    tdis_rc.append((1., 1, 1))\n",
    "\n",
    "# solver data\n",
    "nouter, ninner = 100, 300\n",
    "hclose, rclose, relax = 1e-9, 1e-3, 0.97\n",
    "\n",
    "# model spatial discretization\n",
    "nlay, nrow, ncol = 3, 9, 9\n",
    "\n",
    "# cell spacing\n",
    "delr = 10.0\n",
    "delc = 10.0\n",
    "area = delr * delc\n",
    "\n",
    "# top/bot of the aquifer\n",
    "tops = [0.0, -5.0, -25.0, -325.0]\n",
    "\n",
    "# hydraulic conductivity\n",
    "hk = [10., 0.001, 1.0]\n",
    "\n",
    "# boundary heads\n",
    "h_left = -1.5\n",
    "h_right = -1.5\n",
    "ghb_cond = 0.5\n",
    "\n",
    "# initial head\n",
    "h_start = -1.2"
   ]
  },
  {
   "cell_type": "markdown",
   "metadata": {},
   "source": [
    "Now generate the boundary data, we use GHB to artificially place the edge of the domain further away and have an increased effect on the bulging behavior of the groundwater table:"
   ]
  },
  {
   "cell_type": "code",
   "execution_count": null,
   "metadata": {},
   "outputs": [],
   "source": [
    "left_ghb = [[(ilay,irow,0), h_left, ghb_cond] for ilay in range(nlay) for irow in range(nrow)]\n",
    "right_ghb = [[(ilay,irow,ncol-1), h_right, ghb_cond] for ilay in range(nlay) for irow in range(nrow)]\n",
    "ghb_data = left_ghb + right_ghb\n",
    "ghb_spd = {0: ghb_data}"
   ]
  },
  {
   "cell_type": "markdown",
   "metadata": {},
   "source": [
    "The following data are placeholders into which the coupled MetaSWAP variables will be set. Their actual value is not relevant here."
   ]
  },
  {
   "cell_type": "code",
   "execution_count": null,
   "metadata": {},
   "outputs": [],
   "source": [
    "# placeholder recharge data for MetaSWAP coupling,\n",
    "# no coupling to MSW on the boundary\n",
    "rch_spd = {}\n",
    "rch_arr = [[(0,irow,icol), 0.0] for irow in range(nrow) for icol in range(1,ncol-1)]\n",
    "rch_spd[0] = rch_arr\n",
    "\n",
    "# single well for irrigation extraction\n",
    "wel_spd = {}\n",
    "wel_data = [[(2, 2, 4), 0.0]]\n",
    "wel_spd[0] = wel_data"
   ]
  },
  {
   "cell_type": "markdown",
   "metadata": {},
   "source": [
    "Now we can use the Flopy toolchain to generate the model:"
   ]
  },
  {
   "cell_type": "code",
   "execution_count": null,
   "metadata": {},
   "outputs": [],
   "source": [
    "sim = flopy.mf6.MFSimulation(sim_name=\"mfsim\", version='mf6',\n",
    "                                 exe_name='mf6',\n",
    "                                 sim_ws=model_dir, memory_print_option='all')\n",
    "# create tdis package\n",
    "\n",
    "tdis = flopy.mf6.ModflowTdis(sim, time_units='DAYS',\n",
    "                             nper=nper, perioddata=tdis_rc)\n",
    "\n",
    "# create iterative model solution and register the gwf model with it\n",
    "ims = flopy.mf6.ModflowIms(sim,\n",
    "                           print_option='SUMMARY',\n",
    "                           outer_hclose=hclose,\n",
    "                           outer_maximum=nouter,\n",
    "                           under_relaxation='DBD',\n",
    "                           inner_maximum=ninner,\n",
    "                           inner_hclose=hclose, rcloserecord=rclose,\n",
    "                           linear_acceleration='BICGSTAB',\n",
    "                           relaxation_factor=relax)\n",
    "\n",
    "# create gwf model\n",
    "gwf = flopy.mf6.ModflowGwf(sim, modelname=model_name, save_flows=True)\n",
    "\n",
    "dis = flopy.mf6.ModflowGwfdis(gwf, nlay=nlay, nrow=nrow, ncol=ncol,\n",
    "                              delr=delr, delc=delc,\n",
    "                              top=tops[0], botm=tops[1:])\n",
    "\n",
    "# initial conditions\n",
    "ic = flopy.mf6.ModflowGwfic(gwf, strt=h_start)\n",
    "\n",
    "# node property flow\n",
    "npf = flopy.mf6.ModflowGwfnpf(gwf, save_flows=True,\n",
    "                              icelltype=0,\n",
    "                              k=hk)\n",
    "\n",
    "# ghb file\n",
    "ghb = flopy.mf6.ModflowGwfghb(gwf, stress_period_data=ghb_spd)\n",
    "\n",
    "# recharge file\n",
    "rch = flopy.mf6.ModflowGwfrch(gwf, stress_period_data=rch_spd, pname='RCH_MSW')\n",
    "\n",
    "# well for sprinkling to MSW\n",
    "wel = flopy.mf6.ModflowGwfwel(gwf, stress_period_data=wel_spd, pname='WELLS_MSW')\n",
    "\n",
    "# storage, iconvert=0 means confined\n",
    "sto = flopy.mf6.ModflowGwfsto(gwf, iconvert=0, ss=[0., 1.e-5, 1.e-5], transient={0: True})\n",
    "\n",
    "# output control\n",
    "oc = flopy.mf6.ModflowGwfoc(gwf,\n",
    "                            head_filerecord='{}.hds'.format(model_name),\n",
    "                            headprintrecord=[\n",
    "                                ('COLUMNS', 10, 'WIDTH', 15,\n",
    "                                 'DIGITS', 6, 'GENERAL')],\n",
    "                            saverecord=[('HEAD', 'ALL')],\n",
    "                            printrecord=[('BUDGET', 'ALL')])\n",
    "\n",
    "sim.write_simulation()\n"
   ]
  }
 ],
 "metadata": {
  "kernelspec": {
   "display_name": "Python 3 (ipykernel)",
   "language": "python",
   "name": "python3"
  },
  "language_info": {
   "codemirror_mode": {
    "name": "ipython",
    "version": 3
   },
   "file_extension": ".py",
   "mimetype": "text/x-python",
   "name": "python",
   "nbconvert_exporter": "python",
   "pygments_lexer": "ipython3",
   "version": "3.13.2"
  }
 },
 "nbformat": 4,
 "nbformat_minor": 4
}
