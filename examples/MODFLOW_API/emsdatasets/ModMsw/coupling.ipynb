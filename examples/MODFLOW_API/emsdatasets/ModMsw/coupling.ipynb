{
 "cells": [
  {
   "cell_type": "markdown",
   "metadata": {
    "tags": []
   },
   "source": [
    "# Coupling MetaSWAP to MODFLOW 6 with BMI\n",
    "This notebook can be used to reproduce published results for the coupling of MetaSWAP and MODFLOW 6, as reported in the MODFLOW 6 API paper (in progress).\n",
    "\n",
    "MetaSWAP is a model for hydrologic processes in the unsaturated zone. Instead of doing a full solve of Richard's equation for each iteration in the coupling, it uses preprocessed steady state profiles for the moisture content. This way regional- and national-scale simulations are still relatively efficient and sufficiently detailed to account for the vertical processes such as capillary rise. More information on MetaSWAP (or SIMGRO, of which it is a component) can be found in \"Quasi Steady‐State Simulation of the Unsaturated Zone in Groundwater Modeling of Lowland Regions\" (https://doi.org/10.2136/vzj2007.0146) A coupling to MODFLOW 2005 already exists and is documented in \"Integration of models using shared state variables: Implementation in the regional hydrologic modelling system SIMGRO\" (https://doi.org/10.1016/j.jhydrol.2011.08.036). Note: the newly developed coupling to MODFLOW 6 does not conceptually differ from the latter.\n",
    "\n",
    "## Supported operating systems\n",
    "MetaSWAP is only available for the Windows operating system\n",
    "\n",
    "## Prerequisites\n",
    "To run the simulation and process the results, the following publicly available software and data are required:\n",
    "\n",
    "* __libmf6.dll__ pre-compiled and available from https://github.com/MODFLOW-USGS/executables we have used version 6.2.2 for the results in the paper\n",
    "* __MetaSWAP.dll__ (+3rd party dlls) pre-compiled available from the iMOD 5.2 release here: https://oss.deltares.nl/nl/web/imod. (NB: the MODFLOW 6 dll that comes with that release should be replaced with the version mentioned above)\n",
    "* __imod_coupler__ is the coupling between MODFLOW 6 and MetaSWAP, sources are at https://github.com/Deltares/imod_coupler and it can be installed from pypi. Use version 0.10.0 to reproduce the published results\n",
    "* __MetaSWAP database__ is the preprocessed table with steady-state moisture content profiles. It can be downloaded from the Wageningen ftp server: ftp://ftp.wur.nl/simgro/unsa/. We have used version 'LHM2018_v02vrz_BOFEK2012' for this simulation. Note that the database is large, many GBs, but it can be easily stripped from soil types not used in the simulation, reducing its size to roughly 200MB. For this case this would mean keeping the top-level directory '[1]' and discarding everything else.\n",
    "\n",
    "Next to imod_coupler and its dependencies, you need to install the following Python packages from PyPi:\n",
    "* __matplotlib__ a Python package required to generate the figures\n",
    "* __pandas__ for storing the timeseries data below\n",
    "* __flopy__ version 3.3.4 which works with the MODFLOW version mentioned above\n",
    "\n",
    "## Model data and description\n",
    "In summary, the coupled system is a 9x9 (3 layer) groundwater model, with boundary conditions (GHB) imposed on the cells in the first and last column and MetaSWAP cells coupled to all other MODFLOW cells:\n",
    "\n",
    "<div>\n",
    "<br/>\n",
    "<img src=\"./model.png\" width=\"400\">\n",
    "</div>\n",
    "\n",
    "The figure marks the cell with SVAT id = 32 for which we plot some of the data below.\n",
    "\n",
    "### MODFLOW 6\n",
    "The MODFLOW 6 model is created with flopy (https://github.com/modflowpy/flopy) and is documented in another [notebook](build_mf6.ipynb) in this repository. \n",
    "    \n",
    "### MetaSWAP\n",
    "\n",
    "The MetaSWAP model data has been generated with iMOD 5.2 (https://oss.deltares.nl/nl/web/imod) and the input data is available in this repository in the folder [msw_data](./msw_data). Some features of the model follow here: \n",
    "\n",
    "##### Geometry\n",
    "The extent of the model follows that of the groundwater model, except that the boundary colums have no matching MetaSWAP cell (SVAT). So the model has 63 horizontally independent SVATs covering the 9x7 MODFLOW cells in the top layer with all cell areas equal to 100 m$^2$. The soil surface sits at 0.0.\n",
    "\n",
    "##### Soil data\n",
    "The soil type is peat, type 1 of the BOFEK2012 specification for soil types (\"BOFEK2012, de nieuwe, bodemfysische schematisatie van Nederland\", Wageningen 2013, Alterra, Alterra-rapport 2387). Note the remark above: the database can be stripped from all other soil types to save disk space.\n",
    "\n",
    "##### Vegetation\n",
    "The land use type is agricultural with the crop species set to potatoes for all SVATs. Note that this has a relatively large seasonal transpiration rate. The irrigation period is set in the land use file [LUSE_SVAT.INP](./msw_data/LUSE_SVAT.INP) to run from day 150 to 240 for potatoes ('aardappelen'). \n",
    "\n",
    "##### Meteo\n",
    "The meteo data, daily precipitation and reference evapotranspiration (Makkink) for the year 2018, an exceptionally dry year, comes from the Dutch national weather service (KNMI) for the 'De Bilt' station: [KNMI_20181231.txt](./preprocess/KNMI_20181231.txt). The python script [print_rain.py](./preprocess/print_rain.py) converts it to the MetaSWAP input file format.\n",
    "\n",
    "\n",
    "### Coupling files: input for imod_coupler\n",
    "We use imod_coupler to run the coupled system. The connection between MODFLOW cells and MetaSWAP SVATs is configured in the following mapping files:\n",
    "\n",
    "* unsaturated zone flux from MetaSWAP to RCH: [rchindex2svat.dxc](./mf6_data/rchindex2svat.dxc)\n",
    "* irrigation from WEL to MetaSWAP: [wellindex2svat.dxc](./mf6_data/wellindex2svat.dxc)\n",
    "* storage coefficients (sc1) from MetaSWAP to STO: [nodenr2svat.dxc](./mf6_data/nodenr2svat.dxc)\n",
    "* groundwater head from MODFLOW to MetaSWAP: [nodenr2svat.dxc](./mf6_data/nodenr2svat.dxc)\n",
    "\n",
    "The MetaSWAP mapping from SVAT id (n,m) to an index in the exposed BMI arrays is generated from the file [mod2svat.inp](msw_data/mod2svat.inp)\n",
    "\n",
    "---\n",
    "**NOTE**\n",
    "\n",
    "The *.dxc mapping files are static, so when the model grid is changed, locations of the head boundaries are altered, or, say, the iDOMAIN parameter is set for some cells in the top layer, the files likely need to be modified accordingly by hand.\n",
    "\n",
    "---\n",
    "\n",
    "\n",
    "## Running the simulation\n",
    "\n",
    "We start by importing the necessary packages:"
   ]
  },
  {
   "cell_type": "code",
   "execution_count": null,
   "metadata": {},
   "outputs": [],
   "source": [
    "import os\n",
    "import matplotlib.pyplot as plt\n",
    "import numpy as np\n",
    "import pandas as pd\n",
    "\n",
    "from xmipy import XmiWrapper\n",
    "from imod_coupler.metamod import MetaMod"
   ]
  },
  {
   "cell_type": "markdown",
   "metadata": {},
   "source": [
    "## Setting up the coupled model\n",
    "\n",
    "First we wrap both MetaSWAP and MODFLOW 6 with the XmiWrapper using the paths to their kernel dll, the model data directories, and optionally a path for library dependencies:"
   ]
  },
  {
   "cell_type": "code",
   "execution_count": null,
   "metadata": {},
   "outputs": [],
   "source": [
    "# MetaSWAP\n",
    "msw_dll = os.path.abspath(\"./imod_coupler/MetaSWAP.dll\")\n",
    "msw_dll_dir = os.path.abspath(\"./imod_coupler\")\n",
    "msw_dir = os.path.abspath(\"./msw_data\")\n",
    "msw_kernel = XmiWrapper(\n",
    "    lib_path=msw_dll,\n",
    "    lib_dependency=msw_dll_dir,\n",
    "    working_directory=msw_dir\n",
    ")"
   ]
  },
  {
   "cell_type": "code",
   "execution_count": null,
   "metadata": {},
   "outputs": [],
   "source": [
    "# MODFLOW 6\n",
    "mf6_dll = os.path.abspath(\"./imod_coupler/libmf6.dll\")\n",
    "mf6_dir = os.path.abspath(\"./mf6_data\")\n",
    "mf6_kernel = XmiWrapper(\n",
    "    lib_path=mf6_dll,\n",
    "    working_directory=mf6_dir\n",
    ")"
   ]
  },
  {
   "cell_type": "markdown",
   "metadata": {},
   "source": [
    "The coupling is then instantiated as"
   ]
  },
  {
   "cell_type": "code",
   "execution_count": null,
   "metadata": {},
   "outputs": [],
   "source": [
    "# Set up the coupling\n",
    "metamod = MetaMod(mf6=mf6_kernel, msw=msw_kernel, timing=False)"
   ]
  },
  {
   "cell_type": "markdown",
   "metadata": {},
   "source": [
    "## Running the model\n",
    "The MetaMod coupling object then has a BMI itself and running the model is therefore as straightforward as calling the initialize, update, finalize sequence just as you would for a single, isolated kernel. However, to collect some data for the plots below, we have inserted a few more lines of code."
   ]
  },
  {
   "cell_type": "code",
   "execution_count": null,
   "metadata": {},
   "outputs": [],
   "source": [
    "# Data for plotting\n",
    "recharge = []\n",
    "storage = []\n",
    "head = []\n",
    "sprinkling = []\n",
    "times = []\n",
    "head_3d = None"
   ]
  },
  {
   "cell_type": "code",
   "execution_count": null,
   "metadata": {},
   "outputs": [],
   "source": [
    "# Initialize the coupling\n",
    "metamod.initialize()"
   ]
  },
  {
   "cell_type": "markdown",
   "metadata": {},
   "source": [
    "Now we can start the time loop and collect the data:"
   ]
  },
  {
   "cell_type": "code",
   "execution_count": null,
   "metadata": {},
   "outputs": [],
   "source": [
    "# Run the time loop\n",
    "start_time, current_time, end_time = metamod.get_times()\n",
    "while current_time < end_time:\n",
    "    current_time = metamod.update()\n",
    "    \n",
    "    # Add selected data\n",
    "    head.append(metamod.msw_head[32])                  # internal MetaSWAP groundwater head for svat (32,1)\n",
    "    recharge.append(metamod.mf6_recharge[31])          # the coupled recharge array from the RCH package, this is a volume\n",
    "    storage.append(metamod.mf6_storage[40])            # the storage coefficients array (sc1)   \n",
    "    sprinkling.append(metamod.mf6_sprinkling_wells[0]) # the sprinkling extraction from gw\n",
    "    times.append(current_time)                         # time (day nr.)\n",
    "    \n",
    "    # Snapshot of head when sprinkling to show extraction cone\n",
    "    if current_time == 151.0:\n",
    "        head_3d = metamod.mf6_head.reshape(3,9,9).copy()\n",
    "    \n",
    "print('**The simulation has finished**')"
   ]
  },
  {
   "cell_type": "code",
   "execution_count": null,
   "metadata": {},
   "outputs": [],
   "source": [
    "# Write timeseries data to file\n",
    "df_coupling = pd.DataFrame({'time': times, \n",
    "                            'head': head, \n",
    "                            'recharge': recharge, \n",
    "                            'storage': storage, \n",
    "                            'sprinkling': sprinkling})\n",
    "df_coupling.to_csv('./coupling_node41.csv', index=False)\n",
    "\n",
    "# Clean up the resources\n",
    "metamod.finalize()"
   ]
  },
  {
   "cell_type": "markdown",
   "metadata": {},
   "source": [
    "and we're done running the simulation, all that's remaining is postprocess and interpret our results."
   ]
  },
  {
   "cell_type": "markdown",
   "metadata": {},
   "source": [
    "## Results\n",
    "\n",
    "### Dynamics of the coupling\n",
    "\n",
    "To illustrate the dynamics of the coupling, we are going to generate a timeseries plot of the coupled variables for the centermost cell, i.e. (1,5,5). Let's start by reading some fo the results back from file:"
   ]
  },
  {
   "cell_type": "code",
   "execution_count": null,
   "metadata": {},
   "outputs": [],
   "source": [
    "# Load meteo input file\n",
    "rain = np.loadtxt(\"./msw_data/METE_SVAT.INP\")\n",
    "\n",
    "# Load coupling variables\n",
    "df_coupling = pd.read_csv(\"./coupling_node41.csv\")\n",
    "\n",
    "# Load MetaSWAP data\n",
    "df_msw = pd.read_csv(\"./msw_data/svat_dtgw_0000000032.csv\")\n",
    "df_msw.columns = df_msw.columns.str.replace(' ', '')"
   ]
  },
  {
   "cell_type": "markdown",
   "metadata": {},
   "source": [
    "Set uniform fig specs (USGS)"
   ]
  },
  {
   "cell_type": "code",
   "execution_count": null,
   "metadata": {},
   "outputs": [],
   "source": [
    "import sys\n",
    "sys.path.append('../common')\n",
    "from figspecs import USGSFigure\n",
    "\n",
    "fs = USGSFigure(figure_type=\"graph\")"
   ]
  },
  {
   "cell_type": "markdown",
   "metadata": {},
   "source": [
    "---\n",
    "**NOTE**\n",
    "\n",
    "The user specifies the recharge flux rate (L/T) in the RCH input file, inside MODFLOW 6 this is converted to a volumetric recharge rate (L$^{3}$/T). In the coupling, MetaSWAP provides 'vsim' which is a volume, and we divide that by the time step length (1.0 in this case) before it is assigned to the internal MODFLOW array. To compare this now more easily to the meteo data in the figure, we convert it back to a recharge flux rate in units (mm/d):\n",
    "\n",
    "---"
   ]
  },
  {
   "cell_type": "code",
   "execution_count": null,
   "metadata": {},
   "outputs": [],
   "source": [
    "rch_mm_per_day = 10.0*df_coupling['recharge']"
   ]
  },
  {
   "cell_type": "markdown",
   "metadata": {},
   "source": [
    "Now we can generate the plot used in the API paper. We use the data for the cell with SVAT id = 32"
   ]
  },
  {
   "cell_type": "code",
   "execution_count": null,
   "metadata": {},
   "outputs": [],
   "source": [
    "fig_width = 180 # mm\n",
    "fig_width = fig_width / 10 / 2.54 # inches\n",
    "fig_height = 0.6*fig_width\n",
    "#fig_width = 8\n",
    "#fig_height = 6\n",
    "fig, axs = plt.subplots(3, sharex=True, sharey=False, figsize=(fig_width, fig_height))\n",
    "box = dict(facecolor=\"none\", edgecolor=\"none\", pad=10, alpha=0.2)\n",
    "\n",
    "# top panel\n",
    "ln_rain = axs[0].plot(times, rain[:,2], label='rain', linewidth=0.75)\n",
    "axs[0].set_ylabel('rain(mm/d)', bbox=box)\n",
    "axs[0].set_xlim(1.0,365.0)\n",
    "axs[0].set_ylim(0.0,30.0)\n",
    "\n",
    "\n",
    "axs_ev = axs[0].twinx()\n",
    "#axs_ev.plot(times, rain[:,3], 'g', label='ET ref.')\n",
    "ln_tact = axs_ev.plot(times, -1.*df_msw['ETact(mm)'], 'red', label='$ET_{act}$', linewidth=0.75)\n",
    "axs_ev.set_ylim(0.0,15.0)\n",
    "fs.heading(axs[0], 'A')\n",
    "axs_ev.set_ylabel('$ET_{\\mathrm{act}}$ (mm/d)')\n",
    "\n",
    "# added these three lines\n",
    "lns = ln_rain + ln_tact\n",
    "labs = [l.get_label() for l in lns]\n",
    "axs[0].legend(lns, labs, loc=0)\n",
    "\n",
    "# 2nd panel\n",
    "axs[1].plot(times, rch_mm_per_day, label = 'recharge', linewidth=0.75)\n",
    "axs[1].set_ylabel('$q_{\\mathrm{rch}}$ (mm/d)', bbox=box)\n",
    "axs[1].set_ylim(-2.0,20.0)\n",
    "fs.heading(axs[1], 'B')\n",
    "\n",
    "axs_ins = plt.axes([0.5,0.47,0.2,0.1])\n",
    "axs_ins.plot(times, rch_mm_per_day, linewidth=0.75)\n",
    "cap_rise = [min(x,0.0) for x in 10.0*df_coupling['recharge']]\n",
    "axs_ins.fill_between(times, 0.0, cap_rise, color='lightgray', linewidth=0)\n",
    "axs_ins.set_xlim(130.0,165.0)\n",
    "axs_ins.set_ylim(-0.5,0.5)\n",
    "plt.sca(axs_ins)\n",
    "axs_ins.set_xticks([])\n",
    "\n",
    "\n",
    "axs[1].indicate_inset_zoom(axs_ins)\n",
    "\n",
    "# 3rd panel\n",
    "axs[2].plot(times, df_coupling['head'], label = 'head', linewidth=0.75)\n",
    "axs[2].set_ylabel('head (m)', bbox=box)\n",
    "axs[2].set_ylim(-1.65,-0.35)\n",
    "fs.heading(axs[2], 'C')\n",
    "\n",
    "plt.sca(axs[2])\n",
    "axs[2].set_xlim(1.0,365.0)\n",
    "axs[2].set_xlabel('time (d)')\n",
    "plt.xticks([1.0, 91.0, 182.0, 274.0, 366.0],\n",
    "           ['Jan \\'18','Apr \\'18','Jul \\'18','Oct \\'18','Jan \\'19'])\n",
    "axs[2].set_xticks([32.0, 60.0, 121.0, 152.0, 213.0, 244.0, 305.0, 335.0], minor=True)\n",
    "\n",
    "# align labels for y axis\n",
    "fig.align_ylabels(axs)\n",
    "\n",
    "fig.show()\n",
    "fig.savefig(\"coupling-mf6-msw.png\")"
   ]
  },
  {
   "cell_type": "markdown",
   "metadata": {},
   "source": [
    "### Extraction cone\n",
    "The following plot shows the extraction cone in the deepest layer which occurs when the MetaSWAP simulation starts pumping up groundwater for agricultural demand:"
   ]
  },
  {
   "cell_type": "code",
   "execution_count": null,
   "metadata": {},
   "outputs": [],
   "source": [
    "plt.imshow(head_3d[2, :, :])\n",
    "plt.show()"
   ]
  },
  {
   "cell_type": "markdown",
   "metadata": {},
   "source": [
    "### Transpiration and irrigation\n",
    "\n",
    "The following analysis shows the correlation between transpiration and irrigation"
   ]
  },
  {
   "cell_type": "code",
   "execution_count": null,
   "metadata": {},
   "outputs": [],
   "source": [
    "# Load MetaSWAP data for unit coupled to (1,5,5)\n",
    "df = pd.read_csv(\"./msw_data/svat_dtgw_0000000032.csv\")\n",
    "df.columns = df.columns.str.replace(' ', '')"
   ]
  },
  {
   "cell_type": "code",
   "execution_count": null,
   "metadata": {},
   "outputs": [],
   "source": [
    "plt.figure(figsize=(12,4))\n",
    "plt.plot(times, -1.*df_msw['Tact(mm)'], label=\"transpiration\")\n",
    "sprinkling_arr = np.array(sprinkling)\n",
    "plt.plot(times, -0.04*sprinkling_arr, label=\"irrigation extr (x0.04)\")\n",
    "plt.xticks([1.0, 91.0, 182.0, 274.0, 365.0],\n",
    "           ['Jan','Apr','Jul','Oct','Dec'])\n",
    "plt.xlim(91.0,274.0)\n",
    "plt.legend()"
   ]
  }
 ],
 "metadata": {
  "kernelspec": {
   "display_name": "Python 3 (ipykernel)",
   "language": "python",
   "name": "python3"
  },
  "language_info": {
   "codemirror_mode": {
    "name": "ipython",
    "version": 3
   },
   "file_extension": ".py",
   "mimetype": "text/x-python",
   "name": "python",
   "nbconvert_exporter": "python",
   "pygments_lexer": "ipython3",
   "version": "3.9.7"
  }
 },
 "nbformat": 4,
 "nbformat_minor": 4
}
