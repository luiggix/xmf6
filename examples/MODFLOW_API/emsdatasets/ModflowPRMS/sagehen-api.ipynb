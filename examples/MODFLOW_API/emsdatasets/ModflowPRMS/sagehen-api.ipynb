{
 "cells": [
  {
   "cell_type": "markdown",
   "metadata": {},
   "source": [
    "# MODFLOW API Paper\n",
    "\n",
    "## Coupling of MODFLOW to PRMS\n",
    "\n",
    "This notebook can be used to reproduce published results for the \"Coupling of MODFLOW to PRMS\" example, as reported in the MODFLOW 6 API paper (in progress).\n",
    "\n",
    "## Supported operating systems\n",
    "This example can be run on the following operating systems:\n",
    "\n",
    "* linux\n",
    "* macOS\n",
    "\n",
    "## Prerequisites\n",
    "To run the simulation, the following publicly available software and data are required:\n",
    "\n",
    "* __libmf6.so__ (linux or MacOS) pre-compiled shared object (so) and available from https://github.com/MODFLOW-USGS/modflow6-nightly-build. The operating specific pre-compiled dll/so should be installed in the `bin` subdirectory at the same level as the subdirectory containing this Jupyter Notebook (`../bin/`). \n",
    "* __modflowapi__ is an extension to xmipy. __modflowapi__ including an implementation of its abstract methods. The source is available at https://github.com/MODFLOW-USGS/modflowapi and the module can be installed from PyPI using `pip install modflowapi`. __xmipy__ is an extension to bmipy including an implementation of its abstract methods and the source is available at https://github.com/Deltares/xmipy.\n",
    "* __prms_surface__ and __prms_soil__ should be installed from the `csdms-stack` conda channel using `conda install -c csdms-stack prms_surface prms_soil`.\n",
    "* __pymt__, __pymt_prms_surface__, and __pymt_prms_soil__ should be installed from the `csdms-stack` conda channel using `conda install -c csdms-stack pymt pymt_prms_surface pymt_prms_soil`.\n",
    "* __flopy__ is a python package that can be used to build, run, and post-process MODFLOW 6 models. The source is available at https://github.com/modflowpy/flopy and the package can be installed from PyPI using `pip install flopy` or conda using `conda install flopy`.\n",
    "* __netCDF4__ which can be installed using PyPI (`pip install netCDF4`) or conda (`conda install netCDF4`).\n",
    "\n",
    "## Run the steady-state Sagehen MODFLOW 6 model\n",
    "\n",
    "* Run the `sagehen-mf6-steady-state.ipynb` notebook prior to running this notebook to build the run the steady-state Sagehen model and create the initial head dataset needed by this notebook.\n",
    "\n",
    "## Post-processing the results\n",
    "After the full simulation is completed, model results can be post-processed using the `sagehen-postprocess-graphs.ipynb` and `sagehen-postprocess-maps.ipynb` Jupyter notebooks. The full simulation takes 8-10 hours to complete.\n",
    "\n",
    "## Running the simulation\n",
    "\n",
    "We start by importing the necessary packages:"
   ]
  },
  {
   "cell_type": "code",
   "execution_count": null,
   "metadata": {},
   "outputs": [],
   "source": [
    "import os\n",
    "import sys\n",
    "import numpy as np\n",
    "import netCDF4 as nc\n",
    "from modflowapi import ModflowApi\n",
    "from pymt.models import PRMSSurface, PRMSSoil\n",
    "import prms_helpers # helper python script in the current directory. \n",
    "from pathlib import Path"
   ]
  },
  {
   "cell_type": "markdown",
   "metadata": {},
   "source": [
    "### Model name and workspace"
   ]
  },
  {
   "cell_type": "code",
   "execution_count": null,
   "metadata": {},
   "outputs": [],
   "source": [
    "name = \"sagehenmodel\"\n",
    "ws = os.path.join(\".\", name)\n",
    "print(Path(ws).exists(), os.getcwd())"
   ]
  },
  {
   "cell_type": "code",
   "execution_count": null,
   "metadata": {},
   "outputs": [],
   "source": [
    "if sys.platform == \"win32\":\n",
    "    mf6_dll = os.path.abspath('../bin/libmf6.dll')    \n",
    "else:\n",
    "    mf6_dll = os.path.abspath('../bin/libmf6.so')    "
   ]
  },
  {
   "cell_type": "code",
   "execution_count": null,
   "metadata": {},
   "outputs": [],
   "source": [
    "init_ws = os.path.abspath(os.getcwd())\n",
    "print(mf6_dll, os.path.isfile(mf6_dll), init_ws)"
   ]
  },
  {
   "cell_type": "markdown",
   "metadata": {},
   "source": [
    "### Read weights\n",
    "\n",
    "The weight matrix should have columns equal to the number of HRUs and rows equal to the number of UZF cells or number of SFR reaches.\n",
    "\n",
    "_UZF weights_"
   ]
  },
  {
   "cell_type": "code",
   "execution_count": null,
   "metadata": {},
   "outputs": [],
   "source": [
    "uz2 = np.load('weights.npz')\n",
    "print(uz2['uzfw'].shape, uz2['sfrw'].shape)\n",
    "uzfw = uz2['uzfw']"
   ]
  },
  {
   "cell_type": "markdown",
   "metadata": {},
   "source": [
    "_SFR weights_"
   ]
  },
  {
   "cell_type": "code",
   "execution_count": null,
   "metadata": {},
   "outputs": [],
   "source": [
    "sfrw = uz2['sfrw']"
   ]
  },
  {
   "cell_type": "markdown",
   "metadata": {},
   "source": [
    "_Number of UZF cells at the top of the model_"
   ]
  },
  {
   "cell_type": "code",
   "execution_count": null,
   "metadata": {},
   "outputs": [],
   "source": [
    "nuzf_infilt = uzfw.shape[0]\n",
    "print(\"number of UZF cells at the top of the model {}\".format(nuzf_infilt))"
   ]
  },
  {
   "cell_type": "markdown",
   "metadata": {},
   "source": [
    "### Function to map HRU values to MODFLOW 6 values"
   ]
  },
  {
   "cell_type": "code",
   "execution_count": null,
   "metadata": {},
   "outputs": [],
   "source": [
    "def hru2mf6(weights, values):\n",
    "    return weights.dot(values)"
   ]
  },
  {
   "cell_type": "markdown",
   "metadata": {},
   "source": [
    "### Run loosely coupled PRMS and MODFLOW 6 models\n",
    "\n",
    "#### Initialize PRMS components"
   ]
  },
  {
   "cell_type": "code",
   "execution_count": null,
   "metadata": {},
   "outputs": [],
   "source": [
    "# change to working directory\n",
    "os.chdir(ws)\n",
    "\n",
    "# create PRMS6 instance\n",
    "config_surf = 'prms6_surf.control'\n",
    "config_soil = 'prms6_soil.control'\n",
    "# run_dir is current working directory here\n",
    "run_dir = '.'\n",
    "msurf = PRMSSurface()\n",
    "msoil = PRMSSoil()\n",
    "msurf.initialize(config_surf, run_dir)\n",
    "msoil.initialize(config_soil, run_dir)"
   ]
  },
  {
   "cell_type": "markdown",
   "metadata": {},
   "source": [
    "#### Calculate multipliers for PRMS internal variables"
   ]
  },
  {
   "cell_type": "code",
   "execution_count": null,
   "metadata": {},
   "outputs": [],
   "source": [
    "m2ft = 3.28081\n",
    "in2m = 1. / (12. * m2ft)"
   ]
  },
  {
   "cell_type": "code",
   "execution_count": null,
   "metadata": {},
   "outputs": [],
   "source": [
    "fpth = os.path.join(\"prms_grid_v3-Copy1.nc\")\n",
    "ds = nc.Dataset(fpth)\n",
    "hru_area = ds[\"hru_area\"][:] # acres to m2\n",
    "acre2m2 = 43560. / (m2ft * m2ft)"
   ]
  },
  {
   "cell_type": "markdown",
   "metadata": {},
   "source": [
    "#### Create arrays to save results"
   ]
  },
  {
   "cell_type": "code",
   "execution_count": null,
   "metadata": {},
   "outputs": [],
   "source": [
    "ntimes = int(msoil.end_time)\n",
    "print(\"Number of days to simulate {}\".format(ntimes))\n",
    "time_out = np.zeros(\n",
    "    ntimes,\n",
    "    dtype=float,\n",
    ")\n",
    "ppt_out = np.zeros(\n",
    "    (ntimes, hru_area.shape[0]),\n",
    "    dtype=float,\n",
    ")\n",
    "actet_out = np.zeros(\n",
    "    (ntimes, hru_area.shape[0]),\n",
    "    dtype=float,\n",
    ") \n",
    "potet_out = np.zeros(\n",
    "    (ntimes, hru_area.shape[0]),\n",
    "    dtype=float,\n",
    ") \n",
    "soilinfil_out = np.zeros(\n",
    "    (ntimes, hru_area.shape[0]),\n",
    "    dtype=float,\n",
    ") \n",
    "runoff_out = np.zeros(\n",
    "    (ntimes, hru_area.shape[0]),\n",
    "    dtype=float,\n",
    ")        \n",
    "interflow_out = np.zeros(\n",
    "    (ntimes, hru_area.shape[0]),\n",
    "    dtype=float,\n",
    ") "
   ]
  },
  {
   "cell_type": "markdown",
   "metadata": {},
   "source": [
    "#### Initialize MODFLOW 6"
   ]
  },
  {
   "cell_type": "code",
   "execution_count": null,
   "metadata": {},
   "outputs": [],
   "source": [
    "# create MODFLOW 6 model instance\n",
    "mf6_config_file = os.path.join(ws, 'mfsim.nam')\n",
    "mf6 = ModflowApi(mf6_dll)\n",
    "\n",
    "# initialize the MODFLOW 6 model\n",
    "mf6.initialize(mf6_config_file)\n",
    "\n",
    "# MODFLOW 6 time loop\n",
    "current_time = mf6.get_current_time()\n",
    "end_time = mf6.get_end_time()\n",
    "print(f'MF current_time: {current_time}, PRMS current_time: {msoil.time}')\n",
    "print(f'MF end_time: {end_time}, PRMS end_time: {msoil.end_time}')"
   ]
  },
  {
   "cell_type": "markdown",
   "metadata": {},
   "source": [
    "#### Get pointers to MODFLOW 6 variables"
   ]
  },
  {
   "cell_type": "code",
   "execution_count": null,
   "metadata": {},
   "outputs": [],
   "source": [
    "# get pointer to UZF variables\n",
    "infilt = mf6.get_value_ptr(\n",
    "    mf6.get_var_address(\"SINF\", name.upper(), \"UZF-1\")\n",
    ")\n",
    "pet = mf6.get_value_ptr(\n",
    "    mf6.get_var_address(\"PET\", name.upper(), \"UZF-1\")\n",
    ")\n",
    "\n",
    "# get pointer to SFR variables\n",
    "runoff = mf6.get_value_ptr(\n",
    "    mf6.get_var_address(\"RUNOFF\", name.upper(), \"SFR-1\")\n",
    ")\n",
    "\n",
    "# print array sizes\n",
    "print(\"data shapes\\n\\tINFILT {}\\n\\tPET {}\\n\\tRUNOFF {}\".format(infilt.shape, pet.shape, runoff.shape))"
   ]
  },
  {
   "cell_type": "markdown",
   "metadata": {},
   "source": [
    "#### Run the models"
   ]
  },
  {
   "cell_type": "code",
   "execution_count": null,
   "metadata": {},
   "outputs": [],
   "source": [
    "# model time loop\n",
    "idx = 0\n",
    "tmax = 5844  # full simulation period = 5844\n",
    "while current_time < end_time:\n",
    "    if current_time > tmax:\n",
    "        break\n",
    "        \n",
    "    # write info to the screen\n",
    "    if current_time % 365. == 0.:\n",
    "        stdout_str = \"{:d}\\n\".format(1980 + int(current_time/365))\n",
    "        if idx > 0:\n",
    "            stdout_str = \"\\n\" + stdout_str\n",
    "    else:\n",
    "        stdout_str = \".\"\n",
    "    sys.stdout.write(stdout_str)\n",
    "\n",
    "    # run PRMS\n",
    "    prms_helpers.update_coupled(msurf, msoil)\n",
    "\n",
    "    # get PRMS ppt for output\n",
    "    hru_ppt = msurf.get_value('hru_ppt')\n",
    "    \n",
    "    # get PRMS soil recharge rate\n",
    "    soil_infil = msoil.get_value('ssres_in')\n",
    "    soil_infil += msoil.get_value('pref_flow_infil')\n",
    "\n",
    "    # get prms groundwater recharge\n",
    "    ssr_to_gw = msoil.get_value(\"ssr_to_gw\")\n",
    "    soil_to_gw = msoil.get_value(\"soil_to_gw\")\n",
    "    recharge = (ssr_to_gw + soil_to_gw)\n",
    "\n",
    "    # get prms unsatisfied potential et for UZF and groundwater\n",
    "    potet = msurf.get_value(\"potet\")\n",
    "    actet = msoil.get_value(\"hru_actet\")\n",
    "    unused_pet = (potet - actet)\n",
    "\n",
    "    # get prms runoff and interflow for output\n",
    "    sroff = msoil.get_value('sroff') * in2m * hru_area * acre2m2    \n",
    "    interflow = msoil.get_value(\"ssres_flow\") * in2m * hru_area * acre2m2\n",
    "\n",
    "    # get prms runoff \n",
    "    prms_ro = msoil.get_value(\"sroff\") \n",
    "    prms_ro += msoil.get_value(\"ssres_flow\")\n",
    "    prms_ro *= in2m * hru_area * acre2m2\n",
    "\n",
    "    # save PRMS results (converted to m3/d) \n",
    "    time_out[idx] = msoil.time\n",
    "    ppt_out[idx, :] = hru_ppt * in2m * hru_area * acre2m2\n",
    "    potet_out[idx, :] = potet * in2m * hru_area * acre2m2\n",
    "    actet_out[idx, :] = actet * in2m * hru_area * acre2m2\n",
    "    soilinfil_out[idx, :] = soil_infil * in2m * hru_area * acre2m2\n",
    "    runoff_out[idx,:] = sroff\n",
    "    interflow_out[idx,:] = interflow    \n",
    "    \n",
    "    # map runoff to SFR\n",
    "    v = hru2mf6(sfrw, prms_ro)\n",
    "    runoff[:] = v\n",
    "\n",
    "    # map groundwater recharge to MODFLOW\n",
    "    v = hru2mf6(uzfw, recharge) * in2m\n",
    "    infilt[:nuzf_infilt] = v\n",
    "\n",
    "    # map unused pet to MODFLOW\n",
    "    v = hru2mf6(uzfw, unused_pet) * in2m\n",
    "    pet[:nuzf_infilt] = v\n",
    "    \n",
    "    # run MODFLOW 6\n",
    "    mf6.update()\n",
    "\n",
    "    # update time\n",
    "    current_time = mf6.get_current_time()\n",
    "\n",
    "    # increment time step counter\n",
    "    idx += 1"
   ]
  },
  {
   "cell_type": "markdown",
   "metadata": {},
   "source": [
    "### Finalize models"
   ]
  },
  {
   "cell_type": "code",
   "execution_count": null,
   "metadata": {},
   "outputs": [],
   "source": [
    "# cleanup\n",
    "try:\n",
    "    mf6.finalize()\n",
    "    msurf.finalize()\n",
    "    msoil.finalize()\n",
    "    success = True\n",
    "except:\n",
    "    raise RuntimeError\n",
    "\n",
    "# change back to the starting directory\n",
    "os.chdir(init_ws)"
   ]
  },
  {
   "cell_type": "markdown",
   "metadata": {},
   "source": [
    "#### Save PRMS output"
   ]
  },
  {
   "cell_type": "code",
   "execution_count": null,
   "metadata": {},
   "outputs": [],
   "source": [
    "fpth = \"sagehenmodel/output/prms_output.npz\"\n",
    "np.savez_compressed(\n",
    "    fpth,\n",
    "    time=time_out, \n",
    "    ppt=ppt_out, \n",
    "    potet=potet_out, \n",
    "    actet=actet_out, \n",
    "    infil=soilinfil_out,\n",
    "    runoff=runoff_out,\n",
    "    interflow=interflow_out,\n",
    ")"
   ]
  }
 ],
 "metadata": {
  "kernelspec": {
   "display_name": "Python 3 (ipykernel)",
   "language": "python",
   "name": "python3"
  },
  "language_info": {
   "codemirror_mode": {
    "name": "ipython",
    "version": 3
   },
   "file_extension": ".py",
   "mimetype": "text/x-python",
   "name": "python",
   "nbconvert_exporter": "python",
   "pygments_lexer": "ipython3",
   "version": "3.13.2"
  }
 },
 "nbformat": 4,
 "nbformat_minor": 4
}
