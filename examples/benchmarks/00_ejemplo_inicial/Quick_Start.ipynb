{
 "cells": [
  {
   "cell_type": "markdown",
   "metadata": {},
   "source": [
    "# MFW 6 + flopy + matplotlib\n",
    "\n",
    "Autor: Luis M. de la Cruz\n"
   ]
  },
  {
   "cell_type": "markdown",
   "metadata": {},
   "source": [
    "## Paso 1. Importamos las bibliotecas\n",
    "Importamos todas las bibliotecas `os` (para acceso al sistema operativo), `numpy` para manejo de arreglos, `matplotlib` para graficación y `flopy`."
   ]
  },
  {
   "cell_type": "code",
   "execution_count": null,
   "metadata": {},
   "outputs": [],
   "source": [
    "# Cuando trabajas en MACTI, debes forzosamente instalar flopy como sigue \n",
    "# (descomenta la línea siguiente):\n",
    "!pip install flopy"
   ]
  },
  {
   "cell_type": "code",
   "execution_count": null,
   "metadata": {
    "tags": []
   },
   "outputs": [],
   "source": [
    "import os\n",
    "import numpy as np\n",
    "import matplotlib.pyplot as plt\n",
    "import flopy"
   ]
  },
  {
   "cell_type": "markdown",
   "metadata": {},
   "source": [
    "## Paso 2. Definimos la ruta de MODFLOW\n",
    "Definimos la ruta donde se encuentra el ejecutable de MODFLOW 6 y el nombre de la simulación."
   ]
  },
  {
   "cell_type": "code",
   "execution_count": null,
   "metadata": {
    "tags": []
   },
   "outputs": [],
   "source": [
    "ws = os.getcwd() # Ruta de donde estamos actualmente\n",
    "\n",
    "# A continuación modifica la línea correspondiente, de acuerdo con tu sistema\n",
    "# operativo y tu ambiente. La variable mf6_exe define la ruta del ejecutable \n",
    "# de MODFLOW6\n",
    "\n",
    "# WINDOWS\n",
    "#mf6_exe = 'C:\\\\Users\\\\luiggi\\\\Downloads\\\\mf6.4.2\\\\mf6.4.2_win64\\\\bin\\\\mf6.exe'\n",
    "\n",
    "# MAC \n",
    "#mf6_exe = '/Users/luiggi/GitSites/mf6.4.4_mac/bin/mf6'\n",
    "\n",
    "# LINUX (MACTI) \n",
    "mf6_exe = '../../mf6/bin/mf6'\n",
    "\n",
    "# Definimos el nombre de la simulación\n",
    "name = 'quick_start'\n",
    "\n",
    "print(' Ruta hacia el ejecutable de MODFLOW 6 : {} '.format(mf6_exe))\n",
    "print(' Nombre de esta simulación: {}'.format(name))"
   ]
  },
  {
   "cell_type": "markdown",
   "metadata": {},
   "source": [
    "## Paso 3. Objeto para la simulación\n",
    "Creamos un objeto de tipo `MFSimulation`"
   ]
  },
  {
   "cell_type": "code",
   "execution_count": null,
   "metadata": {
    "tags": []
   },
   "outputs": [],
   "source": [
    "sim  = flopy.mf6.MFSimulation(sim_name=name, sim_ws=ws, exe_name=mf6_exe)"
   ]
  },
  {
   "cell_type": "code",
   "execution_count": null,
   "metadata": {
    "tags": []
   },
   "outputs": [],
   "source": [
    "print(type(sim),'\\n')\n",
    "print(sim)"
   ]
  },
  {
   "cell_type": "markdown",
   "metadata": {},
   "source": [
    "## Paso 4. Objeto para el tiempo\n",
    "Creamos un objeto de tipo `ModflowTDis` para la discretización en el tiempo"
   ]
  },
  {
   "cell_type": "code",
   "execution_count": null,
   "metadata": {
    "tags": []
   },
   "outputs": [],
   "source": [
    "tdis = flopy.mf6.ModflowTdis(sim)"
   ]
  },
  {
   "cell_type": "code",
   "execution_count": null,
   "metadata": {
    "tags": []
   },
   "outputs": [],
   "source": [
    "print(type(tdis),'\\n')\n",
    "print(tdis)"
   ]
  },
  {
   "cell_type": "code",
   "execution_count": null,
   "metadata": {},
   "outputs": [],
   "source": [
    "# Escribo los datos definidos hasta ahora en los archivos correspondientes\n",
    "sim.write_simulation()"
   ]
  },
  {
   "cell_type": "markdown",
   "metadata": {},
   "source": [
    "## Paso 5. Objeto para la solución.\n",
    "\n",
    "Creamos un objeto de tipo `ModflowIms` para la solución iterativa"
   ]
  },
  {
   "cell_type": "code",
   "execution_count": null,
   "metadata": {
    "tags": []
   },
   "outputs": [],
   "source": [
    "ims  = flopy.mf6.ModflowIms(sim)"
   ]
  },
  {
   "cell_type": "code",
   "execution_count": null,
   "metadata": {
    "tags": []
   },
   "outputs": [],
   "source": [
    "print(type(ims), '\\n')\n",
    "print(ims)"
   ]
  },
  {
   "cell_type": "code",
   "execution_count": null,
   "metadata": {},
   "outputs": [],
   "source": [
    "# Escribo los datos definidos hasta ahora en los archivos correspondientes\n",
    "sim.write_simulation()"
   ]
  },
  {
   "cell_type": "markdown",
   "metadata": {},
   "source": [
    "## Paso 6. Objeto para el modelo de flujo\n",
    "Creamos un modelo de flujo usando `ModflowGwf`"
   ]
  },
  {
   "cell_type": "code",
   "execution_count": null,
   "metadata": {
    "tags": []
   },
   "outputs": [],
   "source": [
    "gwf  = flopy.mf6.ModflowGwf(sim, modelname=name, save_flows=True)"
   ]
  },
  {
   "cell_type": "code",
   "execution_count": null,
   "metadata": {
    "tags": []
   },
   "outputs": [],
   "source": [
    "print(type(gwf), '\\n')\n",
    "print(gwf)"
   ]
  },
  {
   "cell_type": "code",
   "execution_count": null,
   "metadata": {},
   "outputs": [],
   "source": [
    "# Escribo los datos definidos hasta ahora en los archivos correspondientes\n",
    "sim.write_simulation()"
   ]
  },
  {
   "cell_type": "markdown",
   "metadata": {},
   "source": [
    "## Paso 7. Objeto para la malla\n",
    "\n",
    "Creamos un objeto para la discretización espacial\n",
    "En Modflow 6 existen tres maneras:\n",
    "- DIS (ModflowGwfdis) - Structured discretization\n",
    "- DISV (ModflowGwfdisv) - Discretization with vertices\n",
    "- DISU (ModflowGwfdisu) - Unstructured discretization"
   ]
  },
  {
   "cell_type": "code",
   "execution_count": null,
   "metadata": {
    "tags": []
   },
   "outputs": [],
   "source": [
    "nrow = 10\n",
    "ncol = 10\n",
    "dis  = flopy.mf6.ModflowGwfdis(gwf, nrow=nrow, ncol=ncol)"
   ]
  },
  {
   "cell_type": "code",
   "execution_count": null,
   "metadata": {
    "tags": []
   },
   "outputs": [],
   "source": [
    "print(type(dis), '\\n')\n",
    "print(dis)"
   ]
  },
  {
   "cell_type": "code",
   "execution_count": null,
   "metadata": {},
   "outputs": [],
   "source": [
    "# Escribo los datos definidos hasta ahora en los archivos correspondientes\n",
    "sim.write_simulation()"
   ]
  },
  {
   "cell_type": "markdown",
   "metadata": {},
   "source": [
    "## Paso 8. Condiciones iniciales\n",
    "\n",
    "Creamos un objeto de tipo `ModflowGwfic` para las condiciones iniciales."
   ]
  },
  {
   "cell_type": "code",
   "execution_count": null,
   "metadata": {
    "tags": []
   },
   "outputs": [],
   "source": [
    "ic   = flopy.mf6.ModflowGwfic(gwf)"
   ]
  },
  {
   "cell_type": "code",
   "execution_count": null,
   "metadata": {},
   "outputs": [],
   "source": [
    "# Escribo los datos definidos hasta ahora en los archivos correspondientes\n",
    "sim.write_simulation()"
   ]
  },
  {
   "cell_type": "markdown",
   "metadata": {},
   "source": [
    "## Paso 9. Propiedades de los nodos\n",
    "\n",
    "Creamos un objeto de tipo `ModflowGwfnpf` para definir propiedades en los nodos y otro de tipo `ModflowGwfchd` para definir la carga constante"
   ]
  },
  {
   "cell_type": "code",
   "execution_count": null,
   "metadata": {},
   "outputs": [],
   "source": [
    "npf  = flopy.mf6.ModflowGwfnpf(gwf, save_specific_discharge=True)"
   ]
  },
  {
   "cell_type": "code",
   "execution_count": null,
   "metadata": {},
   "outputs": [],
   "source": [
    "print(type(npf),'\\n')\n",
    "print(npf)"
   ]
  },
  {
   "cell_type": "code",
   "execution_count": null,
   "metadata": {},
   "outputs": [],
   "source": [
    "# Escribo los datos definidos hasta ahora en los archivos correspondientes\n",
    "sim.write_simulation()"
   ]
  },
  {
   "cell_type": "code",
   "execution_count": null,
   "metadata": {
    "tags": []
   },
   "outputs": [],
   "source": [
    "xc = nrow-1\n",
    "yc = ncol-1\n",
    "chd  = flopy.mf6.ModflowGwfchd(gwf, stress_period_data=[[(0, 0, 0), 10.],\n",
    "                                                        [(0, int(xc/2), int(yc/2)), 2.5],\n",
    "                                                       [(0, xc, yc), 0.]])"
   ]
  },
  {
   "cell_type": "code",
   "execution_count": null,
   "metadata": {},
   "outputs": [],
   "source": [
    "print(xc, yc)"
   ]
  },
  {
   "cell_type": "code",
   "execution_count": null,
   "metadata": {},
   "outputs": [],
   "source": [
    "print(type(chd),'\\n')\n",
    "print(chd)"
   ]
  },
  {
   "cell_type": "code",
   "execution_count": null,
   "metadata": {},
   "outputs": [],
   "source": [
    "# Escribo los datos definidos hasta ahora en los archivos correspondientes\n",
    "sim.write_simulation()"
   ]
  },
  {
   "cell_type": "markdown",
   "metadata": {},
   "source": [
    "## Paso 10. Objeto para la salida.\n",
    "Creamos un objeto de tipo `ModflowGwfoc` para la salida de la simulación"
   ]
  },
  {
   "cell_type": "code",
   "execution_count": null,
   "metadata": {
    "tags": []
   },
   "outputs": [],
   "source": [
    "budget_file = name + '.bud'\n",
    "head_file = name + '.hds'\n",
    "\n",
    "oc = flopy.mf6.ModflowGwfoc(gwf,\n",
    "                            budget_filerecord=budget_file,\n",
    "                            head_filerecord=head_file,\n",
    "                            saverecord=[('HEAD', 'ALL'), ('BUDGET', 'ALL')])\n"
   ]
  },
  {
   "cell_type": "code",
   "execution_count": null,
   "metadata": {
    "tags": []
   },
   "outputs": [],
   "source": [
    "print(type(oc),'\\n')\n",
    "print(oc)"
   ]
  },
  {
   "cell_type": "markdown",
   "metadata": {},
   "source": [
    "## Paso 11. Archivos de entrada.\n",
    "Escribimos los datos de entrada para la simulación"
   ]
  },
  {
   "cell_type": "code",
   "execution_count": null,
   "metadata": {},
   "outputs": [],
   "source": [
    "# Escribo los datos definidos hasta ahora en los archivos correspondientes\n",
    "sim.write_simulation()"
   ]
  },
  {
   "cell_type": "markdown",
   "metadata": {},
   "source": [
    "## Paso 12. Ejecución\n",
    "Ejecutamos la simulación"
   ]
  },
  {
   "cell_type": "code",
   "execution_count": null,
   "metadata": {
    "tags": []
   },
   "outputs": [],
   "source": [
    "sim.run_simulation()"
   ]
  },
  {
   "cell_type": "markdown",
   "metadata": {},
   "source": [
    "## Paso 13. Recuperamos la salida.\n",
    "Realizamos la visualización"
   ]
  },
  {
   "cell_type": "code",
   "execution_count": null,
   "metadata": {
    "tags": []
   },
   "outputs": [],
   "source": [
    "# Obtenemos los resultados de la carga hidráulica\n",
    "head = flopy.utils.HeadFile(os.path.join(ws, head_file)).get_data()\n",
    "\n",
    "# Obtenemos los resultados del BUDGET\n",
    "bud  = flopy.utils.CellBudgetFile(os.path.join(ws, budget_file),\n",
    "                                  precision='double')\n",
    "\n",
    "# Obtenemos las velocidades\n",
    "spdis = bud.get_data(text='DATA-SPDIS')[0]\n",
    "qx, qy, qz = flopy.utils.postprocessing.get_specific_discharge(spdis, gwf)"
   ]
  },
  {
   "cell_type": "code",
   "execution_count": null,
   "metadata": {},
   "outputs": [],
   "source": [
    "# Verificamos el tipo y dimensiones de los arreglos donde\n",
    "# están almacenados la carga hidráulica, el BUDGET, y la velocidad.\n",
    "print('Head : ', type(head), head.shape)\n",
    "print('Budget : ', type(bud), bud.shape)\n",
    "print('qx : ', type(qx), qx.shape)\n",
    "print('qy : ', type(qy), qy.shape)\n",
    "print('qz : ', type(qz), qz.shape)"
   ]
  },
  {
   "cell_type": "markdown",
   "metadata": {},
   "source": [
    "## Paso 14. Visualización.\n",
    "\n",
    "Podemos usar las herramientas de visualización de flopy y combinarlas con herramientas de Matplotlib."
   ]
  },
  {
   "cell_type": "code",
   "execution_count": null,
   "metadata": {},
   "outputs": [],
   "source": [
    "fig, ax = plt.subplots(2,2, figsize=(10,10))\n",
    "ax[0,0].set_aspect('equal')\n",
    "ax[0,1].set_aspect('equal')\n",
    "ax[1,0].set_aspect('equal')\n",
    "ax[1,1].set_aspect('equal')\n",
    "\n",
    "# Dibujamos la malla (con flopy)\n",
    "pmv0 = flopy.plot.PlotMapView(gwf, ax=ax[0,0])\n",
    "pmv0.plot_grid(colors='dimgray', lw=0.5)\n",
    "\n",
    "# Dibujamos la carga hidráulica (con flopy)\n",
    "pmv1 = flopy.plot.PlotMapView(gwf, ax=ax[0,1])\n",
    "pmv1.plot_array(head)\n",
    "pmv1.contour_array(head, levels=10, colors='white', linewidths=1.)\n",
    "\n",
    "# Dibujamos la carga velocidad (con flopy)\n",
    "pmv2 = flopy.plot.PlotMapView(gwf, ax=ax[1,0])\n",
    "pmv2.plot_vector(qx, qy, normalize=False, color=\"k\")\n",
    "\n",
    "# Matplotlib para dibujar streamlines\n",
    "Lx = nrow\n",
    "Ly = ncol\n",
    "delc = Lx / ncol\n",
    "delr = Ly / nrow\n",
    "# Malla donde se dibuja la velocidad\n",
    "x = np.linspace(0, Lx, ncol)\n",
    "y = np.linspace(0, Ly, nrow)\n",
    "xg, yg = np.meshgrid(x,y)\n",
    "ax[1,1].streamplot(xg,yg,qx[0],qy[0], color='k')\n",
    "ax[1,1].set_xlim((0,Lx))\n",
    "ax[1,1].set_ylim(0,Ly)"
   ]
  },
  {
   "cell_type": "code",
   "execution_count": null,
   "metadata": {},
   "outputs": [],
   "source": []
  }
 ],
 "metadata": {
  "kernelspec": {
   "display_name": "Python 3 (ipykernel)",
   "language": "python",
   "name": "python3"
  },
  "language_info": {
   "codemirror_mode": {
    "name": "ipython",
    "version": 3
   },
   "file_extension": ".py",
   "mimetype": "text/x-python",
   "name": "python",
   "nbconvert_exporter": "python",
   "pygments_lexer": "ipython3",
   "version": "3.11.6"
  }
 },
 "nbformat": 4,
 "nbformat_minor": 4
}
