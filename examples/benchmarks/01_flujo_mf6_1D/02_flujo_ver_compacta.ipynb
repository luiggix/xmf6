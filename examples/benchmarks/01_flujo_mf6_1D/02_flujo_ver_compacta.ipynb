{
 "cells": [
  {
   "cell_type": "code",
   "execution_count": null,
   "id": "30b589d0-9b94-4b50-8d79-d2ceefe8e31b",
   "metadata": {},
   "outputs": [],
   "source": [
    "# Temporal, para agregar las rutas correctas\n",
    "%run ../../src/xmf6/ruta_temporal.py\n",
    "if not(src_path in sys.path[0]):\n",
    "    sys.path.insert(0, os.path.abspath(a_path + src_path)) "
   ]
  },
  {
   "cell_type": "code",
   "execution_count": null,
   "id": "c4d99c5f-1750-4b9b-a37f-5162887ae00f",
   "metadata": {},
   "outputs": [],
   "source": [
    "import os, sys\n",
    "import matplotlib.pyplot as plt\n",
    "import numpy as np\n",
    "import flopy\n",
    "import xmf6\n",
    "from flow_1D import build_gwf_1D, plot_flow_1D"
   ]
  },
  {
   "cell_type": "markdown",
   "id": "f4d0ad25-48c2-4939-830a-27d00cb52e7b",
   "metadata": {},
   "source": [
    "# Definición de parámetros de la simulación"
   ]
  },
  {
   "cell_type": "code",
   "execution_count": null,
   "id": "e92f8bf1-7ba6-4dc4-9573-8c1a8a4c0c4c",
   "metadata": {},
   "outputs": [],
   "source": [
    "mesh  = xmf6.MeshDis(\n",
    "    nrow = 1,    # Number of rows\n",
    "    ncol = 120,  # Number of columns\n",
    "    nlay = 1,    # Number of layers\n",
    "    row_length = 12.0,    # Length of system ($cm$)\n",
    "    column_length = 0.1,  # Length of system ($cm$)\n",
    "    top = 1.0,   # Top of the model ($cm$)\n",
    "    bottom = 0,  # Layer bottom elevation ($cm$)\n",
    ")\n",
    "xmf6.nice_print(mesh.get_dict(), 'Space discretization')\n",
    "\n",
    "tdis = xmf6.TDis(\n",
    "    perioddata = ((120, 1.0, 1.0),) # PERLEN, NSTP, TSMULT\n",
    ")\n",
    "xmf6.nice_print(tdis, 'Time discretization')\n",
    "    \n",
    "ml_units = {\n",
    "    \"time\": \"seconds\",\n",
    "    \"length\": \"centimeters\"\n",
    "}\n",
    "xmf6.nice_print(ml_units, 'Units')\n",
    "\n",
    "ph_par = dict(\n",
    "    specific_discharge = 0.1,  # Specific discharge ($cm s^{-1}$)\n",
    "    hydraulic_conductivity = 0.01,  # Hydraulic conductivity ($cm s^{-1}$)\n",
    "    source_concentration = 1.0  # Source concentration (unitless)\n",
    ")\n",
    "xmf6.nice_print(ph_par, 'Physical parameters')\n",
    "    \n",
    "os_par = dict(\n",
    "    ws = os.getcwd() + '/output', # Ruta de donde estamos actualmente\n",
    "    mf6_exe = '../../mf6/bin/mf6', # Ejecutable\n",
    "    flow_name = 'flow', # Nombre de la simulación\n",
    ")\n",
    "xmf6.nice_print(os_par, 'MODFLOW 6 environment')\n",
    "                 \n",
    "of_par = dict(\n",
    "    head_file = f\"{os_par['flow_name']}.hds\", \n",
    "    fbudget_file = f\"{os_par['flow_name']}.bud\",            \n",
    ")\n",
    "xmf6.nice_print(of_par, 'Output files')"
   ]
  },
  {
   "cell_type": "markdown",
   "id": "f6d9822e-7a05-4f39-9afb-d70f6cc397f5",
   "metadata": {},
   "source": [
    "# Construcción y ejecución de la simulación"
   ]
  },
  {
   "cell_type": "code",
   "execution_count": null,
   "id": "e8446f7d-b65c-4de1-81b3-1076e0df3ddb",
   "metadata": {},
   "outputs": [],
   "source": [
    "sim, gwf = build_gwf_1D(mesh, tdis, ph_par, ml_units, os_par, of_par)\n",
    "sim.write_simulation(silent=True)\n",
    "sim.run_simulation(silent=True)"
   ]
  },
  {
   "cell_type": "markdown",
   "id": "c3997e24-3757-4dc1-a22a-8cb0cf1d5111",
   "metadata": {},
   "source": [
    "# Graficación de resultados"
   ]
  },
  {
   "cell_type": "code",
   "execution_count": null,
   "id": "16e4eef7-8ed7-45a7-af5d-33b19c21ae13",
   "metadata": {},
   "outputs": [],
   "source": [
    "plot_flow_1D(gwf, mesh, os_par, of_par)"
   ]
  },
  {
   "cell_type": "code",
   "execution_count": null,
   "id": "c7b67db5-4af9-4c2f-846d-9fc4d0cecb2a",
   "metadata": {},
   "outputs": [],
   "source": []
  }
 ],
 "metadata": {
  "kernelspec": {
   "display_name": "Python 3 (ipykernel)",
   "language": "python",
   "name": "python3"
  },
  "language_info": {
   "codemirror_mode": {
    "name": "ipython",
    "version": 3
   },
   "file_extension": ".py",
   "mimetype": "text/x-python",
   "name": "python",
   "nbconvert_exporter": "python",
   "pygments_lexer": "ipython3",
   "version": "3.11.6"
  }
 },
 "nbformat": 4,
 "nbformat_minor": 5
}
