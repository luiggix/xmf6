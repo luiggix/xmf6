{
 "cells": [
  {
   "cell_type": "code",
   "execution_count": null,
   "id": "c4d99c5f-1750-4b9b-a37f-5162887ae00f",
   "metadata": {},
   "outputs": [],
   "source": [
    "# Temporal, para agregar las rutas correctas\n",
    "%run ../../src/xmf6/ruta_temporal.py\n",
    "if not(src_path in sys.path[0]):\n",
    "    sys.path.insert(0, os.path.abspath(a_path + src_path)) \n",
    "\n",
    "import ipywidgets as widgets\n",
    "import os, sys\n",
    "import xmf6\n",
    "from flow_1D import build_gwf_1D, plot_flow_1D"
   ]
  },
  {
   "cell_type": "code",
   "execution_count": null,
   "id": "e92f8bf1-7ba6-4dc4-9573-8c1a8a4c0c4c",
   "metadata": {},
   "outputs": [],
   "source": [
    "def flujo_1d(ncol):\n",
    "    mesh = xmf6.MeshDis(\n",
    "        nrow = 1,    # Number of rows\n",
    "        ncol = ncol,  # Number of columns\n",
    "        nlay = 1,    # Number of layers\n",
    "        row_length = 12.0,    # Length of system ($cm$)\n",
    "        column_length = 0.1,  # Length of system ($cm$)\n",
    "        top = 1.0,   # Top of the model ($cm$)\n",
    "        bottom = 0,  # Layer bottom elevation ($cm$)\n",
    "    )\n",
    "\n",
    "    tdis = xmf6.TDis(\n",
    "        perioddata = ((120, 1.0, 1.0),) # PERLEN, NSTP, TSMULT\n",
    "    )\n",
    "    \n",
    "    ml_units = {\n",
    "        \"time\": \"seconds\",\n",
    "        \"length\": \"centimeters\"\n",
    "    }\n",
    "\n",
    "    ph_par = dict(\n",
    "        specific_discharge = 0.1,  # Specific discharge ($cm s^{-1}$)\n",
    "        hydraulic_conductivity = 0.01,  # Hydraulic conductivity ($cm s^{-1}$)\n",
    "        source_concentration = 1.0  # Source concentration (unitless)\n",
    "    )\n",
    "    \n",
    "    os_par = dict(\n",
    "        ws = os.getcwd() + '/output', # Ruta de donde estamos actualmente\n",
    "        mf6_exe = '../../mf6/bin/mf6', # Ejecutable\n",
    "        flow_name = 'flow', # Nombre de la simulación\n",
    "    )\n",
    "                     \n",
    "    oc_par = dict(\n",
    "        head_file = f\"{os_par['flow_name']}.hds\", \n",
    "        fbudget_file = f\"{os_par['flow_name']}.bud\",            \n",
    "    )\n",
    "\n",
    "    sim, gwf = build_gwf_1D(mesh, tdis, ph_par, ml_units, os_par, oc_par)\n",
    "    sim.write_simulation(silent=True)\n",
    "    sim.run_simulation(silent=True)\n",
    "    plot_flow_1D(gwf, mesh, os_par, oc_par)"
   ]
  },
  {
   "cell_type": "code",
   "execution_count": null,
   "id": "27aa2925-018d-4d28-8a87-262574a0a202",
   "metadata": {},
   "outputs": [],
   "source": [
    "widgets.interactive(flujo_1d, ncol=widgets.IntSlider(min=30, max=120, step=30, value=10))"
   ]
  },
  {
   "cell_type": "code",
   "execution_count": null,
   "id": "71d1206b-1f51-4c50-8a1c-6984ee35329f",
   "metadata": {},
   "outputs": [],
   "source": []
  }
 ],
 "metadata": {
  "kernelspec": {
   "display_name": "Python 3 (ipykernel)",
   "language": "python",
   "name": "python3"
  },
  "language_info": {
   "codemirror_mode": {
    "name": "ipython",
    "version": 3
   },
   "file_extension": ".py",
   "mimetype": "text/x-python",
   "name": "python",
   "nbconvert_exporter": "python",
   "pygments_lexer": "ipython3",
   "version": "3.11.6"
  }
 },
 "nbformat": 4,
 "nbformat_minor": 5
}
