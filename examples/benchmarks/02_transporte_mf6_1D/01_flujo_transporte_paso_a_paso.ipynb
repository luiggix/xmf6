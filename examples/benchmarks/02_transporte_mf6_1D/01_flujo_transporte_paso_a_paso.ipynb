{
 "cells": [
  {
   "cell_type": "markdown",
   "id": "0bbc9f38-c835-49da-b1e6-ab08cbbaa463",
   "metadata": {},
   "source": [
    "## Paso 0. Library import"
   ]
  },
  {
   "cell_type": "code",
   "execution_count": null,
   "id": "48f786a9-a7c0-4ed9-a6ed-4566fd3d9659",
   "metadata": {},
   "outputs": [],
   "source": [
    "!pip install flopy"
   ]
  },
  {
   "cell_type": "code",
   "execution_count": null,
   "id": "332a5323-c8bd-40db-b9fc-d6ace1cfc984",
   "metadata": {},
   "outputs": [],
   "source": [
    "# Temporal, para agregar las rutas correctas\n",
    "%run ../../src/xmf6/ruta_temporal.py\n",
    "if not(src_path in sys.path[0]):\n",
    "    sys.path.insert(0, os.path.abspath(a_path + src_path)) "
   ]
  },
  {
   "cell_type": "code",
   "execution_count": null,
   "id": "f696fc74-41d6-4916-b6cf-e1e63822021f",
   "metadata": {},
   "outputs": [],
   "source": [
    "import os, sys\n",
    "import numpy as np\n",
    "import matplotlib.pyplot as plt\n",
    "\n",
    "import flopy\n",
    "from flopy.plot.styles import styles\n",
    "import xmf6\n",
    "# Definición de parámetros de decaimiento y sorción\n",
    "from sorption_decay import *"
   ]
  },
  {
   "cell_type": "markdown",
   "id": "a388b334-4a69-49a6-8028-5a97466d4969",
   "metadata": {},
   "source": [
    "\n",
    "<img src=\"../figures/flow_mf6.png\">\n",
    "\n",
    "* El modelo de malla consiste de 1 capa, 120 columnas y 1 renglón.\n",
    "* La longitud del renglón es de 12 [cm].\n",
    "* La longitud de la columna es 0.1 [cm].\n",
    "* Con la información anterior se calcula el ancho del renglón, DELC, y de las columnas, DELR, que ambos casos debe ser 0.1 $cm$.\n",
    "* La parte superior (TOP) de la celda es 1.0 [cm] y la parte inferior (BOTTOM) es cero.\n",
    "* La longitud de la capa es igual a 1.0 [cm], valor que se calcula de |TOP - BOTTOM|."
   ]
  },
  {
   "cell_type": "markdown",
   "id": "7e6676d1-9fc5-4daa-97c4-07cbdee68143",
   "metadata": {},
   "source": [
    "**<font color='Green'> [1] Konikow, L. F., Goode, D. J., & Hornberger, G. (1996, January 1). A three-dimensional method-of-characteristics solute-transport model (MOC3D). Water-Resources Investigations Report 96-4267.</font>** https://doi.org/10.3133/wri964267\n",
    "\n",
    "**<font color='Green'> [2] Eliezer J. Wexler, (1992).\n",
    "Analytical solutions for one-, two-, and three-dimensional solute transport in ground-water systems with uniform flow. U.S. Geological Survey Techniques of Water-Resources Investigations, Book 3, Chapter B7, 190 p.</font>** https://doi.org/10.3133/twri03b7"
   ]
  },
  {
   "cell_type": "markdown",
   "id": "8d2a483e-af58-4f8a-b2dd-0990c7f7f3ab",
   "metadata": {},
   "source": [
    "## Paso 1. Definición de parámetros del problema.\n",
    "\n",
    "### Parámetros para la discretización del espacio.\n",
    "\n",
    "|Parameter | Value| Units | Variable |\n",
    "|---:|:---:|:---:|:---|\n",
    "|Length of system (rows) |12.0| cm | `mesh.row_length` |\n",
    "|Number of layers |1| | `mesh.nlay` |\n",
    "|Number of rows |1| | `mesh.nrow` |\n",
    "|Number of columns |120| | `mesh.ncol` |\n",
    "|Column width |0.1| cm | `mesh.delr` |\n",
    "|Row width |0.1| cm | `mesh.delc`|\n",
    "|Top of the model |1.0| cm | `mesh.top`|\n",
    "|Layer bottom elevation (cm) |0| cm | `mesh.bottom` |"
   ]
  },
  {
   "cell_type": "code",
   "execution_count": null,
   "id": "b870869e-f5a8-44cd-9a67-b83af6c153a5",
   "metadata": {},
   "outputs": [],
   "source": [
    "mesh = xmf6.MeshDis(\n",
    "    nrow = 1,    # Number of rows\n",
    "    ncol = 120,  # Number of columns\n",
    "    nlay = 1,    # Number of layers\n",
    "    row_length = 12.0,    # Length of system ($cm$)\n",
    "    column_length = 0.1,  # Length of system ($cm$)\n",
    "    top = 1.0,   # Top of the model ($cm$)\n",
    "    bottom = 0,  # Layer bottom elevation ($cm$)\n",
    ")\n",
    "xmf6.nice_print(mesh.get_dict(), 'Space discretization')"
   ]
  },
  {
   "cell_type": "markdown",
   "id": "6b61a42a-c909-4098-9481-d1b800180e57",
   "metadata": {},
   "source": [
    "### Parámetros para la discretización del tiempo.\n",
    "\n",
    "* La simulación consta de un período de estrés que tiene una duración de 120 $s$.\n",
    "* El período de estrés se divide en 240 pasos de tiempo del mismo tamaño.\n",
    "  \n",
    "|Parameter | Value| Units | Variable |\n",
    "|---:|:---:|:---:|:---|\n",
    "|Number of stress periods |1| | `tm_par['nper']` |\n",
    "|Total time |120| s | `tm_par['total_time']` |\n",
    "|Number of time steps| 240 | | `tm_par['nstp']`|\n",
    "|Multiplier | 1 | | `tm_par['tsmult']`|"
   ]
  },
  {
   "cell_type": "code",
   "execution_count": null,
   "id": "0400ad96-6436-4f15-a44a-8f43fc316cb3",
   "metadata": {},
   "outputs": [],
   "source": [
    "tdis = xmf6.TDis(\n",
    "    perioddata = ((120, 240, 1.0),) # PERLEN, NSTP, TSMULT\n",
    ")\n",
    "xmf6.nice_print(tdis, 'Time discretization')"
   ]
  },
  {
   "cell_type": "markdown",
   "id": "dd2f0883-5ced-4fb3-b525-fb619d411b3a",
   "metadata": {},
   "source": [
    "### Parámetros físicos.\n",
    "\n",
    "* Al utilizar un valor de porosidad uniforme de 0.1, se obtiene un valor de velocidad de 0.1 $cm/s$ como resultado de la inyección de agua a una velocidad de 0.001 $cm^3/s$ en la primera celda.\n",
    "* A la última celda se le asigna una carga constante con un valor de cero, aunque este valor no es importante ya que las celdas están marcadas como confinadas.\n",
    "* A la concentración del agua inyectada se le asigna un valor de 1.0, y cualquier agua que salga a través de la celda de carga constante sale con la concentración simulada del agua en esa última celda.\n",
    "* La advección se resuelve utilizando el esquema TVD para reducir la dispersión numérica.\n",
    "  \n",
    "|Parameter | Value| Units | Variable |\n",
    "|---:|:---:|:---:|:---|\n",
    "|Specific discharge |0.1| cm s$^{-1}$ | `ph_par['specific_discharge']` |\n",
    "|Hydraulic conductivity |0.01| cm s$^{-1}$ | `ph_par['hydraulic_conductivity']` |\n",
    "|Source concentration |1.0| unitless | `ph_par['source_concentration']` |\n",
    "|Porosity | 0.1 | unitless |  `ph_par['porosity']` |\n",
    "|Initial Concentration | 0.0 | unitless | `ph_par['initial_concentration']` |\n",
    "|Longitudinal Dispersivity | 0.1 |  | `ph_par['longitudinal_dispersivity']` |\n",
    "|Retardation Factor | 1.0 |  | `ph_par['retardation_factor']` |\n",
    "|Decay Rate | 0.0 |  | `ph_par['decay_rate']` |\n",
    "|Dispersion coefficient | | | `ph_par[\"dispersion_coefficient\"]` |\n",
    "\n",
    "$$\n",
    "\\text{Dispersion Coefficient} = \\dfrac{\\text{Longitudinal Dispersivity} \\times \\text{Specific Discharge}}{\\text{Retardation Factor}}\n",
    "$$"
   ]
  },
  {
   "cell_type": "code",
   "execution_count": null,
   "id": "5f0d694e-1c03-429e-a9d4-a5bc4dee28e0",
   "metadata": {},
   "outputs": [],
   "source": [
    "ml_units = {\n",
    "    \"time\": \"seconds\",\n",
    "    \"length\": \"centimeters\"\n",
    "}\n",
    "xmf6.nice_print(ml_units, 'Units')\n",
    "\n",
    "ph_par = dict(\n",
    "    specific_discharge = 0.1,  # Specific discharge ($cm s^{-1}$)\n",
    "    hydraulic_conductivity = 0.01,  # Hydraulic conductivity ($cm s^{-1}$)\n",
    "    source_concentration = 1.0,  # Source concentration (unitless)\n",
    "    porosity = 0.1,  # Porosity of mobile domain (unitless)\n",
    "    initial_concentration = 0.0,  # Initial concentration (unitless)\n",
    "    longitudinal_dispersivity = 0.1,\n",
    "    retardation_factor = 1.0,\n",
    "    decay_rate =  0.0\n",
    ")\n",
    "ph_par[\"dispersion_coefficient\"] = ph_par[\"longitudinal_dispersivity\"] * ph_par[\"specific_discharge\"] / ph_par[\"retardation_factor\"]\n",
    "\n",
    "xmf6.nice_print(ph_par, 'Physical parameters')"
   ]
  },
  {
   "cell_type": "markdown",
   "id": "3898b473-4327-4a88-8887-4ff7875a61a0",
   "metadata": {},
   "source": [
    "## Paso 2. MODFLOW6 environment y salida."
   ]
  },
  {
   "cell_type": "code",
   "execution_count": null,
   "id": "fa154faf-014c-44d2-8dd4-7886a1026b62",
   "metadata": {},
   "outputs": [],
   "source": [
    "# ----- Definición de Parámetros -----\n",
    "os_par = dict(\n",
    "    ws = os.getcwd() + '/output', # Ruta de donde estamos actualmente\n",
    "    mf6_exe = '../../mf6/bin/mf6', # Ejecutable\n",
    "    flow_name = 'flow', # Nombre de la simulación para flujo\n",
    "    tran_name = 'transport' # Nombre de la simulación para transporte\n",
    ")\n",
    "xmf6.nice_print(os_par, 'MODFLOW 6 environment')\n",
    "\n",
    "oc_par = dict(\n",
    "    head_file = f\"{os_par['flow_name']}.hds\",\n",
    "    fbudget_file = f\"{os_par['flow_name']}.bud\",\n",
    "    concentration_file=f\"{os_par['tran_name']}.ucn\",\n",
    "    tbudget_file = f\"{os_par['tran_name']}.bud\",\n",
    ")\n",
    "xmf6.nice_print(oc_par, 'Output files')"
   ]
  },
  {
   "cell_type": "markdown",
   "id": "9bcbf290-8250-4f53-847f-0e8bfd704d21",
   "metadata": {},
   "source": [
    "## Paso 3. Solución del flujo (Modelo GWF)\n",
    "\n",
    "### Resultados del flujo"
   ]
  },
  {
   "cell_type": "code",
   "execution_count": null,
   "id": "847b8567-c4b9-415c-bfd3-24f993497f75",
   "metadata": {},
   "outputs": [],
   "source": [
    "from flow_1D import build_gwf_1D, plot_flow_1D\n",
    "sim_f, gwf = build_gwf_1D(mesh, tdis, ph_par, ml_units, os_par, oc_par)\n",
    "sim_f.write_simulation(silent=True)\n",
    "sim_f.run_simulation(silent=True)\n",
    "plot_flow_1D(gwf, mesh, os_par, oc_par)"
   ]
  },
  {
   "cell_type": "markdown",
   "id": "71ed855f-3bf5-4451-9297-96f75dc07e8c",
   "metadata": {},
   "source": [
    "### Obtención de arreglos de Numpy para la carga y  la velocidad."
   ]
  },
  {
   "cell_type": "code",
   "execution_count": null,
   "id": "0498f2b7-6e16-4285-8524-ea71cbac5b7d",
   "metadata": {},
   "outputs": [],
   "source": [
    "# Obtenemos los resultados de la carga hidráulica\n",
    "head = flopy.utils.HeadFile(\n",
    "    os.path.join(os_par['ws'], \n",
    "                 oc_par['head_file'])).get_data()\n",
    "# Obtenemos los resultados del BUDGET\n",
    "bud  = flopy.utils.CellBudgetFile(\n",
    "    os.path.join(os_par['ws'], \n",
    "                 oc_par['fbudget_file']),\n",
    "    precision='double'\n",
    ")\n",
    "# Obtenemos las velocidades\n",
    "spdis = bud.get_data(text='DATA-SPDIS')[0]\n",
    "qx, qy, qz = flopy.utils.postprocessing.get_specific_discharge(spdis, gwf)"
   ]
  },
  {
   "cell_type": "code",
   "execution_count": null,
   "id": "d0e3d13c-a6f9-4ed8-95ca-3170a52e12ff",
   "metadata": {},
   "outputs": [],
   "source": [
    "print(head.shape, '\\n', head)"
   ]
  },
  {
   "cell_type": "code",
   "execution_count": null,
   "id": "15db7c86-4510-4a8e-86fd-4a531011273f",
   "metadata": {},
   "outputs": [],
   "source": [
    "print(qx.shape, '\\n', qx)"
   ]
  },
  {
   "cell_type": "markdown",
   "id": "64b4ecd3-37a8-411a-b564-fc6e2d089533",
   "metadata": {},
   "source": [
    "## Paso 4. Solución de transporte (Modelo GWT)\n",
    "\n",
    "### Paso 4.1 Objeto de simulación"
   ]
  },
  {
   "cell_type": "code",
   "execution_count": null,
   "id": "31420a9c-5724-4c2b-9bc0-9192d955e975",
   "metadata": {},
   "outputs": [],
   "source": [
    "sim_t = flopy.mf6.MFSimulation(\n",
    "    sim_name=os_par[\"tran_name\"], \n",
    "    sim_ws=os_par[\"ws\"], \n",
    "    exe_name=os_par[\"mf6_exe\"]\n",
    ")\n",
    "print(sim_t)"
   ]
  },
  {
   "cell_type": "markdown",
   "id": "00ff96ab-420a-4d43-a330-422cbab44dd8",
   "metadata": {},
   "source": [
    "### Paso 4.2. Componente para el paso de tiempo"
   ]
  },
  {
   "cell_type": "code",
   "execution_count": null,
   "id": "3890f93d-a29f-4157-9f1b-3a3d643eeb7b",
   "metadata": {},
   "outputs": [],
   "source": [
    "flopy.mf6.ModflowTdis(\n",
    "    sim_t, \n",
    "    nper=tdis.nper(), \n",
    "    perioddata=tdis.perioddata(), \n",
    "    time_units=ml_units[\"time\"]\n",
    ")"
   ]
  },
  {
   "cell_type": "markdown",
   "id": "c489310f-0c8e-44cb-9e97-6ced157242ed",
   "metadata": {},
   "source": [
    "### Paso 4.3. IMS object (solution calculation)"
   ]
  },
  {
   "cell_type": "code",
   "execution_count": null,
   "id": "a0f880c0-af9a-41df-8fde-b90ba62d1b05",
   "metadata": {},
   "outputs": [],
   "source": [
    "ims = flopy.mf6.ModflowIms(\n",
    "    sim_t, \n",
    "    linear_acceleration=\"bicgstab\"\n",
    ")\n",
    "print(ims)"
   ]
  },
  {
   "cell_type": "markdown",
   "id": "7a71fc1e-f25c-4b9a-981b-3928f3c882de",
   "metadata": {},
   "source": [
    "### Paso 4.4. GWT model object (transport)"
   ]
  },
  {
   "cell_type": "code",
   "execution_count": null,
   "id": "cd77f2d2-6dee-42fd-862c-778d45602caa",
   "metadata": {},
   "outputs": [],
   "source": [
    "gwt = flopy.mf6.ModflowGwt(\n",
    "    sim_t, \n",
    "    modelname=os_par[\"tran_name\"], \n",
    "    save_flows=True\n",
    ")\n",
    "print(gwt)"
   ]
  },
  {
   "cell_type": "markdown",
   "id": "0f6db909-2782-4706-9fff-48c70fee9d80",
   "metadata": {},
   "source": [
    "### Paso 4.5. Space discretization object"
   ]
  },
  {
   "cell_type": "code",
   "execution_count": null,
   "id": "db8df5de-20fa-446f-850e-a2b44b0fd438",
   "metadata": {},
   "outputs": [],
   "source": [
    "dis = flopy.mf6.ModflowGwtdis(\n",
    "    gwt,\n",
    "    length_units=ml_units[\"length\"],\n",
    "    nlay=mesh.nlay,\n",
    "    nrow=mesh.nrow,\n",
    "    ncol=mesh.ncol,\n",
    "    delr=mesh.delr,\n",
    "    delc=mesh.delc,\n",
    "    top=mesh.top,\n",
    "    botm=mesh.bottom,\n",
    ")\n",
    "\n",
    "print(dis)"
   ]
  },
  {
   "cell_type": "markdown",
   "id": "3c71cb8b-798a-4602-9b5e-7fe5ea8a020c",
   "metadata": {},
   "source": [
    "### Paso 4.6. Initial conditions object"
   ]
  },
  {
   "cell_type": "code",
   "execution_count": null,
   "id": "d0b6acac-d8a9-43a2-bdcd-a07944d3c972",
   "metadata": {},
   "outputs": [],
   "source": [
    "ic = flopy.mf6.ModflowGwtic(\n",
    "    gwt, \n",
    "    strt=0\n",
    ")\n",
    "print(ic)"
   ]
  },
  {
   "cell_type": "markdown",
   "id": "31ebc1ea-46aa-4500-a146-683573b32ae5",
   "metadata": {},
   "source": [
    "### Paso 4.7."
   ]
  },
  {
   "cell_type": "code",
   "execution_count": null,
   "id": "b184a914-a456-4344-b0ed-168362329b5c",
   "metadata": {},
   "outputs": [],
   "source": [
    "mst = flopy.mf6.ModflowGwtmst(\n",
    "    gwt,\n",
    "    porosity=ph_par[\"porosity\"],\n",
    "    **get_sorption_dict(ph_par[\"retardation_factor\"]),\n",
    "    **get_decay_dict(ph_par[\"decay_rate\"], \n",
    "                     ph_par[\"retardation_factor\"] > 1.0),\n",
    ")\n",
    "\n",
    "print(mst)"
   ]
  },
  {
   "cell_type": "markdown",
   "id": "44cd9ddc-6770-423b-b05d-303f99b92d80",
   "metadata": {},
   "source": [
    "### Paso 4.8. Advection"
   ]
  },
  {
   "cell_type": "code",
   "execution_count": null,
   "id": "d9dcaf34-9fff-4a33-bb21-77bd8f2005ae",
   "metadata": {},
   "outputs": [],
   "source": [
    "adv = flopy.mf6.ModflowGwtadv(\n",
    "    gwt, \n",
    "    scheme=\"TVD\"\n",
    ")\n",
    "print(adv)"
   ]
  },
  {
   "cell_type": "markdown",
   "id": "f539eece-3e94-4098-a4ee-b5b39b239f06",
   "metadata": {},
   "source": [
    "### Paso 4.9. "
   ]
  },
  {
   "cell_type": "code",
   "execution_count": null,
   "id": "d89bdbed-5137-4849-b727-5d3c6f736a4e",
   "metadata": {},
   "outputs": [],
   "source": [
    "dsp = flopy.mf6.ModflowGwtdsp(\n",
    "    gwt,\n",
    "    xt3d_off=True,\n",
    "    alh=ph_par[\"longitudinal_dispersivity\"],\n",
    "    ath1=ph_par[\"longitudinal_dispersivity\"],\n",
    ")\n",
    "\n",
    "print(dsp)"
   ]
  },
  {
   "cell_type": "markdown",
   "id": "553d7ada-4e55-4e82-a769-a03fd0f717d0",
   "metadata": {},
   "source": [
    "### Paso 4.10. "
   ]
  },
  {
   "cell_type": "code",
   "execution_count": null,
   "id": "e4897bce-c8b6-443d-9c5f-c541d0ed7775",
   "metadata": {},
   "outputs": [],
   "source": [
    "pd = [ \n",
    "    (\"GWFHEAD\", oc_par[\"head_file\"], None),\n",
    "    (\"GWFBUDGET\", oc_par[\"fbudget_file\"], None),\n",
    "]\n",
    "    \n",
    "fmi = flopy.mf6.ModflowGwtfmi(\n",
    "    gwt, \n",
    "    packagedata=pd\n",
    ")\n",
    "print(fmi)"
   ]
  },
  {
   "cell_type": "markdown",
   "id": "7962b630-b29d-4d53-a7bc-19cac632602a",
   "metadata": {},
   "source": [
    "### Paso 4.11. "
   ]
  },
  {
   "cell_type": "code",
   "execution_count": null,
   "id": "84fd8dfe-c967-479b-8935-96b7b860691e",
   "metadata": {},
   "outputs": [],
   "source": [
    "sourcerecarray = [[\"WEL-1\", \"AUX\", \"CONCENTRATION\"]]\n",
    "ssm = flopy.mf6.ModflowGwtssm(\n",
    "    gwt, \n",
    "    sources=sourcerecarray\n",
    ")\n",
    "print(ssm)"
   ]
  },
  {
   "cell_type": "markdown",
   "id": "b8690b96-d8bc-4e35-9755-c8167a6dcc04",
   "metadata": {},
   "source": [
    "### Paso 4.12. Observation locations"
   ]
  },
  {
   "cell_type": "code",
   "execution_count": null,
   "id": "bb1ee2db-e57e-4f6e-be7b-4915de8cb0df",
   "metadata": {},
   "outputs": [],
   "source": [
    "obs_data = {\n",
    "    \"transporte.obs.csv\": [\n",
    "        (\"X005\", \"CONCENTRATION\", (0, 0, 0)),\n",
    "        (\"X405\", \"CONCENTRATION\", (0, 0, 40)),\n",
    "        (\"X1105\", \"CONCENTRATION\", (0, 0, 110)),\n",
    "    ],\n",
    "}\n",
    "\n",
    "obs_package = flopy.mf6.ModflowUtlobs(\n",
    "    gwt, \n",
    "    digits=10, \n",
    "    print_input=True, \n",
    "    continuous=obs_data\n",
    ")\n",
    "\n",
    "print(obs_package)"
   ]
  },
  {
   "cell_type": "markdown",
   "id": "efcd5da6-94ce-415a-8ef1-db53ede0a63e",
   "metadata": {},
   "source": [
    "### Paso 4.13. Output object"
   ]
  },
  {
   "cell_type": "code",
   "execution_count": null,
   "id": "36e90233-66ca-4606-892a-3f871a8979f2",
   "metadata": {},
   "outputs": [],
   "source": [
    "oc = flopy.mf6.ModflowGwtoc(\n",
    "    gwt,\n",
    "    budget_filerecord=oc_par[\"tbudget_file\"],\n",
    "    concentration_filerecord=oc_par[\"concentration_file\"],\n",
    "    saverecord=[(\"CONCENTRATION\", \"ALL\"), (\"BUDGET\", \"LAST\")],\n",
    "    printrecord=[(\"CONCENTRATION\", \"LAST\"), (\"BUDGET\", \"LAST\")],\n",
    ")\n",
    "\n",
    "print(oc)"
   ]
  },
  {
   "cell_type": "markdown",
   "id": "51c7c2b8-4856-45da-8619-3dd2c722af84",
   "metadata": {},
   "source": [
    "### Paso 4.14. Write Input files."
   ]
  },
  {
   "cell_type": "code",
   "execution_count": null,
   "id": "955c6923-dba0-4fec-b43a-936a1e7a2eff",
   "metadata": {},
   "outputs": [],
   "source": [
    "sim_t.write_simulation()"
   ]
  },
  {
   "cell_type": "markdown",
   "id": "06e59c4a-6dcb-4f6e-a7ca-2ca6597f88c6",
   "metadata": {},
   "source": [
    "### Paso 4.15. Run simulation"
   ]
  },
  {
   "cell_type": "code",
   "execution_count": null,
   "id": "44e64765-dd25-46ee-b705-763a3d8254ba",
   "metadata": {},
   "outputs": [],
   "source": [
    "sim_t.run_simulation()"
   ]
  },
  {
   "cell_type": "markdown",
   "id": "4942b96b-60cb-44f4-b374-1e6b171e25dd",
   "metadata": {},
   "source": [
    "### Paso 4.16. Postprocessing"
   ]
  },
  {
   "cell_type": "code",
   "execution_count": null,
   "id": "491a9d75-edd2-4e0f-97af-4379ea181758",
   "metadata": {},
   "outputs": [],
   "source": [
    "sim_t.model_names"
   ]
  },
  {
   "cell_type": "code",
   "execution_count": null,
   "id": "14569be0-d989-41a3-a12b-01ddca6f0ce5",
   "metadata": {},
   "outputs": [],
   "source": [
    "mf6gwt_ra = sim_t.get_model(\"transport\").obs.output.obs().data\n",
    "ucnobj_mf6 = sim_t.transport.output.concentration()"
   ]
  },
  {
   "cell_type": "code",
   "execution_count": null,
   "id": "b00ea0d0-3d5d-4c70-a37f-57077be474a0",
   "metadata": {},
   "outputs": [],
   "source": [
    "print(type(mf6gwt_ra), type(ucnobj_mf6))"
   ]
  },
  {
   "cell_type": "code",
   "execution_count": null,
   "id": "f4898093-f31b-4ddf-b5f0-8b9bc40452a6",
   "metadata": {},
   "outputs": [],
   "source": [
    "print(mf6gwt_ra.shape)"
   ]
  },
  {
   "cell_type": "code",
   "execution_count": null,
   "id": "025ab006-863f-482b-b10d-2382a7acb2ea",
   "metadata": {},
   "outputs": [],
   "source": [
    "print(mf6gwt_ra)"
   ]
  },
  {
   "cell_type": "code",
   "execution_count": null,
   "id": "6e821fe5-e3b5-462d-8cb0-f47ace945549",
   "metadata": {},
   "outputs": [],
   "source": [
    "simtimes = mf6gwt_ra[\"totim\"]\n",
    "simtimes.shape\n",
    "print(type(simtimes), simtimes)"
   ]
  },
  {
   "cell_type": "code",
   "execution_count": null,
   "id": "75f05197-f6dd-4bd1-b16f-9d7e737147ac",
   "metadata": {},
   "outputs": [],
   "source": [
    "obsnames = [\"X005\", \"X405\", \"X1105\"]"
   ]
  },
  {
   "cell_type": "code",
   "execution_count": null,
   "id": "7fa57f1e-2eaf-4ac0-9cf4-9371fa0fa180",
   "metadata": {},
   "outputs": [],
   "source": [
    "# Funciones para cálculo de la solución analítica\n",
    "from wexler1_test import sol_analytical_t\n",
    "\n",
    "with styles.USGSPlot():\n",
    "    plt.rcParams['font.family'] = 'DeJavu Sans'\n",
    "\n",
    "    fig, axs = plt.subplots(2, 1, figsize=(5,6), tight_layout=True)\n",
    "\n",
    "    iskip = 5\n",
    "\n",
    "    \n",
    "    atimes = np.arange(0, tdis.total_time(), 0.1)\n",
    "    \n",
    "    for i, x in enumerate([0.05, 4.05, 11.05]):\n",
    "        a1, idx_filter = sol_analytical_t(i, x, atimes,mesh, ph_par) \n",
    "                \n",
    "        axs[0].plot(atimes[idx_filter], a1[idx_filter], color=\"k\", label=\"ANALYTICAL\")\n",
    "\n",
    "        axs[0].plot(simtimes[::iskip], mf6gwt_ra[obsnames[i]][::iskip],\n",
    "                    marker=\"o\", ls=\"none\", mec=\"blue\", mfc=\"none\", markersize=\"4\",\n",
    "                    label=\"MODFLOW 6\")\n",
    "        axs[0].set_ylim(-0.05, 1.2)\n",
    "        axs[0].set_xlim(0, 120)\n",
    "        axs[0].set_xlabel(\"Time (seconds)\")\n",
    "        axs[0].set_ylabel(\"Normalized Concentration (unitless)\")\n",
    "        \n",
    "    ctimes = [6.0, 60.0, 120.0]\n",
    "\n",
    "    \n",
    "    x, _, _ = mesh.get_coords()\n",
    "    for i, t in enumerate(ctimes):\n",
    "        a1, idx_filter = sol_analytical_t(i, x, t, mesh, ph_par, False)\n",
    "        \n",
    "        axs[1].plot(x, a1, color=\"k\", label=\"ANALYTICAL\")\n",
    "        simconc = ucnobj_mf6.get_data(totim=t).flatten()\n",
    "        axs[1].plot(x[::iskip], simconc[::iskip],\n",
    "                    marker=\"o\", ls=\"none\", mec=\"blue\", mfc=\"none\", markersize=\"4\",\n",
    "                    label=\"MODFLOW 6\")\n",
    "        axs[1].set_ylim(0, 1.1)\n",
    "        axs[1].set_xlim(0, 12)\n",
    "        axs[1].set_xlabel(\"Distance (cm)\")\n",
    "        axs[1].set_ylabel(\"Normalized Concentration (unitless)\")\n",
    "    \n",
    "    plt.show()"
   ]
  },
  {
   "cell_type": "code",
   "execution_count": null,
   "id": "38be2755-372e-47dd-9275-7b53c42bde8c",
   "metadata": {},
   "outputs": [],
   "source": []
  }
 ],
 "metadata": {
  "kernelspec": {
   "display_name": "Python 3 (ipykernel)",
   "language": "python",
   "name": "python3"
  },
  "language_info": {
   "codemirror_mode": {
    "name": "ipython",
    "version": 3
   },
   "file_extension": ".py",
   "mimetype": "text/x-python",
   "name": "python",
   "nbconvert_exporter": "python",
   "pygments_lexer": "ipython3",
   "version": "3.11.6"
  }
 },
 "nbformat": 4,
 "nbformat_minor": 5
}
