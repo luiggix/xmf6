{
 "cells": [
  {
   "cell_type": "code",
   "execution_count": null,
   "id": "9e98eb47-63e0-484e-b300-18a0701e77c8",
   "metadata": {},
   "outputs": [],
   "source": [
    "# Temporal, para agregar las rutas correctas\n",
    "%run ../../src/xmf6/ruta_temporal.py\n",
    "if not(src_path in sys.path[0]):\n",
    "    sys.path.insert(0, os.path.abspath(a_path + src_path)) "
   ]
  },
  {
   "cell_type": "markdown",
   "id": "1c5e3fb0-f0f1-4670-8ed9-d06f677ed24f",
   "metadata": {},
   "source": [
    "# Importación de bibliotecas"
   ]
  },
  {
   "cell_type": "code",
   "execution_count": null,
   "id": "9ea67759-c37c-4059-8746-5f23f9dcecda",
   "metadata": {},
   "outputs": [],
   "source": [
    "import os, sys\n",
    "import numpy as np\n",
    "import matplotlib.pyplot as plt\n",
    "\n",
    "import flopy\n",
    "from flopy.plot.styles import styles\n",
    "import xmf6\n",
    "from flow_1D import build_gwf_1D, plot_flow_1D\n",
    "from tran_1D import build_gwt_1D, plot_tran_1D\n",
    "# Funciones para cálculo de la solución analítica\n",
    "from wexler1_test import sol_analytical_t\n",
    "# Definición de parámetros de decaimiento y sorción\n",
    "from sorption_decay import *"
   ]
  },
  {
   "cell_type": "markdown",
   "id": "2fd9bd29-efec-44de-ab34-7ebc58da5c83",
   "metadata": {},
   "source": [
    "# Parámetros del problema"
   ]
  },
  {
   "cell_type": "code",
   "execution_count": null,
   "id": "c6af707a-8f2d-4f85-a4d8-a83fd6036537",
   "metadata": {},
   "outputs": [],
   "source": [
    "# ----- Definición de Parámetros -----\n",
    "mesh = xmf6.MeshDis(\n",
    "    nrow = 1,    # Number of rows\n",
    "    ncol = 120,  # Number of columns\n",
    "    nlay = 1,    # Number of layers\n",
    "    row_length = 12.0,    # Length of system ($cm$)\n",
    "    column_length = 0.1,  # Length of system ($cm$)\n",
    "    top = 1.0,   # Top of the model ($cm$)\n",
    "    bottom = 0,  # Layer bottom elevation ($cm$)\n",
    ")\n",
    "xmf6.nice_print(mesh.get_dict(), 'Space discretization')\n",
    "\n",
    "tdis = xmf6.TDis(\n",
    "    perioddata = ((120, 240, 1.0),) # PERLEN, NSTP, TSMULT\n",
    ")\n",
    "xmf6.nice_print(tdis, 'Time discretization')\n",
    "    \n",
    "ml_units = {\n",
    "    \"time\": \"seconds\",\n",
    "    \"length\": \"centimeters\"\n",
    "}\n",
    "xmf6.nice_print(ml_units, 'Units')\n",
    "\n",
    "ph_par = dict(\n",
    "    specific_discharge = 0.1,  # Specific discharge ($cm s^{-1}$)\n",
    "    hydraulic_conductivity = 0.01,  # Hydraulic conductivity ($cm s^{-1}$)\n",
    "    source_concentration = 1.0,  # Source concentration (unitless)\n",
    "    porosity = 0.1,  # Porosity of mobile domain (unitless)\n",
    "    initial_concentration = 0.0,  # Initial concentration (unitless)\n",
    "    longitudinal_dispersivity = 1.0, # 0.1, 1.0, 1.0, 1.0\n",
    "    retardation_factor = 1.0,        # 1.0, 1.0, 2.0, 1.0\n",
    "    decay_rate =  0.0                # 0.1, 0.0, 0.0, 0.01\n",
    ")\n",
    "ph_par[\"dispersion_coefficient\"] = ph_par[\"longitudinal_dispersivity\"] * ph_par[\"specific_discharge\"] / ph_par[\"retardation_factor\"]\n",
    "xmf6.nice_print(ph_par, 'Physical parameters')\n",
    "    \n",
    "os_par = dict(\n",
    "    ws = os.getcwd() + '/output', # Ruta de donde estamos actualmente\n",
    "    mf6_exe = '../../mf6/bin/mf6', # Ejecutable\n",
    "    flow_name = 'flow', # Nombre de la simulación para flujo\n",
    "    tran_name = 'transport' # Nombre de la simulación para transporte\n",
    ")\n",
    "xmf6.nice_print(os_par, 'MODFLOW 6 environment')\n",
    "                     \n",
    "oc_par = dict(\n",
    "    head_file = f\"{os_par['flow_name']}.hds\",\n",
    "    fbudget_file = f\"{os_par['flow_name']}.bud\",\n",
    "    concentration_file=f\"{os_par['tran_name']}.ucn\",\n",
    "    tbudget_file = f\"{os_par['tran_name']}.bud\",\n",
    ")\n",
    "xmf6.nice_print(oc_par, 'Output files')"
   ]
  },
  {
   "cell_type": "markdown",
   "id": "55e7b652-5a90-497e-b89d-be37615cc68f",
   "metadata": {},
   "source": [
    "# GWF"
   ]
  },
  {
   "cell_type": "code",
   "execution_count": null,
   "id": "d72e9a68-5479-438d-b41b-269126f4248b",
   "metadata": {},
   "outputs": [],
   "source": [
    "sim_f, gwf = build_gwf_1D(mesh, tdis, ph_par, ml_units, os_par, oc_par)\n",
    "sim_f.write_simulation(silent=True)\n",
    "sim_f.run_simulation(silent=True)\n",
    "plot_flow_1D(gwf, mesh, os_par, oc_par)"
   ]
  },
  {
   "cell_type": "markdown",
   "id": "56a2aa03-6539-4011-a557-d848cbb09d27",
   "metadata": {},
   "source": [
    "# GWT"
   ]
  },
  {
   "cell_type": "code",
   "execution_count": null,
   "id": "ff3a0de4-caa1-483b-895b-00ca23e31a62",
   "metadata": {},
   "outputs": [],
   "source": [
    "# Solución de transporte\n",
    "sim_t, gwt = build_gwt_1D(mesh, tdis, ph_par, ml_units, os_par, oc_par)\n",
    "sim_t.write_simulation(silent=True)\n",
    "sim_t.run_simulation(silent=True)\n",
    "plot_tran_1D(sim_t, mesh, tdis, ph_par, os_par, oc_par)"
   ]
  },
  {
   "cell_type": "code",
   "execution_count": null,
   "id": "acbd154c-5eba-498f-87ae-5157aa88cbab",
   "metadata": {},
   "outputs": [],
   "source": []
  }
 ],
 "metadata": {
  "kernelspec": {
   "display_name": "Python 3 (ipykernel)",
   "language": "python",
   "name": "python3"
  },
  "language_info": {
   "codemirror_mode": {
    "name": "ipython",
    "version": 3
   },
   "file_extension": ".py",
   "mimetype": "text/x-python",
   "name": "python",
   "nbconvert_exporter": "python",
   "pygments_lexer": "ipython3",
   "version": "3.11.6"
  }
 },
 "nbformat": 4,
 "nbformat_minor": 5
}
