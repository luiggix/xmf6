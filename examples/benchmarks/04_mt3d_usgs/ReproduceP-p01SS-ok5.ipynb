{
 "cells": [
  {
   "cell_type": "code",
   "execution_count": 1,
   "id": "4fc5a617-aa61-4590-b08a-41cca548103f",
   "metadata": {
    "tags": []
   },
   "outputs": [
    {
     "name": "stdout",
     "output_type": "stream",
     "text": [
      "3.11.5 | packaged by Anaconda, Inc. | (main, Sep 11 2023, 13:26:23) [MSC v.1916 64 bit (AMD64)]\n",
      "numpy version: 1.24.3\n",
      "matplotlib version: 3.7.2\n",
      "flopy version: 3.7.0.dev0\n"
     ]
    }
   ],
   "source": [
    "import os\n",
    "import sys\n",
    "#from tempfile import TemporaryDirectory\n",
    "\n",
    "import matplotlib as mpl\n",
    "import numpy as np\n",
    "import pandas as pd\n",
    "\n",
    "import flopy\n",
    "\n",
    "print(sys.version)\n",
    "print(f\"numpy version: {np.__version__}\")\n",
    "print(f\"matplotlib version: {mpl.__version__}\")\n",
    "print(f\"flopy version: {flopy.__version__}\")"
   ]
  },
  {
   "cell_type": "code",
   "execution_count": 2,
   "id": "4b6e454d-5732-49c4-a3ec-b0f865c1afff",
   "metadata": {},
   "outputs": [
    {
     "name": "stdout",
     "output_type": "stream",
     "text": [
      ".\\p01SpSt_4mf6_mt\n"
     ]
    }
   ],
   "source": [
    "# temporary directory\n",
    "\n",
    "#temp_dir = TemporaryDirectory()\n",
    "\n",
    "#model_ws = temp_dir.name\n",
    "\n",
    "model_ws = '.\\\\' # Se establece el directorio de trabajo del modelo (model_ws)\n",
    "\n",
    "# define la ruta completa del modelo (modelpth) combinando el directorio de trabajo (model_ws) \n",
    "# con el nombre de una subcarpeta específica (\"p01SpSt_4mf6_mt\")\n",
    "modelpth = os.path.join(model_ws, \"p01SpSt_4mf6_mt\")\n",
    "\n",
    "print(modelpth)\n",
    "\n",
    "#modelname = \"p01SpSt_4mf6_mt\" #Define el nombre del modelo (modelname)\n",
    "modelname = \"p01SpatialStresses\" #Define el nombre del modelo (modelname)\n",
    "#mfexe = \"mfnwt\"\n",
    "mtexe = \"mt3d-usgs_1.1.0_64.exe\" # Especifica la ruta del ejecutable de MT3D-USGS (mtexe) \n"
   ]
  },
  {
   "cell_type": "code",
   "execution_count": 3,
   "id": "0e86882f-d72c-4597-a441-d6d86c68f1dd",
   "metadata": {},
   "outputs": [],
   "source": [
    "# Start by setting up MT3D-USGS class and use files created with MF6-GWF for setting up a number of the BTN arrays\n",
    "# mt es una instancia de Mt3dms, que representa un modelo de MT3DMS.\n",
    "# modelname=modelname asigna el nombre del modelo definido anteriormente.\n",
    "# model_ws=modelpth establece el directorio donde el modelo guardará y leerá archivos.\n",
    "# version=\"mt3d-usgs\" especifica la versión del software MT3D-USGS.\n",
    "# namefile_ext=\"nam\" define la extensión del archivo de nombre como .nam.\n",
    "# exe_name=\"mt3d-usgs_1.1.0_64\" indica el nombre del ejecutable de MT3D-USGS a usar.\n",
    "# ftlfree=True habilita el uso de un archivo de enlace de flujo libre de formato (FTL).\n",
    "\n",
    "mt = flopy.mt3d.Mt3dms(\n",
    "    modelname=modelname,\n",
    "    model_ws=modelpth,\n",
    "    version=\"mt3d-usgs\",\n",
    "    namefile_ext=\"nam\",\n",
    "    exe_name=\"mt3d-usgs_1.1.0_64\",\n",
    "   \n",
    "    ftlfree=True\n",
    ")\n"
   ]
  },
  {
   "cell_type": "code",
   "execution_count": 4,
   "id": "38c54f8d-647d-4c08-8f2e-b9819b9c9756",
   "metadata": {},
   "outputs": [],
   "source": [
    "# Se definen las dimensiones del modelo: 6 capas (nlay), 1 fila (nrow) y 101 columnas (ncol).\n",
    "# sconc es un arreglo que inicializa las concentraciones iniciales en cero y establece 1.0 en la primera columna de cada capa.\n",
    "# icbund es un arreglo que indica las celdas activas para el transporte. Las celdas de la primera columna de cada capa se definen como celdas de concentración constante (-1).\n",
    "# Se crea una instancia btn de Mt3dBtn, que es el paquete básico de transporte para MT3DMS. Se configura con:\n",
    "# Las dimensiones del modelo (nlay, nrow, ncol).\n",
    "# Tres periodos de estrés (nper).\n",
    "# Una especie química (ncomp) y una especie móvil (mcomp).\n",
    "# Un arreglo que define la conductividad hidráulica de cada capa (laycon).\n",
    "# Distancia entre columnas (delr) y filas (delc).\n",
    "# Altura inicial (htop).\n",
    "# Espesor de cada capa (dz).\n",
    "# Duración de cada periodo de estrés (perlen), con un solo paso de tiempo (nstp) y un multiplicador de paso de tiempo (tsmult).\n",
    "# Porosidad (prsity).\n",
    "# Concentraciones iniciales (sconc) y condiciones de frontera (icbund).\n",
    "# El número de unidad del archivo (unitnumber) y el formato de impresión de la concentración (ifmtcn).\n",
    "\n",
    "nlay=6\n",
    "nrow=1\n",
    "ncol=101\n",
    "sconc = np.zeros((nlay,nrow,ncol),dtype=float)\n",
    "sconc[:,0,0]=1.0E+03\n",
    "#print(sconc)\n",
    "icbund = np.ones((nlay,nrow,ncol),dtype=int)\n",
    "icbund[:,0,0]=-1 #primer columna de cada capa\n",
    "#print(icbund)\n",
    "dz = np.ones((nlay,nrow,ncol),dtype=float)\n",
    "dz=dz * 10.0\n",
    "#print(dz)\n",
    "btn = flopy.mt3d.Mt3dBtn( mt,\n",
    "        nlay=6,\n",
    "        nrow=1,\n",
    "        ncol=101,\n",
    "        nper=3,\n",
    "        ncomp=1, # Num.total especies quimicas \n",
    "        mcomp=1, # Num.especies móviles             \n",
    "        laycon= [1,1,1,1,1,1],\n",
    "        delr=10,\n",
    "        delc=1,\n",
    "        htop=60,\n",
    "        dz=dz,\n",
    "        perlen=200,\n",
    "        nstp=10,\n",
    "        dt0=50,\n",
    "        tsmult=1,\n",
    "        prsity=.25,\n",
    "        sconc = sconc,\n",
    "        unitnumber=31,\n",
    "        ifmtcn=1,\n",
    "        icbund = icbund\n",
    ")"
   ]
  },
  {
   "cell_type": "code",
   "execution_count": 5,
   "id": "56cc0971-0e54-486d-91d5-f5c6a22a6ad7",
   "metadata": {
    "tags": []
   },
   "outputs": [],
   "source": [
    "# mixelm se establece en 0, lo que indica que se utiliza el esquema de advección estándar de diferencias finitas.\n",
    "# percel es el tamaño de la celda de contorno utilizado en el cálculo del transporte advectivo, configurado en 0.5.\n",
    "# mxpart define el número máximo de partículas permitidas en la simulación, establecido en 800,000.\n",
    "# nadvfd se configura en 1, lo que selecciona el esquema de ponderación aguas arriba para la advección.\n",
    "# Se crea una instancia adv de Mt3dAdv, el paquete de advección para MT3DMS, configurado con los parámetros anteriores.\n",
    "\n",
    "mixelm = 0\n",
    "percel = 0.50000\n",
    "mxpart = 800000\n",
    "nadvfd = 1  # (1 = Upstream weighting)\n",
    "\n",
    "adv = flopy.mt3d.Mt3dAdv(\n",
    "    mt, mixelm=mixelm, percel=percel, mxpart=mxpart, nadvfd=nadvfd\n",
    ")"
   ]
  },
  {
   "cell_type": "code",
   "execution_count": 6,
   "id": "87ead1ad-5ab0-48e7-b00f-07948434b188",
   "metadata": {},
   "outputs": [],
   "source": [
    "# Descripción breve del código que configura el paquete de Dispersión (DSP) en MT3DMS utilizando FloPy:\n",
    "# al es la dispersividad longitudinal, configurada en 10 metros.\n",
    "# trpt es el ratio de la dispersividad transversal horizontal respecto a la dispersividad longitudinal al, configurado en 0.1.\n",
    "# trpv es el ratio de la dispersividad transversal vertical respecto a la dispersividad longitudinal al, configurado en 0.01.\n",
    "# dmcoef es el coeficiente de difusión molecular, establecido en 1.0000×10−10\n",
    "# Se crea una instancia dsp del paquete de Dispersión Mt3dDsp para MT3DMS, con soporte para múltiples mecanismos de difusión (multiDiff=True).\n",
    "\n",
    "al = 10  # longitudinal dispersivity\n",
    "trpt = 0.1  # ratio of the horizontal transverse dispersivity to 'AL'\n",
    "trpv = 0.01  # ratio of the vertical transverse dispersitvity to 'AL'\n",
    "dmcoef = 1.0000e-9\n",
    "\n",
    "dsp = flopy.mt3d.Mt3dDsp(\n",
    "    mt, al=al, trpt=trpt, trpv=trpv, dmcoef=dmcoef, multiDiff=False\n",
    ")"
   ]
  },
  {
   "cell_type": "code",
   "execution_count": 7,
   "id": "96c7d2ea-e29d-4e48-b2e4-09e7b275ccfe",
   "metadata": {},
   "outputs": [],
   "source": [
    "# Descripción del paquete GCG (Generalized Conjugate Gradient Solver) en MT3DMS utilizando FloPy:\n",
    "# mxiter es el número máximo de iteraciones totales del solver, configurado en 10,000.\n",
    "# iter1 es el número máximo de iteraciones internas por paso temporal, configurado en 50.\n",
    "# isolve especifica el método de solución, con el valor 3 indicando un solver de gradiente conjugado ortogonalizado (Orthomin).\n",
    "# ncrs es un parámetro que controla la estrategia de relajación cruzada, aquí establecido en 0 (sin relajación cruzada).\n",
    "# accl es el factor de aceleración para la convergencia del solver, establecido en 1.0.\n",
    "# cclose es el criterio de convergencia para el solver, configurado en 1.00×10−6.\n",
    "# iprgcg es la frecuencia de impresión de la información del solver, aquí establecido en 0 (sin impresión).\n",
    "\n",
    "mxiter = 10000\n",
    "iter1 = 50\n",
    "isolve = 3\n",
    "ncrs = 0\n",
    "accl = 1.000000\n",
    "cclose = 1.00e-06\n",
    "iprgcg = 0\n",
    "\n",
    "gcg = flopy.mt3d.Mt3dGcg(\n",
    "    mt,\n",
    "    mxiter=mxiter,\n",
    "    iter1=iter1,\n",
    "    isolve=isolve,\n",
    "    ncrs=ncrs,\n",
    "    accl=accl,\n",
    "    cclose=cclose,\n",
    "    iprgcg=iprgcg,\n",
    ")"
   ]
  },
  {
   "cell_type": "code",
   "execution_count": 8,
   "id": "4d328e6a-f56c-4d8a-ba10-8c149d8010df",
   "metadata": {},
   "outputs": [],
   "source": [
    "# Definición de Tipos de Fuentes: \n",
    "# Se obtiene y muestra el diccionario itype de FloPy para MT3DMS, que asocia tipos de fuentes a valores numéricos.\n",
    "# Estructura de Datos Predeterminada: \n",
    "# Se imprime la estructura de datos predeterminada para el paquete SSM, que define cómo se estructuran \n",
    "# los datos de entrada.\n",
    "# Inicialización de Datos SSM: Se crea un diccionario ssm_data para almacenar los datos de fuentes y sumideros para varios periodos de estrés.\n",
    "# Datos para Periodo de Estrés 0: Se agregan datos específicos de fuentes para el primer periodo de estrés, incluyendo un pozo (WEL) y modificaciones en concentraciones.\n",
    "# Repeticiones de Datos: Se utilizan bucles para añadir múltiples entradas a ssm_data para cada periodo de estrés, cambiando concentraciones y tipos de fuente.\n",
    "# Creación del Paquete SSM: Se instancia el paquete SSM con el modelo MT3DMS, pasando ssm_data y especificando un máximo de fuentes/sumideros.\n",
    "# Escritura del Archivo SSM: Se escribe el archivo de configuración del paquete SSM basado en los datos proporcionados.\n"
   ]
  },
  {
   "cell_type": "code",
   "execution_count": 9,
   "id": "d0ea236e-83c5-4d84-94fe-5797b591ab2d",
   "metadata": {},
   "outputs": [
    {
     "name": "stdout",
     "output_type": "stream",
     "text": [
      "{'CHD': 1, 'BAS6': 1, 'PBC': 1, 'WEL': 2, 'DRN': 3, 'RIV': 4, 'GHB': 5, 'MAS': 15, 'CC': -1}\n",
      "[('k', '<i4'), ('i', '<i4'), ('j', '<i4'), ('css', '<f4'), ('itype', '<i4')]\n"
     ]
    }
   ],
   "source": [
    "# Esta es la celda original para construir ssm_data\n",
    "itype = flopy.mt3d.Mt3dSsm.itype_dict()\n",
    "print(itype)\n",
    "print(flopy.mt3d.Mt3dSsm.get_default_dtype())\n",
    "\n",
    "flota=float(0.0)\n",
    "flota1 = float(-1.0)\n",
    "\n",
    "ssm_data = {}\n",
    "\n",
    "ssm_data[0] = [(4, 0, 49, flota, itype['WEL'])]\n",
    "for j in range(ncol):\n",
    "    ssm_data[0].append((0, 0, j, 1.5, 7))\n",
    "for j in range(ncol):\n",
    "    ssm_data[0].append((0, 0, j, flota, 8))\n",
    "    \n",
    "ssm_data[1] = [(4, 0, 49, 0.0, itype['WEL'])]\n",
    "for j in range(ncol):\n",
    "    ssm_data[1].append((0, 0, j, 2.5, 7))\n",
    "for j in range(ncol):\n",
    "    ssm_data[1].append((0, 0, j, -1.5, 8))\n",
    "\n",
    "ssm_data[2] = [(4, 0, 49, 0.0, itype['WEL'])]\n",
    "for j in range(ncol):\n",
    "    ssm_data[2].append((0, 0, j, flota, 7))\n",
    "for j in range(ncol):\n",
    "    ssm_data[2].append((0, 0, j, flota1, 8))\n",
    "        \n",
    "#for k in range(nlay):\n",
    "#    for i in range(nrow):     \n",
    "#        ssm_data[0].append((k, i, 0, 0.0, itype[\"GHB\"], 0.0, 0.0))\n",
    "\n",
    "ssm = flopy.mt3d.Mt3dSsm(\n",
    "    model = mt,\n",
    "    dtype=None,\n",
    "    stress_period_data=ssm_data,\n",
    "    mxss = 215 )\n",
    "#ssm.write_file()"
   ]
  },
  {
   "cell_type": "code",
   "execution_count": 10,
   "id": "7d4a7b89-596c-40d2-88f4-c0d41260f11b",
   "metadata": {},
   "outputs": [
    {
     "name": "stderr",
     "output_type": "stream",
     "text": [
      "C:\\Users\\Guillermo\\anaconda3\\Lib\\site-packages\\flopy\\mbase.py:659: UserWarning: Unit 34 of package SSM already in use.\n",
      "  warn(\n",
      "C:\\Users\\Guillermo\\anaconda3\\Lib\\site-packages\\flopy\\mbase.py:668: UserWarning: Two packages of the same type, Replacing existing 'SSM' package.\n",
      "  warn(\n"
     ]
    }
   ],
   "source": [
    "## 1. Versión personalizada para crear el archivo .ssm\n",
    "class CustomMt3dSsm(flopy.mt3d.Mt3dSsm):\n",
    "    def write_file(self, f=None):\n",
    "        # Si no se especifica archivo, usar el predeterminado\n",
    "        if f is None:\n",
    "            f = self.fn_path\n",
    "\n",
    "        # Abrir el archivo para escritura\n",
    "        with open(f, 'w') as file:\n",
    "            # Escribir encabezado con las banderas de opciones\n",
    "            file.write(\" T F F F F F F F F F\\n\")\n",
    "            file.write(f\"{self.mxss:>10}\\n\")  # Número máximo de celdas (mxss)\n",
    "\n",
    "            # Iterar sobre los datos del periodo de estrés y escribirlos\n",
    "            for stress_period, data in self.stress_period_data.data.items():\n",
    "                # Corregir el número de entradas (n_entries) del periodo de estrés\n",
    "                n_entries = len(data)\n",
    "                file.write(f\"{max(203, n_entries):>10}         0                                  # stress period {stress_period + 1}\\n\")\n",
    "\n",
    "                # Iterar sobre cada entrada en los datos del periodo de estrés\n",
    "                for idx, entry in enumerate(data):\n",
    "                    k, i, j, concentration, itype = entry\n",
    "                    # Aplicar el formato entero a la columna 4 para cada periodo estrés\n",
    "                    if stress_period in [0, 1, 2] and idx == 0:\n",
    "                        concentration_str = f\"{int(concentration):>10}\"\n",
    "                    else:\n",
    "                        concentration_str = f\"{concentration:10.1f}\"\n",
    "\n",
    "                    formatted_entry = (\n",
    "                        f\"{k + 1:>10}\",  # Índice k (capa), ajustado para empezar desde 1\n",
    "                        f\"{i + 1:>10}\",  # Índice i (fila), ajustado para empezar desde 1\n",
    "                        f\"{j + 1:>10}\",  # Índice j (columna), ajustado para empezar desde 1\n",
    "                        concentration_str,  # Concentración con o sin decimal\n",
    "                        f\"{itype:>10}\"  # Tipo de fuente/sumidero (itype)\n",
    "                    )\n",
    "                    line = \"\".join(formatted_entry)\n",
    "                    file.write(line + '\\n')\n",
    "\n",
    "                # Agregar los renglones faltantes\n",
    "                if n_entries < 105:\n",
    "                    start_idx = n_entries + 1\n",
    "                    for idx in range(start_idx, 106):\n",
    "                        file.write(f\"{1:>10}{1:>10}{idx:>10}{0.0:10.1f}{8:>10}\\n\")\n",
    "\n",
    "# Crear una instancia del paquete SSM utilizando la clase personalizada\n",
    "custom_ssm = CustomMt3dSsm(mt, stress_period_data=ssm_data, mxss=215)\n",
    "\n",
    "# Escribir el archivo con el formato personalizado\n",
    "custom_ssm.write_file()"
   ]
  },
  {
   "cell_type": "code",
   "execution_count": 11,
   "id": "076409ca-c0a4-457e-a26e-60b9765d6c1f",
   "metadata": {},
   "outputs": [],
   "source": [
    "# isothm: Define el tipo de isoterma. Se ha establecido a 1, lo que indica un modelo de adsorción lineal.\n",
    "# ireact: Indica el tipo de reacción en el modelo. Se ha establecido a 1, lo que sugiere reacciones de primer orden.\n",
    "# irctop: No está directamente utilizado en el constructor mostrado, pero usualmente controla la lectura \n",
    "# de los coeficientes de reacción.\n",
    "# igetsc: Establecido en 0, indica que no se obtendrán concentraciones escalares adicionales.\n",
    "# ireaction: No se utiliza en el constructor mostrado, pero generalmente controlaría opciones de reacción adicionales si se incluye.\n",
    "# rhob: Densidad de la masa del suelo, fijada en 0.25, usada en el cálculo de la adsorción.\n",
    "# rc1=lambda1: Tasa de reacción de primer orden para la fase disuelta, establecida en 0.002.\n",
    "# rc2=lambda2: Tasa de decaimiento en la capa del suelo, también establecida en 0.002.\n",
    "# rct: crea una instancia de la clase Mt3dRct en FloPy para configurar el paquete de reacción química en un modelo MT3DMS.\n",
    "\n",
    "isothm = 1 # Isoterma de adsorción lineal\n",
    "ireact = 1 # Reacciones de primer orden\n",
    "irctop = 2 # controla la lectura de los coeficientes de reacción.\n",
    "igetsc = 0 # no se obtendrán concentraciones escalares adicionales\n",
    "ireaction = 0 # controla opciones de reacción adicionales\n",
    "rhob = 0.25 # Densidad de masa del suelo\n",
    "rc1 = 0.002  # Tasa de reacción de primer orden para la fase disuelta\n",
    "rc2 = 0.002  # Decay on Soil Layer\n",
    "\n",
    "rct = flopy.mt3d.Mt3dRct(\n",
    "    mt, isothm=isothm, ireact=ireact, igetsc=igetsc, rhob = rhob, rc1=rc1, rc2=rc2\n",
    ")"
   ]
  },
  {
   "cell_type": "code",
   "execution_count": 12,
   "id": "3b3ae6e4-4295-4bbb-8c35-82f4c9438844",
   "metadata": {
    "tags": []
   },
   "outputs": [],
   "source": [
    "mt.write_input()\n"
   ]
  },
  {
   "cell_type": "code",
   "execution_count": 13,
   "id": "2e9638a9-455f-443f-9cd9-675a8976dc9c",
   "metadata": {},
   "outputs": [],
   "source": [
    "#------------------------------------------------------------------------"
   ]
  },
  {
   "cell_type": "code",
   "execution_count": 14,
   "id": "5536ff44-e879-4904-bfc8-002fc522e558",
   "metadata": {},
   "outputs": [],
   "source": [
    "#mt.run_model()"
   ]
  },
  {
   "cell_type": "code",
   "execution_count": null,
   "id": "893b34bc-ddea-4696-9b6d-c6036f5fc8d3",
   "metadata": {},
   "outputs": [],
   "source": []
  }
 ],
 "metadata": {
  "kernelspec": {
   "display_name": "Python 3 (ipykernel)",
   "language": "python",
   "name": "python3"
  },
  "language_info": {
   "codemirror_mode": {
    "name": "ipython",
    "version": 3
   },
   "file_extension": ".py",
   "mimetype": "text/x-python",
   "name": "python",
   "nbconvert_exporter": "python",
   "pygments_lexer": "ipython3",
   "version": "3.11.5"
  }
 },
 "nbformat": 4,
 "nbformat_minor": 5
}
