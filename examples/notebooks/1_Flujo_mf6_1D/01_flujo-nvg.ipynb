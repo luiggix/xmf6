{
 "cells": [
  {
   "cell_type": "code",
   "execution_count": 1,
   "id": "48f786a9-a7c0-4ed9-a6ed-4566fd3d9659",
   "metadata": {},
   "outputs": [],
   "source": [
    "#!pip install flopy"
   ]
  },
  {
   "cell_type": "markdown",
   "id": "6daae84d-55d2-4257-b8d8-22dc49557f30",
   "metadata": {},
   "source": [
    "# MODFLOW 6.\n",
    "\n",
    "## Componentes.\n",
    "\n",
    "**Véase [1]**.\n",
    "\n",
    "<img src=\"../figures/components_mf6.png\">\n",
    "\n",
    "Una simulación típicamente se basa en cuatro componentes:\n",
    "* **Models**. Un modelo resuelve un proceso hidrológico; por ejemplo, el GWF model, resuelve la ecuación de flujo subterráneo usando el método CVFD.\n",
    "* **Exchange**. Facilita la comunicación entre dos modelos; por ejemplo, un intercambio GWF-GWF, permite que algunas celdas de un modelo GWF estén hidráulicamente conectadas con celdas del otro modelo GWF.\n",
    "* **Solutions**. Resuelve uno o más modelos hidrológicos, utiliza métodos iterativos para resolver sistemas no-lineales.\n",
    "* **Timing**. Controla el paso de tiempo y determina el fin de una simulación.\n",
    "\n",
    "**<font color='Green'>[1] Langevin, C.D., Hughes, J.D., Provost, A.M., Banta, E.R., Niswonger, R.G., and Panday, Sorab, 2017, Documentation for the MODFLOW 6 Groundwater Flow (GWF) Model: U.S. Geological Survey Techniques and Methods, book 6, chap. A55, 197 p., accessed August 4, 2017. </font>** https://doi.org/10.3133/tm6A55."
   ]
  },
  {
   "cell_type": "markdown",
   "id": "0e3b9799-700c-4eb7-aab0-b5d34c10f174",
   "metadata": {},
   "source": [
    "## Esquema para GWF.\n",
    "\n",
    "<img src=\"../figures/modflow01.png\" width=300px hspace=\"5\" vspace=\"5\" style=\"float: left;\"/>\n",
    "\n",
    "**Tomado de [2]**.\n",
    "\n",
    "Figura 2. Diagrama esquemático que muestra varias formas comunes en las que los modelos de flujo de agua subterránea (GWF) y transporte de agua subterránea (GWT) se pueden configurar dentro de una simulación. El caso de uso común representado en (A) consiste en un único modelo GWF que se resuelve mediante una solución numérica.\n",
    "\n",
    "* El modelo GWF descrito en [3] se divide en *paquetes*, como se hacía en versiones anteriores de MODFLOW.\n",
    "* Un paquete es la parte del modelo que se ocupa de un único aspecto de la simulación.\n",
    "* Por ejemplo, el paquete *Well* simula el efecto de los pozos y el paquete *River* simula el efecto de los ríos.\n",
    "* El Modelo GWF contiene muchos paquetes y opciones que el usuario puede o no tener ocasión de utilizar.\n",
    "\n",
    "**<font color='Green'>[2] Langevin, C. D., Hughes, J. D., Provost, A. M., Russcher, M. J., & Panday, S. (2023). MODFLOW as a configurable Multi‐Model Hydrologic Simulator. Ground Water.</font>** https://doi.org/10.1111/gwat.13351"
   ]
  },
  {
   "cell_type": "markdown",
   "id": "06f24a0d-163e-4041-97e5-dd330d898a03",
   "metadata": {},
   "source": [
    "# Proceso de solución de flujo en 1D.\n",
    "\n",
    "**Con base en**: \n",
    "\n",
    "**<font color='Green'>[3] MODFLOW 6 – Example problems, MODFLOW 6 Development Team, with contributions from Chieh Ying Chen and Mike Toews 02/07/2024.**</font>  **32 MOC3D Problem 1**. (Archivo: `mf6examples.pdf` del directorio `doc` de la distribución de MODFLOW 6).\n"
   ]
  },
  {
   "cell_type": "markdown",
   "id": "eaf3c753-882f-445d-a039-953c3b3435d5",
   "metadata": {},
   "source": [
    "## Paso 0. Importación de bibliotecas"
   ]
  },
  {
   "cell_type": "code",
   "execution_count": 6,
   "id": "7b91b684-ee4c-4e39-8009-bc66163dbbc1",
   "metadata": {},
   "outputs": [],
   "source": [
    "# Temporal, para agregar las rutas correctas\n",
    "%run ../../src/ft1D/ruta_temporal.py\n",
    "if not(src_path in sys.path[0]):\n",
    "    sys.path.insert(0, os.path.abspath(a_path + src_path)) "
   ]
  },
  {
   "cell_type": "code",
   "execution_count": 7,
   "id": "7c18f2f7-8fc6-4053-b51f-14134592e01b",
   "metadata": {},
   "outputs": [],
   "source": [
    "import os, sys     # Intefaces con el sistema operativo.\n",
    "import numpy as np # Manejo de arreglos numéricos multidimensionales\n",
    "import matplotlib.pyplot as plt # Graficación\n",
    "\n",
    "# Biblioteca y módulos de flopy\n",
    "import flopy\n",
    "from flopy.plot.styles import styles\n",
    "\n",
    "# Extras para mf6 y flopy (módulo creado en esre proyecto)\n",
    "import xmf6"
   ]
  },
  {
   "cell_type": "code",
   "execution_count": 8,
   "id": "f2aa4723-44c1-4878-ae8d-891bf203c5ac",
   "metadata": {},
   "outputs": [
    {
     "data": {
      "text/plain": [
       "['C:\\\\Users\\\\NRBRT\\\\clone\\\\WMA\\\\src\\\\ft1D',\n",
       " 'C:\\\\Users\\\\NRBRT\\\\clone\\\\WMA\\\\notebooks\\\\1_Flujo_mf6_1D',\n",
       " 'C:\\\\ProgramData\\\\anaconda3\\\\python311.zip',\n",
       " 'C:\\\\ProgramData\\\\anaconda3\\\\DLLs',\n",
       " 'C:\\\\ProgramData\\\\anaconda3\\\\Lib',\n",
       " 'C:\\\\ProgramData\\\\anaconda3',\n",
       " '',\n",
       " 'C:\\\\Users\\\\NRBRT\\\\AppData\\\\Roaming\\\\Python\\\\Python311\\\\site-packages',\n",
       " 'C:\\\\ProgramData\\\\anaconda3\\\\Lib\\\\site-packages',\n",
       " 'C:\\\\ProgramData\\\\anaconda3\\\\Lib\\\\site-packages\\\\win32',\n",
       " 'C:\\\\ProgramData\\\\anaconda3\\\\Lib\\\\site-packages\\\\win32\\\\lib',\n",
       " 'C:\\\\ProgramData\\\\anaconda3\\\\Lib\\\\site-packages\\\\Pythonwin']"
      ]
     },
     "execution_count": 8,
     "metadata": {},
     "output_type": "execute_result"
    }
   ],
   "source": [
    "import sys\n",
    "sys.path"
   ]
  },
  {
   "cell_type": "markdown",
   "id": "5f82bb00-e0d5-447e-b187-119454b7bf52",
   "metadata": {},
   "source": [
    "## Paso 1. Definición de parámetros del problema.\n",
    "\n",
    "### Parámetros para la discretización del espacio.\n",
    "\n",
    "<img src=\"../figures/mesh_plainview_mf6.png\" width=300px hspace=\"5\" vspace=\"5\" style=\"float: right;\"/>\n",
    "<img src=\"../figures/mesh_3D_mf6.png\" width=300px hspace=\"5\" vspace=\"5\" style=\"float: right;\"/>\n",
    "\n",
    "* El modelo de malla consiste de 1 capa, 120 columnas y 1 renglón.\n",
    "* La longitud del renglón es de 12 [cm].\n",
    "* La longitud de la columna es 0.1 [cm].\n",
    "* Con la información anterior se calcula el ancho del renglón, DELC, y de las columnas, DELR, que ambos casos debe ser 0.1 $cm$.\n",
    "* La parte superior (TOP) de la celda es 1.0 [cm] y la parte inferior (BOTTOM) es cero.\n",
    "* La longitud de la capa es igual a 1.0 [cm], valor que se calcula de |TOP - BOTTOM|.\n",
    "\n",
    "<img src=\"../figures/flow_mf6.png\">"
   ]
  },
  {
   "cell_type": "markdown",
   "id": "be1ad752-76fd-42aa-9390-04412b452f25",
   "metadata": {},
   "source": [
    "|Parameter | Value| Units | Variable |\n",
    "|---:|:---:|:---:|:---|\n",
    "|Length of system (rows) |12.0| cm | `mesh.row_length` |\n",
    "|Number of layers |1| | `mesh.nlay` |\n",
    "|Number of rows |1| | `mesh.nrow` |\n",
    "|Number of columns |120| | `mesh.ncol` |\n",
    "|Column width |0.1| cm | `mesh.delr` |\n",
    "|Row width |0.1| cm | `mesh.delc`|\n",
    "|Top of the model |1.0| cm | `mesh.top`|\n",
    "|Layer bottom elevation (cm) |0| cm | `mesh.bottom` |"
   ]
  },
  {
   "cell_type": "code",
   "execution_count": 11,
   "id": "36f9d73b-c68d-4e2f-bef5-19c9daed22df",
   "metadata": {},
   "outputs": [
    {
     "name": "stdout",
     "output_type": "stream",
     "text": [
      "\u001b[34m\n",
      "Space discretization\n",
      "------------------------------\u001b[0m\n",
      "          row_length = 12.0      \n",
      "          col_length = 0.1       \n",
      "          lay_length = 1.0       \n",
      "                ncol = 120       \n",
      "                nrow = 1         \n",
      "                nlay = 1         \n",
      "                delr = 0.1       \n",
      "                delc = 0.1       \n",
      "                dell = 1.0       \n",
      "                 top = 1.0       \n",
      "              bottom = 0         \n"
     ]
    }
   ],
   "source": [
    "mesh = xmf6.MeshDis(\n",
    "    nrow = 1,    # Number of rows\n",
    "    ncol = 120,  # Number of columns\n",
    "    nlay = 1,    # Number of layers\n",
    "    row_length = 12.0,    # Length of system ($cm$)\n",
    "    column_length = 0.1,  # Length of system ($cm$)\n",
    "    top = 1.0,   # Top of the model ($cm$)\n",
    "    bottom = 0,  # Layer bottom elevation ($cm$)\n",
    ")\n",
    "\n",
    "xmf6.nice_print(mesh.get_dict(), 'Space discretization')"
   ]
  },
  {
   "cell_type": "markdown",
   "id": "9b71590a-38d1-4ef8-9a5e-67ff2df8b17e",
   "metadata": {},
   "source": [
    "### Parámetros para la discretización del tiempo.\n",
    "\n",
    "<center>\n",
    "<img src=\"../figures/time_step.png\" width=500px>\n",
    "</center>\n",
    "  \n",
    "The length of a time step is calculated by multiplying the length of the previous time step by TSMULT. \n",
    "The length of the first time step, $\\Delta t_1$, is related to PERLEN, NSTP, and TSMULT by the relation:\n",
    "$$\n",
    "\\Delta t_1= \\frac{\\text{PERLEN}}{\\text{NSTP}} \\;\\; \\text{para} \\;\\; \\text{TSMULT} = 1\n",
    "$$\n",
    "\n",
    "$$\n",
    "\\Delta t_1= \\text{PERLEN} \\frac{\\text{TSMULT} - 1}{\\text{TSMULT}^\\text{nstp}-1} \\;\\; \\text{para} \\;\\; \\text{TSMULT} \\neq 1\n",
    "$$\n",
    "\n",
    "The length of each successive time step is computed as\n",
    "\n",
    "$$\n",
    "\\Delta t = \\Delta t_{old} \\text{TSMULT}\n",
    "$$\n",
    "\n",
    "where:\n",
    "* `perlen` (double) is the length of a stress period.\n",
    "* `nstp` (integer) is the number of time steps in a stress period.\n",
    "* `tsmult` (double) is the multiplier for the length of successive time steps.\n",
    "  \n",
    "**<font color='Green'>[4] Hughes, J.D., Langevin, C.D., and Banta, E.R., 2017, *Documentation for the MODFLOW 6 framework: U.S. Geological Survey Techniques and Methods*, book 6, chap. A57, 40 p.,</font>** https://doi.org/10.3133/tm6A57. **Timing Module, pp 10,12**.\n",
    "\n",
    "|Parameter | Value| Units | Variable |\n",
    "|---:|:---:|:---:|:---|\n",
    "|Number of stress periods |1| | `tm_par['nper']` |\n",
    "|Total time |120| s | `tm_par['total_time']` |\n",
    "|Number of time steps| 1 | | `tm_par['nstp']`|\n",
    "|Multiplier | 1 | | `tm_par['tsmult']`|"
   ]
  },
  {
   "cell_type": "markdown",
   "id": "6e372a06-1fb5-4ed5-a793-66bb4071aac3",
   "metadata": {},
   "source": [
    "1. **Define un diccionario tm_par con parámetros de discretización temporal para una simulación en MODFLOW 6.**\n",
    "2. Un solo periodo de tiempo (nper=1).\n",
    "3. Duración total de 120.0 segundos (total_time=120.0).\n",
    "4. Un paso de tiempo (nstp=1.0).\n",
    "5. Pasos de tiempo uniformes (tsmult=1.0)"
   ]
  },
  {
   "cell_type": "code",
   "execution_count": 14,
   "id": "d1992a7c-6b64-4305-93eb-1152fa7480ce",
   "metadata": {},
   "outputs": [
    {
     "name": "stdout",
     "output_type": "stream",
     "text": [
      "\u001b[34m\n",
      "Time discretization\n",
      "------------------------------\u001b[0m\n",
      "                nper = 1         \n",
      "          total_time = 120.0     \n",
      "                nstp = 1.0       \n",
      "              tsmult = 1.0       \n"
     ]
    }
   ],
   "source": [
    "tm_par = dict(\n",
    "    nper = 1,           # Number of periods\n",
    "    total_time = 120.0, # Simulation time ($s$)\n",
    "    nstp = 1.0,         # Number of time steps\n",
    "    tsmult = 1.0        # Multiplier for the length of successive time steps.\n",
    ")\n",
    "xmf6.nice_print(tm_par, 'Time discretization')"
   ]
  },
  {
   "cell_type": "markdown",
   "id": "de09e913-cb4d-41ad-817e-184d0497e71d",
   "metadata": {},
   "source": [
    "### Parámetros físicos.\n",
    "\n",
    "|Parameter | Value| Units | Variable |\n",
    "|---:|:---:|:---:|:---|\n",
    "|Specific discharge |0.1| cm s$^{-1}$ | `ph_par['specific_discharge']` |\n",
    "|Hydraulic conductivity |0.01| cm s$^{-1}$ | `ph_par['hydraulic_conductivity']` |\n",
    "|Source concentration |1.0| unitless | `ph_par['source_concentration']` |\n"
   ]
  },
  {
   "cell_type": "markdown",
   "id": "8934bce8-7ef5-495d-9ab7-30c12d1e88a6",
   "metadata": {},
   "source": [
    "Define un diccionario para las unidades de medida.\n",
    "Unidades de tiempo: segundos (ml_units[\"time\"] = \"seconds\").\n",
    "Unidades de longitud: centímetros (ml_units[\"length\"] = \"centimeters\")."
   ]
  },
  {
   "cell_type": "code",
   "execution_count": 17,
   "id": "3106d008-f37b-4c86-8e0a-dd330954e894",
   "metadata": {},
   "outputs": [
    {
     "name": "stdout",
     "output_type": "stream",
     "text": [
      "\u001b[34m\n",
      "Units\n",
      "------------------------------\u001b[0m\n",
      "                time = seconds   \n",
      "              length = centimeters\n",
      "\u001b[34m\n",
      "Physical parameters\n",
      "------------------------------\u001b[0m\n",
      "  specific_discharge = 0.1       \n",
      "hydraulic_conductivity = 0.01      \n",
      "source_concentration = 1.0       \n"
     ]
    }
   ],
   "source": [
    "## Model Units\n",
    "ml_units = {} # Diccionario para las unidades del modelo \n",
    "ml_units[\"time\"] = \"seconds\"\n",
    "ml_units[\"length\"] = \"centimeters\"\n",
    "xmf6.nice_print(ml_units, 'Units')\n",
    "\n",
    "## Physical parameters\n",
    "ph_par = {} # Diccionario para los parámetros físicos\n",
    "ph_par[\"specific_discharge\"] = 0.1  # Specific discharge ($cm s^{-1}$) (flujo de agua por unidad de área).\n",
    "ph_par[\"hydraulic_conductivity\"] = 0.01  # Hydraulic conductivity ($cm s^{-1}$)\n",
    "ph_par[\"source_concentration\"] = 1.0  # Source concentration (unitless)\n",
    "xmf6.nice_print(ph_par, 'Physical parameters')"
   ]
  },
  {
   "cell_type": "markdown",
   "id": "b6e21570-82d4-4c81-aa18-fd55e493f195",
   "metadata": {},
   "source": [
    "## Paso 2. MODFLOW6 environment y salida."
   ]
  },
  {
   "cell_type": "markdown",
   "id": "b074f6cd-8ca0-4e41-b1fc-d7af579203d8",
   "metadata": {},
   "source": [
    "1. Creando un diccionario para parámetros de configuración.\n",
    "2. Directorio de trabajo: la ruta actual más /output (ws=os.getcwd() + '/output').\n",
    "3. Ruta del ejecutable de MODFLOW 6 (mf6_exe='C:\\\\Users\\\\NRBRT\\\\FLOPY-MF6-MT3D\\\\Exe\\\\mf6.exe').\n",
    "4. Nombre de la simulación: flow (flow_name='flow')\n",
    "\n",
    "1. Creando un diccionario con parámetros para archivos de salida.\n",
    "2. Archivo de cargas: nombre basado en flow_name con extensión .hds (head_file=f\"{os_par['flow_name']}.hds\").\n",
    "3. Archivo del balance de flujo: nombre basado en flow_name con extensión .bud (fbudget_file=f\"{os_par['flow_name']}.bud\")."
   ]
  },
  {
   "cell_type": "code",
   "execution_count": 20,
   "id": "0454ccd8-207d-44c7-8ffe-e60e438a2571",
   "metadata": {},
   "outputs": [
    {
     "name": "stdout",
     "output_type": "stream",
     "text": [
      "\u001b[34m\n",
      "MODFLOW 6 environment\n",
      "------------------------------\u001b[0m\n",
      "                  ws = C:\\Users\\NRBRT\\clone\\WMA\\notebooks\\1_Flujo_mf6_1D/output\n",
      "             mf6_exe = C:\\Users\\NRBRT\\FLOPY-MF6-MT3D\\Exe\\mf6.exe\n",
      "           flow_name = flow      \n",
      "\u001b[34m\n",
      "Output files\n",
      "------------------------------\u001b[0m\n",
      "           head_file = flow.hds  \n",
      "        fbudget_file = flow.bud  \n"
     ]
    }
   ],
   "source": [
    "os_par = dict(\n",
    "    ws = os.getcwd() + '/output', # Ruta de donde estamos actualmente\n",
    "    mf6_exe = 'C:\\\\Users\\\\NRBRT\\\\FLOPY-MF6-MT3D\\\\Exe\\\\mf6.exe', # Ejecutable\n",
    "    flow_name = 'flow', # Nombre de la simulación\n",
    ")\n",
    "xmf6.nice_print(os_par, 'MODFLOW 6 environment')\n",
    "\n",
    "oc_par = dict(\n",
    "    head_file = f\"{os_par['flow_name']}.hds\",\n",
    "    fbudget_file = f\"{os_par['flow_name']}.bud\"\n",
    ")\n",
    "xmf6.nice_print(oc_par, 'Output files')"
   ]
  },
  {
   "cell_type": "markdown",
   "id": "64b4ecd3-37a8-411a-b564-fc6e2d089533",
   "metadata": {},
   "source": [
    "## Paso 3. Definición de la simulación (`MFSimulation` object)"
   ]
  },
  {
   "cell_type": "markdown",
   "id": "e7ff03dd-e7bd-445a-9b9d-d30e36e8b0b1",
   "metadata": {},
   "source": [
    "**Recordemos que:**\n",
    "\n",
    "<img src=\"../figures/modflow01.png\" width=300px hspace=\"5\" vspace=\"5\" style=\"float: left;\"/>"
   ]
  },
  {
   "cell_type": "markdown",
   "id": "c3714f2e-2699-4200-9af3-10cc2614983c",
   "metadata": {},
   "source": [
    "1. Crea un objeto de simulación de MODFLOW 6.\n",
    "2. Nombre de la simulación: flow (sim_name=os_par['flow_name']).\n",
    "3. Directorio de trabajo: la ruta actual más /output (sim_ws=os_par['ws']).\n",
    "4. Ruta del ejecutable de MODFLOW 6 (exe_name=os_par['mf6_exe']).\n",
    "5. Este objeto MFSimulation es el contenedor principal que gestionará la simulación de MODFLOW 6, incluyendo todos los modelos y paquetes asociados."
   ]
  },
  {
   "cell_type": "code",
   "execution_count": 24,
   "id": "a0ff8fe9-6943-4d39-8c31-267298506288",
   "metadata": {},
   "outputs": [
    {
     "name": "stdout",
     "output_type": "stream",
     "text": [
      "sim_name = flow\n",
      "sim_path = C:\\Users\\NRBRT\\clone\\WMA\\notebooks\\1_Flujo_mf6_1D/output\n",
      "exe_name = C:\\Users\\NRBRT\\FLOPY-MF6-MT3D\\Exe\\mf6.exe\n",
      "\n",
      "###################\n",
      "Package mfsim.nam\n",
      "###################\n",
      "\n",
      "package_name = mfsim.nam\n",
      "filename = mfsim.nam\n",
      "package_type = nam\n",
      "model_or_simulation_package = simulation\n",
      "simulation_name = flow\n",
      "\n",
      "\n",
      "\n"
     ]
    }
   ],
   "source": [
    "sim = flopy.mf6.MFSimulation(\n",
    "    sim_name = os_par['flow_name'], \n",
    "    sim_ws   = os_par['ws'], \n",
    "    exe_name = os_par['mf6_exe']\n",
    ")\n",
    "print(sim)"
   ]
  },
  {
   "cell_type": "markdown",
   "id": "427c9dec-abd0-4fad-a874-3bb33dc49147",
   "metadata": {},
   "source": [
    "## Paso 4. Definición de la discretización temporal (`ModflowTDis` object)\n",
    "tm_par se definió en el Paso 1."
   ]
  },
  {
   "cell_type": "markdown",
   "id": "0a94b4d5-badd-4ecb-a661-062fe3534f18",
   "metadata": {},
   "source": [
    "1. Crea un objeto de discretización temporal (TDIS) para la simulación.\n",
    "2. Asocia el paquete TDIS con el objeto de simulación sim.\n",
    "3. Utilizando el diccionario tm_par, establece el número de periodos de tiempo (nper): 1.\n",
    "4. Indica la duración del periodo: 120.0 segundos, con 1 paso de tiempo y un multiplicador de 1.0 (perioddata).\n",
    "5. Utilizando el diccionario ml_units, establece las unidades de tiempo: segundos (time_units='seconds').\n",
    "6. Este objeto ModflowTdis define cómo se estructura el tiempo en la simulación, especificando la cantidad de periodos de tiempo, la duración de cada periodo, el número de pasos de tiempo dentro de cada periodo y las unidades de tiempo utilizadas.\n",
    "7. Por default: flopy.mf6.ModflowTdis(\n",
    "    simulation,\n",
    "    loading_package=False,\n",
    "    time_units=None,\n",
    "    start_date_time=None,\n",
    "    ats_filerecord=None,\n",
    "    nper=1,\n",
    "    perioddata=((1.0, 1, 1.0),),\n",
    "    filename=None,\n",
    "    pname=None,\n",
    "    parent_file=None,\n",
    ")"
   ]
  },
  {
   "cell_type": "code",
   "execution_count": 27,
   "id": "2d41847b-f88c-4e12-acba-f96004600ac4",
   "metadata": {},
   "outputs": [
    {
     "data": {
      "text/plain": [
       "package_name = flow.tdis\n",
       "filename = flow.tdis\n",
       "package_type = tdis\n",
       "model_or_simulation_package = simulation\n",
       "simulation_name = flow\n",
       "\n",
       "Block options\n",
       "--------------------\n",
       "time_units\n",
       "{internal}\n",
       "('seconds')\n",
       "\n",
       "\n",
       "Block dimensions\n",
       "--------------------\n",
       "nper\n",
       "{internal}\n",
       "(1)\n",
       "\n",
       "\n",
       "Block perioddata\n",
       "--------------------\n",
       "perioddata\n",
       "{internal}\n",
       "(rec.array([(120., 1.0, 1.)],\n",
       "          dtype=[('perlen', '<f8'), ('nstp', 'O'), ('tsmult', '<f8')]))\n",
       "\n"
      ]
     },
     "execution_count": 27,
     "metadata": {},
     "output_type": "execute_result"
    }
   ],
   "source": [
    "flopy.mf6.ModflowTdis(\n",
    "    sim, \n",
    "    nper = tm_par[\"nper\"], \n",
    "    perioddata = ((tm_par[\"total_time\"], \n",
    "                   tm_par[\"nstp\"], \n",
    "                   tm_par[\"tsmult\"]),), \n",
    "    time_units = ml_units[\"time\"]\n",
    ")"
   ]
  },
  {
   "cell_type": "markdown",
   "id": "c489310f-0c8e-44cb-9e97-6ced157242ed",
   "metadata": {},
   "source": [
    "## Paso 5. Definición de la solución numérica (`ModflowIms` object)"
   ]
  },
  {
   "cell_type": "markdown",
   "id": "da9700d0-0152-47cb-9541-79817724e270",
   "metadata": {},
   "source": [
    "1. Crea un objeto de solucionador iterativo (IMS) para la simulación.\n",
    "2. Asocia el paquete IMS con el objeto de simulación sim.\n",
    "3. Por default: flopy.mf6.ModflowIms(\n",
    "    simulation,\n",
    "    loading_package=False,\n",
    "    print_option=None,\n",
    "    complexity=None,\n",
    "    csv_output_filerecord=None,\n",
    "    csv_outer_output_filerecord=None,\n",
    "    csv_inner_output_filerecord=None,\n",
    "    no_ptcrecord=None,\n",
    "    ats_outer_maximum_fraction=None,\n",
    "    outer_hclose=None,\n",
    "    outer_dvclose=None,\n",
    "    outer_rclosebnd=None,\n",
    "    outer_maximum=None,\n",
    "    under_relaxation=None,\n",
    "    under_relaxation_gamma=None,\n",
    "    under_relaxation_theta=None,\n",
    "    under_relaxation_kappa=None,\n",
    "    under_relaxation_momentum=None,\n",
    "    backtracking_number=None,\n",
    "    backtracking_tolerance=None,\n",
    "    backtracking_reduction_factor=None,\n",
    "    backtracking_residual_limit=None,\n",
    "    inner_maximum=None,\n",
    "    inner_hclose=None,\n",
    "    inner_dvclose=None,\n",
    "    rcloserecord=None,\n",
    "    linear_acceleration=None,\n",
    "    relaxation_factor=None,\n",
    "    preconditioner_levels=None,\n",
    "    preconditioner_drop_tolerance=None,\n",
    "    number_orthogonalizations=None,\n",
    "    scaling_method=None,\n",
    "    reordering_method=None,\n",
    "    filename=None,\n",
    "    pname=None,\n",
    "    parent_file=None,\n",
    ")"
   ]
  },
  {
   "cell_type": "code",
   "execution_count": 29,
   "id": "f6db29f0-7e1a-49b3-b2b0-ec3311c056eb",
   "metadata": {},
   "outputs": [
    {
     "name": "stdout",
     "output_type": "stream",
     "text": [
      "package_name = ims_-1\n",
      "filename = flow.ims\n",
      "package_type = ims\n",
      "model_or_simulation_package = simulation\n",
      "simulation_name = flow\n",
      "\n",
      "\n"
     ]
    }
   ],
   "source": [
    "ims = flopy.mf6.ModflowIms(sim)\n",
    "print(ims)"
   ]
  },
  {
   "cell_type": "markdown",
   "id": "fa8df70c-2b25-4ff8-99cb-fd2d508636c4",
   "metadata": {},
   "source": [
    "## Paso 6. Modelo de Flujo (ModflowGwf object)\n",
    "\n",
    "### GWF: Paquetes\n",
    "\n",
    "**<font color='Green'>Véase [1].</font>**\n",
    "\n",
    "<img src=\"../figures/gwf_mf6.png\" width=500px hspace=\"5\" vspace=\"5\" style=\"float: left;\"/>\n",
    "<img src=\"../figures/gwf_mf6_pack.png\" width=500px hspace=\"5\" vspace=\"5\" style=\"float: left;\"/>"
   ]
  },
  {
   "cell_type": "markdown",
   "id": "7fa03689-2051-483d-b6b7-93bba6de4fc3",
   "metadata": {},
   "source": [
    "1. Crea un objeto de modelo de flujo de agua subterránea (GWF) para la simulación.\n",
    "2. Asocia el modelo GWF con el objeto de simulación sim.\n",
    "3. Define el nombre del modelo utilizando flow_name del diccionario os_par.\n",
    "4. Habilita la opción para guardar los flujos de agua durante la simulación (save_flows=True)\n",
    "5. Por default: flopy.mf6.ModflowGwf(\n",
    "    simulation,\n",
    "    modelname='model',\n",
    "    model_nam_file=None,\n",
    "    version='mf6',\n",
    "    exe_name='mf6.exe',\n",
    "    model_rel_path='.',\n",
    "    list=None,\n",
    "    print_input=None,\n",
    "    print_flows=None,\n",
    "    save_flows=None,\n",
    "    newtonoptions=None,\n",
    "    packages=None,\n",
    "    **kwargs,\n",
    ")"
   ]
  },
  {
   "cell_type": "code",
   "execution_count": 31,
   "id": "9c03995e-c200-41ef-916c-84377e9a5ac4",
   "metadata": {},
   "outputs": [
    {
     "name": "stdout",
     "output_type": "stream",
     "text": [
      "name = flow\n",
      "model_type = gwf6\n",
      "version = mf6\n",
      "model_relative_path = .\n",
      "\n",
      "\n"
     ]
    }
   ],
   "source": [
    "gwf = flopy.mf6.ModflowGwf(\n",
    "    sim, \n",
    "    modelname  = os_par['flow_name'], \n",
    "    save_flows = True\n",
    ")\n",
    "print(gwf)"
   ]
  },
  {
   "cell_type": "markdown",
   "id": "0f6db909-2782-4706-9fff-48c70fee9d80",
   "metadata": {},
   "source": [
    "## Paso 7. Paquete: discretización espacial (`ModflowGwfdis` object)"
   ]
  },
  {
   "cell_type": "markdown",
   "id": "b832007f-2645-4399-89ad-cf24d3cea7c5",
   "metadata": {},
   "source": [
    "1. Crea un objeto de discretización espacial (DIS) para el modelo GWF.\n",
    "2. Asocia el paquete DIS con el objeto de modelo de flujo de agua subterránea gwf.\n",
    "3. Define las unidades de longitud utilizando length del diccionario ml_units.\n",
    "4. Establece el número de capas (nlay), filas (nrow) y columnas (ncol) utilizando los valores de mesh.\n",
    "5. Especifica los anchos de las columnas (delr) y filas (delc) utilizando los valores de mesh.\n",
    "6. Define la elevación superior (top) y la elevación inferior (botm) utilizando los valores de mesh.\n",
    "7. Este objeto ModflowGwfdis configura la discretización espacial del modelo de flujo de agua subterránea, especificando las dimensiones de la malla y las elevaciones, que son esenciales para definir el dominio espacial del modelo.\n",
    "8. Por default: flopy.mf6.ModflowGwfdis(\n",
    "    model,\n",
    "    loading_package=False,\n",
    "    length_units=None,\n",
    "    nogrb=None,\n",
    "    xorigin=None,\n",
    "    yorigin=None,\n",
    "    angrot=None,\n",
    "    nlay=1,\n",
    "    nrow=2,\n",
    "    ncol=2,\n",
    "    delr=1.0,\n",
    "    delc=1.0,\n",
    "    top=1.0,\n",
    "    botm=0.0,\n",
    "    idomain=None,\n",
    "    filename=None,\n",
    "    pname=None,\n",
    "    parent_file=None,\n",
    ")"
   ]
  },
  {
   "cell_type": "code",
   "execution_count": 33,
   "id": "fa754bd8-8a2c-4d10-b849-4532a6afbe4c",
   "metadata": {},
   "outputs": [
    {
     "name": "stdout",
     "output_type": "stream",
     "text": [
      "package_name = dis\n",
      "filename = flow.dis\n",
      "package_type = dis\n",
      "model_or_simulation_package = model\n",
      "model_name = flow\n",
      "\n",
      "Block options\n",
      "--------------------\n",
      "length_units\n",
      "{internal}\n",
      "(centimeters)\n",
      "\n",
      "\n",
      "Block dimensions\n",
      "--------------------\n",
      "nlay\n",
      "{internal}\n",
      "(1)\n",
      "\n",
      "nrow\n",
      "{internal}\n",
      "(1)\n",
      "\n",
      "ncol\n",
      "{internal}\n",
      "(120)\n",
      "\n",
      "\n",
      "Block griddata\n",
      "--------------------\n",
      "delr\n",
      "{constant 0.1}\n",
      "\n",
      "delc\n",
      "{constant 0.1}\n",
      "\n",
      "top\n",
      "{constant 1.0}\n",
      "\n",
      "botm\n",
      "{constant 0}\n",
      "\n",
      "\n",
      "\n"
     ]
    }
   ],
   "source": [
    "dis = flopy.mf6.ModflowGwfdis(\n",
    "    gwf,\n",
    "    length_units = ml_units[\"length\"],\n",
    "    nlay = mesh.nlay,\n",
    "    nrow = mesh.nrow,\n",
    "    ncol = mesh.ncol,\n",
    "    delr = mesh.delr,\n",
    "    delc = mesh.delc,\n",
    "    top  = mesh.top,\n",
    "    botm = mesh.bottom,\n",
    ")\n",
    "print(dis)"
   ]
  },
  {
   "cell_type": "markdown",
   "id": "3c71cb8b-798a-4602-9b5e-7fe5ea8a020c",
   "metadata": {},
   "source": [
    "## Paso 8. Paquete: condiciones iniciales (`ModflowGwfic` object)"
   ]
  },
  {
   "cell_type": "markdown",
   "id": "a49535e2-d426-4459-97e8-6613cf2c5179",
   "metadata": {},
   "source": [
    "1. **ic = flopy.mf6.ModflowGwfic(gwf, strt=1.0)**. Crea un objeto de condiciones iniciales (IC): Utiliza la clase flopy.mf6.ModflowGwfic para definir las condiciones iniciales del modelo de flujo de agua subterránea.\n",
    "2. Asocia el paquete **IC** con el modelo GWF: El objeto **gwf** representa el modelo de flujo de agua subterránea de Flopy al que pertenece este paquete de condiciones iniciales.\n",
    "3. Establece el nivel de agua inicial **strt=1.0**(double): Define el nivel de agua inicial (head) uniforme para todas las celdas del modelo, fijándolo en 1.0 unidades (pueden ser metros, pies, etc., dependiendo de las unidades del modelo).\n",
    "4. Especifica las condiciones iniciales del modelo: Al definir strt=1.0, se establece que al comienzo de la simulación, todas las celdas del modelo tendrán un nivel de agua inicial de 1.0 (cm).\n",
    "5. Por default: flopy.mf6.ModflowGwfic(\n",
    "    model,\n",
    "    loading_package=False,\n",
    "    strt=1.0,\n",
    "    filename=None,\n",
    "    pname=None,\n",
    "    parent_file=None,\n",
    ")"
   ]
  },
  {
   "cell_type": "code",
   "execution_count": 36,
   "id": "2236aa56-087e-45ec-af06-ee6b084e6a10",
   "metadata": {},
   "outputs": [
    {
     "name": "stdout",
     "output_type": "stream",
     "text": [
      "package_name = ic\n",
      "filename = flow.ic\n",
      "package_type = ic\n",
      "model_or_simulation_package = model\n",
      "model_name = flow\n",
      "\n",
      "Block griddata\n",
      "--------------------\n",
      "strt\n",
      "{constant 1.0}\n",
      "\n",
      "\n",
      "\n"
     ]
    }
   ],
   "source": [
    "ic = flopy.mf6.ModflowGwfic(\n",
    "    gwf, \n",
    "    strt=1.0 # Initial head (cm)\n",
    ") \n",
    "print(ic)"
   ]
  },
  {
   "cell_type": "markdown",
   "id": "37e91119-47f2-44f5-aeb3-94591416befe",
   "metadata": {},
   "source": [
    "## Paso 9. Paquete: propiedades de flujo en los nodos (`ModflowGwfnpd` object)"
   ]
  },
  {
   "cell_type": "markdown",
   "id": "51a8534f-215f-4438-87a0-a0699cbdaf72",
   "metadata": {},
   "source": [
    "1. **npf = flopy.mf6.ModflowGwfnpf(gwf,save_specific_discharge=True,save_saturation=True,\n",
    "   icelltype=0, k=hydraulic_conductivity,)**. Crea un objeto ModflowGwfnpf:Representa el paquete de propiedades de flujo nodal (NPF) para el modelo GWF.\n",
    "2. Asocia el paquete NPF con el modelo gwf: **gwf**: El modelo MODFLOW 6 al que se asociará el paquete de parámetros de flujo.\n",
    "4. **save_specific_discharge=True**: Indica que se deben guardar las descargas específicas en cada celda del modelo\n",
    "5. **save_saturation=True**: Indica si se deben guardar las saturaciones de agua en cada celda del modelo\n",
    "6. **icelltype=0**: Especifica el tipo de celda. 0 para celdas confinadas y 1 para celdas no confinadas.\n",
    "7. **k=ph_par['hydraulic_conductivity']**:  Establece la conductividad hidráulica de las celdas utilizando el valor hydraulic_conductivity del diccionario ph_par. En este caso, la conductividad hidráulica es 0.01 cm/s.\n",
    "\n",
    "Por default: flopy.mf6.ModflowGwfnpf(\n",
    "    model,\n",
    "    loading_package=False,\n",
    "    save_flows=None,\n",
    "    alternative_cell_averaging=None,\n",
    "    thickstrt=None,\n",
    "    cvoptions=None,\n",
    "    perched=None,\n",
    "    rewet_record=None,\n",
    "    xt3doptions=None,\n",
    "    save_specific_discharge=None,\n",
    "    save_saturation=None,\n",
    "    k22overk=None,\n",
    "    k33overk=None,\n",
    "    tvk_filerecord=None,\n",
    "    icelltype=0,\n",
    "    k=1.0,\n",
    "    k22=None,\n",
    "    k33=None,\n",
    "    angle1=None,\n",
    "    angle2=None,\n",
    "    angle3=None,\n",
    "    wetdry=None,\n",
    "    filename=None,\n",
    "    pname=None,\n",
    "    parent_file=None,\n",
    ")"
   ]
  },
  {
   "cell_type": "code",
   "execution_count": 39,
   "id": "9e344c83-df2d-4ae1-b876-88a5a181c6a3",
   "metadata": {},
   "outputs": [
    {
     "name": "stdout",
     "output_type": "stream",
     "text": [
      "package_name = npf\n",
      "filename = flow.npf\n",
      "package_type = npf\n",
      "model_or_simulation_package = model\n",
      "model_name = flow\n",
      "\n",
      "Block options\n",
      "--------------------\n",
      "save_specific_discharge\n",
      "{internal}\n",
      "(True)\n",
      "\n",
      "save_saturation\n",
      "{internal}\n",
      "(True)\n",
      "\n",
      "\n",
      "Block griddata\n",
      "--------------------\n",
      "icelltype\n",
      "{constant 0}\n",
      "\n",
      "k\n",
      "{constant 0.01}\n",
      "\n",
      "\n",
      "\n"
     ]
    }
   ],
   "source": [
    "npf = flopy.mf6.ModflowGwfnpf(\n",
    "    gwf,\n",
    "    save_specific_discharge = True,\n",
    "    save_saturation = True,\n",
    "    icelltype = 0,\n",
    "    k = ph_par['hydraulic_conductivity'],\n",
    ")\n",
    "print(npf)"
   ]
  },
  {
   "cell_type": "markdown",
   "id": "2280c606-9839-4d59-933d-8f6e3dc5d96f",
   "metadata": {},
   "source": [
    "## Paso 10. Paquete: CHD (`ModflowGwfchd` object)"
   ]
  },
  {
   "cell_type": "markdown",
   "id": "2b017747-1c2d-44d9-9ce1-9c6b7fc1b412",
   "metadata": {},
   "source": [
    "1. **chd = flopy.mf6.ModflowGwfchd(gwf, stress_period_data=[[(0, 0, ncol - 1), 1.0]])** Crea un objeto de cargas constantes (CHD) para el modelo GWF.\n",
    "2. Asocia el paquete CHD con el objeto de modelo de flujo de agua subterránea gwf.\n",
    "3. Estas condiciones permiten la interacción entre el flujo de agua subterránea y las estructuras superficiales, como pozos, ríos o cuerpos de agua.\n",
    "4. En este caso:\n",
    "5. **gwf**: El modelo MODFLOW 6 al que se asociará el paquete de condiciones de carga constante (CHD).\n",
    "6. **stress_period_data**: Define las condiciones de cargas constantes para un nodo del modelo durante el periodo de estrés. Cada sublista contiene una tupla que representa la ubicación (k, i, j) de la celda y el valor de la carga constante. \n",
    "7. **Por ejemplo, [(0, 0, ncol - 1), 1.0]** establece una carga constante de 1.0 en la celda ubicada en la capa 0, fila 0 y columna ncol - 1.\n",
    "\n",
    "8. Si tuviera dos periodos estrés, se indicaría de la siguiente forma:\n",
    "chd = flopy.mf6.ModflowGwfchd(\n",
    "    gwf, \n",
    "    stress_period_data=[\n",
    "        [(0, 0, mesh.ncol - 1), 1.0],  # Periodo de estrés 1: Nodo, Valor constante\n",
    "        [(0, 0, mesh.ncol - 1), 1.5]   # Periodo de estrés 2: Nodo, Valor constante\n",
    "    ]\n",
    ")\n",
    "\n",
    "9. Por default:flopy.mf6.ModflowGwfchd(\n",
    "    model,\n",
    "    loading_package=False,\n",
    "    auxiliary=None,\n",
    "    auxmultname=None,\n",
    "    boundnames=None,\n",
    "    print_input=None,\n",
    "    print_flows=None,\n",
    "    save_flows=None,\n",
    "    timeseries=None,\n",
    "    observations=None,\n",
    "    maxbound=None,\n",
    "    stress_period_data=None,\n",
    "    filename=None,\n",
    "    pname=None,\n",
    "    parent_file=None,\n",
    ")"
   ]
  },
  {
   "cell_type": "code",
   "execution_count": 42,
   "id": "071bd734-fcac-4c9b-981b-2513449df8d5",
   "metadata": {},
   "outputs": [
    {
     "name": "stdout",
     "output_type": "stream",
     "text": [
      "package_name = chd_0\n",
      "filename = flow.chd\n",
      "package_type = chd\n",
      "model_or_simulation_package = model\n",
      "model_name = flow\n",
      "\n",
      "Block period\n",
      "--------------------\n",
      "stress_period_data\n",
      "{internal}\n",
      "([((0, 0, 119), 1.)])\n",
      "\n",
      "\n",
      "\n"
     ]
    }
   ],
   "source": [
    "chd = flopy.mf6.ModflowGwfchd(\n",
    "    gwf, \n",
    "    stress_period_data=[[(0, 0, mesh.ncol - 1), 1.0]]  # Node, Constant value\n",
    ") \n",
    "print(chd)"
   ]
  },
  {
   "cell_type": "markdown",
   "id": "08a39d2e-6949-4c4d-ac67-d8fef30bb93e",
   "metadata": {},
   "source": [
    "## Paso 11. Paquete: Pozos (`ModflowGwfwel` object)"
   ]
  },
  {
   "cell_type": "markdown",
   "id": "adb501ce-0aa5-4d0b-abcd-9563ef9c03e1",
   "metadata": {},
   "source": [
    "1. **q   = ph_par[\"specific_discharge\"] * mesh.delc * mesh.delr * mesh.top. Calcula el flujo volumétrico q**: Utilizando la descarga específica y las dimensiones de la celda de la malla del modelo.\n",
    "2. **aux = ph_par[\"source_concentration\"]**. Asigna la concentración de la fuente aux: Utilizando el valor correspondiente en el diccionario ph_par.\n",
    "3. **wel = flopy.mf6.ModflowGwfwel(gwf, stress_period_data = [[(0, 0, 0), q, aux,]], pname = \"WEL-1\", auxiliary = [\"CONCENTRATION\"],)**. Crea un objeto ModflowGwfwel en FloPy, que define el paquete de pozos (WEL) para un modelo de flujo de agua subterránea (GWF) en MODFLOW 6. \n",
    "4. **gwf**. Objeto del modelo de flujo de agua subterránea: gwf\n",
    "5. **stress_period_data**. Datos del periodo de estrés: stress_period_data=[[(0, 0, 0), q, aux]]. Especifica las condiciones de los pozos para el nodo del modelo durante el periodo de estrés. En este caso: Nodo: (0, 0, 0) representa la capa, la fila y la columna, respectivamente. Flujo del pozo = (q) = El flujo volumétrico asignado al pozo, calculado previamente.\n",
    "6. **pname=\"WEL-1\"**. Asigna un nombre al paquete de pozos, en este caso, \"WEL-1\".\n",
    "7. **auxiliary=[\"CONCENTRATION\"]**. Define una lista de variables auxiliares que se almacenan con el paquete, en este caso, la concentración.\n",
    "8. Por default: flopy.mf6.ModflowGwfwel(\n",
    "    model,\n",
    "    loading_package=False,\n",
    "    auxiliary=None,\n",
    "    auxmultname=None,\n",
    "    boundnames=None,\n",
    "    print_input=None,\n",
    "    print_flows=None,\n",
    "    save_flows=None,\n",
    "    auto_flow_reduce=None,\n",
    "    afrcsv_filerecord=None,\n",
    "    timeseries=None,\n",
    "    observations=None,\n",
    "    mover=None,\n",
    "    maxbound=None,\n",
    "    stress_period_data=None,\n",
    "    filename=None,\n",
    "    pname=None,\n",
    "    parent_file=None,\n",
    ")"
   ]
  },
  {
   "cell_type": "code",
   "execution_count": 45,
   "id": "1204503f-5f85-4902-95c1-e451bc295ee1",
   "metadata": {},
   "outputs": [
    {
     "name": "stdout",
     "output_type": "stream",
     "text": [
      "package_name = wel-1\n",
      "filename = flow.wel\n",
      "package_type = wel\n",
      "model_or_simulation_package = model\n",
      "model_name = flow\n",
      "\n",
      "Block options\n",
      "--------------------\n",
      "auxiliary\n",
      "{internal}\n",
      "([('auxiliary', 'CONCENTRATION')])\n",
      "\n",
      "\n",
      "Block period\n",
      "--------------------\n",
      "stress_period_data\n",
      "{internal}\n",
      "([((0, 0, 0), 0.001, 1.)])\n",
      "\n",
      "\n",
      "\n"
     ]
    }
   ],
   "source": [
    "q   = ph_par[\"specific_discharge\"] * mesh.delc * mesh.delr * mesh.top\n",
    "aux = ph_par[\"source_concentration\"]\n",
    "\n",
    "wel = flopy.mf6.ModflowGwfwel(\n",
    "    gwf,\n",
    "    stress_period_data = [[(0, 0, 0), q, aux,]],\n",
    "    pname = \"WEL-1\",\n",
    "    auxiliary = [\"CONCENTRATION\"],\n",
    ")\n",
    "\n",
    "print(wel)"
   ]
  },
  {
   "cell_type": "markdown",
   "id": "efcd5da6-94ce-415a-8ef1-db53ede0a63e",
   "metadata": {},
   "source": [
    "## Paso 12. Paquete: salida (`ModflowGwfoc` object)"
   ]
  },
  {
   "cell_type": "markdown",
   "id": "af31d561-ad8c-40bf-abcd-f9b1f2c31b13",
   "metadata": {
    "tags": []
   },
   "source": [
    "1. Archivo de salida de cargas: **head_filerecord=oc_par['head_file']**\n",
    "2. Archivo de salida del balance de flujo: **budget_filerecord=oc_par['fbudget_file']**\n",
    "3. Registro de guardado: **saverecord=[(\"HEAD\", \"ALL\"), (\"BUDGET\", \"ALL\")]**\n",
    "\n",
    "4. Crea un objeto de control de salida **oc** para el modelo GWF.\n",
    "5. Asocia el paquete **oc** con el objeto de modelo de flujo de agua subterránea gwf.\n",
    "6. Define el archivo de salida de cargas: Utiliza el valor head_file del diccionario oc_par.\n",
    "7. Define el archivo de salida del balance de flujo: Utiliza el valor fbudget_file del diccionario oc_par.\n",
    "8. Establece los tipos de datos a guardar y su frecuencia:\n",
    "9. Guarda datos de cargas para todos los pasos de tiempo (\"HEAD\", \"ALL\").\n",
    "10. Guarda datos del balance de flujo para todos los pasos de tiempo (\"BUDGET\", \"ALL\").\n",
    "\n",
    "Por default: flopy.mf6.ModflowGwfoc(\n",
    "    model,\n",
    "    loading_package=False,\n",
    "    budget_filerecord=None,\n",
    "    budgetcsv_filerecord=None,\n",
    "    head_filerecord=None,\n",
    "    headprintrecord=None,\n",
    "    saverecord=None,\n",
    "    printrecord=None,\n",
    "    filename=None,\n",
    "    pname=None,\n",
    "    parent_file=None,\n",
    ")"
   ]
  },
  {
   "cell_type": "code",
   "execution_count": 48,
   "id": "0626b91b-4164-48b2-a326-ee9f36a1a9a0",
   "metadata": {},
   "outputs": [
    {
     "name": "stdout",
     "output_type": "stream",
     "text": [
      "package_name = oc\n",
      "filename = flow.oc\n",
      "package_type = oc\n",
      "model_or_simulation_package = model\n",
      "model_name = flow\n",
      "\n",
      "Block options\n",
      "--------------------\n",
      "budget_filerecord\n",
      "{internal}\n",
      "([('flow.bud',)])\n",
      "\n",
      "head_filerecord\n",
      "{internal}\n",
      "([('flow.hds',)])\n",
      "\n",
      "\n",
      "Block period\n",
      "--------------------\n",
      "saverecord\n",
      "{internal}\n",
      "([('HEAD', 'ALL', None) ('BUDGET', 'ALL', None)])\n",
      "\n",
      "printrecord\n",
      "None\n",
      "\n",
      "\n"
     ]
    }
   ],
   "source": [
    "oc = flopy.mf6.ModflowGwfoc(\n",
    "    gwf,\n",
    "    head_filerecord   = oc_par['head_file'],\n",
    "    budget_filerecord = oc_par['fbudget_file'],\n",
    "    saverecord = [(\"HEAD\", \"ALL\"), (\"BUDGET\", \"ALL\")],\n",
    ")\n",
    "print(oc)"
   ]
  },
  {
   "cell_type": "markdown",
   "id": "51c7c2b8-4856-45da-8619-3dd2c722af84",
   "metadata": {},
   "source": [
    "## Paso 13. Escritura de los archivos de entrada para MODFLOW 6"
   ]
  },
  {
   "cell_type": "code",
   "execution_count": 50,
   "id": "955c6923-dba0-4fec-b43a-936a1e7a2eff",
   "metadata": {},
   "outputs": [
    {
     "name": "stdout",
     "output_type": "stream",
     "text": [
      "writing simulation...\n",
      "  writing simulation name file...\n",
      "  writing simulation tdis package...\n",
      "  writing ims package ims_-1...\n",
      "  writing model flow...\n",
      "    writing model name file...\n",
      "    writing package dis...\n",
      "    writing package ic...\n",
      "    writing package npf...\n",
      "    writing package chd_0...\n",
      "INFORMATION: maxbound in ('gwf6', 'chd', 'dimensions') changed to 1 based on size of stress_period_data\n",
      "    writing package wel-1...\n",
      "INFORMATION: maxbound in ('gwf6', 'wel', 'dimensions') changed to 1 based on size of stress_period_data\n",
      "    writing package oc...\n"
     ]
    }
   ],
   "source": [
    "sim.write_simulation()"
   ]
  },
  {
   "cell_type": "markdown",
   "id": "06e59c4a-6dcb-4f6e-a7ca-2ca6597f88c6",
   "metadata": {},
   "source": [
    "## Paso 14. Ejecución de la simulación."
   ]
  },
  {
   "cell_type": "code",
   "execution_count": 52,
   "id": "44e64765-dd25-46ee-b705-763a3d8254ba",
   "metadata": {},
   "outputs": [
    {
     "name": "stdout",
     "output_type": "stream",
     "text": [
      "FloPy is using the following executable to run the model: C:\\Users\\NRBRT\\FLOPY-MF6-MT3D\\Exe\\mf6.exe\n",
      "                                   MODFLOW 6\n",
      "                U.S. GEOLOGICAL SURVEY MODULAR HYDROLOGIC MODEL\n",
      "                            VERSION 6.4.2 06/28/2023\n",
      "\n",
      "   MODFLOW 6 compiled Jun 28 2023 18:41:13 with Intel(R) Fortran Intel(R) 64\n",
      "   Compiler Classic for applications running on Intel(R) 64, Version 2021.7.0\n",
      "                             Build 20220726_000000\n",
      "\n",
      "This software has been approved for release by the U.S. Geological \n",
      "Survey (USGS). Although the software has been subjected to rigorous \n",
      "review, the USGS reserves the right to update the software as needed \n",
      "pursuant to further analysis and review. No warranty, expressed or \n",
      "implied, is made by the USGS or the U.S. Government as to the \n",
      "functionality of the software and related material nor shall the \n",
      "fact of release constitute any such warranty. Furthermore, the \n",
      "software is released on condition that neither the USGS nor the U.S. \n",
      "Government shall be held liable for any damages resulting from its \n",
      "authorized or unauthorized use. Also refer to the USGS Water \n",
      "Resources Software User Rights Notice for complete use, copyright, \n",
      "and distribution information.\n",
      "\n",
      " \n",
      " Run start date and time (yyyy/mm/dd hh:mm:ss): 2024/05/19 14:14:26\n",
      " \n",
      " Writing simulation list file: mfsim.lst\n",
      " Using Simulation name file: mfsim.nam\n",
      " \n",
      "    Solving:  Stress period:     1    Time step:     1\n",
      " \n",
      " Run end date and time (yyyy/mm/dd hh:mm:ss): 2024/05/19 14:14:26\n",
      " Elapsed run time:  0.030 Seconds\n",
      " \n",
      " Normal termination of simulation.\n"
     ]
    },
    {
     "data": {
      "text/plain": [
       "(True, [])"
      ]
     },
     "execution_count": 52,
     "metadata": {},
     "output_type": "execute_result"
    }
   ],
   "source": [
    "sim.run_simulation()"
   ]
  },
  {
   "cell_type": "markdown",
   "id": "4942b96b-60cb-44f4-b374-1e6b171e25dd",
   "metadata": {},
   "source": [
    "## Paso 15. Postprocessing"
   ]
  },
  {
   "cell_type": "code",
   "execution_count": 54,
   "id": "481bb5ac-150e-4571-b3f5-c197a58d5b83",
   "metadata": {},
   "outputs": [],
   "source": [
    "# Obtenemos los resultados de la carga hidráulica\n",
    "head = flopy.utils.HeadFile(\n",
    "    os.path.join(os_par['ws'], \n",
    "                 oc_par['head_file'])).get_data()\n",
    "\n",
    "# Obtenemos los resultados del BUDGET\n",
    "bud  = flopy.utils.CellBudgetFile(\n",
    "    os.path.join(os_par['ws'], \n",
    "                 oc_par['fbudget_file']),\n",
    "    precision='double'\n",
    ")\n",
    "# Obtenemos las velocidades\n",
    "spdis = bud.get_data(text='DATA-SPDIS')[0]\n",
    "qx, qy, qz = flopy.utils.postprocessing.get_specific_discharge(spdis, gwf)"
   ]
  },
  {
   "cell_type": "code",
   "execution_count": 55,
   "id": "34d2346a-c3fa-4420-8feb-fffa31a7e1b7",
   "metadata": {},
   "outputs": [
    {
     "name": "stdout",
     "output_type": "stream",
     "text": [
      "Head :  <class 'numpy.ndarray'> (1, 1, 120)\n",
      "Budget :  <class 'flopy.utils.binaryfile.CellBudgetFile'> (1, 1, 120)\n",
      "spdis :  <class 'numpy.recarray'> (120,)\n",
      "qx :  <class 'numpy.ndarray'> (1, 1, 120)\n",
      "qy :  <class 'numpy.ndarray'> (1, 1, 120)\n",
      "qz :  <class 'numpy.ndarray'> (1, 1, 120)\n"
     ]
    }
   ],
   "source": [
    "# Verificamos el tipo y dimensiones de los arreglos donde\n",
    "# están almacenados la carga hidráulica, el BUDGET, y la velocidad.\n",
    "print('Head : ', type(head), head.shape)\n",
    "print('Budget : ', type(bud), bud.shape)\n",
    "print('spdis : ', type(spdis), spdis.shape)\n",
    "print('qx : ', type(qx), qx.shape)\n",
    "print('qy : ', type(qy), qy.shape)\n",
    "print('qz : ', type(qz), qz.shape)"
   ]
  },
  {
   "cell_type": "code",
   "execution_count": 56,
   "id": "ce017cb0-8a6d-4602-a5c8-651665a54965",
   "metadata": {},
   "outputs": [
    {
     "name": "stdout",
     "output_type": "stream",
     "text": [
      "(1, 1, 120) \n",
      " [[[12.9 12.8 12.7 12.6 12.5 12.4 12.3 12.2 12.1 12.  11.9 11.8 11.7 11.6\n",
      "   11.5 11.4 11.3 11.2 11.1 11.  10.9 10.8 10.7 10.6 10.5 10.4 10.3 10.2\n",
      "   10.1 10.   9.9  9.8  9.7  9.6  9.5  9.4  9.3  9.2  9.1  9.   8.9  8.8\n",
      "    8.7  8.6  8.5  8.4  8.3  8.2  8.1  8.   7.9  7.8  7.7  7.6  7.5  7.4\n",
      "    7.3  7.2  7.1  7.   6.9  6.8  6.7  6.6  6.5  6.4  6.3  6.2  6.1  6.\n",
      "    5.9  5.8  5.7  5.6  5.5  5.4  5.3  5.2  5.1  5.   4.9  4.8  4.7  4.6\n",
      "    4.5  4.4  4.3  4.2  4.1  4.   3.9  3.8  3.7  3.6  3.5  3.4  3.3  3.2\n",
      "    3.1  3.   2.9  2.8  2.7  2.6  2.5  2.4  2.3  2.2  2.1  2.   1.9  1.8\n",
      "    1.7  1.6  1.5  1.4  1.3  1.2  1.1  1. ]]]\n"
     ]
    }
   ],
   "source": [
    "print(head.shape, '\\n', head)"
   ]
  },
  {
   "cell_type": "code",
   "execution_count": 57,
   "id": "7edba925-008e-4fcd-ac22-e20bed4b3fbf",
   "metadata": {},
   "outputs": [
    {
     "name": "stdout",
     "output_type": "stream",
     "text": [
      "(1, 1, 120) \n",
      " [[[0.01 0.01 0.01 0.01 0.01 0.01 0.01 0.01 0.01 0.01 0.01 0.01 0.01 0.01\n",
      "   0.01 0.01 0.01 0.01 0.01 0.01 0.01 0.01 0.01 0.01 0.01 0.01 0.01 0.01\n",
      "   0.01 0.01 0.01 0.01 0.01 0.01 0.01 0.01 0.01 0.01 0.01 0.01 0.01 0.01\n",
      "   0.01 0.01 0.01 0.01 0.01 0.01 0.01 0.01 0.01 0.01 0.01 0.01 0.01 0.01\n",
      "   0.01 0.01 0.01 0.01 0.01 0.01 0.01 0.01 0.01 0.01 0.01 0.01 0.01 0.01\n",
      "   0.01 0.01 0.01 0.01 0.01 0.01 0.01 0.01 0.01 0.01 0.01 0.01 0.01 0.01\n",
      "   0.01 0.01 0.01 0.01 0.01 0.01 0.01 0.01 0.01 0.01 0.01 0.01 0.01 0.01\n",
      "   0.01 0.01 0.01 0.01 0.01 0.01 0.01 0.01 0.01 0.01 0.01 0.01 0.01 0.01\n",
      "   0.01 0.01 0.01 0.01 0.01 0.01 0.01 0.01]]]\n"
     ]
    }
   ],
   "source": [
    "print(qx.shape, '\\n', qx)"
   ]
  },
  {
   "cell_type": "code",
   "execution_count": 58,
   "id": "61074e07-d0f3-4682-9ffe-348343728b4c",
   "metadata": {},
   "outputs": [
    {
     "data": {
      "image/png": "[encoded data removed]",
      "text/plain": [
       "<Figure size 1000x300 with 1 Axes>"
      ]
     },
     "metadata": {},
     "output_type": "display_data"
    }
   ],
   "source": [
    "with styles.USGSPlot():\n",
    "    plt.rcParams['font.family'] = 'DeJavu Sans'\n",
    "    x, _, _ = mesh.get_coords()\n",
    "    plt.figure(figsize=(10,3))\n",
    "    plt.plot(x, head[0, 0], marker=\".\", ls =\"-\", mec=\"blue\", mfc=\"none\", markersize=\"1\", label = 'Head')\n",
    "    plt.xlim(0, 12)\n",
    "    plt.xticks(ticks=np.linspace(0, mesh.row_length,13))\n",
    "    plt.xlabel(\"Distance (cm)\")\n",
    "    plt.ylabel(\"Head\")\n",
    "    plt.legend()\n",
    "    plt.grid()\n",
    "    plt.show()"
   ]
  },
  {
   "cell_type": "code",
   "execution_count": 59,
   "id": "38be2755-372e-47dd-9275-7b53c42bde8c",
   "metadata": {},
   "outputs": [
    {
     "data": {
      "image/png": "[encoded data removed]",
      "text/plain": [
       "<Figure size 1000x15 with 1 Axes>"
      ]
     },
     "metadata": {},
     "output_type": "display_data"
    }
   ],
   "source": [
    "plt.figure(figsize=(10,0.15))\n",
    "ax = plt.gca()\n",
    "#ax.set_aspect('equal')\n",
    "pmv0 = flopy.plot.PlotMapView(gwf, ax=ax)\n",
    "pmv0.plot_grid(colors='dimgray', lw=0.5)\n",
    "plt.yticks(ticks=[0, 0.1],fontsize=8)\n",
    "\n",
    "plt.show()\n"
   ]
  },
  {
   "cell_type": "markdown",
   "id": "f32c659c-df04-4120-91ba-92bc3d13d91d",
   "metadata": {},
   "source": [
    "# "
   ]
  }
 ],
 "metadata": {
  "kernelspec": {
   "display_name": "Python 3 (ipykernel)",
   "language": "python",
   "name": "python3"
  },
  "language_info": {
   "codemirror_mode": {
    "name": "ipython",
    "version": 3
   },
   "file_extension": ".py",
   "mimetype": "text/x-python",
   "name": "python",
   "nbconvert_exporter": "python",
   "pygments_lexer": "ipython3",
   "version": "3.11.4"
  }
 },
 "nbformat": 4,
 "nbformat_minor": 5
}
