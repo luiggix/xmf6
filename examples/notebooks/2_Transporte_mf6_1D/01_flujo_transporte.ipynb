{
 "cells": [
  {
   "cell_type": "markdown",
   "id": "0bbc9f38-c835-49da-b1e6-ab08cbbaa463",
   "metadata": {},
   "source": [
    "## Paso 0. Library import"
   ]
  },
  {
   "cell_type": "code",
   "execution_count": null,
   "id": "48f786a9-a7c0-4ed9-a6ed-4566fd3d9659",
   "metadata": {},
   "outputs": [],
   "source": [
    "!pip install flopy"
   ]
  },
  {
   "cell_type": "code",
   "execution_count": 1,
   "id": "332a5323-c8bd-40db-b9fc-d6ace1cfc984",
   "metadata": {},
   "outputs": [],
   "source": [
    "# Temporal, para agregar las rutas correctas\n",
    "%run ../../src/ft1D/ruta_temporal.py\n",
    "if not(src_path in sys.path[0]):\n",
    "    sys.path.insert(0, os.path.abspath(a_path + src_path)) "
   ]
  },
  {
   "cell_type": "code",
   "execution_count": 3,
   "id": "f696fc74-41d6-4916-b6cf-e1e63822021f",
   "metadata": {},
   "outputs": [],
   "source": [
    "import os, sys\n",
    "import numpy as np\n",
    "import matplotlib.pyplot as plt\n",
    "\n",
    "import flopy\n",
    "from flopy.plot.styles import styles\n",
    "import xmf6\n",
    "from flow_1D import build_gwf_1D\n",
    "# Funciones para cálculo de la solución analítica\n",
    "from wexler1 import sol_analytical_t\n",
    "# Definición de parámetros de decaimiento y sorción\n",
    "from sorption_decay import *"
   ]
  },
  {
   "cell_type": "markdown",
   "id": "a388b334-4a69-49a6-8028-5a97466d4969",
   "metadata": {},
   "source": [
    "\n",
    "<img src=\"../figures/flow_mf6.png\">\n",
    "\n",
    "* El modelo de malla consiste de 1 capa, 120 columnas y 1 renglón.\n",
    "* La longitud del renglón es de 12 [cm].\n",
    "* La longitud de la columna es 0.1 [cm].\n",
    "* Con la información anterior se calcula el ancho del renglón, DELC, y de las columnas, DELR, que ambos casos debe ser 0.1 $cm$.\n",
    "* La parte superior (TOP) de la celda es 1.0 [cm] y la parte inferior (BOTTOM) es cero.\n",
    "* La longitud de la capa es igual a 1.0 [cm], valor que se calcula de |TOP - BOTTOM|."
   ]
  },
  {
   "cell_type": "markdown",
   "id": "7e6676d1-9fc5-4daa-97c4-07cbdee68143",
   "metadata": {},
   "source": [
    "**<font color='Green'> [1] Konikow, L. F., Goode, D. J., & Hornberger, G. (1996, January 1). A three-dimensional method-of-characteristics solute-transport model (MOC3D). Water-Resources Investigations Report 96-4267.</font>** https://doi.org/10.3133/wri964267\n",
    "\n",
    "**<font color='Green'> [2] Eliezer J. Wexler, (1992).\n",
    "Analytical solutions for one-, two-, and three-dimensional solute transport in ground-water systems with uniform flow. U.S. Geological Survey Techniques of Water-Resources Investigations, Book 3, Chapter B7, 190 p.</font>** https://doi.org/10.3133/twri03b7"
   ]
  },
  {
   "cell_type": "markdown",
   "id": "8d2a483e-af58-4f8a-b2dd-0990c7f7f3ab",
   "metadata": {},
   "source": [
    "## Paso 1. Definición de parámetros del problema.\n",
    "\n",
    "### Parámetros para la discretización del espacio.\n",
    "\n",
    "|Parameter | Value| Units | Variable |\n",
    "|---:|:---:|:---:|:---|\n",
    "|Length of system (rows) |12.0| cm | `mesh.row_length` |\n",
    "|Number of layers |1| | `mesh.nlay` |\n",
    "|Number of rows |1| | `mesh.nrow` |\n",
    "|Number of columns |120| | `mesh.ncol` |\n",
    "|Column width |0.1| cm | `mesh.delr` |\n",
    "|Row width |0.1| cm | `mesh.delc`|\n",
    "|Top of the model |1.0| cm | `mesh.top`|\n",
    "|Layer bottom elevation (cm) |0| cm | `mesh.bottom` |"
   ]
  },
  {
   "cell_type": "code",
   "execution_count": 4,
   "id": "b870869e-f5a8-44cd-9a67-b83af6c153a5",
   "metadata": {},
   "outputs": [
    {
     "name": "stdout",
     "output_type": "stream",
     "text": [
      "\u001b[34m\n",
      "Space discretization\n",
      "------------------------------\u001b[0m\n",
      "          row_length = 12.0      \n",
      "          col_length = 0.1       \n",
      "          lay_length = 1.0       \n",
      "                ncol = 120       \n",
      "                nrow = 1         \n",
      "                nlay = 1         \n",
      "                delr = 0.1       \n",
      "                delc = 0.1       \n",
      "                dell = 1.0       \n",
      "                 top = 1.0       \n",
      "              bottom = 0         \n"
     ]
    }
   ],
   "source": [
    "mesh = xmf6.MeshDis(\n",
    "    nrow = 1,    # Number of rows\n",
    "    ncol = 120,  # Number of columns\n",
    "    nlay = 1,    # Number of layers\n",
    "    row_length = 12.0,    # Length of system ($cm$)\n",
    "    column_length = 0.1,  # Length of system ($cm$)\n",
    "    top = 1.0,   # Top of the model ($cm$)\n",
    "    bottom = 0,  # Layer bottom elevation ($cm$)\n",
    ")\n",
    "xmf6.nice_print(mesh.get_dict(), 'Space discretization')"
   ]
  },
  {
   "cell_type": "markdown",
   "id": "6b61a42a-c909-4098-9481-d1b800180e57",
   "metadata": {},
   "source": [
    "### Parámetros para la discretización del tiempo.\n",
    "\n",
    "* La simulación consta de un período de estrés que tiene una duración de 120 $s$.\n",
    "* El período de estrés se divide en 240 pasos de tiempo del mismo tamaño.\n",
    "  \n",
    "|Parameter | Value| Units | Variable |\n",
    "|---:|:---:|:---:|:---|\n",
    "|Number of stress periods |1| | `tm_par['nper']` |\n",
    "|Total time |120| s | `tm_par['total_time']` |\n",
    "|Number of time steps| 240 | | `tm_par['nstp']`|\n",
    "|Multiplier | 1 | | `tm_par['tsmult']`|"
   ]
  },
  {
   "cell_type": "code",
   "execution_count": 5,
   "id": "0400ad96-6436-4f15-a44a-8f43fc316cb3",
   "metadata": {},
   "outputs": [
    {
     "name": "stdout",
     "output_type": "stream",
     "text": [
      "\u001b[34m\n",
      "Time discretization\n",
      "------------------------------\u001b[0m\n",
      "                nper = 1         \n",
      "          total_time = 120.0     \n",
      "                nstp = 240       \n",
      "              tsmult = 1.0       \n"
     ]
    }
   ],
   "source": [
    "tm_par = dict(\n",
    "    nper = 1,  # Number of periods\n",
    "    total_time = 120.0,  # Simulation time ($s$)\n",
    "    nstp = 240,   # Number of time steps\n",
    "    tsmult = 1.0  # Multiplier for the length of successive time steps.\n",
    ")\n",
    "xmf6.nice_print(tm_par, 'Time discretization')"
   ]
  },
  {
   "cell_type": "markdown",
   "id": "dd2f0883-5ced-4fb3-b525-fb619d411b3a",
   "metadata": {},
   "source": [
    "### Parámetros físicos.\n",
    "\n",
    "* Al utilizar un valor de porosidad uniforme de 0.1, se obtiene un valor de velocidad de 0.1 $cm/s$ como resultado de la inyección de agua a una velocidad de 0.001 $cm^3/s$ en la primera celda.\n",
    "* A la última celda se le asigna una carga constante con un valor de cero, aunque este valor no es importante ya que las celdas están marcadas como confinadas.\n",
    "* A la concentración del agua inyectada se le asigna un valor de 1.0, y cualquier agua que salga a través de la celda de carga constante sale con la concentración simulada del agua en esa última celda.\n",
    "* La advección se resuelve utilizando el esquema TVD para reducir la dispersión numérica.\n",
    "  \n",
    "|Parameter | Value| Units | Variable |\n",
    "|---:|:---:|:---:|:---|\n",
    "|Specific discharge |0.1| cm s$^{-1}$ | `ph_par['specific_discharge']` |\n",
    "|Hydraulic conductivity |0.01| cm s$^{-1}$ | `ph_par['hydraulic_conductivity']` |\n",
    "|Source concentration |1.0| unitless | `ph_par['source_concentration']` |\n",
    "|Porosity | 0.1 | unitless |  `ph_par['porosity']` |\n",
    "|Initial Concentration | 0.0 | unitless | `ph_par['initial_concentration']` |\n",
    "|Longitudinal Dispersivity | 0.1 |  | `ph_par['longitudinal_dispersivity']` |\n",
    "|Retardation Factor | 1.0 |  | `ph_par['retardation_factor']` |\n",
    "|Decay Rate | 0.0 |  | `ph_par['decay_rate']` |\n",
    "|Dispersion coefficient | | | `ph_par[\"dispersion_coefficient\"]` |\n",
    "\n",
    "$$\n",
    "\\text{Dispersion Coefficient} = \\dfrac{\\text{Longitudinal Dispersivity} \\times \\text{Specific Discharge}}{\\text{Retardation Factor}}\n",
    "$$"
   ]
  },
  {
   "cell_type": "code",
   "execution_count": 6,
   "id": "5f0d694e-1c03-429e-a9d4-a5bc4dee28e0",
   "metadata": {},
   "outputs": [
    {
     "name": "stdout",
     "output_type": "stream",
     "text": [
      "\u001b[34m\n",
      "Units\n",
      "------------------------------\u001b[0m\n",
      "                time = seconds   \n",
      "              length = centimeters\n",
      "\u001b[34m\n",
      "Physical parameters\n",
      "------------------------------\u001b[0m\n",
      "  specific_discharge = 0.1       \n",
      "hydraulic_conductivity = 0.01      \n",
      "source_concentration = 1.0       \n",
      "            porosity = 0.1       \n",
      "initial_concentration = 0.0       \n",
      "longitudinal_dispersivity = 0.1       \n",
      "  retardation_factor = 1.0       \n",
      "          decay_rate = 0.0       \n",
      "dispersion_coefficient = 0.010000000000000002\n"
     ]
    }
   ],
   "source": [
    "ml_units = {\n",
    "    \"time\": \"seconds\",\n",
    "    \"length\": \"centimeters\"\n",
    "}\n",
    "xmf6.nice_print(ml_units, 'Units')\n",
    "\n",
    "ph_par = dict(\n",
    "    specific_discharge = 0.1,  # Specific discharge ($cm s^{-1}$)\n",
    "    hydraulic_conductivity = 0.01,  # Hydraulic conductivity ($cm s^{-1}$)\n",
    "    source_concentration = 1.0,  # Source concentration (unitless)\n",
    "    porosity = 0.1,  # Porosity of mobile domain (unitless)\n",
    "    initial_concentration = 0.0,  # Initial concentration (unitless)\n",
    "    longitudinal_dispersivity = 0.1,\n",
    "    retardation_factor = 1.0,\n",
    "    decay_rate =  0.0\n",
    ")\n",
    "ph_par[\"dispersion_coefficient\"] = ph_par[\"longitudinal_dispersivity\"] * ph_par[\"specific_discharge\"] / ph_par[\"retardation_factor\"]\n",
    "\n",
    "xmf6.nice_print(ph_par, 'Physical parameters')"
   ]
  },
  {
   "cell_type": "markdown",
   "id": "3898b473-4327-4a88-8887-4ff7875a61a0",
   "metadata": {},
   "source": [
    "## Paso 2. MODFLOW6 environment y salida."
   ]
  },
  {
   "cell_type": "code",
   "execution_count": 7,
   "id": "fa154faf-014c-44d2-8dd4-7886a1026b62",
   "metadata": {},
   "outputs": [
    {
     "name": "stdout",
     "output_type": "stream",
     "text": [
      "\u001b[34m\n",
      "MODFLOW 6 environment\n",
      "------------------------------\u001b[0m\n",
      "                  ws = /home/jovyan/GMMC/WMA/notebooks/2_Transporte_mf6_1D/output\n",
      "             mf6_exe = /home/jovyan/GMMC/WMA/mf6/bin/mf6\n",
      "           flow_name = flow      \n",
      "           tran_name = transport \n",
      "\u001b[34m\n",
      "Output files\n",
      "------------------------------\u001b[0m\n",
      "           head_file = flow.hds  \n",
      "        fbudget_file = flow.bud  \n",
      "  concentration_file = transport.ucn\n",
      "        tbudget_file = transport.bud\n"
     ]
    }
   ],
   "source": [
    "# ----- Definición de Parámetros -----\n",
    "os_par = dict(\n",
    "    ws = os.getcwd() + '/output', # Ruta de donde estamos actualmente\n",
    "    mf6_exe = '/home/jovyan/GMMC/WMA/mf6/bin/mf6', # Ejecutable\n",
    "    flow_name = 'flow', # Nombre de la simulación para flujo\n",
    "    tran_name = 'transport' # Nombre de la simulación para transporte\n",
    ")\n",
    "xmf6.nice_print(os_par, 'MODFLOW 6 environment')\n",
    "\n",
    "oc_par = dict(\n",
    "    head_file = f\"{os_par['flow_name']}.hds\",\n",
    "    fbudget_file = f\"{os_par['flow_name']}.bud\",\n",
    "    concentration_file=f\"{os_par['tran_name']}.ucn\",\n",
    "    tbudget_file = f\"{os_par['tran_name']}.bud\",\n",
    ")\n",
    "xmf6.nice_print(oc_par, 'Output files')"
   ]
  },
  {
   "cell_type": "markdown",
   "id": "9bcbf290-8250-4f53-847f-0e8bfd704d21",
   "metadata": {},
   "source": [
    "## Paso 3. Solución del flujo (Modelo GWF)\n",
    "\n",
    "### Resultados del flujo"
   ]
  },
  {
   "cell_type": "code",
   "execution_count": 8,
   "id": "847b8567-c4b9-415c-bfd3-24f993497f75",
   "metadata": {},
   "outputs": [
    {
     "name": "stdout",
     "output_type": "stream",
     "text": [
      "head_L = 12.899999999999777 \t head_R = 1.0\n"
     ]
    },
    {
     "data": {
      "image/png": "[encoded data removed]",
      "text/plain": [
       "<Figure size 1000x300 with 1 Axes>"
      ]
     },
     "metadata": {},
     "output_type": "display_data"
    }
   ],
   "source": [
    "sim_f, gwf = build_gwf_1D(mesh, tm_par, ph_par, ml_units, os_par, oc_par)\n",
    "sim_f.write_simulation(silent=True)\n",
    "sim_f.run_simulation(silent=True)\n",
    "xmf6.plot_flow_1D(gwf, mesh, os_par, oc_par)"
   ]
  },
  {
   "cell_type": "markdown",
   "id": "71ed855f-3bf5-4451-9297-96f75dc07e8c",
   "metadata": {},
   "source": [
    "### Obtención de arreglos de Numpy para la carga y  la velocidad."
   ]
  },
  {
   "cell_type": "code",
   "execution_count": 9,
   "id": "0498f2b7-6e16-4285-8524-ea71cbac5b7d",
   "metadata": {},
   "outputs": [],
   "source": [
    "# Obtenemos los resultados de la carga hidráulica\n",
    "head = flopy.utils.HeadFile(\n",
    "    os.path.join(os_par['ws'], \n",
    "                 oc_par['head_file'])).get_data()\n",
    "# Obtenemos los resultados del BUDGET\n",
    "bud  = flopy.utils.CellBudgetFile(\n",
    "    os.path.join(os_par['ws'], \n",
    "                 oc_par['fbudget_file']),\n",
    "    precision='double'\n",
    ")\n",
    "# Obtenemos las velocidades\n",
    "spdis = bud.get_data(text='DATA-SPDIS')[0]\n",
    "qx, qy, qz = flopy.utils.postprocessing.get_specific_discharge(spdis, gwf)"
   ]
  },
  {
   "cell_type": "code",
   "execution_count": 10,
   "id": "d0e3d13c-a6f9-4ed8-95ca-3170a52e12ff",
   "metadata": {},
   "outputs": [
    {
     "name": "stdout",
     "output_type": "stream",
     "text": [
      "(1, 1, 120) \n",
      " [[[12.9 12.8 12.7 12.6 12.5 12.4 12.3 12.2 12.1 12.  11.9 11.8 11.7 11.6\n",
      "   11.5 11.4 11.3 11.2 11.1 11.  10.9 10.8 10.7 10.6 10.5 10.4 10.3 10.2\n",
      "   10.1 10.   9.9  9.8  9.7  9.6  9.5  9.4  9.3  9.2  9.1  9.   8.9  8.8\n",
      "    8.7  8.6  8.5  8.4  8.3  8.2  8.1  8.   7.9  7.8  7.7  7.6  7.5  7.4\n",
      "    7.3  7.2  7.1  7.   6.9  6.8  6.7  6.6  6.5  6.4  6.3  6.2  6.1  6.\n",
      "    5.9  5.8  5.7  5.6  5.5  5.4  5.3  5.2  5.1  5.   4.9  4.8  4.7  4.6\n",
      "    4.5  4.4  4.3  4.2  4.1  4.   3.9  3.8  3.7  3.6  3.5  3.4  3.3  3.2\n",
      "    3.1  3.   2.9  2.8  2.7  2.6  2.5  2.4  2.3  2.2  2.1  2.   1.9  1.8\n",
      "    1.7  1.6  1.5  1.4  1.3  1.2  1.1  1. ]]]\n"
     ]
    }
   ],
   "source": [
    "print(head.shape, '\\n', head)"
   ]
  },
  {
   "cell_type": "code",
   "execution_count": 11,
   "id": "15db7c86-4510-4a8e-86fd-4a531011273f",
   "metadata": {},
   "outputs": [
    {
     "name": "stdout",
     "output_type": "stream",
     "text": [
      "(1, 1, 120) \n",
      " [[[0.01 0.01 0.01 0.01 0.01 0.01 0.01 0.01 0.01 0.01 0.01 0.01 0.01 0.01\n",
      "   0.01 0.01 0.01 0.01 0.01 0.01 0.01 0.01 0.01 0.01 0.01 0.01 0.01 0.01\n",
      "   0.01 0.01 0.01 0.01 0.01 0.01 0.01 0.01 0.01 0.01 0.01 0.01 0.01 0.01\n",
      "   0.01 0.01 0.01 0.01 0.01 0.01 0.01 0.01 0.01 0.01 0.01 0.01 0.01 0.01\n",
      "   0.01 0.01 0.01 0.01 0.01 0.01 0.01 0.01 0.01 0.01 0.01 0.01 0.01 0.01\n",
      "   0.01 0.01 0.01 0.01 0.01 0.01 0.01 0.01 0.01 0.01 0.01 0.01 0.01 0.01\n",
      "   0.01 0.01 0.01 0.01 0.01 0.01 0.01 0.01 0.01 0.01 0.01 0.01 0.01 0.01\n",
      "   0.01 0.01 0.01 0.01 0.01 0.01 0.01 0.01 0.01 0.01 0.01 0.01 0.01 0.01\n",
      "   0.01 0.01 0.01 0.01 0.01 0.01 0.01 0.01]]]\n"
     ]
    }
   ],
   "source": [
    "print(qx.shape, '\\n', qx)"
   ]
  },
  {
   "cell_type": "markdown",
   "id": "64b4ecd3-37a8-411a-b564-fc6e2d089533",
   "metadata": {},
   "source": [
    "## Paso 4. Simulation object"
   ]
  },
  {
   "cell_type": "code",
   "execution_count": 12,
   "id": "31420a9c-5724-4c2b-9bc0-9192d955e975",
   "metadata": {},
   "outputs": [
    {
     "name": "stdout",
     "output_type": "stream",
     "text": [
      "sim_name = transport\n",
      "sim_path = /home/jovyan/GMMC/WMA/notebooks/2_Transporte_mf6_1D/output\n",
      "exe_name = /home/jovyan/GMMC/WMA/mf6/bin/mf6\n",
      "\n",
      "###################\n",
      "Package mfsim.nam\n",
      "###################\n",
      "\n",
      "package_name = mfsim.nam\n",
      "filename = mfsim.nam\n",
      "package_type = nam\n",
      "model_or_simulation_package = simulation\n",
      "simulation_name = transport\n",
      "\n",
      "\n",
      "\n"
     ]
    }
   ],
   "source": [
    "sim_t = flopy.mf6.MFSimulation(\n",
    "    sim_name=os_par[\"tran_name\"], \n",
    "    sim_ws=os_par[\"ws\"], \n",
    "    exe_name=os_par[\"mf6_exe\"]\n",
    ")\n",
    "print(sim_t)"
   ]
  },
  {
   "cell_type": "markdown",
   "id": "427c9dec-abd0-4fad-a874-3bb33dc49147",
   "metadata": {},
   "source": [
    "## Paso 5. Time discretization object"
   ]
  },
  {
   "cell_type": "code",
   "execution_count": 13,
   "id": "3890f93d-a29f-4157-9f1b-3a3d643eeb7b",
   "metadata": {},
   "outputs": [
    {
     "data": {
      "text/plain": [
       "package_name = transport.tdis\n",
       "filename = transport.tdis\n",
       "package_type = tdis\n",
       "model_or_simulation_package = simulation\n",
       "simulation_name = transport\n",
       "\n",
       "Block options\n",
       "--------------------\n",
       "time_units\n",
       "{internal}\n",
       "('seconds')\n",
       "\n",
       "\n",
       "Block dimensions\n",
       "--------------------\n",
       "nper\n",
       "{internal}\n",
       "(1)\n",
       "\n",
       "\n",
       "Block perioddata\n",
       "--------------------\n",
       "perioddata\n",
       "{internal}\n",
       "(rec.array([(120., 240, 1.)],\n",
       "          dtype=[('perlen', '<f8'), ('nstp', '<i8'), ('tsmult', '<f8')]))\n",
       "\n"
      ]
     },
     "execution_count": 13,
     "metadata": {},
     "output_type": "execute_result"
    }
   ],
   "source": [
    "flopy.mf6.ModflowTdis(\n",
    "    sim_t, \n",
    "    nper=tm_par[\"nper\"], \n",
    "    perioddata=((tm_par[\"total_time\"], \n",
    "                 tm_par[\"nstp\"], \n",
    "                 tm_par[\"tsmult\"]),),\n",
    "    time_units=ml_units[\"time\"]\n",
    ")"
   ]
  },
  {
   "cell_type": "markdown",
   "id": "c489310f-0c8e-44cb-9e97-6ced157242ed",
   "metadata": {},
   "source": [
    "## Paso 6. IMS object (solution calculation)"
   ]
  },
  {
   "cell_type": "code",
   "execution_count": 14,
   "id": "a0f880c0-af9a-41df-8fde-b90ba62d1b05",
   "metadata": {},
   "outputs": [
    {
     "name": "stdout",
     "output_type": "stream",
     "text": [
      "package_name = ims_-1\n",
      "filename = transport.ims\n",
      "package_type = ims\n",
      "model_or_simulation_package = simulation\n",
      "simulation_name = transport\n",
      "\n",
      "Block linear\n",
      "--------------------\n",
      "linear_acceleration\n",
      "{internal}\n",
      "(bicgstab)\n",
      "\n",
      "\n",
      "\n"
     ]
    }
   ],
   "source": [
    "ims = flopy.mf6.ModflowIms(\n",
    "    sim_t, \n",
    "    linear_acceleration=\"bicgstab\"\n",
    ")\n",
    "print(ims)"
   ]
  },
  {
   "cell_type": "markdown",
   "id": "7a71fc1e-f25c-4b9a-981b-3928f3c882de",
   "metadata": {},
   "source": [
    "## Paso 7. GWT model object (transport)"
   ]
  },
  {
   "cell_type": "code",
   "execution_count": 15,
   "id": "cd77f2d2-6dee-42fd-862c-778d45602caa",
   "metadata": {},
   "outputs": [
    {
     "name": "stdout",
     "output_type": "stream",
     "text": [
      "name = transport\n",
      "model_type = gwt6\n",
      "version = mf6\n",
      "model_relative_path = .\n",
      "\n",
      "\n"
     ]
    }
   ],
   "source": [
    "gwt = flopy.mf6.ModflowGwt(\n",
    "    sim_t, \n",
    "    modelname=os_par[\"tran_name\"], \n",
    "    save_flows=True\n",
    ")\n",
    "print(gwt)"
   ]
  },
  {
   "cell_type": "markdown",
   "id": "0f6db909-2782-4706-9fff-48c70fee9d80",
   "metadata": {},
   "source": [
    "## Paso 8. Space discretization object"
   ]
  },
  {
   "cell_type": "code",
   "execution_count": 16,
   "id": "db8df5de-20fa-446f-850e-a2b44b0fd438",
   "metadata": {},
   "outputs": [
    {
     "name": "stdout",
     "output_type": "stream",
     "text": [
      "package_name = dis\n",
      "filename = transport.dis\n",
      "package_type = dis\n",
      "model_or_simulation_package = model\n",
      "model_name = transport\n",
      "\n",
      "Block options\n",
      "--------------------\n",
      "length_units\n",
      "{internal}\n",
      "(centimeters)\n",
      "\n",
      "\n",
      "Block dimensions\n",
      "--------------------\n",
      "nlay\n",
      "{internal}\n",
      "(1)\n",
      "\n",
      "nrow\n",
      "{internal}\n",
      "(1)\n",
      "\n",
      "ncol\n",
      "{internal}\n",
      "(120)\n",
      "\n",
      "\n",
      "Block griddata\n",
      "--------------------\n",
      "delr\n",
      "{constant 0.1}\n",
      "\n",
      "delc\n",
      "{constant 0.1}\n",
      "\n",
      "top\n",
      "{constant 1.0}\n",
      "\n",
      "botm\n",
      "{constant 0}\n",
      "\n",
      "\n",
      "\n"
     ]
    }
   ],
   "source": [
    "dis = flopy.mf6.ModflowGwtdis(\n",
    "    gwt,\n",
    "    length_units=ml_units[\"length\"],\n",
    "    nlay=mesh.nlay,\n",
    "    nrow=mesh.nrow,\n",
    "    ncol=mesh.ncol,\n",
    "    delr=mesh.delr,\n",
    "    delc=mesh.delc,\n",
    "    top=mesh.top,\n",
    "    botm=mesh.bottom,\n",
    ")\n",
    "\n",
    "print(dis)"
   ]
  },
  {
   "cell_type": "markdown",
   "id": "3c71cb8b-798a-4602-9b5e-7fe5ea8a020c",
   "metadata": {},
   "source": [
    "## Paso 9. Initial conditions object"
   ]
  },
  {
   "cell_type": "code",
   "execution_count": 17,
   "id": "d0b6acac-d8a9-43a2-bdcd-a07944d3c972",
   "metadata": {},
   "outputs": [
    {
     "name": "stdout",
     "output_type": "stream",
     "text": [
      "package_name = ic\n",
      "filename = transport.ic\n",
      "package_type = ic\n",
      "model_or_simulation_package = model\n",
      "model_name = transport\n",
      "\n",
      "Block griddata\n",
      "--------------------\n",
      "strt\n",
      "{constant 0}\n",
      "\n",
      "\n",
      "\n"
     ]
    }
   ],
   "source": [
    "ic = flopy.mf6.ModflowGwtic(\n",
    "    gwt, \n",
    "    strt=0\n",
    ")\n",
    "print(ic)"
   ]
  },
  {
   "cell_type": "markdown",
   "id": "31ebc1ea-46aa-4500-a146-683573b32ae5",
   "metadata": {},
   "source": [
    "## Paso 10."
   ]
  },
  {
   "cell_type": "code",
   "execution_count": 18,
   "id": "b184a914-a456-4344-b0ed-168362329b5c",
   "metadata": {},
   "outputs": [
    {
     "name": "stdout",
     "output_type": "stream",
     "text": [
      "package_name = mst\n",
      "filename = transport.mst\n",
      "package_type = mst\n",
      "model_or_simulation_package = model\n",
      "model_name = transport\n",
      "\n",
      "Block griddata\n",
      "--------------------\n",
      "porosity\n",
      "{constant 0.1}\n",
      "\n",
      "\n",
      "\n"
     ]
    }
   ],
   "source": [
    "mst = flopy.mf6.ModflowGwtmst(\n",
    "    gwt,\n",
    "    porosity=ph_par[\"porosity\"],\n",
    "    **get_sorption_dict(ph_par[\"retardation_factor\"]),\n",
    "    **get_decay_dict(ph_par[\"decay_rate\"], \n",
    "                     ph_par[\"retardation_factor\"] > 1.0),\n",
    ")\n",
    "\n",
    "print(mst)"
   ]
  },
  {
   "cell_type": "markdown",
   "id": "44cd9ddc-6770-423b-b05d-303f99b92d80",
   "metadata": {},
   "source": [
    "## Paso 11. Advection"
   ]
  },
  {
   "cell_type": "code",
   "execution_count": 19,
   "id": "d9dcaf34-9fff-4a33-bb21-77bd8f2005ae",
   "metadata": {},
   "outputs": [
    {
     "name": "stdout",
     "output_type": "stream",
     "text": [
      "package_name = adv\n",
      "filename = transport.adv\n",
      "package_type = adv\n",
      "model_or_simulation_package = model\n",
      "model_name = transport\n",
      "\n",
      "Block options\n",
      "--------------------\n",
      "scheme\n",
      "{internal}\n",
      "(tvd)\n",
      "\n",
      "\n",
      "\n"
     ]
    }
   ],
   "source": [
    "adv = flopy.mf6.ModflowGwtadv(\n",
    "    gwt, \n",
    "    scheme=\"TVD\"\n",
    ")\n",
    "print(adv)"
   ]
  },
  {
   "cell_type": "markdown",
   "id": "f539eece-3e94-4098-a4ee-b5b39b239f06",
   "metadata": {},
   "source": [
    "## Paso 12. "
   ]
  },
  {
   "cell_type": "code",
   "execution_count": 20,
   "id": "d89bdbed-5137-4849-b727-5d3c6f736a4e",
   "metadata": {},
   "outputs": [
    {
     "name": "stdout",
     "output_type": "stream",
     "text": [
      "package_name = dsp\n",
      "filename = transport.dsp\n",
      "package_type = dsp\n",
      "model_or_simulation_package = model\n",
      "model_name = transport\n",
      "\n",
      "Block options\n",
      "--------------------\n",
      "xt3d_off\n",
      "{internal}\n",
      "(True)\n",
      "\n",
      "\n",
      "Block griddata\n",
      "--------------------\n",
      "alh\n",
      "{constant 0.1}\n",
      "\n",
      "ath1\n",
      "{constant 0.1}\n",
      "\n",
      "\n",
      "\n"
     ]
    }
   ],
   "source": [
    "dsp = flopy.mf6.ModflowGwtdsp(\n",
    "    gwt,\n",
    "    xt3d_off=True,\n",
    "    alh=ph_par[\"longitudinal_dispersivity\"],\n",
    "    ath1=ph_par[\"longitudinal_dispersivity\"],\n",
    ")\n",
    "\n",
    "print(dsp)"
   ]
  },
  {
   "cell_type": "markdown",
   "id": "553d7ada-4e55-4e82-a769-a03fd0f717d0",
   "metadata": {},
   "source": [
    "## Paso 13. "
   ]
  },
  {
   "cell_type": "code",
   "execution_count": 21,
   "id": "e4897bce-c8b6-443d-9c5f-c541d0ed7775",
   "metadata": {},
   "outputs": [
    {
     "name": "stdout",
     "output_type": "stream",
     "text": [
      "package_name = fmi\n",
      "filename = transport.fmi\n",
      "package_type = fmi\n",
      "model_or_simulation_package = model\n",
      "model_name = transport\n",
      "\n",
      "Block packagedata\n",
      "--------------------\n",
      "packagedata\n",
      "{internal}\n",
      "([('GWFHEAD', 'flow.hds') ('GWFBUDGET', 'flow.bud')])\n",
      "\n",
      "\n",
      "\n"
     ]
    }
   ],
   "source": [
    "pd = [ \n",
    "    (\"GWFHEAD\", oc_par[\"head_file\"], None),\n",
    "    (\"GWFBUDGET\", oc_par[\"fbudget_file\"], None),\n",
    "]\n",
    "    \n",
    "fmi = flopy.mf6.ModflowGwtfmi(\n",
    "    gwt, \n",
    "    packagedata=pd\n",
    ")\n",
    "print(fmi)"
   ]
  },
  {
   "cell_type": "markdown",
   "id": "7962b630-b29d-4d53-a7bc-19cac632602a",
   "metadata": {},
   "source": [
    "## Paso 14. "
   ]
  },
  {
   "cell_type": "code",
   "execution_count": 22,
   "id": "84fd8dfe-c967-479b-8935-96b7b860691e",
   "metadata": {},
   "outputs": [
    {
     "name": "stdout",
     "output_type": "stream",
     "text": [
      "package_name = ssm\n",
      "filename = transport.ssm\n",
      "package_type = ssm\n",
      "model_or_simulation_package = model\n",
      "model_name = transport\n",
      "\n",
      "Block sources\n",
      "--------------------\n",
      "sources\n",
      "{internal}\n",
      "([('WEL-1', 'AUX', 'CONCENTRATION')])\n",
      "\n",
      "\n",
      "\n"
     ]
    }
   ],
   "source": [
    "sourcerecarray = [[\"WEL-1\", \"AUX\", \"CONCENTRATION\"]]\n",
    "ssm = flopy.mf6.ModflowGwtssm(\n",
    "    gwt, \n",
    "    sources=sourcerecarray\n",
    ")\n",
    "print(ssm)"
   ]
  },
  {
   "cell_type": "markdown",
   "id": "b8690b96-d8bc-4e35-9755-c8167a6dcc04",
   "metadata": {},
   "source": [
    "## Paso 15. Observation locations"
   ]
  },
  {
   "cell_type": "code",
   "execution_count": 23,
   "id": "bb1ee2db-e57e-4f6e-be7b-4915de8cb0df",
   "metadata": {},
   "outputs": [
    {
     "name": "stdout",
     "output_type": "stream",
     "text": [
      "package_name = obs_0\n",
      "filename = transport.obs\n",
      "package_type = obs\n",
      "model_or_simulation_package = model\n",
      "model_name = transport\n",
      "\n",
      "Block options\n",
      "--------------------\n",
      "digits\n",
      "{internal}\n",
      "(10)\n",
      "\n",
      "print_input\n",
      "{internal}\n",
      "(True)\n",
      "\n",
      "\n",
      "Block continuous\n",
      "--------------------\n",
      "continuous\n",
      "{internal}\n",
      "([('X005', 'CONCENTRATION', (0, 0, 0), None)\n",
      " ('X405', 'CONCENTRATION', (0, 0, 40), None)\n",
      " ('X1105', 'CONCENTRATION', (0, 0, 110), None)])\n",
      "\n",
      "\n",
      "\n"
     ]
    }
   ],
   "source": [
    "obs_data = {\n",
    "    \"transporte.obs.csv\": [\n",
    "        (\"X005\", \"CONCENTRATION\", (0, 0, 0)),\n",
    "        (\"X405\", \"CONCENTRATION\", (0, 0, 40)),\n",
    "        (\"X1105\", \"CONCENTRATION\", (0, 0, 110)),\n",
    "    ],\n",
    "}\n",
    "\n",
    "obs_package = flopy.mf6.ModflowUtlobs(\n",
    "    gwt, \n",
    "    digits=10, \n",
    "    print_input=True, \n",
    "    continuous=obs_data\n",
    ")\n",
    "\n",
    "print(obs_package)"
   ]
  },
  {
   "cell_type": "markdown",
   "id": "efcd5da6-94ce-415a-8ef1-db53ede0a63e",
   "metadata": {},
   "source": [
    "## Paso 16. Output object"
   ]
  },
  {
   "cell_type": "code",
   "execution_count": 24,
   "id": "36e90233-66ca-4606-892a-3f871a8979f2",
   "metadata": {},
   "outputs": [
    {
     "name": "stdout",
     "output_type": "stream",
     "text": [
      "package_name = oc\n",
      "filename = transport.oc\n",
      "package_type = oc\n",
      "model_or_simulation_package = model\n",
      "model_name = transport\n",
      "\n",
      "Block options\n",
      "--------------------\n",
      "budget_filerecord\n",
      "{internal}\n",
      "([('transport.bud',)])\n",
      "\n",
      "concentration_filerecord\n",
      "{internal}\n",
      "([('transport.ucn',)])\n",
      "\n",
      "\n",
      "Block period\n",
      "--------------------\n",
      "saverecord\n",
      "{internal}\n",
      "([('CONCENTRATION', 'ALL', None) ('BUDGET', 'LAST', None)])\n",
      "\n",
      "printrecord\n",
      "{internal}\n",
      "([('CONCENTRATION', 'LAST', None) ('BUDGET', 'LAST', None)])\n",
      "\n",
      "\n",
      "\n"
     ]
    }
   ],
   "source": [
    "oc = flopy.mf6.ModflowGwtoc(\n",
    "    gwt,\n",
    "    budget_filerecord=oc_par[\"tbudget_file\"],\n",
    "    concentration_filerecord=oc_par[\"concentration_file\"],\n",
    "    saverecord=[(\"CONCENTRATION\", \"ALL\"), (\"BUDGET\", \"LAST\")],\n",
    "    printrecord=[(\"CONCENTRATION\", \"LAST\"), (\"BUDGET\", \"LAST\")],\n",
    ")\n",
    "\n",
    "print(oc)"
   ]
  },
  {
   "cell_type": "markdown",
   "id": "51c7c2b8-4856-45da-8619-3dd2c722af84",
   "metadata": {},
   "source": [
    "## Paso 17. Write Input files."
   ]
  },
  {
   "cell_type": "code",
   "execution_count": 25,
   "id": "955c6923-dba0-4fec-b43a-936a1e7a2eff",
   "metadata": {},
   "outputs": [
    {
     "name": "stdout",
     "output_type": "stream",
     "text": [
      "writing simulation...\n",
      "  writing simulation name file...\n",
      "  writing simulation tdis package...\n",
      "  writing solution package ims_-1...\n",
      "  writing model transport...\n",
      "    writing model name file...\n",
      "    writing package dis...\n",
      "    writing package ic...\n",
      "    writing package mst...\n",
      "    writing package adv...\n",
      "    writing package dsp...\n",
      "    writing package fmi...\n",
      "    writing package ssm...\n",
      "    writing package obs_0...\n",
      "    writing package oc...\n"
     ]
    }
   ],
   "source": [
    "sim_t.write_simulation()"
   ]
  },
  {
   "cell_type": "markdown",
   "id": "06e59c4a-6dcb-4f6e-a7ca-2ca6597f88c6",
   "metadata": {},
   "source": [
    "## Paso 18. Run simulation"
   ]
  },
  {
   "cell_type": "code",
   "execution_count": 26,
   "id": "44e64765-dd25-46ee-b705-763a3d8254ba",
   "metadata": {},
   "outputs": [
    {
     "name": "stdout",
     "output_type": "stream",
     "text": [
      "FloPy is using the following executable to run the model: ../../../mf6/bin/mf6\n",
      "                                   MODFLOW 6\n",
      "                U.S. GEOLOGICAL SURVEY MODULAR HYDROLOGIC MODEL\n",
      "                            VERSION 6.4.4 02/13/2024\n",
      "\n",
      "   MODFLOW 6 compiled Feb 13 2024 16:19:58 with Intel(R) Fortran Intel(R) 64\n",
      "   Compiler Classic for applications running on Intel(R) 64, Version 2021.7.0\n",
      "                             Build 20220726_000000\n",
      "\n",
      "This software has been approved for release by the U.S. Geological \n",
      "Survey (USGS). Although the software has been subjected to rigorous \n",
      "review, the USGS reserves the right to update the software as needed \n",
      "pursuant to further analysis and review. No warranty, expressed or \n",
      "implied, is made by the USGS or the U.S. Government as to the \n",
      "functionality of the software and related material nor shall the \n",
      "fact of release constitute any such warranty. Furthermore, the \n",
      "software is released on condition that neither the USGS nor the U.S. \n",
      "Government shall be held liable for any damages resulting from its \n",
      "authorized or unauthorized use. Also refer to the USGS Water \n",
      "Resources Software User Rights Notice for complete use, copyright, \n",
      "and distribution information.\n",
      "\n",
      " \n",
      " Run start date and time (yyyy/mm/dd hh:mm:ss): 2024/05/13 17:53:11\n",
      " \n",
      " Writing simulation list file: mfsim.lst\n",
      " Using Simulation name file: mfsim.nam\n",
      " \n",
      "    Solving:  Stress period:     1    Time step:     1\n",
      "    Solving:  Stress period:     1    Time step:     2\n",
      "    Solving:  Stress period:     1    Time step:     3\n",
      "    Solving:  Stress period:     1    Time step:     4\n",
      "    Solving:  Stress period:     1    Time step:     5\n",
      "    Solving:  Stress period:     1    Time step:     6\n",
      "    Solving:  Stress period:     1    Time step:     7\n",
      "    Solving:  Stress period:     1    Time step:     8\n",
      "    Solving:  Stress period:     1    Time step:     9\n",
      "    Solving:  Stress period:     1    Time step:    10\n",
      "    Solving:  Stress period:     1    Time step:    11\n",
      "    Solving:  Stress period:     1    Time step:    12\n",
      "    Solving:  Stress period:     1    Time step:    13\n",
      "    Solving:  Stress period:     1    Time step:    14\n",
      "    Solving:  Stress period:     1    Time step:    15\n",
      "    Solving:  Stress period:     1    Time step:    16\n",
      "    Solving:  Stress period:     1    Time step:    17\n",
      "    Solving:  Stress period:     1    Time step:    18\n",
      "    Solving:  Stress period:     1    Time step:    19\n",
      "    Solving:  Stress period:     1    Time step:    20\n",
      "    Solving:  Stress period:     1    Time step:    21\n",
      "    Solving:  Stress period:     1    Time step:    22\n",
      "    Solving:  Stress period:     1    Time step:    23\n",
      "    Solving:  Stress period:     1    Time step:    24\n",
      "    Solving:  Stress period:     1    Time step:    25\n",
      "    Solving:  Stress period:     1    Time step:    26\n",
      "    Solving:  Stress period:     1    Time step:    27\n",
      "    Solving:  Stress period:     1    Time step:    28\n",
      "    Solving:  Stress period:     1    Time step:    29\n",
      "    Solving:  Stress period:     1    Time step:    30\n",
      "    Solving:  Stress period:     1    Time step:    31\n",
      "    Solving:  Stress period:     1    Time step:    32\n",
      "    Solving:  Stress period:     1    Time step:    33\n",
      "    Solving:  Stress period:     1    Time step:    34\n",
      "    Solving:  Stress period:     1    Time step:    35\n",
      "    Solving:  Stress period:     1    Time step:    36\n",
      "    Solving:  Stress period:     1    Time step:    37\n",
      "    Solving:  Stress period:     1    Time step:    38\n",
      "    Solving:  Stress period:     1    Time step:    39\n",
      "    Solving:  Stress period:     1    Time step:    40\n",
      "    Solving:  Stress period:     1    Time step:    41\n",
      "    Solving:  Stress period:     1    Time step:    42\n",
      "    Solving:  Stress period:     1    Time step:    43\n",
      "    Solving:  Stress period:     1    Time step:    44\n",
      "    Solving:  Stress period:     1    Time step:    45\n",
      "    Solving:  Stress period:     1    Time step:    46\n",
      "    Solving:  Stress period:     1    Time step:    47\n",
      "    Solving:  Stress period:     1    Time step:    48\n",
      "    Solving:  Stress period:     1    Time step:    49\n",
      "    Solving:  Stress period:     1    Time step:    50\n",
      "    Solving:  Stress period:     1    Time step:    51\n",
      "    Solving:  Stress period:     1    Time step:    52\n",
      "    Solving:  Stress period:     1    Time step:    53\n",
      "    Solving:  Stress period:     1    Time step:    54\n",
      "    Solving:  Stress period:     1    Time step:    55\n",
      "    Solving:  Stress period:     1    Time step:    56\n",
      "    Solving:  Stress period:     1    Time step:    57\n",
      "    Solving:  Stress period:     1    Time step:    58\n",
      "    Solving:  Stress period:     1    Time step:    59\n",
      "    Solving:  Stress period:     1    Time step:    60\n",
      "    Solving:  Stress period:     1    Time step:    61\n",
      "    Solving:  Stress period:     1    Time step:    62\n",
      "    Solving:  Stress period:     1    Time step:    63\n",
      "    Solving:  Stress period:     1    Time step:    64\n",
      "    Solving:  Stress period:     1    Time step:    65\n",
      "    Solving:  Stress period:     1    Time step:    66\n",
      "    Solving:  Stress period:     1    Time step:    67\n",
      "    Solving:  Stress period:     1    Time step:    68\n",
      "    Solving:  Stress period:     1    Time step:    69\n",
      "    Solving:  Stress period:     1    Time step:    70\n",
      "    Solving:  Stress period:     1    Time step:    71\n",
      "    Solving:  Stress period:     1    Time step:    72\n",
      "    Solving:  Stress period:     1    Time step:    73\n",
      "    Solving:  Stress period:     1    Time step:    74\n",
      "    Solving:  Stress period:     1    Time step:    75\n",
      "    Solving:  Stress period:     1    Time step:    76\n",
      "    Solving:  Stress period:     1    Time step:    77\n",
      "    Solving:  Stress period:     1    Time step:    78\n",
      "    Solving:  Stress period:     1    Time step:    79\n",
      "    Solving:  Stress period:     1    Time step:    80\n",
      "    Solving:  Stress period:     1    Time step:    81\n",
      "    Solving:  Stress period:     1    Time step:    82\n",
      "    Solving:  Stress period:     1    Time step:    83\n",
      "    Solving:  Stress period:     1    Time step:    84\n",
      "    Solving:  Stress period:     1    Time step:    85\n",
      "    Solving:  Stress period:     1    Time step:    86\n",
      "    Solving:  Stress period:     1    Time step:    87\n",
      "    Solving:  Stress period:     1    Time step:    88\n",
      "    Solving:  Stress period:     1    Time step:    89\n",
      "    Solving:  Stress period:     1    Time step:    90\n",
      "    Solving:  Stress period:     1    Time step:    91\n",
      "    Solving:  Stress period:     1    Time step:    92\n",
      "    Solving:  Stress period:     1    Time step:    93\n",
      "    Solving:  Stress period:     1    Time step:    94\n",
      "    Solving:  Stress period:     1    Time step:    95\n",
      "    Solving:  Stress period:     1    Time step:    96\n",
      "    Solving:  Stress period:     1    Time step:    97\n",
      "    Solving:  Stress period:     1    Time step:    98\n",
      "    Solving:  Stress period:     1    Time step:    99\n",
      "    Solving:  Stress period:     1    Time step:   100\n",
      "    Solving:  Stress period:     1    Time step:   101\n",
      "    Solving:  Stress period:     1    Time step:   102\n",
      "    Solving:  Stress period:     1    Time step:   103\n",
      "    Solving:  Stress period:     1    Time step:   104\n",
      "    Solving:  Stress period:     1    Time step:   105\n",
      "    Solving:  Stress period:     1    Time step:   106\n",
      "    Solving:  Stress period:     1    Time step:   107\n",
      "    Solving:  Stress period:     1    Time step:   108\n",
      "    Solving:  Stress period:     1    Time step:   109\n",
      "    Solving:  Stress period:     1    Time step:   110\n",
      "    Solving:  Stress period:     1    Time step:   111\n",
      "    Solving:  Stress period:     1    Time step:   112\n",
      "    Solving:  Stress period:     1    Time step:   113\n",
      "    Solving:  Stress period:     1    Time step:   114\n",
      "    Solving:  Stress period:     1    Time step:   115\n",
      "    Solving:  Stress period:     1    Time step:   116\n",
      "    Solving:  Stress period:     1    Time step:   117\n",
      "    Solving:  Stress period:     1    Time step:   118\n",
      "    Solving:  Stress period:     1    Time step:   119\n",
      "    Solving:  Stress period:     1    Time step:   120\n",
      "    Solving:  Stress period:     1    Time step:   121\n",
      "    Solving:  Stress period:     1    Time step:   122\n",
      "    Solving:  Stress period:     1    Time step:   123\n",
      "    Solving:  Stress period:     1    Time step:   124\n",
      "    Solving:  Stress period:     1    Time step:   125\n",
      "    Solving:  Stress period:     1    Time step:   126\n",
      "    Solving:  Stress period:     1    Time step:   127\n",
      "    Solving:  Stress period:     1    Time step:   128\n",
      "    Solving:  Stress period:     1    Time step:   129\n",
      "    Solving:  Stress period:     1    Time step:   130\n",
      "    Solving:  Stress period:     1    Time step:   131\n",
      "    Solving:  Stress period:     1    Time step:   132\n",
      "    Solving:  Stress period:     1    Time step:   133\n",
      "    Solving:  Stress period:     1    Time step:   134\n",
      "    Solving:  Stress period:     1    Time step:   135\n",
      "    Solving:  Stress period:     1    Time step:   136\n",
      "    Solving:  Stress period:     1    Time step:   137\n",
      "    Solving:  Stress period:     1    Time step:   138\n",
      "    Solving:  Stress period:     1    Time step:   139\n",
      "    Solving:  Stress period:     1    Time step:   140\n",
      "    Solving:  Stress period:     1    Time step:   141\n",
      "    Solving:  Stress period:     1    Time step:   142\n",
      "    Solving:  Stress period:     1    Time step:   143\n",
      "    Solving:  Stress period:     1    Time step:   144\n",
      "    Solving:  Stress period:     1    Time step:   145\n",
      "    Solving:  Stress period:     1    Time step:   146\n",
      "    Solving:  Stress period:     1    Time step:   147\n",
      "    Solving:  Stress period:     1    Time step:   148\n",
      "    Solving:  Stress period:     1    Time step:   149\n",
      "    Solving:  Stress period:     1    Time step:   150\n",
      "    Solving:  Stress period:     1    Time step:   151\n",
      "    Solving:  Stress period:     1    Time step:   152\n",
      "    Solving:  Stress period:     1    Time step:   153\n",
      "    Solving:  Stress period:     1    Time step:   154\n",
      "    Solving:  Stress period:     1    Time step:   155\n",
      "    Solving:  Stress period:     1    Time step:   156\n",
      "    Solving:  Stress period:     1    Time step:   157\n",
      "    Solving:  Stress period:     1    Time step:   158\n",
      "    Solving:  Stress period:     1    Time step:   159\n",
      "    Solving:  Stress period:     1    Time step:   160\n",
      "    Solving:  Stress period:     1    Time step:   161\n",
      "    Solving:  Stress period:     1    Time step:   162\n",
      "    Solving:  Stress period:     1    Time step:   163\n",
      "    Solving:  Stress period:     1    Time step:   164\n",
      "    Solving:  Stress period:     1    Time step:   165\n",
      "    Solving:  Stress period:     1    Time step:   166\n",
      "    Solving:  Stress period:     1    Time step:   167\n",
      "    Solving:  Stress period:     1    Time step:   168\n",
      "    Solving:  Stress period:     1    Time step:   169\n",
      "    Solving:  Stress period:     1    Time step:   170\n",
      "    Solving:  Stress period:     1    Time step:   171\n",
      "    Solving:  Stress period:     1    Time step:   172\n",
      "    Solving:  Stress period:     1    Time step:   173\n",
      "    Solving:  Stress period:     1    Time step:   174\n",
      "    Solving:  Stress period:     1    Time step:   175\n",
      "    Solving:  Stress period:     1    Time step:   176\n",
      "    Solving:  Stress period:     1    Time step:   177\n",
      "    Solving:  Stress period:     1    Time step:   178\n",
      "    Solving:  Stress period:     1    Time step:   179\n",
      "    Solving:  Stress period:     1    Time step:   180\n",
      "    Solving:  Stress period:     1    Time step:   181\n",
      "    Solving:  Stress period:     1    Time step:   182\n",
      "    Solving:  Stress period:     1    Time step:   183\n",
      "    Solving:  Stress period:     1    Time step:   184\n",
      "    Solving:  Stress period:     1    Time step:   185\n",
      "    Solving:  Stress period:     1    Time step:   186\n",
      "    Solving:  Stress period:     1    Time step:   187\n",
      "    Solving:  Stress period:     1    Time step:   188\n",
      "    Solving:  Stress period:     1    Time step:   189\n",
      "    Solving:  Stress period:     1    Time step:   190\n",
      "    Solving:  Stress period:     1    Time step:   191\n",
      "    Solving:  Stress period:     1    Time step:   192\n",
      "    Solving:  Stress period:     1    Time step:   193\n",
      "    Solving:  Stress period:     1    Time step:   194\n",
      "    Solving:  Stress period:     1    Time step:   195\n",
      "    Solving:  Stress period:     1    Time step:   196\n",
      "    Solving:  Stress period:     1    Time step:   197\n",
      "    Solving:  Stress period:     1    Time step:   198\n",
      "    Solving:  Stress period:     1    Time step:   199\n",
      "    Solving:  Stress period:     1    Time step:   200\n",
      "    Solving:  Stress period:     1    Time step:   201\n",
      "    Solving:  Stress period:     1    Time step:   202\n",
      "    Solving:  Stress period:     1    Time step:   203\n",
      "    Solving:  Stress period:     1    Time step:   204\n",
      "    Solving:  Stress period:     1    Time step:   205\n",
      "    Solving:  Stress period:     1    Time step:   206\n",
      "    Solving:  Stress period:     1    Time step:   207\n",
      "    Solving:  Stress period:     1    Time step:   208\n",
      "    Solving:  Stress period:     1    Time step:   209\n",
      "    Solving:  Stress period:     1    Time step:   210\n",
      "    Solving:  Stress period:     1    Time step:   211\n",
      "    Solving:  Stress period:     1    Time step:   212\n",
      "    Solving:  Stress period:     1    Time step:   213\n",
      "    Solving:  Stress period:     1    Time step:   214\n",
      "    Solving:  Stress period:     1    Time step:   215\n",
      "    Solving:  Stress period:     1    Time step:   216\n",
      "    Solving:  Stress period:     1    Time step:   217\n",
      "    Solving:  Stress period:     1    Time step:   218\n",
      "    Solving:  Stress period:     1    Time step:   219\n",
      "    Solving:  Stress period:     1    Time step:   220\n",
      "    Solving:  Stress period:     1    Time step:   221\n",
      "    Solving:  Stress period:     1    Time step:   222\n",
      "    Solving:  Stress period:     1    Time step:   223\n",
      "    Solving:  Stress period:     1    Time step:   224\n",
      "    Solving:  Stress period:     1    Time step:   225\n",
      "    Solving:  Stress period:     1    Time step:   226\n",
      "    Solving:  Stress period:     1    Time step:   227\n",
      "    Solving:  Stress period:     1    Time step:   228\n",
      "    Solving:  Stress period:     1    Time step:   229\n",
      "    Solving:  Stress period:     1    Time step:   230\n",
      "    Solving:  Stress period:     1    Time step:   231\n",
      "    Solving:  Stress period:     1    Time step:   232\n",
      "    Solving:  Stress period:     1    Time step:   233\n",
      "    Solving:  Stress period:     1    Time step:   234\n",
      "    Solving:  Stress period:     1    Time step:   235\n",
      "    Solving:  Stress period:     1    Time step:   236\n",
      "    Solving:  Stress period:     1    Time step:   237\n",
      "    Solving:  Stress period:     1    Time step:   238\n",
      "    Solving:  Stress period:     1    Time step:   239\n",
      "    Solving:  Stress period:     1    Time step:   240\n",
      " \n",
      " Run end date and time (yyyy/mm/dd hh:mm:ss): 2024/05/13 17:53:12\n",
      " Elapsed run time:  0.329 Seconds\n",
      " \n",
      " Normal termination of simulation.\n"
     ]
    },
    {
     "data": {
      "text/plain": [
       "(True, [])"
      ]
     },
     "execution_count": 26,
     "metadata": {},
     "output_type": "execute_result"
    }
   ],
   "source": [
    "sim_t.run_simulation()"
   ]
  },
  {
   "cell_type": "markdown",
   "id": "4942b96b-60cb-44f4-b374-1e6b171e25dd",
   "metadata": {},
   "source": [
    "## Paso 19. Postprocessing"
   ]
  },
  {
   "cell_type": "markdown",
   "id": "abdb5d34-9fa5-46cf-880d-6f6024204b86",
   "metadata": {},
   "source": [
    "### Resultados del transporte"
   ]
  },
  {
   "cell_type": "code",
   "execution_count": null,
   "id": "491a9d75-edd2-4e0f-97af-4379ea181758",
   "metadata": {},
   "outputs": [],
   "source": [
    "#sim_t.model_names"
   ]
  },
  {
   "cell_type": "code",
   "execution_count": 27,
   "id": "14569be0-d989-41a3-a12b-01ddca6f0ce5",
   "metadata": {},
   "outputs": [],
   "source": [
    "mf6gwt_ra = sim_t.get_model(\"transport\").obs.output.obs().data\n",
    "ucnobj_mf6 = sim_t.transport.output.concentration()"
   ]
  },
  {
   "cell_type": "code",
   "execution_count": 28,
   "id": "b00ea0d0-3d5d-4c70-a37f-57077be474a0",
   "metadata": {},
   "outputs": [
    {
     "name": "stdout",
     "output_type": "stream",
     "text": [
      "<class 'numpy.recarray'> <class 'flopy.utils.binaryfile.HeadFile'>\n"
     ]
    }
   ],
   "source": [
    "print(type(mf6gwt_ra), type(ucnobj_mf6))"
   ]
  },
  {
   "cell_type": "code",
   "execution_count": 29,
   "id": "f4898093-f31b-4ddf-b5f0-8b9bc40452a6",
   "metadata": {},
   "outputs": [
    {
     "name": "stdout",
     "output_type": "stream",
     "text": [
      "(240,)\n"
     ]
    }
   ],
   "source": [
    "print(mf6gwt_ra.shape)"
   ]
  },
  {
   "cell_type": "code",
   "execution_count": 30,
   "id": "025ab006-863f-482b-b10d-2382a7acb2ea",
   "metadata": {},
   "outputs": [
    {
     "name": "stdout",
     "output_type": "stream",
     "text": [
      "[(  0.5, 0.28357732, 7.83140335e-15,  9.13706044e-40)\n",
      " (  1. , 0.46247052, 4.52708696e-14,  3.46785333e-38)\n",
      " (  1.5, 0.58441305, 1.83227465e-13,  6.70677030e-37)\n",
      " (  2. , 0.6720694 , 6.26002509e-13,  8.80981864e-36)\n",
      " (  2.5, 0.73741561, 1.91973810e-12,  8.83949579e-35)\n",
      " (  3. , 0.78739937, 5.44716655e-12,  7.22387376e-34)\n",
      " (  3.5, 0.82636306, 1.45939158e-11,  5.00684322e-33)\n",
      " (  4. , 0.85717974, 3.75315938e-11,  3.02624169e-32)\n",
      " (  4.5, 0.88183412, 9.39533489e-11,  1.62793618e-31)\n",
      " (  5. , 0.9017434 , 2.31377107e-10,  7.91652786e-31)\n",
      " (  5.5, 0.91794609, 5.63859491e-10,  3.52330648e-30)\n",
      " (  6. , 0.93121916, 1.36077539e-09,  1.44953370e-29)\n",
      " (  6.5, 0.94215386, 3.24155313e-09,  5.55853273e-29)\n",
      " (  7. , 0.95119818, 6.83786444e-09,  2.00048548e-28)\n",
      " (  7.5, 0.95871855, 1.47466196e-08,  6.79536933e-28)\n",
      " (  8. , 0.96499698, 3.20341224e-08,  2.18858232e-27)\n",
      " (  8.5, 0.97025649, 6.90530920e-08,  6.70682650e-27)\n",
      " (  9. , 0.9746758 , 1.46028787e-07,  1.96086854e-26)\n",
      " (  9.5, 0.97839932, 3.00783789e-07,  5.48107983e-26)\n",
      " ( 10. , 0.98154444, 6.01177030e-07,  1.46726414e-25)\n",
      " ( 10.5, 0.98420713, 1.16431704e-06,  3.76718274e-25)\n",
      " ( 11. , 0.98646614, 2.18511075e-06,  9.28932445e-25)\n",
      " ( 11.5, 0.98838641, 3.97717250e-06,  2.20280925e-24)\n",
      " ( 12. , 0.99002169, 7.02947469e-06,  5.02963602e-24)\n",
      " ( 12.5, 0.99141661, 1.20822927e-05,  1.10705269e-23)\n",
      " ( 13. , 0.99260836, 2.02259054e-05,  2.35137131e-23)\n",
      " ( 13.5, 0.99362803, 3.30250882e-05,  4.82352352e-23)\n",
      " ( 14. , 0.99450164, 5.26716327e-05,  9.56221883e-23)\n",
      " ( 14.5, 0.99525109, 8.21659225e-05,  1.83240608e-22)\n",
      " ( 15. , 0.99589478, 1.25527013e-04,  3.39375454e-22)\n",
      " ( 15.5, 0.99644828, 1.88028757e-04,  6.07016207e-22)\n",
      " ( 16. , 0.99692472, 2.76457397e-04,  1.04682994e-21)\n",
      " ( 16.5, 0.99733526, 3.99383816e-04,  1.73563170e-21)\n",
      " ( 17. , 0.99768934, 5.67441498e-04,  2.75330661e-21)\n",
      " ( 17.5, 0.99799501, 7.93599339e-04,  4.14552222e-21)\n",
      " ( 18. , 0.99825912, 1.09341689e-03,  5.84165920e-21)\n",
      " ( 18.5, 0.99848749, 1.48526871e-03,  7.49841786e-21)\n",
      " ( 19. , 0.99868513, 1.99052403e-03,  8.23505636e-21)\n",
      " ( 19.5, 0.99885629, 2.63366861e-03,  6.23253383e-21)\n",
      " ( 20. , 0.99900463, 3.44235638e-03, -1.79530253e-21)\n",
      " ( 20.5, 0.99913327, 4.44738082e-03, -2.11276233e-20)\n",
      " ( 21. , 0.99924491, 5.68255806e-03, -5.90976405e-20)\n",
      " ( 21.5, 0.99934185, 7.18451708e-03, -1.23956781e-19)\n",
      " ( 22. , 0.99942608, 8.99239547e-03, -2.20887289e-19)\n",
      " ( 22.5, 0.99949931, 1.11474429e-02, -3.40990484e-19)\n",
      " ( 23. , 0.999563  , 1.36925380e-02, -4.34247441e-19)\n",
      " ( 23.5, 0.99961843, 1.66716279e-02, -3.49854027e-19)\n",
      " ( 24. , 0.9996667 , 2.01291022e-02,  2.86044054e-19)\n",
      " ( 24.5, 0.99970875, 2.41091159e-02,  2.15004849e-18)\n",
      " ( 25. , 0.9997454 , 2.86548788e-02,  6.54361590e-18)\n",
      " ( 25.5, 0.99977736, 3.38079285e-02,  1.60844848e-17)\n",
      " ( 26. , 0.99980523, 3.96074044e-02,  3.58204165e-17)\n",
      " ( 26.5, 0.99982956, 4.60893443e-02,  7.51903696e-17)\n",
      " ( 27. , 0.9998508 , 5.32860172e-02,  1.51159924e-16)\n",
      " ( 27.5, 0.99986935, 6.12253119e-02,  2.93193005e-16)\n",
      " ( 28. , 0.99988556, 6.99301931e-02,  7.04382396e-16)\n",
      " ( 28.5, 0.99989973, 7.94182393e-02,  1.57661392e-15)\n",
      " ( 29. , 0.99991212, 8.97012706e-02,  3.34875276e-15)\n",
      " ( 29.5, 0.99992296, 1.00785074e-01,  6.85561851e-15)\n",
      " ( 30. , 0.99993244, 1.12669227e-01,  1.36270142e-14)\n",
      " ( 30.5, 0.99994074, 1.25347031e-01,  2.64163947e-14)\n",
      " ( 31. , 0.999948  , 1.38805534e-01,  5.00946929e-14)\n",
      " ( 31.5, 0.99995437, 1.53025665e-01,  9.31410904e-14)\n",
      " ( 32. , 0.99995994, 1.67982443e-01,  1.70093370e-13)\n",
      " ( 32.5, 0.99996483, 1.83645285e-01,  3.05522353e-13)\n",
      " ( 33. , 0.99996911, 1.99978380e-01,  5.40395991e-13)\n",
      " ( 33.5, 0.99997287, 2.16941126e-01,  9.42145103e-13)\n",
      " ( 34. , 0.99997616, 2.34488628e-01,  1.62039640e-12)\n",
      " ( 34.5, 0.99997905, 2.52572228e-01,  2.75128501e-12)\n",
      " ( 35. , 0.99998158, 2.71140072e-01,  4.61461419e-12)\n",
      " ( 35.5, 0.99998381, 2.90137694e-01,  7.65005109e-12)\n",
      " ( 36. , 0.99998576, 3.09508609e-01,  1.25412410e-11)\n",
      " ( 36.5, 0.99998748, 3.29194900e-01,  2.03404627e-11)\n",
      " ( 37. , 0.99998898, 3.49137799e-01,  3.26515886e-11)\n",
      " ( 37.5, 0.99999031, 3.69278249e-01,  5.18961114e-11)\n",
      " ( 38. , 0.99999147, 3.89557433e-01,  8.16964383e-11)\n",
      " ( 38.5, 0.99999249, 4.09917275e-01,  1.27423262e-10)\n",
      " ( 39. , 0.99999339, 4.30300903e-01,  1.96970512e-10)\n",
      " ( 39.5, 0.99999418, 4.50653073e-01,  3.01843303e-10)\n",
      " ( 40. , 0.99999487, 4.70920538e-01,  4.58672767e-10)\n",
      " ( 40.5, 0.99999549, 4.91052385e-01,  6.91308421e-10)\n",
      " ( 41. , 0.99999602, 5.11000316e-01,  1.03368566e-09)\n",
      " ( 41.5, 0.9999965 , 5.30718883e-01,  1.53372548e-09)\n",
      " ( 42. , 0.99999691, 5.50165680e-01,  2.25859846e-09)\n",
      " ( 42.5, 0.99999728, 5.69301490e-01,  3.30177819e-09)\n",
      " ( 43. , 0.9999976 , 5.88090382e-01,  4.79242482e-09)\n",
      " ( 43.5, 0.99999789, 6.06499782e-01,  6.90778090e-09)\n",
      " ( 44. , 0.99999814, 6.24500492e-01,  9.88943385e-09)\n",
      " ( 44.5, 0.99999836, 6.42066682e-01,  1.40645072e-08)\n",
      " ( 45. , 0.99999855, 6.59175853e-01,  1.98730917e-08)\n",
      " ( 45.5, 0.99999872, 6.75808765e-01,  2.79035227e-08)\n",
      " ( 46. , 0.99999887, 6.91949347e-01,  3.89374584e-08)\n",
      " ( 46.5, 0.999999  , 7.07584585e-01,  5.40071214e-08)\n",
      " ( 47. , 0.99999912, 7.22704388e-01,  7.44675362e-08)\n",
      " ( 47.5, 0.99999922, 7.37301446e-01,  1.02087139e-07)\n",
      " ( 48. , 0.99999932, 7.51371072e-01,  1.39160753e-07)\n",
      " ( 48.5, 0.9999994 , 7.64911034e-01,  1.88649626e-07)\n",
      " ( 49. , 0.99999947, 7.77921390e-01,  2.54354005e-07)\n",
      " ( 49.5, 0.99999953, 7.90404304e-01,  3.41124588e-07)\n",
      " ( 50. , 0.99999958, 8.02363880e-01,  4.55120182e-07)\n",
      " ( 50.5, 0.99999963, 8.13805975e-01,  6.04119877e-07)\n",
      " ( 51. , 0.99999968, 8.24738034e-01,  7.97899255e-07)\n",
      " ( 51.5, 0.99999971, 8.35168914e-01,  1.04868127e-06)\n",
      " ( 52. , 0.99999975, 8.45108724e-01,  1.37167378e-06)\n",
      " ( 52.5, 0.99999978, 8.54568659e-01,  1.78570697e-06)\n",
      " ( 53. , 0.9999998 , 8.63560854e-01,  2.31398528e-06)\n",
      " ( 53.5, 0.99999983, 8.72098237e-01,  2.98496986e-06)\n",
      " ( 54. , 0.99999985, 8.80194390e-01,  3.83340892e-06)\n",
      " ( 54.5, 0.99999986, 8.87863426e-01,  4.90153457e-06)\n",
      " ( 55. , 0.99999988, 8.95119863e-01,  6.24044617e-06)\n",
      " ( 55.5, 0.99999989, 9.01978520e-01,  7.91170118e-06)\n",
      " ( 56. , 0.99999991, 9.08454411e-01,  9.98913568e-06)\n",
      " ( 56.5, 0.99999992, 9.14562653e-01,  1.25609373e-05)\n",
      " ( 57. , 0.99999993, 9.20318382e-01,  1.57319940e-05)\n",
      " ( 57.5, 0.99999993, 9.25736677e-01,  1.96265424e-05)\n",
      " ( 58. , 0.99999994, 9.30832490e-01,  2.43911397e-05)\n",
      " ( 58.5, 0.99999995, 9.35620587e-01,  3.01979810e-05)\n",
      " ( 59. , 0.99999996, 9.40115498e-01,  3.72485865e-05)\n",
      " ( 59.5, 0.99999996, 9.44331463e-01,  4.57778774e-05)\n",
      " ( 60. , 0.99999996, 9.48282402e-01,  5.60586609e-05)\n",
      " ( 60.5, 0.99999997, 9.51981873e-01,  6.84065403e-05)\n",
      " ( 61. , 0.99999997, 9.55443049e-01,  8.31852639e-05)\n",
      " ( 61.5, 0.99999998, 9.58678694e-01,  1.00812524e-04)\n",
      " ( 62. , 0.99999998, 9.61701148e-01,  1.21766207e-04)\n",
      " ( 62.5, 0.99999998, 9.64522305e-01,  1.46591107e-04)\n",
      " ( 63. , 0.99999998, 9.67153616e-01,  1.75906078e-04)\n",
      " ( 63.5, 0.99999998, 9.69606072e-01,  2.10411642e-04)\n",
      " ( 64. , 0.99999999, 9.71890208e-01,  2.50898005e-04)\n",
      " ( 64.5, 0.99999999, 9.74016100e-01,  2.98253488e-04)\n",
      " ( 65. , 0.99999999, 9.75993370e-01,  3.53473308e-04)\n",
      " ( 65.5, 0.99999999, 9.77831189e-01,  4.17668703e-04)\n",
      " ( 66. , 0.99999999, 9.79538286e-01,  4.92076330e-04)\n",
      " ( 66.5, 0.99999999, 9.81122953e-01,  5.78067881e-04)\n",
      " ( 67. , 0.99999999, 9.82593061e-01,  6.77159871e-04)\n",
      " ( 67.5, 0.99999999, 9.83956064e-01,  7.91023503e-04)\n",
      " ( 68. , 1.        , 9.85219016e-01,  9.21494538e-04)\n",
      " ( 68.5, 1.        , 9.86388584e-01,  1.07058309e-03)\n",
      " ( 69. , 1.        , 9.87471056e-01,  1.24048323e-03)\n",
      " ( 69.5, 1.        , 9.88472364e-01,  1.43358233e-03)\n",
      " ( 70. , 1.        , 9.89398090e-01,  1.65246996e-03)\n",
      " ( 70.5, 1.        , 9.90253483e-01,  1.89994635e-03)\n",
      " ( 71. , 1.        , 9.91043477e-01,  2.17903020e-03)\n",
      " ( 71.5, 1.        , 9.91772697e-01,  2.49296571e-03)\n",
      " ( 72. , 1.        , 9.92445486e-01,  2.84522880e-03)\n",
      " ( 72.5, 1.        , 9.93065905e-01,  3.23953229e-03)\n",
      " ( 73. , 1.        , 9.93637758e-01,  3.67983000e-03)\n",
      " ( 73.5, 1.        , 9.94164598e-01,  4.17031959e-03)\n",
      " ( 74. , 1.        , 9.94649747e-01,  4.71544408e-03)\n",
      " ( 74.5, 1.        , 9.95096302e-01,  5.31989190e-03)\n",
      " ( 75. , 1.        , 9.95507153e-01,  5.98859538e-03)\n",
      " ( 75.5, 1.        , 9.95884990e-01,  6.72672753e-03)\n",
      " ( 76. , 1.        , 9.96232320e-01,  7.53969723e-03)\n",
      " ( 76.5, 1.        , 9.96551472e-01,  8.43314244e-03)\n",
      " ( 77. , 1.        , 9.96844614e-01,  9.41292166e-03)\n",
      " ( 77.5, 1.        , 9.97113758e-01,  1.04851034e-02)\n",
      " ( 78. , 1.        , 9.97360772e-01,  1.16559539e-02)\n",
      " ( 78.5, 1.        , 9.97587388e-01,  1.29319224e-02)\n",
      " ( 79. , 1.        , 9.97795213e-01,  1.43196253e-02)\n",
      " ( 79.5, 1.        , 9.97985734e-01,  1.58258274e-02)\n",
      " ( 80. , 1.        , 9.98160329e-01,  1.74574222e-02)\n",
      " ( 80.5, 1.        , 9.98320272e-01,  1.92214097e-02)\n",
      " ( 81. , 1.        , 9.98466743e-01,  2.11248727e-02)\n",
      " ( 81.5, 1.        , 9.98600829e-01,  2.31749516e-02)\n",
      " ( 82. , 1.        , 9.98723537e-01,  2.53788171e-02)\n",
      " ( 82.5, 1.        , 9.98835796e-01,  2.77436426e-02)\n",
      " ( 83. , 1.        , 9.98938461e-01,  3.02765739e-02)\n",
      " ( 83.5, 1.        , 9.99032324e-01,  3.29846988e-02)\n",
      " ( 84. , 1.        , 9.99118111e-01,  3.58750157e-02)\n",
      " ( 84.5, 1.        , 9.99196495e-01,  3.89544009e-02)\n",
      " ( 85. , 1.        , 9.99268091e-01,  4.22295758e-02)\n",
      " ( 85.5, 1.        , 9.99333470e-01,  4.57070739e-02)\n",
      " ( 86. , 1.        , 9.99393153e-01,  4.93932070e-02)\n",
      " ( 86.5, 1.        , 9.99447621e-01,  5.32940322e-02)\n",
      " ( 87. , 1.        , 9.99497315e-01,  5.74153187e-02)\n",
      " ( 87.5, 1.        , 9.99542643e-01,  6.17625157e-02)\n",
      " ( 88. , 1.        , 9.99583976e-01,  6.63407200e-02)\n",
      " ( 88.5, 1.        , 9.99621657e-01,  7.11546461e-02)\n",
      " ( 89. , 1.        , 9.99655998e-01,  7.62085959e-02)\n",
      " ( 89.5, 1.        , 9.99687289e-01,  8.15064308e-02)\n",
      " ( 90. , 1.        , 9.99715793e-01,  8.70515453e-02)\n",
      " ( 90.5, 1.        , 9.99741752e-01,  9.28468418e-02)\n",
      " ( 91. , 1.        , 9.99765387e-01,  9.88947078e-02)\n",
      " ( 91.5, 1.        , 9.99786902e-01,  1.05196996e-01)\n",
      " ( 92. , 1.        , 9.99806481e-01,  1.11755003e-01)\n",
      " ( 92.5, 1.        , 9.99824296e-01,  1.18569457e-01)\n",
      " ( 93. , 1.        , 9.99840500e-01,  1.25640502e-01)\n",
      " ( 93.5, 1.        , 9.99855238e-01,  1.32967686e-01)\n",
      " ( 94. , 1.        , 9.99868637e-01,  1.40549956e-01)\n",
      " ( 94.5, 1.        , 9.99880818e-01,  1.48385648e-01)\n",
      " ( 95. , 1.        , 9.99891889e-01,  1.56472487e-01)\n",
      " ( 95.5, 1.        , 9.99901948e-01,  1.64807587e-01)\n",
      " ( 96. , 1.        , 9.99911087e-01,  1.73387451e-01)\n",
      " ( 96.5, 1.        , 9.99919388e-01,  1.82207980e-01)\n",
      " ( 97. , 1.        , 9.99926926e-01,  1.91264479e-01)\n",
      " ( 97.5, 1.        , 9.99933770e-01,  2.00551671e-01)\n",
      " ( 98. , 1.        , 9.99939983e-01,  2.10063704e-01)\n",
      " ( 98.5, 1.        , 9.99945622e-01,  2.19794175e-01)\n",
      " ( 99. , 1.        , 9.99950739e-01,  2.29736142e-01)\n",
      " ( 99.5, 1.        , 9.99955381e-01,  2.39882150e-01)\n",
      " (100. , 1.        , 9.99959592e-01,  2.50224247e-01)\n",
      " (100.5, 1.        , 9.99963411e-01,  2.60754017e-01)\n",
      " (101. , 1.        , 9.99966874e-01,  2.71462602e-01)\n",
      " (101.5, 1.        , 9.99970014e-01,  2.82340729e-01)\n",
      " (102. , 1.        , 9.99972860e-01,  2.93378744e-01)\n",
      " (102.5, 1.        , 9.99975439e-01,  3.04566642e-01)\n",
      " (103. , 1.        , 9.99977776e-01,  3.15894096e-01)\n",
      " (103.5, 1.        , 9.99979894e-01,  3.27350496e-01)\n",
      " (104. , 1.        , 9.99981812e-01,  3.38924978e-01)\n",
      " (104.5, 1.        , 9.99983550e-01,  3.50606461e-01)\n",
      " (105. , 1.        , 9.99985124e-01,  3.62383683e-01)\n",
      " (105.5, 1.        , 9.99986548e-01,  3.74245234e-01)\n",
      " (106. , 1.        , 9.99987838e-01,  3.86179595e-01)\n",
      " (106.5, 1.        , 9.99989006e-01,  3.98175167e-01)\n",
      " (107. , 1.        , 9.99990062e-01,  4.10220312e-01)\n",
      " (107.5, 1.        , 9.99991019e-01,  4.22303386e-01)\n",
      " (108. , 1.        , 9.99991884e-01,  4.34412768e-01)\n",
      " (108.5, 1.        , 9.99992667e-01,  4.46536901e-01)\n",
      " (109. , 1.        , 9.99993375e-01,  4.58664317e-01)\n",
      " (109.5, 1.        , 9.99994015e-01,  4.70783673e-01)\n",
      " (110. , 1.        , 9.99994594e-01,  4.82883774e-01)\n",
      " (110.5, 1.        , 9.99995118e-01,  4.94953613e-01)\n",
      " (111. , 1.        , 9.99995592e-01,  5.06982385e-01)\n",
      " (111.5, 1.        , 9.99996020e-01,  5.18959523e-01)\n",
      " (112. , 1.        , 9.99996406e-01,  5.30874716e-01)\n",
      " (112.5, 1.        , 9.99996756e-01,  5.42717937e-01)\n",
      " (113. , 1.        , 9.99997072e-01,  5.54479457e-01)\n",
      " (113.5, 1.        , 9.99997357e-01,  5.66149871e-01)\n",
      " (114. , 1.        , 9.99997615e-01,  5.77720112e-01)\n",
      " (114.5, 1.        , 9.99997848e-01,  5.89181468e-01)\n",
      " (115. , 1.        , 9.99998059e-01,  6.00525598e-01)\n",
      " (115.5, 1.        , 9.99998248e-01,  6.11744541e-01)\n",
      " (116. , 1.        , 9.99998420e-01,  6.22830731e-01)\n",
      " (116.5, 1.        , 9.99998575e-01,  6.33777003e-01)\n",
      " (117. , 1.        , 9.99998715e-01,  6.44576602e-01)\n",
      " (117.5, 1.        , 9.99998841e-01,  6.55223187e-01)\n",
      " (118. , 1.        , 9.99998955e-01,  6.65710833e-01)\n",
      " (118.5, 1.        , 9.99999058e-01,  6.76034036e-01)\n",
      " (119. , 1.        , 9.99999151e-01,  6.86187705e-01)\n",
      " (119.5, 1.        , 9.99999234e-01,  6.96167171e-01)\n",
      " (120. , 1.        , 9.99999310e-01,  7.05968177e-01)]\n"
     ]
    }
   ],
   "source": [
    "print(mf6gwt_ra)"
   ]
  },
  {
   "cell_type": "code",
   "execution_count": 31,
   "id": "6e821fe5-e3b5-462d-8cb0-f47ace945549",
   "metadata": {},
   "outputs": [
    {
     "name": "stdout",
     "output_type": "stream",
     "text": [
      "<class 'numpy.ndarray'> [  0.5   1.    1.5   2.    2.5   3.    3.5   4.    4.5   5.    5.5   6.\n",
      "   6.5   7.    7.5   8.    8.5   9.    9.5  10.   10.5  11.   11.5  12.\n",
      "  12.5  13.   13.5  14.   14.5  15.   15.5  16.   16.5  17.   17.5  18.\n",
      "  18.5  19.   19.5  20.   20.5  21.   21.5  22.   22.5  23.   23.5  24.\n",
      "  24.5  25.   25.5  26.   26.5  27.   27.5  28.   28.5  29.   29.5  30.\n",
      "  30.5  31.   31.5  32.   32.5  33.   33.5  34.   34.5  35.   35.5  36.\n",
      "  36.5  37.   37.5  38.   38.5  39.   39.5  40.   40.5  41.   41.5  42.\n",
      "  42.5  43.   43.5  44.   44.5  45.   45.5  46.   46.5  47.   47.5  48.\n",
      "  48.5  49.   49.5  50.   50.5  51.   51.5  52.   52.5  53.   53.5  54.\n",
      "  54.5  55.   55.5  56.   56.5  57.   57.5  58.   58.5  59.   59.5  60.\n",
      "  60.5  61.   61.5  62.   62.5  63.   63.5  64.   64.5  65.   65.5  66.\n",
      "  66.5  67.   67.5  68.   68.5  69.   69.5  70.   70.5  71.   71.5  72.\n",
      "  72.5  73.   73.5  74.   74.5  75.   75.5  76.   76.5  77.   77.5  78.\n",
      "  78.5  79.   79.5  80.   80.5  81.   81.5  82.   82.5  83.   83.5  84.\n",
      "  84.5  85.   85.5  86.   86.5  87.   87.5  88.   88.5  89.   89.5  90.\n",
      "  90.5  91.   91.5  92.   92.5  93.   93.5  94.   94.5  95.   95.5  96.\n",
      "  96.5  97.   97.5  98.   98.5  99.   99.5 100.  100.5 101.  101.5 102.\n",
      " 102.5 103.  103.5 104.  104.5 105.  105.5 106.  106.5 107.  107.5 108.\n",
      " 108.5 109.  109.5 110.  110.5 111.  111.5 112.  112.5 113.  113.5 114.\n",
      " 114.5 115.  115.5 116.  116.5 117.  117.5 118.  118.5 119.  119.5 120. ]\n"
     ]
    }
   ],
   "source": [
    "simtimes = mf6gwt_ra[\"totim\"]\n",
    "simtimes.shape\n",
    "print(type(simtimes), simtimes)"
   ]
  },
  {
   "cell_type": "code",
   "execution_count": 32,
   "id": "75f05197-f6dd-4bd1-b16f-9d7e737147ac",
   "metadata": {},
   "outputs": [],
   "source": [
    "obsnames = [\"X005\", \"X405\", \"X1105\"]"
   ]
  },
  {
   "cell_type": "code",
   "execution_count": 33,
   "id": "7fa57f1e-2eaf-4ac0-9cf4-9371fa0fa180",
   "metadata": {},
   "outputs": [
    {
     "data": {
      "image/png": "[encoded data removed]",
      "text/plain": [
       "<Figure size 500x600 with 2 Axes>"
      ]
     },
     "metadata": {},
     "output_type": "display_data"
    }
   ],
   "source": [
    "with styles.USGSPlot():\n",
    "    plt.rcParams['font.family'] = 'DeJavu Sans'\n",
    "\n",
    "    fig, axs = plt.subplots(2, 1, figsize=(5,6), tight_layout=True)\n",
    "\n",
    "    iskip = 5\n",
    "\n",
    "    atimes = np.arange(0, tm_par[\"total_time\"], 0.1)\n",
    "    \n",
    "    for i, x in enumerate([0.05, 4.05, 11.05]):\n",
    "        a1, idx_filter = sol_analytical_t(i, x, atimes,mesh, ph_par) \n",
    "                \n",
    "        axs[0].plot(atimes[idx_filter], a1[idx_filter], color=\"k\", label=\"ANALYTICAL\")\n",
    "\n",
    "        axs[0].plot(simtimes[::iskip], mf6gwt_ra[obsnames[i]][::iskip],\n",
    "                    marker=\"o\", ls=\"none\", mec=\"blue\", mfc=\"none\", markersize=\"4\",\n",
    "                    label=\"MODFLOW 6\")\n",
    "        axs[0].set_ylim(-0.05, 1.2)\n",
    "        axs[0].set_xlim(0, 120)\n",
    "        axs[0].set_xlabel(\"Time (seconds)\")\n",
    "        axs[0].set_ylabel(\"Normalized Concentration (unitless)\")\n",
    "        \n",
    "    ctimes = [6.0, 60.0, 120.0]\n",
    "\n",
    "    \n",
    "    x, _, _ = mesh.get_coords()\n",
    "    for i, t in enumerate(ctimes):\n",
    "        a1, idx_filter = sol_analytical_t(i, x, t, mesh, ph_par, False)\n",
    "        \n",
    "        axs[1].plot(x, a1, color=\"k\", label=\"ANALYTICAL\")\n",
    "        simconc = ucnobj_mf6.get_data(totim=t).flatten()\n",
    "        axs[1].plot(x[::iskip], simconc[::iskip],\n",
    "                    marker=\"o\", ls=\"none\", mec=\"blue\", mfc=\"none\", markersize=\"4\",\n",
    "                    label=\"MODFLOW 6\")\n",
    "        axs[1].set_ylim(0, 1.1)\n",
    "        axs[1].set_xlim(0, 12)\n",
    "        axs[1].set_xlabel(\"Distance (cm)\")\n",
    "        axs[1].set_ylabel(\"Normalized Concentration (unitless)\")\n",
    "    \n",
    "    plt.show()"
   ]
  },
  {
   "cell_type": "code",
   "execution_count": null,
   "id": "38be2755-372e-47dd-9275-7b53c42bde8c",
   "metadata": {},
   "outputs": [],
   "source": []
  }
 ],
 "metadata": {
  "kernelspec": {
   "display_name": "Python 3 (ipykernel)",
   "language": "python",
   "name": "python3"
  },
  "language_info": {
   "codemirror_mode": {
    "name": "ipython",
    "version": 3
   },
   "file_extension": ".py",
   "mimetype": "text/x-python",
   "name": "python",
   "nbconvert_exporter": "python",
   "pygments_lexer": "ipython3",
   "version": "3.11.6"
  }
 },
 "nbformat": 4,
 "nbformat_minor": 5
}
