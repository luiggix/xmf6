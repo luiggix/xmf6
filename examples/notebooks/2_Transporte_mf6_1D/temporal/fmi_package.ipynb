{
 "cells": [
  {
   "cell_type": "markdown",
   "id": "6de4d41e-9d53-4a89-bd3c-92dc3fba8853",
   "metadata": {},
   "source": [
    "Flow Model Interface (FMI) Package"
   ]
  },
  {
   "cell_type": "markdown",
   "id": "e3df186b-cf3b-40fd-bd8a-0fd265a34659",
   "metadata": {},
   "source": [
    "El paquete FMI es la interfaz entre el modelo GWT y los flujos de agua subterránea simulados dados por su correspondiente modelo GWF que se ejecutan simultáneamente dentro de la simulación o desde archivos binarios que se crearon a partir de una ejecución previa del modelo GWF."
   ]
  },
  {
   "cell_type": "markdown",
   "id": "1db11702-dd7e-46c5-b99a-b520b0df70c4",
   "metadata": {},
   "source": [
    "El paquete en Modflow 6 se realaciona con Flopy mediante el Móduloflopy.mf6.modflow.mfgwtfmi "
   ]
  },
  {
   "cell_type": "markdown",
   "id": "fd879e5c-b353-41fb-b18e-82d4b8aa4d73",
   "metadata": {},
   "source": [
    "flopy.mf6.modflow.mfgwtfmi "
   ]
  },
  {
   "cell_type": "markdown",
   "id": "8bbcd5b7-aa78-4671-8511-cd3cd6a5b6dc",
   "metadata": {},
   "source": [
    "class ModflowGwtfmi(model, loading_package=False, save_flows=None, flow_imbalance_correction=None, packagedata=None, filename=None, pname=None, **kwargs)"
   ]
  },
  {
   "cell_type": "markdown",
   "id": "33387ab8-dd05-4972-ab16-fffe8f64014c",
   "metadata": {},
   "source": [
    "Descripción de los parámetros \n",
    "model : El correspondiente modelo GWT\n",
    "loading_package \n",
    "save_flows : palabra clave para indicar que los términos de flujo de FMI se escribirán en el archivo “BUDGET FILEOUT” en el paquete Control de Salida.  \n",
    "flow_imbalance_correction: corrige un desequilibrio en los flujos asumiendo que cualquier error de flujo residual entra o sale en la concentración de la celda.\n",
    "packagedata([flowtype, fname]),  flowtype (cadena) se sustituye con una de las siguientes valores GWFBUDGET, GWFHEAD, GWFMOVER o el nombre de un paquete más avanzado para el flujo de entrada del GWT.\n",
    "filename: nombre del archivo del paquete,\n",
    "pname : nombre del paquete"
   ]
  },
  {
   "cell_type": "markdown",
   "id": "081e851e-82f4-4429-94ea-f57687c6ee73",
   "metadata": {},
   "source": [
    "![alt text](Block-fmi.png \"Title\")"
   ]
  },
  {
   "cell_type": "markdown",
   "id": "a743717c-cc39-4540-a6b7-54a5928475c4",
   "metadata": {},
   "source": [
    "Los flujos se proporcionan a partir de una simulación anterior del modelo GWF; en este caso, FMI debe proporcionarse en\n",
    "el archivo de nombre GWT y los archivos principal y de presupuesto deben aparecer en el bloque de opciones de FMI. En este caso, FMI lee el cabezal simulado y los flujos de estos archivos y los pone a disposición del modelo de transporte. Hay algunas consideraciones adicionales cuando los cabezales y los flujos se proporcionan desde archivos binarios."
   ]
  },
  {
   "cell_type": "code",
   "execution_count": null,
   "id": "60a6311e-437b-4486-a25e-090985473b75",
   "metadata": {},
   "outputs": [],
   "source": []
  }
 ],
 "metadata": {
  "kernelspec": {
   "display_name": "Python 3 (ipykernel)",
   "language": "python",
   "name": "python3"
  },
  "language_info": {
   "codemirror_mode": {
    "name": "ipython",
    "version": 3
   },
   "file_extension": ".py",
   "mimetype": "text/x-python",
   "name": "python",
   "nbconvert_exporter": "python",
   "pygments_lexer": "ipython3",
   "version": "3.11.6"
  }
 },
 "nbformat": 4,
 "nbformat_minor": 5
}
