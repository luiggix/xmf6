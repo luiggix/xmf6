{
 "cells": [
  {
   "cell_type": "markdown",
   "id": "0c302000-f107-452f-bd89-271ad8c99f62",
   "metadata": {},
   "source": [
    "El paquete SSM se utiliza para agregar o eliminar masa de soluto de las celdas del modelo de transporte en función de las entradas y salidas de los paquetes de estrés GWF. \n",
    "Si un paquete de estrés GWF proporciona flujo hacia una celda modelo, a ese flujo se le puede asignar una concentración dada por el usuario. \n",
    "\n",
    "Esta concentración debe introducirse como variable auxiliar en el paquete de flujo. \n",
    "En el bloque FUENTES a continuación, el usuario proporciona el nombre de la variable auxiliar que contiene los valores de concentración para cada límite. Si el usuario no ingresa un registro para un paquete de estrés de GWF en el bloque FUENTES, entonces al flujo de entrada al modelo GWT se le asigna un valor de concentración igual a cero.\n"
   ]
  },
  {
   "cell_type": "code",
   "execution_count": null,
   "id": "a7f3a465-e357-4b78-ab24-ec1feb8b6397",
   "metadata": {},
   "outputs": [],
   "source": [
    "# Creación de una instancia del paquete de mezcla de fuente-sumidero de transporte MODFLOW 6\n",
    "    flopy.mf6.ModflowGwtssm(gwt, sources=[[]], filename=f\"{gwtname}.ssm\")\n",
    "#Para el ejemplo que estamos tratando sources es una lista vacia."
   ]
  },
  {
   "cell_type": "markdown",
   "id": "6fd147b5-7e66-498c-9310-9b9aad1548f0",
   "metadata": {},
   "source": [
    "Flopy\n",
    "   ModflowGwtssm\n",
    "   define el paquete ssm dentro del modelo gwt6.\n",
    "Parámetros \n",
    "- Modelo: Modelo del que forma parte este paquete. El paquete se agrega automáticamente al modelo cuando se inicializa. \n",
    "- Fuentes\n",
    "    - la concentración en la fuente.\n",
    "    - srctype: tipo de fuente. Debe ser un un parámetro auxiliar.\n",
    "    - auxname: nombre de la variable auxiliar en el paquete PNAME que contiene la concentración inicial.  \n",
    "    - Archivo: nombre del archivo .ssm\n",
    "\n"
   ]
  },
  {
   "cell_type": "markdown",
   "id": "c145a6f9-9045-4087-967d-9416c360d319",
   "metadata": {},
   "source": [
    "Estructura de los bloques del archivo que lee Modflow 6"
   ]
  },
  {
   "cell_type": "markdown",
   "id": "45ffce6c-905c-4883-905c-fdb3c58c0faf",
   "metadata": {},
   "source": [
    "![alt text](Block-ssm.png \"Title\")"
   ]
  },
  {
   "cell_type": "code",
   "execution_count": null,
   "id": "68a8e6d1-0d7c-466c-9788-599812064e5f",
   "metadata": {},
   "outputs": [],
   "source": []
  }
 ],
 "metadata": {
  "kernelspec": {
   "display_name": "Python 3 (ipykernel)",
   "language": "python",
   "name": "python3"
  },
  "language_info": {
   "codemirror_mode": {
    "name": "ipython",
    "version": 3
   },
   "file_extension": ".py",
   "mimetype": "text/x-python",
   "name": "python",
   "nbconvert_exporter": "python",
   "pygments_lexer": "ipython3",
   "version": "3.11.6"
  }
 },
 "nbformat": 4,
 "nbformat_minor": 5
}
