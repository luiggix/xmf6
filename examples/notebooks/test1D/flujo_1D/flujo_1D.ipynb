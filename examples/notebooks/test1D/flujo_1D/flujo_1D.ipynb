{
 "cells": [
  {
   "cell_type": "markdown",
   "id": "0bbc9f38-c835-49da-b1e6-ab08cbbaa463",
   "metadata": {},
   "source": [
    "## Step 0. Library import"
   ]
  },
  {
   "cell_type": "code",
   "execution_count": 1,
   "id": "48f786a9-a7c0-4ed9-a6ed-4566fd3d9659",
   "metadata": {},
   "outputs": [
    {
     "name": "stdout",
     "output_type": "stream",
     "text": [
      "Collecting flopy\n",
      "  Using cached flopy-3.6.0-py3-none-any.whl.metadata (7.7 kB)\n",
      "Requirement already satisfied: numpy<2.0.0,>=1.15.0 in /opt/conda/lib/python3.11/site-packages (from flopy) (1.26.2)\n",
      "Requirement already satisfied: matplotlib>=1.4.0 in /opt/conda/lib/python3.11/site-packages (from flopy) (3.8.1)\n",
      "Requirement already satisfied: pandas>=2.0.0 in /opt/conda/lib/python3.11/site-packages (from flopy) (2.1.3)\n",
      "Requirement already satisfied: contourpy>=1.0.1 in /opt/conda/lib/python3.11/site-packages (from matplotlib>=1.4.0->flopy) (1.2.0)\n",
      "Requirement already satisfied: cycler>=0.10 in /opt/conda/lib/python3.11/site-packages (from matplotlib>=1.4.0->flopy) (0.12.1)\n",
      "Requirement already satisfied: fonttools>=4.22.0 in /opt/conda/lib/python3.11/site-packages (from matplotlib>=1.4.0->flopy) (4.44.3)\n",
      "Requirement already satisfied: kiwisolver>=1.3.1 in /opt/conda/lib/python3.11/site-packages (from matplotlib>=1.4.0->flopy) (1.4.5)\n",
      "Requirement already satisfied: packaging>=20.0 in /opt/conda/lib/python3.11/site-packages (from matplotlib>=1.4.0->flopy) (23.2)\n",
      "Requirement already satisfied: pillow>=8 in /opt/conda/lib/python3.11/site-packages (from matplotlib>=1.4.0->flopy) (10.1.0)\n",
      "Requirement already satisfied: pyparsing>=2.3.1 in /opt/conda/lib/python3.11/site-packages (from matplotlib>=1.4.0->flopy) (3.1.1)\n",
      "Requirement already satisfied: python-dateutil>=2.7 in /opt/conda/lib/python3.11/site-packages (from matplotlib>=1.4.0->flopy) (2.8.2)\n",
      "Requirement already satisfied: pytz>=2020.1 in /opt/conda/lib/python3.11/site-packages (from pandas>=2.0.0->flopy) (2023.3.post1)\n",
      "Requirement already satisfied: tzdata>=2022.1 in /opt/conda/lib/python3.11/site-packages (from pandas>=2.0.0->flopy) (2023.3)\n",
      "Requirement already satisfied: six>=1.5 in /opt/conda/lib/python3.11/site-packages (from python-dateutil>=2.7->matplotlib>=1.4.0->flopy) (1.16.0)\n",
      "Using cached flopy-3.6.0-py3-none-any.whl (1.4 MB)\n",
      "Installing collected packages: flopy\n",
      "Successfully installed flopy-3.6.0\n"
     ]
    }
   ],
   "source": [
    "!pip install flopy"
   ]
  },
  {
   "cell_type": "code",
   "execution_count": 2,
   "id": "f696fc74-41d6-4916-b6cf-e1e63822021f",
   "metadata": {},
   "outputs": [],
   "source": [
    "import os\n",
    "import numpy as np\n",
    "import matplotlib.pyplot as plt\n",
    "import flopy\n",
    "from flopy.plot.styles import styles"
   ]
  },
  {
   "cell_type": "markdown",
   "id": "37f2d3c8-edfd-4b17-9734-ec2addc5b042",
   "metadata": {},
   "source": [
    "## Step 1. Simulation parameters definition."
   ]
  },
  {
   "cell_type": "code",
   "execution_count": 6,
   "id": "7b8c9368-5715-4f8a-be00-7a06026aa7f4",
   "metadata": {},
   "outputs": [],
   "source": [
    "# Model units\n",
    "length_units = \"centimeters\"\n",
    "time_units = \"seconds\"\n",
    "\n",
    "# Model parameters\n",
    "\n",
    "## Discretization\n",
    "nper = 1  # Number of periods\n",
    "nlay = 1  # Number of layers\n",
    "nrow = 1  # Number of rows\n",
    "ncol = 122  # Number of columns\n",
    "system_length = 12.0  # Length of system ($cm$)\n",
    "delr = 0.1  # Column width ($cm$)\n",
    "delc = 0.1  # Row width ($cm$)\n",
    "top = 1.0  # Top of the model ($cm$)\n",
    "botm = 0  # Layer bottom elevation ($cm$)\n",
    "\n",
    "## Physical parameters\n",
    "specific_discharge = 0.1  # Specific discharge ($cm s^{-1}$)\n",
    "hydraulic_conductivity = 0.01  # Hydraulic conductivity ($cm s^{-1}$)\n",
    "porosity = 0.1  # Porosity of mobile domain (unitless)\n",
    "source_concentration = 1.0  # Source concentration (unitless)\n",
    "initial_concentration = 0.0  # Initial concentration (unitless)\n",
    "total_time = 120.0  # Simulation time ($s$)"
   ]
  },
  {
   "cell_type": "markdown",
   "id": "b6e21570-82d4-4c81-aa18-fd55e493f195",
   "metadata": {},
   "source": [
    "## Step 2. Path to MODFLOW6 and simulation name"
   ]
  },
  {
   "cell_type": "code",
   "execution_count": 3,
   "id": "b1d960d1-5fcb-4bcb-a043-1d2bb2c198db",
   "metadata": {},
   "outputs": [
    {
     "name": "stdout",
     "output_type": "stream",
     "text": [
      " Ruta hacia el ejecutable de MODFLOW 6 : /home/jovyan/GMMC/WMA/mf6/bin/mf6 \n",
      " Ruta actual : /home/jovyan/GMMC/WMA/notebooks/test1D/flujo_1D\n",
      " Nombre de esta simulación: flow\n"
     ]
    }
   ],
   "source": [
    "ws = os.getcwd() # Ruta de donde estamos actualmente\n",
    "mf6_exe = '/home/jovyan/GMMC/WMA/mf6/bin/mf6' # Ejecutable\n",
    "name = 'flow' # Nombre de la simulación\n",
    "\n",
    "print(' Ruta hacia el ejecutable de MODFLOW 6 : {} '.format(mf6_exe))\n",
    "print(' Ruta actual : {}'.format(ws))\n",
    "print(' Nombre de esta simulación: {}'.format(name))"
   ]
  },
  {
   "cell_type": "markdown",
   "id": "64b4ecd3-37a8-411a-b564-fc6e2d089533",
   "metadata": {},
   "source": [
    "## Step 3. Simulation object"
   ]
  },
  {
   "cell_type": "code",
   "execution_count": 4,
   "id": "a0ff8fe9-6943-4d39-8c31-267298506288",
   "metadata": {},
   "outputs": [
    {
     "name": "stdout",
     "output_type": "stream",
     "text": [
      "sim_name = flow\n",
      "sim_path = /home/jovyan/GMMC/WMA/notebooks/test1D/flujo_1D\n",
      "exe_name = /home/jovyan/GMMC/WMA/mf6/bin/mf6\n",
      "\n",
      "###################\n",
      "Package mfsim.nam\n",
      "###################\n",
      "\n",
      "package_name = mfsim.nam\n",
      "filename = mfsim.nam\n",
      "package_type = nam\n",
      "model_or_simulation_package = simulation\n",
      "simulation_name = flow\n",
      "\n",
      "\n",
      "\n"
     ]
    }
   ],
   "source": [
    "sim = flopy.mf6.MFSimulation(sim_name=name, sim_ws=ws, exe_name=mf6_exe)\n",
    "print(sim)"
   ]
  },
  {
   "cell_type": "markdown",
   "id": "427c9dec-abd0-4fad-a874-3bb33dc49147",
   "metadata": {},
   "source": [
    "## Step 4. Time discretization object\n",
    "\n",
    "<center>\n",
    "<img src=\"../figures/time_step.png\" width=500px>\n",
    "</center>\n",
    "  \n",
    "The length of a time step is calculated by multiplying the length of the previous time step by TSMULT. \n",
    "The length of the first time step, $\\Delta t_1$, is related to PERLEN, NSTP, and TSMULT by the relation:\n",
    "$$\n",
    "\\Delta t_1= \\frac{\\text{PERLEN}}{\\text{NSTP}} \\;\\; \\text{para} \\;\\; \\text{TSMULT} = 1\n",
    "$$\n",
    "\n",
    "$$\n",
    "\\Delta t_1= \\text{PERLEN} \\frac{\\text{TSMULT} - 1}{\\text{TSMULT}^\\text{nstp}-1} \\;\\; \\text{para} \\;\\; \\text{TSMULT} \\neq 1\n",
    "$$\n",
    "\n",
    "The length of each successive time step is computed as\n",
    "\n",
    "$$\n",
    "\\Delta t = \\Delta t_{old} \\text{TSMULT}\n",
    "$$\n",
    "\n",
    "where:\n",
    "* `perlen` (double) is the length of a stress period.\n",
    "* `nstp` (integer) is the number of time steps in a stress period.\n",
    "* `tsmult` (double) is the multiplier for the length of successive time steps.\n",
    "  \n",
    "Véase: Hughes, J.D., Langevin, C.D., and Banta, E.R., 2017, *Documentation for the MODFLOW 6 framework: U.S. Geological Survey Techniques and Methods*, book 6, chap. A57, 40 p., https://doi.org/10.3133/tm6A57. **Timing Module, pp 10,12**."
   ]
  },
  {
   "cell_type": "code",
   "execution_count": 7,
   "id": "0c9aa8ff-bc69-467e-93c3-adf568844370",
   "metadata": {},
   "outputs": [],
   "source": [
    "tdis_ds = ((total_time, 1, 1.0),) # perlen, nstp, tsmult"
   ]
  },
  {
   "cell_type": "code",
   "execution_count": 8,
   "id": "2d41847b-f88c-4e12-acba-f96004600ac4",
   "metadata": {},
   "outputs": [
    {
     "data": {
      "text/plain": [
       "package_name = flow.tdis\n",
       "filename = flow.tdis\n",
       "package_type = tdis\n",
       "model_or_simulation_package = simulation\n",
       "simulation_name = flow\n",
       "\n",
       "Block options\n",
       "--------------------\n",
       "time_units\n",
       "{internal}\n",
       "('seconds')\n",
       "\n",
       "\n",
       "Block dimensions\n",
       "--------------------\n",
       "nper\n",
       "{internal}\n",
       "(1)\n",
       "\n",
       "\n",
       "Block perioddata\n",
       "--------------------\n",
       "perioddata\n",
       "{internal}\n",
       "(rec.array([(120., 1, 1.)],\n",
       "          dtype=[('perlen', '<f8'), ('nstp', '<i8'), ('tsmult', '<f8')]))\n",
       "\n"
      ]
     },
     "execution_count": 8,
     "metadata": {},
     "output_type": "execute_result"
    }
   ],
   "source": [
    "flopy.mf6.ModflowTdis(sim, nper=nper, perioddata=tdis_ds, time_units=time_units)"
   ]
  },
  {
   "cell_type": "markdown",
   "id": "c489310f-0c8e-44cb-9e97-6ced157242ed",
   "metadata": {},
   "source": [
    "## Step 5. IMS object (solution calculation)"
   ]
  },
  {
   "cell_type": "code",
   "execution_count": 9,
   "id": "f6db29f0-7e1a-49b3-b2b0-ec3311c056eb",
   "metadata": {},
   "outputs": [
    {
     "name": "stdout",
     "output_type": "stream",
     "text": [
      "package_name = ims_-1\n",
      "filename = flow.ims\n",
      "package_type = ims\n",
      "model_or_simulation_package = simulation\n",
      "simulation_name = flow\n",
      "\n",
      "\n"
     ]
    }
   ],
   "source": [
    "ims = flopy.mf6.ModflowIms(sim)\n",
    "print(ims)"
   ]
  },
  {
   "cell_type": "markdown",
   "id": "7a71fc1e-f25c-4b9a-981b-3928f3c882de",
   "metadata": {},
   "source": [
    "## Step 6. GWF model object (flow)"
   ]
  },
  {
   "cell_type": "code",
   "execution_count": 10,
   "id": "9c03995e-c200-41ef-916c-84377e9a5ac4",
   "metadata": {},
   "outputs": [
    {
     "name": "stdout",
     "output_type": "stream",
     "text": [
      "name = flow\n",
      "model_type = gwf6\n",
      "version = mf6\n",
      "model_relative_path = .\n",
      "\n",
      "\n"
     ]
    }
   ],
   "source": [
    "gwf = flopy.mf6.ModflowGwf(sim, modelname=name, save_flows=True)\n",
    "print(gwf)"
   ]
  },
  {
   "cell_type": "markdown",
   "id": "0f6db909-2782-4706-9fff-48c70fee9d80",
   "metadata": {},
   "source": [
    "## Step 7. Space discretization object"
   ]
  },
  {
   "cell_type": "code",
   "execution_count": 11,
   "id": "fa754bd8-8a2c-4d10-b849-4532a6afbe4c",
   "metadata": {},
   "outputs": [
    {
     "name": "stdout",
     "output_type": "stream",
     "text": [
      "package_name = dis\n",
      "filename = flow.dis\n",
      "package_type = dis\n",
      "model_or_simulation_package = model\n",
      "model_name = flow\n",
      "\n",
      "Block options\n",
      "--------------------\n",
      "length_units\n",
      "{internal}\n",
      "(centimeters)\n",
      "\n",
      "\n",
      "Block dimensions\n",
      "--------------------\n",
      "nlay\n",
      "{internal}\n",
      "(1)\n",
      "\n",
      "nrow\n",
      "{internal}\n",
      "(1)\n",
      "\n",
      "ncol\n",
      "{internal}\n",
      "(122)\n",
      "\n",
      "\n",
      "Block griddata\n",
      "--------------------\n",
      "delr\n",
      "{constant 0.1}\n",
      "\n",
      "delc\n",
      "{constant 0.1}\n",
      "\n",
      "top\n",
      "{constant 1.0}\n",
      "\n",
      "botm\n",
      "{constant 0}\n",
      "\n",
      "\n",
      "\n"
     ]
    }
   ],
   "source": [
    "dis = flopy.mf6.ModflowGwfdis(gwf,\n",
    "                              length_units=length_units,\n",
    "                              nlay=nlay,\n",
    "                              nrow=nrow,\n",
    "                              ncol=ncol,\n",
    "                              delr=delr,\n",
    "                              delc=delc,\n",
    "                              top=top,\n",
    "                              botm=botm,\n",
    ")\n",
    "print(dis)"
   ]
  },
  {
   "cell_type": "markdown",
   "id": "3c71cb8b-798a-4602-9b5e-7fe5ea8a020c",
   "metadata": {},
   "source": [
    "## Step 8. Initial conditions object"
   ]
  },
  {
   "cell_type": "code",
   "execution_count": 12,
   "id": "2236aa56-087e-45ec-af06-ee6b084e6a10",
   "metadata": {},
   "outputs": [
    {
     "name": "stdout",
     "output_type": "stream",
     "text": [
      "package_name = ic\n",
      "filename = flow.ic\n",
      "package_type = ic\n",
      "model_or_simulation_package = model\n",
      "model_name = flow\n",
      "\n",
      "Block griddata\n",
      "--------------------\n",
      "strt\n",
      "{constant 1.0}\n",
      "\n",
      "\n",
      "\n"
     ]
    }
   ],
   "source": [
    "ic = flopy.mf6.ModflowGwfic(gwf, strt=1.0)\n",
    "print(ic)"
   ]
  },
  {
   "cell_type": "markdown",
   "id": "37e91119-47f2-44f5-aeb3-94591416befe",
   "metadata": {},
   "source": [
    "## Step 9. Node Property Flow (NPF6) Package"
   ]
  },
  {
   "cell_type": "code",
   "execution_count": 13,
   "id": "9e344c83-df2d-4ae1-b876-88a5a181c6a3",
   "metadata": {},
   "outputs": [
    {
     "name": "stdout",
     "output_type": "stream",
     "text": [
      "package_name = npf\n",
      "filename = flow.npf\n",
      "package_type = npf\n",
      "model_or_simulation_package = model\n",
      "model_name = flow\n",
      "\n",
      "Block options\n",
      "--------------------\n",
      "save_specific_discharge\n",
      "{internal}\n",
      "(True)\n",
      "\n",
      "save_saturation\n",
      "{internal}\n",
      "(True)\n",
      "\n",
      "\n",
      "Block griddata\n",
      "--------------------\n",
      "icelltype\n",
      "{constant 0}\n",
      "\n",
      "k\n",
      "{constant 0.01}\n",
      "\n",
      "\n",
      "\n"
     ]
    }
   ],
   "source": [
    "npf = flopy.mf6.ModflowGwfnpf(gwf,\n",
    "                              save_specific_discharge=True,\n",
    "                              save_saturation=True,\n",
    "                              icelltype=0,\n",
    "                              k=hydraulic_conductivity,\n",
    ")\n",
    "print(npf)"
   ]
  },
  {
   "cell_type": "markdown",
   "id": "2280c606-9839-4d59-933d-8f6e3dc5d96f",
   "metadata": {},
   "source": [
    "## Step 10. Discharge object "
   ]
  },
  {
   "cell_type": "code",
   "execution_count": 14,
   "id": "071bd734-fcac-4c9b-981b-2513449df8d5",
   "metadata": {},
   "outputs": [
    {
     "name": "stdout",
     "output_type": "stream",
     "text": [
      "package_name = chd_0\n",
      "filename = flow.chd\n",
      "package_type = chd\n",
      "model_or_simulation_package = model\n",
      "model_name = flow\n",
      "\n",
      "Block period\n",
      "--------------------\n",
      "stress_period_data\n",
      "{0: <flopy.mf6.data.mfdataplist.PandasListStorage object at 0x7f689dd0ef10>}\n",
      "\n",
      "\n"
     ]
    }
   ],
   "source": [
    "chd = flopy.mf6.ModflowGwfchd(gwf, stress_period_data=[[(0, 0, ncol - 1), 1.0]]) \n",
    "print(chd)"
   ]
  },
  {
   "cell_type": "markdown",
   "id": "08a39d2e-6949-4c4d-ac67-d8fef30bb93e",
   "metadata": {},
   "source": [
    "## Step 11. Wells object"
   ]
  },
  {
   "cell_type": "code",
   "execution_count": 15,
   "id": "1204503f-5f85-4902-95c1-e451bc295ee1",
   "metadata": {},
   "outputs": [
    {
     "name": "stdout",
     "output_type": "stream",
     "text": [
      "package_name = wel-1\n",
      "filename = flow.wel\n",
      "package_type = wel\n",
      "model_or_simulation_package = model\n",
      "model_name = flow\n",
      "\n",
      "Block options\n",
      "--------------------\n",
      "auxiliary\n",
      "{internal}\n",
      "([('auxiliary', 'CONCENTRATION')])\n",
      "\n",
      "\n",
      "Block period\n",
      "--------------------\n",
      "stress_period_data\n",
      "{0: <flopy.mf6.data.mfdataplist.PandasListStorage object at 0x7f68a26acd50>}\n",
      "\n",
      "\n"
     ]
    }
   ],
   "source": [
    "wel_spd = {\n",
    "    0: [ [(0, 0, 0),\n",
    "          specific_discharge * delc * delr * top,\n",
    "          source_concentration]\n",
    "       ]\n",
    "}\n",
    "\n",
    "wel = flopy.mf6.ModflowGwfwel(gwf,\n",
    "                              stress_period_data=wel_spd,\n",
    "                              pname=\"WEL-1\",\n",
    "                              auxiliary=[\"CONCENTRATION\"],\n",
    ")\n",
    "\n",
    "print(wel)"
   ]
  },
  {
   "cell_type": "markdown",
   "id": "efcd5da6-94ce-415a-8ef1-db53ede0a63e",
   "metadata": {},
   "source": [
    "## Step 12. Output object"
   ]
  },
  {
   "cell_type": "code",
   "execution_count": 19,
   "id": "0626b91b-4164-48b2-a326-ee9f36a1a9a0",
   "metadata": {},
   "outputs": [
    {
     "name": "stdout",
     "output_type": "stream",
     "text": [
      "package_name = oc\n",
      "filename = flow.oc\n",
      "package_type = oc\n",
      "model_or_simulation_package = model\n",
      "model_name = flow\n",
      "\n",
      "Block options\n",
      "--------------------\n",
      "budget_filerecord\n",
      "{internal}\n",
      "([('flow.bud',)])\n",
      "\n",
      "head_filerecord\n",
      "{internal}\n",
      "([('flow.hds',)])\n",
      "\n",
      "\n",
      "Block period\n",
      "--------------------\n",
      "saverecord\n",
      "{internal}\n",
      "([('HEAD', 'ALL', None) ('BUDGET', 'ALL', None)])\n",
      "\n",
      "printrecord\n",
      "None\n",
      "\n",
      "\n"
     ]
    }
   ],
   "source": [
    "head_filerecord = f\"{name}.hds\"\n",
    "budget_filerecord = f\"{name}.bud\"\n",
    "oc = flopy.mf6.ModflowGwfoc(gwf,\n",
    "                            head_filerecord=head_filerecord,\n",
    "                            budget_filerecord=budget_filerecord,\n",
    "                            saverecord=[(\"HEAD\", \"ALL\"), (\"BUDGET\", \"ALL\")],\n",
    ")\n",
    "print(oc)"
   ]
  },
  {
   "cell_type": "markdown",
   "id": "51c7c2b8-4856-45da-8619-3dd2c722af84",
   "metadata": {},
   "source": [
    "## Step 13. Write Input files."
   ]
  },
  {
   "cell_type": "code",
   "execution_count": 20,
   "id": "955c6923-dba0-4fec-b43a-936a1e7a2eff",
   "metadata": {},
   "outputs": [
    {
     "name": "stdout",
     "output_type": "stream",
     "text": [
      "writing simulation...\n",
      "  writing simulation name file...\n",
      "  writing simulation tdis package...\n",
      "  writing solution package ims_-1...\n",
      "  writing model flow...\n",
      "    writing model name file...\n",
      "    writing package dis...\n",
      "    writing package ic...\n",
      "    writing package npf...\n",
      "    writing package chd_0...\n",
      "    writing package wel-1...\n",
      "    writing package oc...\n"
     ]
    }
   ],
   "source": [
    "sim.write_simulation()"
   ]
  },
  {
   "cell_type": "markdown",
   "id": "06e59c4a-6dcb-4f6e-a7ca-2ca6597f88c6",
   "metadata": {},
   "source": [
    "## Step 14. Run simulation"
   ]
  },
  {
   "cell_type": "code",
   "execution_count": 21,
   "id": "44e64765-dd25-46ee-b705-763a3d8254ba",
   "metadata": {},
   "outputs": [
    {
     "name": "stdout",
     "output_type": "stream",
     "text": [
      "FloPy is using the following executable to run the model: ../../../mf6/bin/mf6\n",
      "                                   MODFLOW 6\n",
      "                U.S. GEOLOGICAL SURVEY MODULAR HYDROLOGIC MODEL\n",
      "                            VERSION 6.4.4 02/13/2024\n",
      "\n",
      "   MODFLOW 6 compiled Feb 13 2024 16:19:58 with Intel(R) Fortran Intel(R) 64\n",
      "   Compiler Classic for applications running on Intel(R) 64, Version 2021.7.0\n",
      "                             Build 20220726_000000\n",
      "\n",
      "This software has been approved for release by the U.S. Geological \n",
      "Survey (USGS). Although the software has been subjected to rigorous \n",
      "review, the USGS reserves the right to update the software as needed \n",
      "pursuant to further analysis and review. No warranty, expressed or \n",
      "implied, is made by the USGS or the U.S. Government as to the \n",
      "functionality of the software and related material nor shall the \n",
      "fact of release constitute any such warranty. Furthermore, the \n",
      "software is released on condition that neither the USGS nor the U.S. \n",
      "Government shall be held liable for any damages resulting from its \n",
      "authorized or unauthorized use. Also refer to the USGS Water \n",
      "Resources Software User Rights Notice for complete use, copyright, \n",
      "and distribution information.\n",
      "\n",
      " \n",
      " Run start date and time (yyyy/mm/dd hh:mm:ss): 2024/04/24 18:46:56\n",
      " \n",
      " Writing simulation list file: mfsim.lst\n",
      " Using Simulation name file: mfsim.nam\n",
      " \n",
      "    Solving:  Stress period:     1    Time step:     1\n",
      " \n",
      " Run end date and time (yyyy/mm/dd hh:mm:ss): 2024/04/24 18:46:56\n",
      " Elapsed run time:  0.058 Seconds\n",
      " \n",
      " Normal termination of simulation.\n"
     ]
    },
    {
     "data": {
      "text/plain": [
       "(True, [])"
      ]
     },
     "execution_count": 21,
     "metadata": {},
     "output_type": "execute_result"
    }
   ],
   "source": [
    "sim.run_simulation()"
   ]
  },
  {
   "cell_type": "markdown",
   "id": "4942b96b-60cb-44f4-b374-1e6b171e25dd",
   "metadata": {},
   "source": [
    "## Step 15. Postprocessing"
   ]
  },
  {
   "cell_type": "code",
   "execution_count": 22,
   "id": "481bb5ac-150e-4571-b3f5-c197a58d5b83",
   "metadata": {},
   "outputs": [],
   "source": [
    "# Obtenemos los resultados de la carga hidráulica\n",
    "head = flopy.utils.HeadFile(os.path.join(ws, head_filerecord)).get_data()\n",
    "\n",
    "# Obtenemos los resultados del BUDGET\n",
    "bud  = flopy.utils.CellBudgetFile(os.path.join(ws, budget_filerecord),\n",
    "                                  precision='double')\n",
    "# Obtenemos las velocidades\n",
    "spdis = bud.get_data(text='DATA-SPDIS')[0]\n",
    "qx, qy, qz = flopy.utils.postprocessing.get_specific_discharge(spdis, gwf)"
   ]
  },
  {
   "cell_type": "code",
   "execution_count": 27,
   "id": "f526ea83-a6f5-4cc7-849e-21fca09370cd",
   "metadata": {},
   "outputs": [
    {
     "name": "stdout",
     "output_type": "stream",
     "text": [
      "(1, 1, 122) \n",
      " [13.1 13.  12.9 12.8 12.7 12.6 12.5 12.4 12.3 12.2 12.1 12.  11.9 11.8\n",
      " 11.7 11.6 11.5 11.4 11.3 11.2 11.1 11.  10.9 10.8 10.7 10.6 10.5 10.4\n",
      " 10.3 10.2 10.1 10.   9.9  9.8  9.7  9.6  9.5  9.4  9.3  9.2  9.1  9.\n",
      "  8.9  8.8  8.7  8.6  8.5  8.4  8.3  8.2  8.1  8.   7.9  7.8  7.7  7.6\n",
      "  7.5  7.4  7.3  7.2  7.1  7.   6.9  6.8  6.7  6.6  6.5  6.4  6.3  6.2\n",
      "  6.1  6.   5.9  5.8  5.7  5.6  5.5  5.4  5.3  5.2  5.1  5.   4.9  4.8\n",
      "  4.7  4.6  4.5  4.4  4.3  4.2  4.1  4.   3.9  3.8  3.7  3.6  3.5  3.4\n",
      "  3.3  3.2  3.1  3.   2.9  2.8  2.7  2.6  2.5  2.4  2.3  2.2  2.1  2.\n",
      "  1.9  1.8  1.7  1.6  1.5  1.4  1.3  1.2  1.1  1. ]\n"
     ]
    }
   ],
   "source": [
    "print(head.shape, '\\n', head[0,0])"
   ]
  },
  {
   "cell_type": "code",
   "execution_count": 28,
   "id": "7edba925-008e-4fcd-ac22-e20bed4b3fbf",
   "metadata": {},
   "outputs": [
    {
     "name": "stdout",
     "output_type": "stream",
     "text": [
      "(1, 1, 122) \n",
      " [[[0.01 0.01 0.01 0.01 0.01 0.01 0.01 0.01 0.01 0.01 0.01 0.01 0.01 0.01\n",
      "   0.01 0.01 0.01 0.01 0.01 0.01 0.01 0.01 0.01 0.01 0.01 0.01 0.01 0.01\n",
      "   0.01 0.01 0.01 0.01 0.01 0.01 0.01 0.01 0.01 0.01 0.01 0.01 0.01 0.01\n",
      "   0.01 0.01 0.01 0.01 0.01 0.01 0.01 0.01 0.01 0.01 0.01 0.01 0.01 0.01\n",
      "   0.01 0.01 0.01 0.01 0.01 0.01 0.01 0.01 0.01 0.01 0.01 0.01 0.01 0.01\n",
      "   0.01 0.01 0.01 0.01 0.01 0.01 0.01 0.01 0.01 0.01 0.01 0.01 0.01 0.01\n",
      "   0.01 0.01 0.01 0.01 0.01 0.01 0.01 0.01 0.01 0.01 0.01 0.01 0.01 0.01\n",
      "   0.01 0.01 0.01 0.01 0.01 0.01 0.01 0.01 0.01 0.01 0.01 0.01 0.01 0.01\n",
      "   0.01 0.01 0.01 0.01 0.01 0.01 0.01 0.01 0.01 0.01]]]\n"
     ]
    }
   ],
   "source": [
    "print(qx.shape, '\\n', qx)"
   ]
  },
  {
   "cell_type": "code",
   "execution_count": 31,
   "id": "61074e07-d0f3-4682-9ffe-348343728b4c",
   "metadata": {},
   "outputs": [
    {
     "data": {
      "image/png": "[encoded data removed]",
      "text/plain": [
       "<Figure size 500x300 with 1 Axes>"
      ]
     },
     "metadata": {},
     "output_type": "display_data"
    }
   ],
   "source": [
    "with styles.USGSPlot():\n",
    "    plt.rcParams['font.family'] = 'DeJavu Sans'\n",
    "\n",
    "    x = np.linspace(0.5 * delr, system_length - 0.5 * delr, ncol)\n",
    "    plt.figure(figsize=(5,3))\n",
    "    plt.plot(x[::3], head[0, 0][::3], marker=\"o\", ls =\"none\", mec=\"blue\", mfc=\"none\", markersize=\"4\", label = 'Head')\n",
    "    plt.xlim(0, system_length)\n",
    "    plt.xlabel(\"Distance (cm)\")\n",
    "    plt.ylabel(\"Normalized Concentration (unitless)\")\n",
    "    plt.legend()\n",
    "    plt.show()"
   ]
  },
  {
   "cell_type": "code",
   "execution_count": null,
   "id": "38be2755-372e-47dd-9275-7b53c42bde8c",
   "metadata": {},
   "outputs": [],
   "source": []
  }
 ],
 "metadata": {
  "kernelspec": {
   "display_name": "Python 3 (ipykernel)",
   "language": "python",
   "name": "python3"
  },
  "language_info": {
   "codemirror_mode": {
    "name": "ipython",
    "version": 3
   },
   "file_extension": ".py",
   "mimetype": "text/x-python",
   "name": "python",
   "nbconvert_exporter": "python",
   "pygments_lexer": "ipython3",
   "version": "3.11.6"
  }
 },
 "nbformat": 4,
 "nbformat_minor": 5
}
