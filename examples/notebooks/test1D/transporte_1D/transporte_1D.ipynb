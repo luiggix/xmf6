{
 "cells": [
  {
   "cell_type": "markdown",
   "id": "0bbc9f38-c835-49da-b1e6-ab08cbbaa463",
   "metadata": {},
   "source": [
    "## Step 0. Library import"
   ]
  },
  {
   "cell_type": "code",
   "execution_count": null,
   "id": "48f786a9-a7c0-4ed9-a6ed-4566fd3d9659",
   "metadata": {},
   "outputs": [],
   "source": [
    "!pip install flopy"
   ]
  },
  {
   "cell_type": "code",
   "execution_count": 1,
   "id": "f696fc74-41d6-4916-b6cf-e1e63822021f",
   "metadata": {},
   "outputs": [],
   "source": [
    "import os\n",
    "import numpy as np\n",
    "import matplotlib.pyplot as plt\n",
    "import flopy\n",
    "from flopy.plot.styles import styles\n",
    "from wexler1 import sol_analytical_t\n",
    "from sorption_decay import *"
   ]
  },
  {
   "cell_type": "markdown",
   "id": "37f2d3c8-edfd-4b17-9734-ec2addc5b042",
   "metadata": {},
   "source": [
    "## Step 1. Simulation parameters definition."
   ]
  },
  {
   "cell_type": "code",
   "execution_count": 2,
   "id": "7b8c9368-5715-4f8a-be00-7a06026aa7f4",
   "metadata": {},
   "outputs": [],
   "source": [
    "# Model units\n",
    "length_units = \"centimeters\"\n",
    "time_units = \"seconds\"\n",
    "\n",
    "# Model parameters\n",
    "\n",
    "## Discretization\n",
    "nper = 1  # Number of periods\n",
    "nlay = 1  # Number of layers\n",
    "nrow = 1  # Number of rows\n",
    "ncol = 122  # Number of columns\n",
    "system_length = 12.0  # Length of system ($cm$)\n",
    "delr = 0.1  # Column width ($cm$)\n",
    "delc = 0.1  # Row width ($cm$)\n",
    "top = 1.0  # Top of the model ($cm$)\n",
    "botm = 0  # Layer bottom elevation ($cm$)\n",
    "\n",
    "## Physical parameters\n",
    "specific_discharge = 0.1  # Specific discharge ($cm s^{-1}$)\n",
    "hydraulic_conductivity = 0.01  # Hydraulic conductivity ($cm s^{-1}$)\n",
    "porosity = 0.1  # Porosity of mobile domain (unitless)\n",
    "source_concentration = 1.0  # Source concentration (unitless)\n",
    "initial_concentration = 0.0  # Initial concentration (unitless)\n",
    "total_time = 120.0  # Simulation time ($s$)\n",
    "\n",
    "# Transport parameters\n",
    "longitudinal_dispersivity = 0.1\n",
    "retardation_factor = 1.0\n",
    "decay_rate =  0.0"
   ]
  },
  {
   "cell_type": "markdown",
   "id": "b6e21570-82d4-4c81-aa18-fd55e493f195",
   "metadata": {},
   "source": [
    "## Step 2. Path to MODFLOW6 and simulation name"
   ]
  },
  {
   "cell_type": "code",
   "execution_count": 3,
   "id": "b1d960d1-5fcb-4bcb-a043-1d2bb2c198db",
   "metadata": {},
   "outputs": [
    {
     "name": "stdout",
     "output_type": "stream",
     "text": [
      " Ruta hacia el ejecutable de MODFLOW 6 : /home/jovyan/GMMC/WMA/mf6/bin/mf6 \n",
      " Ruta actual : /home/jovyan/GMMC/WMA/notebooks/test1D/transporte_1D\n",
      " Nombre de esta simulación: trans\n"
     ]
    }
   ],
   "source": [
    "ws = os.getcwd() # Ruta de donde estamos actualmente\n",
    "mf6_exe = '/home/jovyan/GMMC/WMA/mf6/bin/mf6' # Ejecutable\n",
    "name = 'trans' # Nombre de la simulación\n",
    "\n",
    "print(' Ruta hacia el ejecutable de MODFLOW 6 : {} '.format(mf6_exe))\n",
    "print(' Ruta actual : {}'.format(ws))\n",
    "print(' Nombre de esta simulación: {}'.format(name))"
   ]
  },
  {
   "cell_type": "markdown",
   "id": "64b4ecd3-37a8-411a-b564-fc6e2d089533",
   "metadata": {},
   "source": [
    "## Step 3. Simulation object"
   ]
  },
  {
   "cell_type": "code",
   "execution_count": 4,
   "id": "31420a9c-5724-4c2b-9bc0-9192d955e975",
   "metadata": {},
   "outputs": [],
   "source": [
    "sim = flopy.mf6.MFSimulation(sim_name=name, sim_ws=ws, exe_name=mf6_exe)"
   ]
  },
  {
   "cell_type": "markdown",
   "id": "427c9dec-abd0-4fad-a874-3bb33dc49147",
   "metadata": {},
   "source": [
    "## Step 4. Time discretization object"
   ]
  },
  {
   "cell_type": "code",
   "execution_count": 5,
   "id": "3890f93d-a29f-4157-9f1b-3a3d643eeb7b",
   "metadata": {},
   "outputs": [
    {
     "data": {
      "text/plain": [
       "package_name = trans.tdis\n",
       "filename = trans.tdis\n",
       "package_type = tdis\n",
       "model_or_simulation_package = simulation\n",
       "simulation_name = trans\n",
       "\n",
       "Block options\n",
       "--------------------\n",
       "time_units\n",
       "{internal}\n",
       "('seconds')\n",
       "\n",
       "\n",
       "Block dimensions\n",
       "--------------------\n",
       "nper\n",
       "{internal}\n",
       "(1)\n",
       "\n",
       "\n",
       "Block perioddata\n",
       "--------------------\n",
       "perioddata\n",
       "{internal}\n",
       "(rec.array([(120., 240, 1.)],\n",
       "          dtype=[('perlen', '<f8'), ('nstp', '<i8'), ('tsmult', '<f8')]))\n",
       "\n"
      ]
     },
     "execution_count": 5,
     "metadata": {},
     "output_type": "execute_result"
    }
   ],
   "source": [
    "tdis_ds = ((total_time, 240, 1.0),) # perlen, nstp, tsmult\n",
    "flopy.mf6.ModflowTdis(sim, nper=nper, perioddata=tdis_ds, time_units=time_units)"
   ]
  },
  {
   "cell_type": "markdown",
   "id": "c489310f-0c8e-44cb-9e97-6ced157242ed",
   "metadata": {},
   "source": [
    "## Step 5. IMS object (solution calculation)"
   ]
  },
  {
   "cell_type": "code",
   "execution_count": 6,
   "id": "a0f880c0-af9a-41df-8fde-b90ba62d1b05",
   "metadata": {},
   "outputs": [
    {
     "name": "stdout",
     "output_type": "stream",
     "text": [
      "package_name = ims_-1\n",
      "filename = trans.ims\n",
      "package_type = ims\n",
      "model_or_simulation_package = simulation\n",
      "simulation_name = trans\n",
      "\n",
      "Block linear\n",
      "--------------------\n",
      "linear_acceleration\n",
      "{internal}\n",
      "(bicgstab)\n",
      "\n",
      "\n",
      "\n"
     ]
    }
   ],
   "source": [
    "ims = flopy.mf6.ModflowIms(sim, linear_acceleration=\"bicgstab\")\n",
    "print(ims)"
   ]
  },
  {
   "cell_type": "markdown",
   "id": "7a71fc1e-f25c-4b9a-981b-3928f3c882de",
   "metadata": {},
   "source": [
    "## Step 6. GWT model object (flow)"
   ]
  },
  {
   "cell_type": "code",
   "execution_count": 7,
   "id": "cd77f2d2-6dee-42fd-862c-778d45602caa",
   "metadata": {},
   "outputs": [
    {
     "name": "stdout",
     "output_type": "stream",
     "text": [
      "name = trans\n",
      "model_type = gwt6\n",
      "version = mf6\n",
      "model_relative_path = .\n",
      "\n",
      "\n"
     ]
    }
   ],
   "source": [
    "gwt = flopy.mf6.ModflowGwt(sim, modelname=name, save_flows=True)\n",
    "print(gwt)"
   ]
  },
  {
   "cell_type": "markdown",
   "id": "0f6db909-2782-4706-9fff-48c70fee9d80",
   "metadata": {},
   "source": [
    "## Step 7. Space discretization object"
   ]
  },
  {
   "cell_type": "code",
   "execution_count": 8,
   "id": "db8df5de-20fa-446f-850e-a2b44b0fd438",
   "metadata": {},
   "outputs": [
    {
     "name": "stdout",
     "output_type": "stream",
     "text": [
      "package_name = dis\n",
      "filename = trans.dis\n",
      "package_type = dis\n",
      "model_or_simulation_package = model\n",
      "model_name = trans\n",
      "\n",
      "Block options\n",
      "--------------------\n",
      "length_units\n",
      "{internal}\n",
      "(centimeters)\n",
      "\n",
      "\n",
      "Block dimensions\n",
      "--------------------\n",
      "nlay\n",
      "{internal}\n",
      "(1)\n",
      "\n",
      "nrow\n",
      "{internal}\n",
      "(1)\n",
      "\n",
      "ncol\n",
      "{internal}\n",
      "(122)\n",
      "\n",
      "\n",
      "Block griddata\n",
      "--------------------\n",
      "delr\n",
      "{constant 0.1}\n",
      "\n",
      "delc\n",
      "{constant 0.1}\n",
      "\n",
      "top\n",
      "{constant 1.0}\n",
      "\n",
      "botm\n",
      "{constant 0}\n",
      "\n",
      "\n",
      "\n"
     ]
    }
   ],
   "source": [
    "dis = flopy.mf6.ModflowGwtdis(\n",
    "        gwt,\n",
    "        length_units=length_units,\n",
    "        nlay=nlay,\n",
    "        nrow=nrow,\n",
    "        ncol=ncol,\n",
    "        delr=delr,\n",
    "        delc=delc,\n",
    "        top=top,\n",
    "        botm=botm,\n",
    ")\n",
    "print(dis)"
   ]
  },
  {
   "cell_type": "markdown",
   "id": "3c71cb8b-798a-4602-9b5e-7fe5ea8a020c",
   "metadata": {},
   "source": [
    "## Step 8. Initial conditions object"
   ]
  },
  {
   "cell_type": "code",
   "execution_count": 9,
   "id": "d0b6acac-d8a9-43a2-bdcd-a07944d3c972",
   "metadata": {},
   "outputs": [
    {
     "name": "stdout",
     "output_type": "stream",
     "text": [
      "package_name = ic\n",
      "filename = trans.ic\n",
      "package_type = ic\n",
      "model_or_simulation_package = model\n",
      "model_name = trans\n",
      "\n",
      "Block griddata\n",
      "--------------------\n",
      "strt\n",
      "{constant 0}\n",
      "\n",
      "\n",
      "\n"
     ]
    }
   ],
   "source": [
    "ic = flopy.mf6.ModflowGwtic(gwt, strt=0)\n",
    "print(ic)"
   ]
  },
  {
   "cell_type": "markdown",
   "id": "31ebc1ea-46aa-4500-a146-683573b32ae5",
   "metadata": {},
   "source": [
    "## Step 9."
   ]
  },
  {
   "cell_type": "code",
   "execution_count": 10,
   "id": "bb1ee2db-e57e-4f6e-be7b-4915de8cb0df",
   "metadata": {},
   "outputs": [],
   "source": [
    "mst = flopy.mf6.ModflowGwtmst(\n",
    "        gwt,\n",
    "        porosity=porosity,\n",
    "        **get_sorption_dict(retardation_factor),\n",
    "        **get_decay_dict(decay_rate, retardation_factor > 1.0),\n",
    ")\n",
    "\n",
    "adv = flopy.mf6.ModflowGwtadv(gwt, scheme=\"TVD\")\n",
    "\n",
    "dsp = flopy.mf6.ModflowGwtdsp(\n",
    "        gwt,\n",
    "        xt3d_off=True,\n",
    "        alh=longitudinal_dispersivity,\n",
    "        ath1=longitudinal_dispersivity,\n",
    ")\n",
    "\n",
    "pd = [\n",
    "        (\"GWFHEAD\", \"../flujo_1D/flow.hds\", None),\n",
    "        (\"GWFBUDGET\", \"../flujo_1D/flow.bud\", None),\n",
    "]\n",
    "    \n",
    "fmi = flopy.mf6.ModflowGwtfmi(gwt, packagedata=pd)\n",
    "\n",
    "sourcerecarray = [[\"WEL-1\", \"AUX\", \"CONCENTRATION\"]]\n",
    "ssm = flopy.mf6.ModflowGwtssm(gwt, sources=sourcerecarray)\n",
    "\n",
    "obs_data = {\n",
    "        f\"{name}.obs.csv\": [\n",
    "            (\"X005\", \"CONCENTRATION\", (0, 0, 0)),\n",
    "            (\"X405\", \"CONCENTRATION\", (0, 0, 40)),\n",
    "            (\"X1105\", \"CONCENTRATION\", (0, 0, 110)),\n",
    "        ],\n",
    "}\n",
    "\n",
    "obs_package = flopy.mf6.ModflowUtlobs(\n",
    "        gwt, digits=10, print_input=True, continuous=obs_data\n",
    ")\n",
    "\n"
   ]
  },
  {
   "cell_type": "markdown",
   "id": "efcd5da6-94ce-415a-8ef1-db53ede0a63e",
   "metadata": {},
   "source": [
    "## Step X. Output object"
   ]
  },
  {
   "cell_type": "code",
   "execution_count": 11,
   "id": "36e90233-66ca-4606-892a-3f871a8979f2",
   "metadata": {},
   "outputs": [
    {
     "name": "stdout",
     "output_type": "stream",
     "text": [
      "package_name = oc\n",
      "filename = trans.oc\n",
      "package_type = oc\n",
      "model_or_simulation_package = model\n",
      "model_name = trans\n",
      "\n",
      "Block options\n",
      "--------------------\n",
      "budget_filerecord\n",
      "{internal}\n",
      "([('trans.cbc',)])\n",
      "\n",
      "concentration_filerecord\n",
      "{internal}\n",
      "([('trans.ucn',)])\n",
      "\n",
      "\n",
      "Block period\n",
      "--------------------\n",
      "saverecord\n",
      "{internal}\n",
      "([('CONCENTRATION', 'ALL', None) ('BUDGET', 'LAST', None)])\n",
      "\n",
      "printrecord\n",
      "{internal}\n",
      "([('CONCENTRATION', 'LAST', None) ('BUDGET', 'LAST', None)])\n",
      "\n",
      "\n",
      "\n"
     ]
    }
   ],
   "source": [
    "budget_filerecord=f\"{name}.cbc\"\n",
    "concentration_filerecord=f\"{name}.ucn\"\n",
    "\n",
    "oc = flopy.mf6.ModflowGwtoc(\n",
    "        gwt,\n",
    "        budget_filerecord=budget_filerecord,\n",
    "        concentration_filerecord=concentration_filerecord,\n",
    "        saverecord=[(\"CONCENTRATION\", \"ALL\"), (\"BUDGET\", \"LAST\")],\n",
    "        printrecord=[(\"CONCENTRATION\", \"LAST\"), (\"BUDGET\", \"LAST\")],\n",
    ")\n",
    "\n",
    "print(oc)"
   ]
  },
  {
   "cell_type": "markdown",
   "id": "51c7c2b8-4856-45da-8619-3dd2c722af84",
   "metadata": {},
   "source": [
    "## Step 13. Write Input files."
   ]
  },
  {
   "cell_type": "code",
   "execution_count": 12,
   "id": "955c6923-dba0-4fec-b43a-936a1e7a2eff",
   "metadata": {},
   "outputs": [
    {
     "name": "stdout",
     "output_type": "stream",
     "text": [
      "writing simulation...\n",
      "  writing simulation name file...\n",
      "  writing simulation tdis package...\n",
      "  writing solution package ims_-1...\n",
      "  writing model trans...\n",
      "    writing model name file...\n",
      "    writing package dis...\n",
      "    writing package ic...\n",
      "    writing package mst...\n",
      "    writing package adv...\n",
      "    writing package dsp...\n",
      "    writing package fmi...\n",
      "    writing package ssm...\n",
      "    writing package obs_0...\n",
      "    writing package oc...\n"
     ]
    }
   ],
   "source": [
    "sim.write_simulation()"
   ]
  },
  {
   "cell_type": "markdown",
   "id": "06e59c4a-6dcb-4f6e-a7ca-2ca6597f88c6",
   "metadata": {},
   "source": [
    "## Step 14. Run simulation"
   ]
  },
  {
   "cell_type": "code",
   "execution_count": 13,
   "id": "44e64765-dd25-46ee-b705-763a3d8254ba",
   "metadata": {},
   "outputs": [
    {
     "name": "stdout",
     "output_type": "stream",
     "text": [
      "FloPy is using the following executable to run the model: ../../../mf6/bin/mf6\n",
      "                                   MODFLOW 6\n",
      "                U.S. GEOLOGICAL SURVEY MODULAR HYDROLOGIC MODEL\n",
      "                            VERSION 6.4.4 02/13/2024\n",
      "\n",
      "   MODFLOW 6 compiled Feb 13 2024 16:19:58 with Intel(R) Fortran Intel(R) 64\n",
      "   Compiler Classic for applications running on Intel(R) 64, Version 2021.7.0\n",
      "                             Build 20220726_000000\n",
      "\n",
      "This software has been approved for release by the U.S. Geological \n",
      "Survey (USGS). Although the software has been subjected to rigorous \n",
      "review, the USGS reserves the right to update the software as needed \n",
      "pursuant to further analysis and review. No warranty, expressed or \n",
      "implied, is made by the USGS or the U.S. Government as to the \n",
      "functionality of the software and related material nor shall the \n",
      "fact of release constitute any such warranty. Furthermore, the \n",
      "software is released on condition that neither the USGS nor the U.S. \n",
      "Government shall be held liable for any damages resulting from its \n",
      "authorized or unauthorized use. Also refer to the USGS Water \n",
      "Resources Software User Rights Notice for complete use, copyright, \n",
      "and distribution information.\n",
      "\n",
      " \n",
      " Run start date and time (yyyy/mm/dd hh:mm:ss): 2024/04/24 19:06:23\n",
      " \n",
      " Writing simulation list file: mfsim.lst\n",
      " Using Simulation name file: mfsim.nam\n",
      " \n",
      "    Solving:  Stress period:     1    Time step:     1\n",
      "    Solving:  Stress period:     1    Time step:     2\n",
      "    Solving:  Stress period:     1    Time step:     3\n",
      "    Solving:  Stress period:     1    Time step:     4\n",
      "    Solving:  Stress period:     1    Time step:     5\n",
      "    Solving:  Stress period:     1    Time step:     6\n",
      "    Solving:  Stress period:     1    Time step:     7\n",
      "    Solving:  Stress period:     1    Time step:     8\n",
      "    Solving:  Stress period:     1    Time step:     9\n",
      "    Solving:  Stress period:     1    Time step:    10\n",
      "    Solving:  Stress period:     1    Time step:    11\n",
      "    Solving:  Stress period:     1    Time step:    12\n",
      "    Solving:  Stress period:     1    Time step:    13\n",
      "    Solving:  Stress period:     1    Time step:    14\n",
      "    Solving:  Stress period:     1    Time step:    15\n",
      "    Solving:  Stress period:     1    Time step:    16\n",
      "    Solving:  Stress period:     1    Time step:    17\n",
      "    Solving:  Stress period:     1    Time step:    18\n",
      "    Solving:  Stress period:     1    Time step:    19\n",
      "    Solving:  Stress period:     1    Time step:    20\n",
      "    Solving:  Stress period:     1    Time step:    21\n",
      "    Solving:  Stress period:     1    Time step:    22\n",
      "    Solving:  Stress period:     1    Time step:    23\n",
      "    Solving:  Stress period:     1    Time step:    24\n",
      "    Solving:  Stress period:     1    Time step:    25\n",
      "    Solving:  Stress period:     1    Time step:    26\n",
      "    Solving:  Stress period:     1    Time step:    27\n",
      "    Solving:  Stress period:     1    Time step:    28\n",
      "    Solving:  Stress period:     1    Time step:    29\n",
      "    Solving:  Stress period:     1    Time step:    30\n",
      "    Solving:  Stress period:     1    Time step:    31\n",
      "    Solving:  Stress period:     1    Time step:    32\n",
      "    Solving:  Stress period:     1    Time step:    33\n",
      "    Solving:  Stress period:     1    Time step:    34\n",
      "    Solving:  Stress period:     1    Time step:    35\n",
      "    Solving:  Stress period:     1    Time step:    36\n",
      "    Solving:  Stress period:     1    Time step:    37\n",
      "    Solving:  Stress period:     1    Time step:    38\n",
      "    Solving:  Stress period:     1    Time step:    39\n",
      "    Solving:  Stress period:     1    Time step:    40\n",
      "    Solving:  Stress period:     1    Time step:    41\n",
      "    Solving:  Stress period:     1    Time step:    42\n",
      "    Solving:  Stress period:     1    Time step:    43\n",
      "    Solving:  Stress period:     1    Time step:    44\n",
      "    Solving:  Stress period:     1    Time step:    45\n",
      "    Solving:  Stress period:     1    Time step:    46\n",
      "    Solving:  Stress period:     1    Time step:    47\n",
      "    Solving:  Stress period:     1    Time step:    48\n",
      "    Solving:  Stress period:     1    Time step:    49\n",
      "    Solving:  Stress period:     1    Time step:    50\n",
      "    Solving:  Stress period:     1    Time step:    51\n",
      "    Solving:  Stress period:     1    Time step:    52\n",
      "    Solving:  Stress period:     1    Time step:    53\n",
      "    Solving:  Stress period:     1    Time step:    54\n",
      "    Solving:  Stress period:     1    Time step:    55\n",
      "    Solving:  Stress period:     1    Time step:    56\n",
      "    Solving:  Stress period:     1    Time step:    57\n",
      "    Solving:  Stress period:     1    Time step:    58\n",
      "    Solving:  Stress period:     1    Time step:    59\n",
      "    Solving:  Stress period:     1    Time step:    60\n",
      "    Solving:  Stress period:     1    Time step:    61\n",
      "    Solving:  Stress period:     1    Time step:    62\n",
      "    Solving:  Stress period:     1    Time step:    63\n",
      "    Solving:  Stress period:     1    Time step:    64\n",
      "    Solving:  Stress period:     1    Time step:    65\n",
      "    Solving:  Stress period:     1    Time step:    66\n",
      "    Solving:  Stress period:     1    Time step:    67\n",
      "    Solving:  Stress period:     1    Time step:    68\n",
      "    Solving:  Stress period:     1    Time step:    69\n",
      "    Solving:  Stress period:     1    Time step:    70\n",
      "    Solving:  Stress period:     1    Time step:    71\n",
      "    Solving:  Stress period:     1    Time step:    72\n",
      "    Solving:  Stress period:     1    Time step:    73\n",
      "    Solving:  Stress period:     1    Time step:    74\n",
      "    Solving:  Stress period:     1    Time step:    75\n",
      "    Solving:  Stress period:     1    Time step:    76\n",
      "    Solving:  Stress period:     1    Time step:    77\n",
      "    Solving:  Stress period:     1    Time step:    78\n",
      "    Solving:  Stress period:     1    Time step:    79\n",
      "    Solving:  Stress period:     1    Time step:    80\n",
      "    Solving:  Stress period:     1    Time step:    81\n",
      "    Solving:  Stress period:     1    Time step:    82\n",
      "    Solving:  Stress period:     1    Time step:    83\n",
      "    Solving:  Stress period:     1    Time step:    84\n",
      "    Solving:  Stress period:     1    Time step:    85\n",
      "    Solving:  Stress period:     1    Time step:    86\n",
      "    Solving:  Stress period:     1    Time step:    87\n",
      "    Solving:  Stress period:     1    Time step:    88\n",
      "    Solving:  Stress period:     1    Time step:    89\n",
      "    Solving:  Stress period:     1    Time step:    90\n",
      "    Solving:  Stress period:     1    Time step:    91\n",
      "    Solving:  Stress period:     1    Time step:    92\n",
      "    Solving:  Stress period:     1    Time step:    93\n",
      "    Solving:  Stress period:     1    Time step:    94\n",
      "    Solving:  Stress period:     1    Time step:    95\n",
      "    Solving:  Stress period:     1    Time step:    96\n",
      "    Solving:  Stress period:     1    Time step:    97\n",
      "    Solving:  Stress period:     1    Time step:    98\n",
      "    Solving:  Stress period:     1    Time step:    99\n",
      "    Solving:  Stress period:     1    Time step:   100\n",
      "    Solving:  Stress period:     1    Time step:   101\n",
      "    Solving:  Stress period:     1    Time step:   102\n",
      "    Solving:  Stress period:     1    Time step:   103\n",
      "    Solving:  Stress period:     1    Time step:   104\n",
      "    Solving:  Stress period:     1    Time step:   105\n",
      "    Solving:  Stress period:     1    Time step:   106\n",
      "    Solving:  Stress period:     1    Time step:   107\n",
      "    Solving:  Stress period:     1    Time step:   108\n",
      "    Solving:  Stress period:     1    Time step:   109\n",
      "    Solving:  Stress period:     1    Time step:   110\n",
      "    Solving:  Stress period:     1    Time step:   111\n",
      "    Solving:  Stress period:     1    Time step:   112\n",
      "    Solving:  Stress period:     1    Time step:   113\n",
      "    Solving:  Stress period:     1    Time step:   114\n",
      "    Solving:  Stress period:     1    Time step:   115\n",
      "    Solving:  Stress period:     1    Time step:   116\n",
      "    Solving:  Stress period:     1    Time step:   117\n",
      "    Solving:  Stress period:     1    Time step:   118\n",
      "    Solving:  Stress period:     1    Time step:   119\n",
      "    Solving:  Stress period:     1    Time step:   120\n",
      "    Solving:  Stress period:     1    Time step:   121\n",
      "    Solving:  Stress period:     1    Time step:   122\n",
      "    Solving:  Stress period:     1    Time step:   123\n",
      "    Solving:  Stress period:     1    Time step:   124\n",
      "    Solving:  Stress period:     1    Time step:   125\n",
      "    Solving:  Stress period:     1    Time step:   126\n",
      "    Solving:  Stress period:     1    Time step:   127\n",
      "    Solving:  Stress period:     1    Time step:   128\n",
      "    Solving:  Stress period:     1    Time step:   129\n",
      "    Solving:  Stress period:     1    Time step:   130\n",
      "    Solving:  Stress period:     1    Time step:   131\n",
      "    Solving:  Stress period:     1    Time step:   132\n",
      "    Solving:  Stress period:     1    Time step:   133\n",
      "    Solving:  Stress period:     1    Time step:   134\n",
      "    Solving:  Stress period:     1    Time step:   135\n",
      "    Solving:  Stress period:     1    Time step:   136\n",
      "    Solving:  Stress period:     1    Time step:   137\n",
      "    Solving:  Stress period:     1    Time step:   138\n",
      "    Solving:  Stress period:     1    Time step:   139\n",
      "    Solving:  Stress period:     1    Time step:   140\n",
      "    Solving:  Stress period:     1    Time step:   141\n",
      "    Solving:  Stress period:     1    Time step:   142\n",
      "    Solving:  Stress period:     1    Time step:   143\n",
      "    Solving:  Stress period:     1    Time step:   144\n",
      "    Solving:  Stress period:     1    Time step:   145\n",
      "    Solving:  Stress period:     1    Time step:   146\n",
      "    Solving:  Stress period:     1    Time step:   147\n",
      "    Solving:  Stress period:     1    Time step:   148\n",
      "    Solving:  Stress period:     1    Time step:   149\n",
      "    Solving:  Stress period:     1    Time step:   150\n",
      "    Solving:  Stress period:     1    Time step:   151\n",
      "    Solving:  Stress period:     1    Time step:   152\n",
      "    Solving:  Stress period:     1    Time step:   153\n",
      "    Solving:  Stress period:     1    Time step:   154\n",
      "    Solving:  Stress period:     1    Time step:   155\n",
      "    Solving:  Stress period:     1    Time step:   156\n",
      "    Solving:  Stress period:     1    Time step:   157\n",
      "    Solving:  Stress period:     1    Time step:   158\n",
      "    Solving:  Stress period:     1    Time step:   159\n",
      "    Solving:  Stress period:     1    Time step:   160\n",
      "    Solving:  Stress period:     1    Time step:   161\n",
      "    Solving:  Stress period:     1    Time step:   162\n",
      "    Solving:  Stress period:     1    Time step:   163\n",
      "    Solving:  Stress period:     1    Time step:   164\n",
      "    Solving:  Stress period:     1    Time step:   165\n",
      "    Solving:  Stress period:     1    Time step:   166\n",
      "    Solving:  Stress period:     1    Time step:   167\n",
      "    Solving:  Stress period:     1    Time step:   168\n",
      "    Solving:  Stress period:     1    Time step:   169\n",
      "    Solving:  Stress period:     1    Time step:   170\n",
      "    Solving:  Stress period:     1    Time step:   171\n",
      "    Solving:  Stress period:     1    Time step:   172\n",
      "    Solving:  Stress period:     1    Time step:   173\n",
      "    Solving:  Stress period:     1    Time step:   174\n",
      "    Solving:  Stress period:     1    Time step:   175\n",
      "    Solving:  Stress period:     1    Time step:   176\n",
      "    Solving:  Stress period:     1    Time step:   177\n",
      "    Solving:  Stress period:     1    Time step:   178\n",
      "    Solving:  Stress period:     1    Time step:   179\n",
      "    Solving:  Stress period:     1    Time step:   180\n",
      "    Solving:  Stress period:     1    Time step:   181\n",
      "    Solving:  Stress period:     1    Time step:   182\n",
      "    Solving:  Stress period:     1    Time step:   183\n",
      "    Solving:  Stress period:     1    Time step:   184\n",
      "    Solving:  Stress period:     1    Time step:   185\n",
      "    Solving:  Stress period:     1    Time step:   186\n",
      "    Solving:  Stress period:     1    Time step:   187\n",
      "    Solving:  Stress period:     1    Time step:   188\n",
      "    Solving:  Stress period:     1    Time step:   189\n",
      "    Solving:  Stress period:     1    Time step:   190\n",
      "    Solving:  Stress period:     1    Time step:   191\n",
      "    Solving:  Stress period:     1    Time step:   192\n",
      "    Solving:  Stress period:     1    Time step:   193\n",
      "    Solving:  Stress period:     1    Time step:   194\n",
      "    Solving:  Stress period:     1    Time step:   195\n",
      "    Solving:  Stress period:     1    Time step:   196\n",
      "    Solving:  Stress period:     1    Time step:   197\n",
      "    Solving:  Stress period:     1    Time step:   198\n",
      "    Solving:  Stress period:     1    Time step:   199\n",
      "    Solving:  Stress period:     1    Time step:   200\n",
      "    Solving:  Stress period:     1    Time step:   201\n",
      "    Solving:  Stress period:     1    Time step:   202\n",
      "    Solving:  Stress period:     1    Time step:   203\n",
      "    Solving:  Stress period:     1    Time step:   204\n",
      "    Solving:  Stress period:     1    Time step:   205\n",
      "    Solving:  Stress period:     1    Time step:   206\n",
      "    Solving:  Stress period:     1    Time step:   207\n",
      "    Solving:  Stress period:     1    Time step:   208\n",
      "    Solving:  Stress period:     1    Time step:   209\n",
      "    Solving:  Stress period:     1    Time step:   210\n",
      "    Solving:  Stress period:     1    Time step:   211\n",
      "    Solving:  Stress period:     1    Time step:   212\n",
      "    Solving:  Stress period:     1    Time step:   213\n",
      "    Solving:  Stress period:     1    Time step:   214\n",
      "    Solving:  Stress period:     1    Time step:   215\n",
      "    Solving:  Stress period:     1    Time step:   216\n",
      "    Solving:  Stress period:     1    Time step:   217\n",
      "    Solving:  Stress period:     1    Time step:   218\n",
      "    Solving:  Stress period:     1    Time step:   219\n",
      "    Solving:  Stress period:     1    Time step:   220\n",
      "    Solving:  Stress period:     1    Time step:   221\n",
      "    Solving:  Stress period:     1    Time step:   222\n",
      "    Solving:  Stress period:     1    Time step:   223\n",
      "    Solving:  Stress period:     1    Time step:   224\n",
      "    Solving:  Stress period:     1    Time step:   225\n",
      "    Solving:  Stress period:     1    Time step:   226\n",
      "    Solving:  Stress period:     1    Time step:   227\n",
      "    Solving:  Stress period:     1    Time step:   228\n",
      "    Solving:  Stress period:     1    Time step:   229\n",
      "    Solving:  Stress period:     1    Time step:   230\n",
      "    Solving:  Stress period:     1    Time step:   231\n",
      "    Solving:  Stress period:     1    Time step:   232\n",
      "    Solving:  Stress period:     1    Time step:   233\n",
      "    Solving:  Stress period:     1    Time step:   234\n",
      "    Solving:  Stress period:     1    Time step:   235\n",
      "    Solving:  Stress period:     1    Time step:   236\n",
      "    Solving:  Stress period:     1    Time step:   237\n",
      "    Solving:  Stress period:     1    Time step:   238\n",
      "    Solving:  Stress period:     1    Time step:   239\n",
      "    Solving:  Stress period:     1    Time step:   240\n",
      " \n",
      " Run end date and time (yyyy/mm/dd hh:mm:ss): 2024/04/24 19:06:23\n",
      " Elapsed run time:  0.176 Seconds\n",
      " \n",
      " Normal termination of simulation.\n"
     ]
    },
    {
     "data": {
      "text/plain": [
       "(True, [])"
      ]
     },
     "execution_count": 13,
     "metadata": {},
     "output_type": "execute_result"
    }
   ],
   "source": [
    "sim.run_simulation()"
   ]
  },
  {
   "cell_type": "markdown",
   "id": "4942b96b-60cb-44f4-b374-1e6b171e25dd",
   "metadata": {},
   "source": [
    "## Step 15. Postprocessing"
   ]
  },
  {
   "cell_type": "markdown",
   "id": "895afc35-7518-4197-aa85-72c0831c0727",
   "metadata": {},
   "source": [
    "### Resultados del flujo"
   ]
  },
  {
   "cell_type": "code",
   "execution_count": 14,
   "id": "481bb5ac-150e-4571-b3f5-c197a58d5b83",
   "metadata": {},
   "outputs": [
    {
     "ename": "NameError",
     "evalue": "name 'gwf' is not defined",
     "output_type": "error",
     "traceback": [
      "\u001b[0;31m---------------------------------------------------------------------------\u001b[0m",
      "\u001b[0;31mNameError\u001b[0m                                 Traceback (most recent call last)",
      "Cell \u001b[0;32mIn[14], line 9\u001b[0m\n\u001b[1;32m      7\u001b[0m \u001b[38;5;66;03m# Obtenemos las velocidades\u001b[39;00m\n\u001b[1;32m      8\u001b[0m spdis \u001b[38;5;241m=\u001b[39m bud\u001b[38;5;241m.\u001b[39mget_data(text\u001b[38;5;241m=\u001b[39m\u001b[38;5;124m'\u001b[39m\u001b[38;5;124mDATA-SPDIS\u001b[39m\u001b[38;5;124m'\u001b[39m)[\u001b[38;5;241m0\u001b[39m]\n\u001b[0;32m----> 9\u001b[0m qx, qy, qz \u001b[38;5;241m=\u001b[39m flopy\u001b[38;5;241m.\u001b[39mutils\u001b[38;5;241m.\u001b[39mpostprocessing\u001b[38;5;241m.\u001b[39mget_specific_discharge(spdis, \u001b[43mgwf\u001b[49m)\n",
      "\u001b[0;31mNameError\u001b[0m: name 'gwf' is not defined"
     ]
    }
   ],
   "source": [
    "# Obtenemos los resultados de la carga hidráulica\n",
    "head = flopy.utils.HeadFile(os.path.join(ws, \"../flujo_1D/flow.hds\")).get_data()\n",
    "\n",
    "# Obtenemos los resultados del BUDGET\n",
    "bud  = flopy.utils.CellBudgetFile(os.path.join(ws, \"../flujo_1D/flow.bud\"),\n",
    "                                  precision='double')\n",
    "# Obtenemos las velocidades\n",
    "spdis = bud.get_data(text='DATA-SPDIS')[0]\n",
    "qx, qy, qz = flopy.utils.postprocessing.get_specific_discharge(spdis, gwf)"
   ]
  },
  {
   "cell_type": "code",
   "execution_count": 15,
   "id": "f526ea83-a6f5-4cc7-849e-21fca09370cd",
   "metadata": {},
   "outputs": [
    {
     "name": "stdout",
     "output_type": "stream",
     "text": [
      "(1, 1, 122) \n",
      " [13.1 13.  12.9 12.8 12.7 12.6 12.5 12.4 12.3 12.2 12.1 12.  11.9 11.8\n",
      " 11.7 11.6 11.5 11.4 11.3 11.2 11.1 11.  10.9 10.8 10.7 10.6 10.5 10.4\n",
      " 10.3 10.2 10.1 10.   9.9  9.8  9.7  9.6  9.5  9.4  9.3  9.2  9.1  9.\n",
      "  8.9  8.8  8.7  8.6  8.5  8.4  8.3  8.2  8.1  8.   7.9  7.8  7.7  7.6\n",
      "  7.5  7.4  7.3  7.2  7.1  7.   6.9  6.8  6.7  6.6  6.5  6.4  6.3  6.2\n",
      "  6.1  6.   5.9  5.8  5.7  5.6  5.5  5.4  5.3  5.2  5.1  5.   4.9  4.8\n",
      "  4.7  4.6  4.5  4.4  4.3  4.2  4.1  4.   3.9  3.8  3.7  3.6  3.5  3.4\n",
      "  3.3  3.2  3.1  3.   2.9  2.8  2.7  2.6  2.5  2.4  2.3  2.2  2.1  2.\n",
      "  1.9  1.8  1.7  1.6  1.5  1.4  1.3  1.2  1.1  1. ]\n"
     ]
    }
   ],
   "source": [
    "print(head.shape, '\\n', head[0,0])"
   ]
  },
  {
   "cell_type": "code",
   "execution_count": 16,
   "id": "7edba925-008e-4fcd-ac22-e20bed4b3fbf",
   "metadata": {},
   "outputs": [
    {
     "ename": "NameError",
     "evalue": "name 'qx' is not defined",
     "output_type": "error",
     "traceback": [
      "\u001b[0;31m---------------------------------------------------------------------------\u001b[0m",
      "\u001b[0;31mNameError\u001b[0m                                 Traceback (most recent call last)",
      "Cell \u001b[0;32mIn[16], line 1\u001b[0m\n\u001b[0;32m----> 1\u001b[0m \u001b[38;5;28mprint\u001b[39m(\u001b[43mqx\u001b[49m\u001b[38;5;241m.\u001b[39mshape, \u001b[38;5;124m'\u001b[39m\u001b[38;5;130;01m\\n\u001b[39;00m\u001b[38;5;124m'\u001b[39m, qx)\n",
      "\u001b[0;31mNameError\u001b[0m: name 'qx' is not defined"
     ]
    }
   ],
   "source": [
    "print(qx.shape, '\\n', qx)"
   ]
  },
  {
   "cell_type": "markdown",
   "id": "abdb5d34-9fa5-46cf-880d-6f6024204b86",
   "metadata": {},
   "source": [
    "### Resultados del transporte"
   ]
  },
  {
   "cell_type": "code",
   "execution_count": 2,
   "id": "14569be0-d989-41a3-a12b-01ddca6f0ce5",
   "metadata": {},
   "outputs": [
    {
     "ename": "NameError",
     "evalue": "name 'sim' is not defined",
     "output_type": "error",
     "traceback": [
      "\u001b[0;31m---------------------------------------------------------------------------\u001b[0m",
      "\u001b[0;31mNameError\u001b[0m                                 Traceback (most recent call last)",
      "Cell \u001b[0;32mIn[2], line 1\u001b[0m\n\u001b[0;32m----> 1\u001b[0m mf6gwt_ra \u001b[38;5;241m=\u001b[39m \u001b[43msim\u001b[49m\u001b[38;5;241m.\u001b[39mget_model(\u001b[38;5;124m\"\u001b[39m\u001b[38;5;124mtrans\u001b[39m\u001b[38;5;124m\"\u001b[39m)\u001b[38;5;241m.\u001b[39mobs\u001b[38;5;241m.\u001b[39moutput\u001b[38;5;241m.\u001b[39mobs()\u001b[38;5;241m.\u001b[39mdata\n\u001b[1;32m      2\u001b[0m ucnobj_mf6 \u001b[38;5;241m=\u001b[39m sim\u001b[38;5;241m.\u001b[39mtrans\u001b[38;5;241m.\u001b[39moutput\u001b[38;5;241m.\u001b[39mconcentration()\n",
      "\u001b[0;31mNameError\u001b[0m: name 'sim' is not defined"
     ]
    }
   ],
   "source": [
    "mf6gwt_ra = sim.get_model(\"trans\").obs.output.obs().data\n",
    "ucnobj_mf6 = sim.trans.output.concentration()"
   ]
  },
  {
   "cell_type": "code",
   "execution_count": 18,
   "id": "b00ea0d0-3d5d-4c70-a37f-57077be474a0",
   "metadata": {},
   "outputs": [
    {
     "name": "stdout",
     "output_type": "stream",
     "text": [
      "<class 'numpy.recarray'> <class 'flopy.utils.binaryfile.HeadFile'>\n"
     ]
    }
   ],
   "source": [
    "print(type(mf6gwt_ra), type(ucnobj_mf6))"
   ]
  },
  {
   "cell_type": "code",
   "execution_count": 19,
   "id": "f4898093-f31b-4ddf-b5f0-8b9bc40452a6",
   "metadata": {},
   "outputs": [
    {
     "name": "stdout",
     "output_type": "stream",
     "text": [
      "(240,)\n"
     ]
    }
   ],
   "source": [
    "print(mf6gwt_ra.shape)"
   ]
  },
  {
   "cell_type": "code",
   "execution_count": 20,
   "id": "025ab006-863f-482b-b10d-2382a7acb2ea",
   "metadata": {},
   "outputs": [
    {
     "name": "stdout",
     "output_type": "stream",
     "text": [
      "[(  0.5, 0.28357732, 7.83140335e-15,  9.13706044e-40)\n",
      " (  1. , 0.46247052, 4.52708696e-14,  3.46785333e-38)\n",
      " (  1.5, 0.58441305, 1.83227465e-13,  6.70677030e-37)\n",
      " (  2. , 0.6720694 , 6.26002509e-13,  8.80981864e-36)\n",
      " (  2.5, 0.73741561, 1.91973810e-12,  8.83949579e-35)\n",
      " (  3. , 0.78739937, 5.44716655e-12,  7.22387375e-34)\n",
      " (  3.5, 0.82636306, 1.45939158e-11,  5.00684322e-33)\n",
      " (  4. , 0.85717974, 3.75315938e-11,  3.02624169e-32)\n",
      " (  4.5, 0.88183412, 9.39533489e-11,  1.62793618e-31)\n",
      " (  5. , 0.9017434 , 2.31377107e-10,  7.91652786e-31)\n",
      " (  5.5, 0.91794609, 5.63859491e-10,  3.52330648e-30)\n",
      " (  6. , 0.93121916, 1.36077539e-09,  1.44953370e-29)\n",
      " (  6.5, 0.94215386, 3.24155313e-09,  5.55853272e-29)\n",
      " (  7. , 0.95119818, 6.83786444e-09,  2.00048548e-28)\n",
      " (  7.5, 0.95871855, 1.47466196e-08,  6.79536932e-28)\n",
      " (  8. , 0.96499698, 3.20341224e-08,  2.18858232e-27)\n",
      " (  8.5, 0.97025649, 6.90530920e-08,  6.70682649e-27)\n",
      " (  9. , 0.9746758 , 1.46028787e-07,  1.96086853e-26)\n",
      " (  9.5, 0.97839932, 3.00783789e-07,  5.48107981e-26)\n",
      " ( 10. , 0.98154444, 6.01177030e-07,  1.46726413e-25)\n",
      " ( 10.5, 0.98420713, 1.16431704e-06,  3.76718272e-25)\n",
      " ( 11. , 0.98646614, 2.18511075e-06,  9.28932441e-25)\n",
      " ( 11.5, 0.98838641, 3.97717250e-06,  2.20280924e-24)\n",
      " ( 12. , 0.99002169, 7.02947469e-06,  5.02963599e-24)\n",
      " ( 12.5, 0.99141661, 1.20822927e-05,  1.10705268e-23)\n",
      " ( 13. , 0.99260836, 2.02259054e-05,  2.35137129e-23)\n",
      " ( 13.5, 0.99362803, 3.30250882e-05,  4.82352346e-23)\n",
      " ( 14. , 0.99450164, 5.26716327e-05,  9.56221870e-23)\n",
      " ( 14.5, 0.99525109, 8.21659225e-05,  1.83240605e-22)\n",
      " ( 15. , 0.99589478, 1.25527013e-04,  3.39375448e-22)\n",
      " ( 15.5, 0.99644828, 1.88028757e-04,  6.07016193e-22)\n",
      " ( 16. , 0.99692472, 2.76457397e-04,  1.04682991e-21)\n",
      " ( 16.5, 0.99733526, 3.99383816e-04,  1.73563164e-21)\n",
      " ( 17. , 0.99768934, 5.67441498e-04,  2.75330650e-21)\n",
      " ( 17.5, 0.99799501, 7.93599339e-04,  4.14552200e-21)\n",
      " ( 18. , 0.99825912, 1.09341689e-03,  5.84165877e-21)\n",
      " ( 18.5, 0.99848749, 1.48526871e-03,  7.49841709e-21)\n",
      " ( 19. , 0.99868513, 1.99052403e-03,  8.23505498e-21)\n",
      " ( 19.5, 0.99885629, 2.63366861e-03,  6.23253142e-21)\n",
      " ( 20. , 0.99900463, 3.44235638e-03, -1.79530658e-21)\n",
      " ( 20.5, 0.99913327, 4.44738082e-03, -2.11276299e-20)\n",
      " ( 21. , 0.99924491, 5.68255806e-03, -5.90976509e-20)\n",
      " ( 21.5, 0.99934185, 7.18451708e-03, -1.23956796e-19)\n",
      " ( 22. , 0.99942608, 8.99239547e-03, -2.20887311e-19)\n",
      " ( 22.5, 0.99949931, 1.11474429e-02, -3.40990513e-19)\n",
      " ( 23. , 0.999563  , 1.36925380e-02, -4.34247472e-19)\n",
      " ( 23.5, 0.99961843, 1.66716279e-02, -3.49854037e-19)\n",
      " ( 24. , 0.9996667 , 2.01291022e-02,  2.86044117e-19)\n",
      " ( 24.5, 0.99970875, 2.41091159e-02,  2.15004874e-18)\n",
      " ( 25. , 0.9997454 , 2.86548788e-02,  6.54361653e-18)\n",
      " ( 25.5, 0.99977736, 3.38079285e-02,  1.60844861e-17)\n",
      " ( 26. , 0.99980523, 3.96074044e-02,  3.58204188e-17)\n",
      " ( 26.5, 0.99982956, 4.60893443e-02,  7.51903731e-17)\n",
      " ( 27. , 0.9998508 , 5.32860172e-02,  1.51159928e-16)\n",
      " ( 27.5, 0.99986935, 6.12253119e-02,  2.93193010e-16)\n",
      " ( 28. , 0.99988556, 6.99301931e-02,  7.04382399e-16)\n",
      " ( 28.5, 0.99989973, 7.94182393e-02,  1.57661392e-15)\n",
      " ( 29. , 0.99991212, 8.97012706e-02,  3.34875276e-15)\n",
      " ( 29.5, 0.99992296, 1.00785074e-01,  6.85561852e-15)\n",
      " ( 30. , 0.99993244, 1.12669227e-01,  1.36270143e-14)\n",
      " ( 30.5, 0.99994074, 1.25347031e-01,  2.64163947e-14)\n",
      " ( 31. , 0.999948  , 1.38805534e-01,  5.00946930e-14)\n",
      " ( 31.5, 0.99995437, 1.53025665e-01,  9.31410905e-14)\n",
      " ( 32. , 0.99995994, 1.67982443e-01,  1.70093371e-13)\n",
      " ( 32.5, 0.99996483, 1.83645285e-01,  3.05522353e-13)\n",
      " ( 33. , 0.99996911, 1.99978380e-01,  5.40395993e-13)\n",
      " ( 33.5, 0.99997287, 2.16941126e-01,  9.42145106e-13)\n",
      " ( 34. , 0.99997616, 2.34488628e-01,  1.62039641e-12)\n",
      " ( 34.5, 0.99997905, 2.52572228e-01,  2.75128502e-12)\n",
      " ( 35. , 0.99998158, 2.71140072e-01,  4.61461421e-12)\n",
      " ( 35.5, 0.99998381, 2.90137694e-01,  7.65005113e-12)\n",
      " ( 36. , 0.99998576, 3.09508609e-01,  1.25412410e-11)\n",
      " ( 36.5, 0.99998748, 3.29194900e-01,  2.03404628e-11)\n",
      " ( 37. , 0.99998898, 3.49137799e-01,  3.26515888e-11)\n",
      " ( 37.5, 0.99999031, 3.69278249e-01,  5.18961117e-11)\n",
      " ( 38. , 0.99999147, 3.89557433e-01,  8.16964388e-11)\n",
      " ( 38.5, 0.99999249, 4.09917275e-01,  1.27423262e-10)\n",
      " ( 39. , 0.99999339, 4.30300903e-01,  1.96970513e-10)\n",
      " ( 39.5, 0.99999418, 4.50653073e-01,  3.01843305e-10)\n",
      " ( 40. , 0.99999487, 4.70920538e-01,  4.58672770e-10)\n",
      " ( 40.5, 0.99999549, 4.91052385e-01,  6.91308426e-10)\n",
      " ( 41. , 0.99999602, 5.11000316e-01,  1.03368566e-09)\n",
      " ( 41.5, 0.9999965 , 5.30718883e-01,  1.53372549e-09)\n",
      " ( 42. , 0.99999691, 5.50165680e-01,  2.25859848e-09)\n",
      " ( 42.5, 0.99999728, 5.69301490e-01,  3.30177822e-09)\n",
      " ( 43. , 0.9999976 , 5.88090382e-01,  4.79242486e-09)\n",
      " ( 43.5, 0.99999789, 6.06499782e-01,  6.90778096e-09)\n",
      " ( 44. , 0.99999814, 6.24500492e-01,  9.88943393e-09)\n",
      " ( 44.5, 0.99999836, 6.42066682e-01,  1.40645073e-08)\n",
      " ( 45. , 0.99999855, 6.59175853e-01,  1.98730919e-08)\n",
      " ( 45.5, 0.99999872, 6.75808765e-01,  2.79035229e-08)\n",
      " ( 46. , 0.99999887, 6.91949347e-01,  3.89374587e-08)\n",
      " ( 46.5, 0.999999  , 7.07584585e-01,  5.40071219e-08)\n",
      " ( 47. , 0.99999912, 7.22704388e-01,  7.44675369e-08)\n",
      " ( 47.5, 0.99999922, 7.37301446e-01,  1.02087140e-07)\n",
      " ( 48. , 0.99999932, 7.51371072e-01,  1.39160754e-07)\n",
      " ( 48.5, 0.9999994 , 7.64911034e-01,  1.88649628e-07)\n",
      " ( 49. , 0.99999947, 7.77921390e-01,  2.54354007e-07)\n",
      " ( 49.5, 0.99999953, 7.90404304e-01,  3.41124592e-07)\n",
      " ( 50. , 0.99999958, 8.02363880e-01,  4.55120186e-07)\n",
      " ( 50.5, 0.99999963, 8.13805975e-01,  6.04119883e-07)\n",
      " ( 51. , 0.99999968, 8.24738034e-01,  7.97899262e-07)\n",
      " ( 51.5, 0.99999971, 8.35168914e-01,  1.04868128e-06)\n",
      " ( 52. , 0.99999975, 8.45108724e-01,  1.37167380e-06)\n",
      " ( 52.5, 0.99999978, 8.54568659e-01,  1.78570699e-06)\n",
      " ( 53. , 0.9999998 , 8.63560854e-01,  2.31398529e-06)\n",
      " ( 53.5, 0.99999983, 8.72098237e-01,  2.98496988e-06)\n",
      " ( 54. , 0.99999985, 8.80194390e-01,  3.83340895e-06)\n",
      " ( 54.5, 0.99999986, 8.87863426e-01,  4.90153460e-06)\n",
      " ( 55. , 0.99999988, 8.95119863e-01,  6.24044620e-06)\n",
      " ( 55.5, 0.99999989, 9.01978520e-01,  7.91170121e-06)\n",
      " ( 56. , 0.99999991, 9.08454411e-01,  9.98913572e-06)\n",
      " ( 56.5, 0.99999992, 9.14562653e-01,  1.25609373e-05)\n",
      " ( 57. , 0.99999993, 9.20318382e-01,  1.57319940e-05)\n",
      " ( 57.5, 0.99999993, 9.25736677e-01,  1.96265424e-05)\n",
      " ( 58. , 0.99999994, 9.30832490e-01,  2.43911396e-05)\n",
      " ( 58.5, 0.99999995, 9.35620587e-01,  3.01979809e-05)\n",
      " ( 59. , 0.99999996, 9.40115498e-01,  3.72485864e-05)\n",
      " ( 59.5, 0.99999996, 9.44331463e-01,  4.57778772e-05)\n",
      " ( 60. , 0.99999996, 9.48282402e-01,  5.60586605e-05)\n",
      " ( 60.5, 0.99999997, 9.51981873e-01,  6.84065397e-05)\n",
      " ( 61. , 0.99999997, 9.55443049e-01,  8.31852630e-05)\n",
      " ( 61.5, 0.99999998, 9.58678694e-01,  1.00812522e-04)\n",
      " ( 62. , 0.99999998, 9.61701148e-01,  1.21766205e-04)\n",
      " ( 62.5, 0.99999998, 9.64522305e-01,  1.46591104e-04)\n",
      " ( 63. , 0.99999998, 9.67153616e-01,  1.75906074e-04)\n",
      " ( 63.5, 0.99999998, 9.69606072e-01,  2.10411637e-04)\n",
      " ( 64. , 0.99999999, 9.71890208e-01,  2.50897999e-04)\n",
      " ( 64.5, 0.99999999, 9.74016100e-01,  2.98253478e-04)\n",
      " ( 65. , 0.99999999, 9.75993370e-01,  3.53473295e-04)\n",
      " ( 65.5, 0.99999999, 9.77831189e-01,  4.17668687e-04)\n",
      " ( 66. , 0.99999999, 9.79538286e-01,  4.92076308e-04)\n",
      " ( 66.5, 0.99999999, 9.81122953e-01,  5.78067853e-04)\n",
      " ( 67. , 0.99999999, 9.82593061e-01,  6.77159836e-04)\n",
      " ( 67.5, 0.99999999, 9.83956064e-01,  7.91023458e-04)\n",
      " ( 68. , 1.        , 9.85219016e-01,  9.21494481e-04)\n",
      " ( 68.5, 1.        , 9.86388584e-01,  1.07058302e-03)\n",
      " ( 69. , 1.        , 9.87471056e-01,  1.24048315e-03)\n",
      " ( 69.5, 1.        , 9.88472364e-01,  1.43358222e-03)\n",
      " ( 70. , 1.        , 9.89398090e-01,  1.65246982e-03)\n",
      " ( 70.5, 1.        , 9.90253483e-01,  1.89994619e-03)\n",
      " ( 71. , 1.        , 9.91043477e-01,  2.17903000e-03)\n",
      " ( 71.5, 1.        , 9.91772698e-01,  2.49296548e-03)\n",
      " ( 72. , 1.        , 9.92445486e-01,  2.84522852e-03)\n",
      " ( 72.5, 1.        , 9.93065905e-01,  3.23953196e-03)\n",
      " ( 73. , 1.        , 9.93637758e-01,  3.67982961e-03)\n",
      " ( 73.5, 1.        , 9.94164599e-01,  4.17031913e-03)\n",
      " ( 74. , 1.        , 9.94649747e-01,  4.71544356e-03)\n",
      " ( 74.5, 1.        , 9.95096303e-01,  5.31989132e-03)\n",
      " ( 75. , 1.        , 9.95507153e-01,  5.98859472e-03)\n",
      " ( 75.5, 1.        , 9.95884991e-01,  6.72672682e-03)\n",
      " ( 76. , 1.        , 9.96232320e-01,  7.53969647e-03)\n",
      " ( 76.5, 1.        , 9.96551473e-01,  8.43314164e-03)\n",
      " ( 77. , 1.        , 9.96844615e-01,  9.41292085e-03)\n",
      " ( 77.5, 1.        , 9.97113759e-01,  1.04851026e-02)\n",
      " ( 78. , 1.        , 9.97360772e-01,  1.16559532e-02)\n",
      " ( 78.5, 1.        , 9.97587389e-01,  1.29319218e-02)\n",
      " ( 79. , 1.        , 9.97795214e-01,  1.43196249e-02)\n",
      " ( 79.5, 1.        , 9.97985735e-01,  1.58258273e-02)\n",
      " ( 80. , 1.        , 9.98160330e-01,  1.74574225e-02)\n",
      " ( 80.5, 1.        , 9.98320274e-01,  1.92214105e-02)\n",
      " ( 81. , 1.        , 9.98466745e-01,  2.11248741e-02)\n",
      " ( 81.5, 1.        , 9.98600831e-01,  2.31749537e-02)\n",
      " ( 82. , 1.        , 9.98723540e-01,  2.53788202e-02)\n",
      " ( 82.5, 1.        , 9.98835798e-01,  2.77436467e-02)\n",
      " ( 83. , 1.        , 9.98938464e-01,  3.02765790e-02)\n",
      " ( 83.5, 1.        , 9.99032327e-01,  3.29847051e-02)\n",
      " ( 84. , 1.        , 9.99118115e-01,  3.58750232e-02)\n",
      " ( 84.5, 1.        , 9.99196498e-01,  3.89544096e-02)\n",
      " ( 85. , 1.        , 9.99268095e-01,  4.22295856e-02)\n",
      " ( 85.5, 1.        , 9.99333474e-01,  4.57070845e-02)\n",
      " ( 86. , 1.        , 9.99393157e-01,  4.93932181e-02)\n",
      " ( 86.5, 1.        , 9.99447625e-01,  5.32940433e-02)\n",
      " ( 87. , 1.        , 9.99497320e-01,  5.74153292e-02)\n",
      " ( 87.5, 1.        , 9.99542648e-01,  6.17625248e-02)\n",
      " ( 88. , 1.        , 9.99583981e-01,  6.63407268e-02)\n",
      " ( 88.5, 1.        , 9.99621661e-01,  7.11546494e-02)\n",
      " ( 89. , 1.        , 9.99656003e-01,  7.62085944e-02)\n",
      " ( 89.5, 1.        , 9.99687294e-01,  8.15064232e-02)\n",
      " ( 90. , 1.        , 9.99715798e-01,  8.70515299e-02)\n",
      " ( 90.5, 1.        , 9.99741757e-01,  9.28468169e-02)\n",
      " ( 91. , 1.        , 9.99765392e-01,  9.88946717e-02)\n",
      " ( 91.5, 1.        , 9.99786907e-01,  1.05196946e-01)\n",
      " ( 92. , 1.        , 9.99806486e-01,  1.11754938e-01)\n",
      " ( 92.5, 1.        , 9.99824300e-01,  1.18569375e-01)\n",
      " ( 93. , 1.        , 9.99840504e-01,  1.25640401e-01)\n",
      " ( 93.5, 1.        , 9.99855241e-01,  1.32967565e-01)\n",
      " ( 94. , 1.        , 9.99868641e-01,  1.40549812e-01)\n",
      " ( 94.5, 1.        , 9.99880822e-01,  1.48385479e-01)\n",
      " ( 95. , 1.        , 9.99891892e-01,  1.56472291e-01)\n",
      " ( 95.5, 1.        , 9.99901951e-01,  1.64807362e-01)\n",
      " ( 96. , 1.        , 9.99911090e-01,  1.73387196e-01)\n",
      " ( 96.5, 1.        , 9.99919391e-01,  1.82207693e-01)\n",
      " ( 97. , 1.        , 9.99926929e-01,  1.91264160e-01)\n",
      " ( 97.5, 1.        , 9.99933773e-01,  2.00551317e-01)\n",
      " ( 98. , 1.        , 9.99939985e-01,  2.10063315e-01)\n",
      " ( 98.5, 1.        , 9.99945624e-01,  2.19793750e-01)\n",
      " ( 99. , 1.        , 9.99950740e-01,  2.29735680e-01)\n",
      " ( 99.5, 1.        , 9.99955383e-01,  2.39881649e-01)\n",
      " (100. , 1.        , 9.99959593e-01,  2.50223707e-01)\n",
      " (100.5, 1.        , 9.99963412e-01,  2.60753439e-01)\n",
      " (101. , 1.        , 9.99966875e-01,  2.71461984e-01)\n",
      " (101.5, 1.        , 9.99970015e-01,  2.82340072e-01)\n",
      " (102. , 1.        , 9.99972861e-01,  2.93378048e-01)\n",
      " (102.5, 1.        , 9.99975440e-01,  3.04565907e-01)\n",
      " (103. , 1.        , 9.99977777e-01,  3.15893323e-01)\n",
      " (103.5, 1.        , 9.99979895e-01,  3.27349684e-01)\n",
      " (104. , 1.        , 9.99981813e-01,  3.38924128e-01)\n",
      " (104.5, 1.        , 9.99983551e-01,  3.50605575e-01)\n",
      " (105. , 1.        , 9.99985124e-01,  3.62382761e-01)\n",
      " (105.5, 1.        , 9.99986549e-01,  3.74244278e-01)\n",
      " (106. , 1.        , 9.99987839e-01,  3.86178606e-01)\n",
      " (106.5, 1.        , 9.99989006e-01,  3.98174147e-01)\n",
      " (107. , 1.        , 9.99990063e-01,  4.10219263e-01)\n",
      " (107.5, 1.        , 9.99991019e-01,  4.22302308e-01)\n",
      " (108. , 1.        , 9.99991884e-01,  4.34411666e-01)\n",
      " (108.5, 1.        , 9.99992667e-01,  4.46535776e-01)\n",
      " (109. , 1.        , 9.99993375e-01,  4.58663172e-01)\n",
      " (109.5, 1.        , 9.99994016e-01,  4.70782510e-01)\n",
      " (110. , 1.        , 9.99994595e-01,  4.82882598e-01)\n",
      " (110.5, 1.        , 9.99995118e-01,  4.94952427e-01)\n",
      " (111. , 1.        , 9.99995592e-01,  5.06981193e-01)\n",
      " (111.5, 1.        , 9.99996020e-01,  5.18958330e-01)\n",
      " (112. , 1.        , 9.99996406e-01,  5.30873528e-01)\n",
      " (112.5, 1.        , 9.99996756e-01,  5.42716758e-01)\n",
      " (113. , 1.        , 9.99997072e-01,  5.54478293e-01)\n",
      " (113.5, 1.        , 9.99997357e-01,  5.66148728e-01)\n",
      " (114. , 1.        , 9.99997615e-01,  5.77718995e-01)\n",
      " (114.5, 1.        , 9.99997848e-01,  5.89180382e-01)\n",
      " (115. , 1.        , 9.99998058e-01,  6.00524546e-01)\n",
      " (115.5, 1.        , 9.99998248e-01,  6.11743524e-01)\n",
      " (116. , 1.        , 9.99998420e-01,  6.22829745e-01)\n",
      " (116.5, 1.        , 9.99998575e-01,  6.33776040e-01)\n",
      " (117. , 1.        , 9.99998715e-01,  6.44575648e-01)\n",
      " (117.5, 1.        , 9.99998841e-01,  6.55222221e-01)\n",
      " (118. , 1.        , 9.99998955e-01,  6.65709831e-01)\n",
      " (118.5, 1.        , 9.99999058e-01,  6.76032972e-01)\n",
      " (119. , 1.        , 9.99999150e-01,  6.86186555e-01)\n",
      " (119.5, 1.        , 9.99999234e-01,  6.96165916e-01)\n",
      " (120. , 1.        , 9.99999310e-01,  7.05966806e-01)]\n"
     ]
    }
   ],
   "source": [
    "print(mf6gwt_ra)"
   ]
  },
  {
   "cell_type": "code",
   "execution_count": 21,
   "id": "61074e07-d0f3-4682-9ffe-348343728b4c",
   "metadata": {},
   "outputs": [
    {
     "data": {
      "image/png": "[encoded data removed]",
      "text/plain": [
       "<Figure size 500x300 with 1 Axes>"
      ]
     },
     "metadata": {},
     "output_type": "display_data"
    }
   ],
   "source": [
    "with styles.USGSPlot():\n",
    "    plt.rcParams['font.family'] = 'DeJavu Sans'\n",
    "\n",
    "    x = np.linspace(0.5 * delr, system_length - 0.5 * delr, ncol)\n",
    "    plt.figure(figsize=(5,3))\n",
    "    plt.plot(x[::3], head[0, 0][::3], marker=\"o\", ls =\"none\", mec=\"blue\", mfc=\"none\", markersize=\"4\", label = 'Head')\n",
    "    plt.xlim(0, system_length)\n",
    "    plt.xlabel(\"Distance (cm)\")\n",
    "    plt.ylabel(\"Normalized Concentration (unitless)\")\n",
    "    plt.legend()\n",
    "    plt.show()"
   ]
  },
  {
   "cell_type": "code",
   "execution_count": 22,
   "id": "6e821fe5-e3b5-462d-8cb0-f47ace945549",
   "metadata": {},
   "outputs": [
    {
     "name": "stdout",
     "output_type": "stream",
     "text": [
      "<class 'numpy.ndarray'> [  0.5   1.    1.5   2.    2.5   3.    3.5   4.    4.5   5.    5.5   6.\n",
      "   6.5   7.    7.5   8.    8.5   9.    9.5  10.   10.5  11.   11.5  12.\n",
      "  12.5  13.   13.5  14.   14.5  15.   15.5  16.   16.5  17.   17.5  18.\n",
      "  18.5  19.   19.5  20.   20.5  21.   21.5  22.   22.5  23.   23.5  24.\n",
      "  24.5  25.   25.5  26.   26.5  27.   27.5  28.   28.5  29.   29.5  30.\n",
      "  30.5  31.   31.5  32.   32.5  33.   33.5  34.   34.5  35.   35.5  36.\n",
      "  36.5  37.   37.5  38.   38.5  39.   39.5  40.   40.5  41.   41.5  42.\n",
      "  42.5  43.   43.5  44.   44.5  45.   45.5  46.   46.5  47.   47.5  48.\n",
      "  48.5  49.   49.5  50.   50.5  51.   51.5  52.   52.5  53.   53.5  54.\n",
      "  54.5  55.   55.5  56.   56.5  57.   57.5  58.   58.5  59.   59.5  60.\n",
      "  60.5  61.   61.5  62.   62.5  63.   63.5  64.   64.5  65.   65.5  66.\n",
      "  66.5  67.   67.5  68.   68.5  69.   69.5  70.   70.5  71.   71.5  72.\n",
      "  72.5  73.   73.5  74.   74.5  75.   75.5  76.   76.5  77.   77.5  78.\n",
      "  78.5  79.   79.5  80.   80.5  81.   81.5  82.   82.5  83.   83.5  84.\n",
      "  84.5  85.   85.5  86.   86.5  87.   87.5  88.   88.5  89.   89.5  90.\n",
      "  90.5  91.   91.5  92.   92.5  93.   93.5  94.   94.5  95.   95.5  96.\n",
      "  96.5  97.   97.5  98.   98.5  99.   99.5 100.  100.5 101.  101.5 102.\n",
      " 102.5 103.  103.5 104.  104.5 105.  105.5 106.  106.5 107.  107.5 108.\n",
      " 108.5 109.  109.5 110.  110.5 111.  111.5 112.  112.5 113.  113.5 114.\n",
      " 114.5 115.  115.5 116.  116.5 117.  117.5 118.  118.5 119.  119.5 120. ]\n"
     ]
    }
   ],
   "source": [
    "simtimes = mf6gwt_ra[\"totim\"]\n",
    "simtimes.shape\n",
    "print(type(simtimes), simtimes)"
   ]
  },
  {
   "cell_type": "code",
   "execution_count": 23,
   "id": "75f05197-f6dd-4bd1-b16f-9d7e737147ac",
   "metadata": {},
   "outputs": [],
   "source": [
    "obsnames = [\"X005\", \"X405\", \"X1105\"]"
   ]
  },
  {
   "cell_type": "code",
   "execution_count": 24,
   "id": "7fa57f1e-2eaf-4ac0-9cf4-9371fa0fa180",
   "metadata": {},
   "outputs": [
    {
     "data": {
      "image/png": "[encoded data removed]",
      "text/plain": [
       "<Figure size 500x600 with 2 Axes>"
      ]
     },
     "metadata": {},
     "output_type": "display_data"
    }
   ],
   "source": [
    "with styles.USGSPlot():\n",
    "    plt.rcParams['font.family'] = 'DeJavu Sans'\n",
    "\n",
    "    fig, axs = plt.subplots(2, 1, figsize=(5,6), tight_layout=True)\n",
    "\n",
    "    iskip = 5\n",
    "\n",
    "    atimes = np.arange(0, total_time, 0.1)\n",
    "    longitudinal_dispersivity = 0.1\n",
    "    retardation_factor = 1.0\n",
    "    decay_rate = 0.0\n",
    "    dispersion_coefficient = longitudinal_dispersivity * specific_discharge / retardation_factor\n",
    "    \n",
    "    for i, x in enumerate([0.05, 4.05, 11.05]):\n",
    "        a1, idx_filter = sol_analytical_t(i, x, atimes, specific_discharge, retardation_factor, \n",
    "                     system_length, dispersion_coefficient, decay_rate)\n",
    "                \n",
    "        axs[0].plot(atimes[idx_filter], a1[idx_filter], color=\"k\", label=\"ANALYTICAL\")\n",
    "\n",
    "        axs[0].plot(simtimes[::iskip], mf6gwt_ra[obsnames[i]][::iskip],\n",
    "                    marker=\"o\", ls=\"none\", mec=\"blue\", mfc=\"none\", markersize=\"4\",\n",
    "                    label=\"MODFLOW 6\")\n",
    "        axs[0].set_ylim(-0.05, 1.2)\n",
    "        axs[0].set_xlim(0, 120)\n",
    "        axs[0].set_xlabel(\"Time (seconds)\")\n",
    "        axs[0].set_ylabel(\"Normalized Concentration (unitless)\")\n",
    "        \n",
    "    ctimes = [6.0, 60.0, 120.0]\n",
    "    x = np.linspace(0.5 * delr, system_length - 0.5 * delr, ncol - 1)\n",
    "\n",
    "    for i, t in enumerate(ctimes):\n",
    "        a1, idx_filter = sol_analytical_t(i, x, t, specific_discharge, retardation_factor, \n",
    "                     system_length, dispersion_coefficient, decay_rate, False)\n",
    "        axs[1].plot(x, a1, color=\"k\", label=\"ANALYTICAL\")\n",
    "        simconc = ucnobj_mf6.get_data(totim=t).flatten()\n",
    "        axs[1].plot(x[::iskip], simconc[::iskip],\n",
    "                    marker=\"o\", ls=\"none\", mec=\"blue\", mfc=\"none\", markersize=\"4\",\n",
    "                    label=\"MODFLOW 6\")\n",
    "        axs[1].set_ylim(0, 1.1)\n",
    "        axs[1].set_xlim(0, 12)\n",
    "        axs[1].set_xlabel(\"Distance (cm)\")\n",
    "        axs[1].set_ylabel(\"Normalized Concentration (unitless)\")\n",
    "    \n",
    "    plt.show()"
   ]
  },
  {
   "cell_type": "code",
   "execution_count": null,
   "id": "38be2755-372e-47dd-9275-7b53c42bde8c",
   "metadata": {},
   "outputs": [],
   "source": []
  }
 ],
 "metadata": {
  "kernelspec": {
   "display_name": "Python 3 (ipykernel)",
   "language": "python",
   "name": "python3"
  },
  "language_info": {
   "codemirror_mode": {
    "name": "ipython",
    "version": 3
   },
   "file_extension": ".py",
   "mimetype": "text/x-python",
   "name": "python",
   "nbconvert_exporter": "python",
   "pygments_lexer": "ipython3",
   "version": "3.11.6"
  }
 },
 "nbformat": 4,
 "nbformat_minor": 5
}
