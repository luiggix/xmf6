{
 "cells": [
  {
   "cell_type": "markdown",
   "metadata": {
    "id": "go15f0kC8egB"
   },
   "source": [
    "# Seminario MODFLOW 6\n",
    "## Discretización del tiempo\n",
    "\n",
    "Autor: Luis M. de la Cruz Salas. Instituto de Geofísica, UNAM\n",
    "Revisión: mar ago  4 14:28:44 CDT 2020"
   ]
  },
  {
   "cell_type": "code",
   "execution_count": 1,
   "metadata": {
    "id": "0BeyXDJBiynX"
   },
   "outputs": [],
   "source": [
    "import numpy as np\n",
    "import matplotlib.pyplot as plt\n",
    "from mpl_toolkits.mplot3d import Axes3D\n",
    "from matplotlib import cm"
   ]
  },
  {
   "cell_type": "code",
   "execution_count": 6,
   "metadata": {
    "id": "zDK3oVJnVmuF"
   },
   "outputs": [],
   "source": [
    "def calcTDIS(PERLEN, NSTP, TSMULT, graf=False):\n",
    "  \"\"\" Esta función calcula el paso de tiempo para una simulación en MODFLOW 6\n",
    "\n",
    "  Parameters\n",
    "  ----------\n",
    "  PERLEN: float\n",
    "  Tamaño del periodo de estrés.\n",
    "\n",
    "  NSTP: int\n",
    "  Número de pasos de tiempo.\n",
    "\n",
    "  TSMULT: float\n",
    "  Factor de multiplicación: paso de tiempo actual / paso de tiempo anterior.\n",
    "\n",
    "  Returns\n",
    "  -------\n",
    "  Lista de pasos de tiempo y coordenadas de cada paso.\n",
    "  \"\"\"\n",
    "  if TSMULT == 1:\n",
    "    Dt1 = PERLEN / NSTP\n",
    "  else:\n",
    "    Dt1 = PERLEN * (TSMULT - 1) / (TSMULT**NSTP - 1)\n",
    "\n",
    "  time_coord = [0]\n",
    "  time_steps = [Dt1]\n",
    "  i = 0\n",
    "  while True:\n",
    "    if time_coord[i] < PERLEN:\n",
    "      time_coord.append(time_coord[i] + time_steps[i])\n",
    "      time_steps.append(time_steps[i] * TSMULT)\n",
    "      i += 1\n",
    "    else:\n",
    "      break\n",
    "\n",
    "  time_steps.pop()\n",
    "\n",
    "  offset = time_coord[-1] * 0.1\n",
    "  if graf:\n",
    "    y = np.ones(len(time_coord))\n",
    "    plt.plot(time_coord,y,'|-')\n",
    "    plt.xticks(ticks=time_coord, rotation=45, fontsize=8)\n",
    "    plt.xlim(0 - offset, time_coord[-1] + offset)\n",
    "    plt.xlabel('time step')\n",
    "    plt.show()\n",
    "\n",
    "  return time_steps, time_coord"
   ]
  },
  {
   "cell_type": "code",
   "execution_count": 7,
   "metadata": {
    "colab": {
     "base_uri": "https://localhost:8080/",
     "height": 508
    },
    "id": "uYBKiNocR13y",
    "outputId": "cec4c708-db14-48f6-9aa2-3a7ed50657c6"
   },
   "outputs": [
    {
     "data": {
      "image/png": "[encoded data removed]",
      "text/plain": [
       "<Figure size 640x480 with 1 Axes>"
      ]
     },
     "metadata": {},
     "output_type": "display_data"
    },
    {
     "name": "stdout",
     "output_type": "stream",
     "text": [
      "[2.903225806451613, 5.806451612903226, 11.612903225806452, 23.225806451612904, 46.45161290322581]\n",
      "[0, 2.903225806451613, 8.70967741935484, 20.322580645161292, 43.54838709677419, 90.0]\n"
     ]
    }
   ],
   "source": [
    "PERLEN = 90.0\n",
    "NSTP = 5\n",
    "TSMULT = 2.0\n",
    "\n",
    "ts, pl = calcTDIS(PERLEN, NSTP, TSMULT, graf=True)\n",
    "print(ts, pl, sep='\\n')"
   ]
  },
  {
   "cell_type": "code",
   "execution_count": 8,
   "metadata": {
    "id": "tVKG7QpCltuG"
   },
   "outputs": [],
   "source": [
    "from ipywidgets import interact, interactive, fixed, interact_manual\n",
    "import ipywidgets as widgets"
   ]
  },
  {
   "cell_type": "code",
   "execution_count": 9,
   "metadata": {
    "colab": {
     "base_uri": "https://localhost:8080/",
     "height": 827,
     "referenced_widgets": [
      "9fe2d3c220d14af8a65301073183ed7e",
      "ea8ce1124f3c4bdfadb60460594686ab",
      "76aa7e20976d4a328b5716aa4245dcb4",
      "140c077e5958482fa1456e13b460c85d",
      "5e251601f21b41fc9ac42271e3f2e185",
      "6e85a59a6c774373b222c04f33960301",
      "e27e12e3962c4a528ea1e5980bbdd68a",
      "819a5184f42d4f2eb39316ae416e7a84",
      "d64982b1bc5e4190aaec6416430b3ebe",
      "4eed4626905b43179c70e56cefbcbee4",
      "df6bf970c9134dfdb4b95e614f0f4d40",
      "e59a94c09d544cde863a702a937f1bdb",
      "a17d998e0d9045ceba50e79819d7aae3",
      "be2ae767884f42f7aa01886b0ecd32fd",
      "d7e4e57dc80d40ce882fa647cee3e221",
      "3a74eab505b4444c8af0ff01c476d3f9"
     ]
    },
    "id": "HIb-UG0O4n59",
    "outputId": "3b896f1c-97e6-4b73-bc50-8622ecbfd6aa"
   },
   "outputs": [
    {
     "data": {
      "application/vnd.jupyter.widget-view+json": {
       "model_id": "b4b5c2b0a9bd4eef9498918390c50dd3",
       "version_major": 2,
       "version_minor": 0
      },
      "text/plain": [
       "interactive(children=(FloatSlider(value=30.0, description='PERLEN', max=90.0, min=10.0, step=10.0), IntSlider(…"
      ]
     },
     "metadata": {},
     "output_type": "display_data"
    }
   ],
   "source": [
    "w = interact(calcTDIS,\n",
    "             PERLEN = widgets.FloatSlider(min=10, max=90, step=10, value=30),\n",
    "             NSTP = widgets.IntSlider(min=1, max=6, step=1, value=3),\n",
    "             TSMULT = widgets.FloatSlider(min=1, max=5, step=1, value=2))"
   ]
  },
  {
   "cell_type": "markdown",
   "metadata": {
    "id": "3TTR9SpIrmha"
   },
   "source": [
    "# Ejemplo TWRI\n",
    "## Pozos\n",
    "\n",
    "Autor: Luis M. de la Cruz Salas. Instituto de Geofísica, UNAM\n",
    "Revisión: mar ago 25 12:33:55 CDT 2020"
   ]
  },
  {
   "cell_type": "code",
   "execution_count": null,
   "metadata": {
    "colab": {
     "base_uri": "https://localhost:8080/",
     "height": 35
    },
    "id": "OBLRIHVzryTA",
    "outputId": "f36b67fd-5d3a-41fd-ce6c-65d825b09789"
   },
   "outputs": [
    {
     "name": "stdout",
     "output_type": "stream",
     "text": [
      "75000 75000 650\n"
     ]
    }
   ],
   "source": [
    "Lx = 75000\n",
    "Ly = 75000\n",
    "ztop = 200\n",
    "zbot = -450\n",
    "Lz = ztop - zbot\n",
    "\n",
    "nx = 15\n",
    "ny = 15\n",
    "nz = 5\n",
    "\n",
    "print(Lx, Ly, Lz)"
   ]
  },
  {
   "cell_type": "code",
   "execution_count": null,
   "metadata": {
    "id": "V1YUTghjwD-j"
   },
   "outputs": [],
   "source": [
    "wells = [ (3,5,11)]\n",
    "2,4,6\n",
    "1,6,12\n",
    "1,9,8\n",
    "1,9,10\n",
    "1,9,12\n",
    "1,9,14\n",
    "1,11,8\n",
    "1,11,10\n",
    "1,11,12\n",
    "1,11,14\n",
    "1,13,8\n",
    "1,13,10\n",
    "1,13,12\n",
    "1,13,14\n",
    "\n",
    "\n"
   ]
  },
  {
   "cell_type": "code",
   "execution_count": null,
   "metadata": {
    "colab": {
     "base_uri": "https://localhost:8080/",
     "height": 283
    },
    "id": "1HeQ_-4guIKR",
    "outputId": "1664aefd-7f9b-4295-a435-e9a568f5d97f"
   },
   "outputs": [
    {
     "data": {
      "text/plain": [
       "<matplotlib.collections.PathCollection at 0x7fb7a94c5390>"
      ]
     },
     "execution_count": 53,
     "metadata": {
      "tags": []
     },
     "output_type": "execute_result"
    },
    {
     "data": {
      "image/png": "[encoded data removed]",
      "text/plain": [
       "<Figure size 432x288 with 1 Axes>"
      ]
     },
     "metadata": {
      "needs_background": "light",
      "tags": []
     },
     "output_type": "display_data"
    }
   ],
   "source": [
    "x = np.linspace(0, Lx, 16)\n",
    "y = np.linspace(0, Ly, 16)\n",
    "z = np.array([200, -150, -200, -300, -350, -450])\n",
    "xg, yg = np.meshgrid(x,y)\n",
    "\n",
    "plt.scatter(xg,yg, marker='.')\n",
    "plt.scatter(x[4], y[10])"
   ]
  },
  {
   "cell_type": "code",
   "execution_count": null,
   "metadata": {
    "colab": {
     "base_uri": "https://localhost:8080/",
     "height": 53
    },
    "id": "4NUsDnHcxNQk",
    "outputId": "4fe7cfb6-ef42-4553-f082-36524e09d4c2"
   },
   "outputs": [
    {
     "name": "stdout",
     "output_type": "stream",
     "text": [
      "<class 'numpy.ndarray'>\n",
      "0.0\n"
     ]
    }
   ],
   "source": [
    "print(type(xg))\n",
    "print(xg[0][0])"
   ]
  },
  {
   "cell_type": "code",
   "execution_count": null,
   "metadata": {
    "colab": {
     "base_uri": "https://localhost:8080/",
     "height": 35
    },
    "id": "n4Bso3IPwkxa",
    "outputId": "30be90b8-fcad-454d-97f5-af95c1a9cabc"
   },
   "outputs": [
    {
     "name": "stdout",
     "output_type": "stream",
     "text": [
      "55000.0\n"
     ]
    }
   ],
   "source": [
    "wells = [ [3,5,11]]\n",
    "print(xg[5][11])\n",
    "print(xg[5][11])"
   ]
  },
  {
   "cell_type": "code",
   "execution_count": null,
   "metadata": {
    "id": "Y_2tnMqouZQz"
   },
   "outputs": [],
   "source": [
    "plt."
   ]
  }
 ],
 "metadata": {
  "colab": {
   "provenance": []
  },
  "kernelspec": {
   "display_name": "Python 3 (ipykernel)",
   "language": "python",
   "name": "python3"
  },
  "language_info": {
   "codemirror_mode": {
    "name": "ipython",
    "version": 3
   },
   "file_extension": ".py",
   "mimetype": "text/x-python",
   "name": "python",
   "nbconvert_exporter": "python",
   "pygments_lexer": "ipython3",
   "version": "3.11.6"
  },
  "widgets": {
   "application/vnd.jupyter.widget-state+json": {
    "140c077e5958482fa1456e13b460c85d": {
     "model_module": "@jupyter-widgets/controls",
     "model_module_version": "1.5.0",
     "model_name": "FloatSliderModel",
     "state": {
      "_dom_classes": [],
      "_model_module": "@jupyter-widgets/controls",
      "_model_module_version": "1.5.0",
      "_model_name": "FloatSliderModel",
      "_view_count": null,
      "_view_module": "@jupyter-widgets/controls",
      "_view_module_version": "1.5.0",
      "_view_name": "FloatSliderView",
      "continuous_update": true,
      "description": "TSMULT",
      "description_tooltip": null,
      "disabled": false,
      "layout": "IPY_MODEL_e59a94c09d544cde863a702a937f1bdb",
      "max": 5,
      "min": 1,
      "orientation": "horizontal",
      "readout": true,
      "readout_format": ".2f",
      "step": 1,
      "style": "IPY_MODEL_a17d998e0d9045ceba50e79819d7aae3",
      "value": 2
     }
    },
    "3a74eab505b4444c8af0ff01c476d3f9": {
     "model_module": "@jupyter-widgets/base",
     "model_module_version": "1.2.0",
     "model_name": "LayoutModel",
     "state": {
      "_model_module": "@jupyter-widgets/base",
      "_model_module_version": "1.2.0",
      "_model_name": "LayoutModel",
      "_view_count": null,
      "_view_module": "@jupyter-widgets/base",
      "_view_module_version": "1.2.0",
      "_view_name": "LayoutView",
      "align_content": null,
      "align_items": null,
      "align_self": null,
      "border": null,
      "bottom": null,
      "display": null,
      "flex": null,
      "flex_flow": null,
      "grid_area": null,
      "grid_auto_columns": null,
      "grid_auto_flow": null,
      "grid_auto_rows": null,
      "grid_column": null,
      "grid_gap": null,
      "grid_row": null,
      "grid_template_areas": null,
      "grid_template_columns": null,
      "grid_template_rows": null,
      "height": null,
      "justify_content": null,
      "justify_items": null,
      "left": null,
      "margin": null,
      "max_height": null,
      "max_width": null,
      "min_height": null,
      "min_width": null,
      "object_fit": null,
      "object_position": null,
      "order": null,
      "overflow": null,
      "overflow_x": null,
      "overflow_y": null,
      "padding": null,
      "right": null,
      "top": null,
      "visibility": null,
      "width": null
     }
    },
    "4eed4626905b43179c70e56cefbcbee4": {
     "model_module": "@jupyter-widgets/base",
     "model_module_version": "1.2.0",
     "model_name": "LayoutModel",
     "state": {
      "_model_module": "@jupyter-widgets/base",
      "_model_module_version": "1.2.0",
      "_model_name": "LayoutModel",
      "_view_count": null,
      "_view_module": "@jupyter-widgets/base",
      "_view_module_version": "1.2.0",
      "_view_name": "LayoutView",
      "align_content": null,
      "align_items": null,
      "align_self": null,
      "border": null,
      "bottom": null,
      "display": null,
      "flex": null,
      "flex_flow": null,
      "grid_area": null,
      "grid_auto_columns": null,
      "grid_auto_flow": null,
      "grid_auto_rows": null,
      "grid_column": null,
      "grid_gap": null,
      "grid_row": null,
      "grid_template_areas": null,
      "grid_template_columns": null,
      "grid_template_rows": null,
      "height": null,
      "justify_content": null,
      "justify_items": null,
      "left": null,
      "margin": null,
      "max_height": null,
      "max_width": null,
      "min_height": null,
      "min_width": null,
      "object_fit": null,
      "object_position": null,
      "order": null,
      "overflow": null,
      "overflow_x": null,
      "overflow_y": null,
      "padding": null,
      "right": null,
      "top": null,
      "visibility": null,
      "width": null
     }
    },
    "5e251601f21b41fc9ac42271e3f2e185": {
     "model_module": "@jupyter-widgets/controls",
     "model_module_version": "1.5.0",
     "model_name": "CheckboxModel",
     "state": {
      "_dom_classes": [],
      "_model_module": "@jupyter-widgets/controls",
      "_model_module_version": "1.5.0",
      "_model_name": "CheckboxModel",
      "_view_count": null,
      "_view_module": "@jupyter-widgets/controls",
      "_view_module_version": "1.5.0",
      "_view_name": "CheckboxView",
      "description": "graf",
      "description_tooltip": null,
      "disabled": false,
      "indent": true,
      "layout": "IPY_MODEL_be2ae767884f42f7aa01886b0ecd32fd",
      "style": "IPY_MODEL_d7e4e57dc80d40ce882fa647cee3e221",
      "value": true
     }
    },
    "6e85a59a6c774373b222c04f33960301": {
     "model_module": "@jupyter-widgets/output",
     "model_module_version": "1.0.0",
     "model_name": "OutputModel",
     "state": {
      "_dom_classes": [],
      "_model_module": "@jupyter-widgets/output",
      "_model_module_version": "1.0.0",
      "_model_name": "OutputModel",
      "_view_count": null,
      "_view_module": "@jupyter-widgets/output",
      "_view_module_version": "1.0.0",
      "_view_name": "OutputView",
      "layout": "IPY_MODEL_3a74eab505b4444c8af0ff01c476d3f9",
      "msg_id": "",
      "outputs": [
       {
        "data": {
         "image/png": "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\n",
         "text/plain": "<Figure size 640x480 with 1 Axes>"
        },
        "metadata": {},
        "output_type": "display_data"
       },
       {
        "data": {
         "text/plain": "([1.4285714285714286,\n  2.857142857142857,\n  5.714285714285714,\n  11.428571428571429,\n  22.857142857142858,\n  45.714285714285715],\n [0,\n  1.4285714285714286,\n  4.285714285714286,\n  10.0,\n  21.42857142857143,\n  44.28571428571429,\n  90.0])"
        },
        "metadata": {},
        "output_type": "display_data"
       }
      ]
     }
    },
    "76aa7e20976d4a328b5716aa4245dcb4": {
     "model_module": "@jupyter-widgets/controls",
     "model_module_version": "1.5.0",
     "model_name": "IntSliderModel",
     "state": {
      "_dom_classes": [],
      "_model_module": "@jupyter-widgets/controls",
      "_model_module_version": "1.5.0",
      "_model_name": "IntSliderModel",
      "_view_count": null,
      "_view_module": "@jupyter-widgets/controls",
      "_view_module_version": "1.5.0",
      "_view_name": "IntSliderView",
      "continuous_update": true,
      "description": "NSTP",
      "description_tooltip": null,
      "disabled": false,
      "layout": "IPY_MODEL_4eed4626905b43179c70e56cefbcbee4",
      "max": 6,
      "min": 1,
      "orientation": "horizontal",
      "readout": true,
      "readout_format": "d",
      "step": 1,
      "style": "IPY_MODEL_df6bf970c9134dfdb4b95e614f0f4d40",
      "value": 6
     }
    },
    "819a5184f42d4f2eb39316ae416e7a84": {
     "model_module": "@jupyter-widgets/base",
     "model_module_version": "1.2.0",
     "model_name": "LayoutModel",
     "state": {
      "_model_module": "@jupyter-widgets/base",
      "_model_module_version": "1.2.0",
      "_model_name": "LayoutModel",
      "_view_count": null,
      "_view_module": "@jupyter-widgets/base",
      "_view_module_version": "1.2.0",
      "_view_name": "LayoutView",
      "align_content": null,
      "align_items": null,
      "align_self": null,
      "border": null,
      "bottom": null,
      "display": null,
      "flex": null,
      "flex_flow": null,
      "grid_area": null,
      "grid_auto_columns": null,
      "grid_auto_flow": null,
      "grid_auto_rows": null,
      "grid_column": null,
      "grid_gap": null,
      "grid_row": null,
      "grid_template_areas": null,
      "grid_template_columns": null,
      "grid_template_rows": null,
      "height": null,
      "justify_content": null,
      "justify_items": null,
      "left": null,
      "margin": null,
      "max_height": null,
      "max_width": null,
      "min_height": null,
      "min_width": null,
      "object_fit": null,
      "object_position": null,
      "order": null,
      "overflow": null,
      "overflow_x": null,
      "overflow_y": null,
      "padding": null,
      "right": null,
      "top": null,
      "visibility": null,
      "width": null
     }
    },
    "9fe2d3c220d14af8a65301073183ed7e": {
     "model_module": "@jupyter-widgets/controls",
     "model_module_version": "1.5.0",
     "model_name": "VBoxModel",
     "state": {
      "_dom_classes": [
       "widget-interact"
      ],
      "_model_module": "@jupyter-widgets/controls",
      "_model_module_version": "1.5.0",
      "_model_name": "VBoxModel",
      "_view_count": null,
      "_view_module": "@jupyter-widgets/controls",
      "_view_module_version": "1.5.0",
      "_view_name": "VBoxView",
      "box_style": "",
      "children": [
       "IPY_MODEL_ea8ce1124f3c4bdfadb60460594686ab",
       "IPY_MODEL_76aa7e20976d4a328b5716aa4245dcb4",
       "IPY_MODEL_140c077e5958482fa1456e13b460c85d",
       "IPY_MODEL_5e251601f21b41fc9ac42271e3f2e185",
       "IPY_MODEL_6e85a59a6c774373b222c04f33960301"
      ],
      "layout": "IPY_MODEL_e27e12e3962c4a528ea1e5980bbdd68a"
     }
    },
    "a17d998e0d9045ceba50e79819d7aae3": {
     "model_module": "@jupyter-widgets/controls",
     "model_module_version": "1.5.0",
     "model_name": "SliderStyleModel",
     "state": {
      "_model_module": "@jupyter-widgets/controls",
      "_model_module_version": "1.5.0",
      "_model_name": "SliderStyleModel",
      "_view_count": null,
      "_view_module": "@jupyter-widgets/base",
      "_view_module_version": "1.2.0",
      "_view_name": "StyleView",
      "description_width": "",
      "handle_color": null
     }
    },
    "be2ae767884f42f7aa01886b0ecd32fd": {
     "model_module": "@jupyter-widgets/base",
     "model_module_version": "1.2.0",
     "model_name": "LayoutModel",
     "state": {
      "_model_module": "@jupyter-widgets/base",
      "_model_module_version": "1.2.0",
      "_model_name": "LayoutModel",
      "_view_count": null,
      "_view_module": "@jupyter-widgets/base",
      "_view_module_version": "1.2.0",
      "_view_name": "LayoutView",
      "align_content": null,
      "align_items": null,
      "align_self": null,
      "border": null,
      "bottom": null,
      "display": null,
      "flex": null,
      "flex_flow": null,
      "grid_area": null,
      "grid_auto_columns": null,
      "grid_auto_flow": null,
      "grid_auto_rows": null,
      "grid_column": null,
      "grid_gap": null,
      "grid_row": null,
      "grid_template_areas": null,
      "grid_template_columns": null,
      "grid_template_rows": null,
      "height": null,
      "justify_content": null,
      "justify_items": null,
      "left": null,
      "margin": null,
      "max_height": null,
      "max_width": null,
      "min_height": null,
      "min_width": null,
      "object_fit": null,
      "object_position": null,
      "order": null,
      "overflow": null,
      "overflow_x": null,
      "overflow_y": null,
      "padding": null,
      "right": null,
      "top": null,
      "visibility": null,
      "width": null
     }
    },
    "d64982b1bc5e4190aaec6416430b3ebe": {
     "model_module": "@jupyter-widgets/controls",
     "model_module_version": "1.5.0",
     "model_name": "SliderStyleModel",
     "state": {
      "_model_module": "@jupyter-widgets/controls",
      "_model_module_version": "1.5.0",
      "_model_name": "SliderStyleModel",
      "_view_count": null,
      "_view_module": "@jupyter-widgets/base",
      "_view_module_version": "1.2.0",
      "_view_name": "StyleView",
      "description_width": "",
      "handle_color": null
     }
    },
    "d7e4e57dc80d40ce882fa647cee3e221": {
     "model_module": "@jupyter-widgets/controls",
     "model_module_version": "1.5.0",
     "model_name": "DescriptionStyleModel",
     "state": {
      "_model_module": "@jupyter-widgets/controls",
      "_model_module_version": "1.5.0",
      "_model_name": "DescriptionStyleModel",
      "_view_count": null,
      "_view_module": "@jupyter-widgets/base",
      "_view_module_version": "1.2.0",
      "_view_name": "StyleView",
      "description_width": ""
     }
    },
    "df6bf970c9134dfdb4b95e614f0f4d40": {
     "model_module": "@jupyter-widgets/controls",
     "model_module_version": "1.5.0",
     "model_name": "SliderStyleModel",
     "state": {
      "_model_module": "@jupyter-widgets/controls",
      "_model_module_version": "1.5.0",
      "_model_name": "SliderStyleModel",
      "_view_count": null,
      "_view_module": "@jupyter-widgets/base",
      "_view_module_version": "1.2.0",
      "_view_name": "StyleView",
      "description_width": "",
      "handle_color": null
     }
    },
    "e27e12e3962c4a528ea1e5980bbdd68a": {
     "model_module": "@jupyter-widgets/base",
     "model_module_version": "1.2.0",
     "model_name": "LayoutModel",
     "state": {
      "_model_module": "@jupyter-widgets/base",
      "_model_module_version": "1.2.0",
      "_model_name": "LayoutModel",
      "_view_count": null,
      "_view_module": "@jupyter-widgets/base",
      "_view_module_version": "1.2.0",
      "_view_name": "LayoutView",
      "align_content": null,
      "align_items": null,
      "align_self": null,
      "border": null,
      "bottom": null,
      "display": null,
      "flex": null,
      "flex_flow": null,
      "grid_area": null,
      "grid_auto_columns": null,
      "grid_auto_flow": null,
      "grid_auto_rows": null,
      "grid_column": null,
      "grid_gap": null,
      "grid_row": null,
      "grid_template_areas": null,
      "grid_template_columns": null,
      "grid_template_rows": null,
      "height": null,
      "justify_content": null,
      "justify_items": null,
      "left": null,
      "margin": null,
      "max_height": null,
      "max_width": null,
      "min_height": null,
      "min_width": null,
      "object_fit": null,
      "object_position": null,
      "order": null,
      "overflow": null,
      "overflow_x": null,
      "overflow_y": null,
      "padding": null,
      "right": null,
      "top": null,
      "visibility": null,
      "width": null
     }
    },
    "e59a94c09d544cde863a702a937f1bdb": {
     "model_module": "@jupyter-widgets/base",
     "model_module_version": "1.2.0",
     "model_name": "LayoutModel",
     "state": {
      "_model_module": "@jupyter-widgets/base",
      "_model_module_version": "1.2.0",
      "_model_name": "LayoutModel",
      "_view_count": null,
      "_view_module": "@jupyter-widgets/base",
      "_view_module_version": "1.2.0",
      "_view_name": "LayoutView",
      "align_content": null,
      "align_items": null,
      "align_self": null,
      "border": null,
      "bottom": null,
      "display": null,
      "flex": null,
      "flex_flow": null,
      "grid_area": null,
      "grid_auto_columns": null,
      "grid_auto_flow": null,
      "grid_auto_rows": null,
      "grid_column": null,
      "grid_gap": null,
      "grid_row": null,
      "grid_template_areas": null,
      "grid_template_columns": null,
      "grid_template_rows": null,
      "height": null,
      "justify_content": null,
      "justify_items": null,
      "left": null,
      "margin": null,
      "max_height": null,
      "max_width": null,
      "min_height": null,
      "min_width": null,
      "object_fit": null,
      "object_position": null,
      "order": null,
      "overflow": null,
      "overflow_x": null,
      "overflow_y": null,
      "padding": null,
      "right": null,
      "top": null,
      "visibility": null,
      "width": null
     }
    },
    "ea8ce1124f3c4bdfadb60460594686ab": {
     "model_module": "@jupyter-widgets/controls",
     "model_module_version": "1.5.0",
     "model_name": "FloatSliderModel",
     "state": {
      "_dom_classes": [],
      "_model_module": "@jupyter-widgets/controls",
      "_model_module_version": "1.5.0",
      "_model_name": "FloatSliderModel",
      "_view_count": null,
      "_view_module": "@jupyter-widgets/controls",
      "_view_module_version": "1.5.0",
      "_view_name": "FloatSliderView",
      "continuous_update": true,
      "description": "PERLEN",
      "description_tooltip": null,
      "disabled": false,
      "layout": "IPY_MODEL_819a5184f42d4f2eb39316ae416e7a84",
      "max": 90,
      "min": 10,
      "orientation": "horizontal",
      "readout": true,
      "readout_format": ".2f",
      "step": 10,
      "style": "IPY_MODEL_d64982b1bc5e4190aaec6416430b3ebe",
      "value": 90
     }
    }
   }
  }
 },
 "nbformat": 4,
 "nbformat_minor": 4
}
